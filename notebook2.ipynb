{
 "cells": [
  {
   "cell_type": "code",
   "execution_count": null,
   "metadata": {},
   "outputs": [],
   "source": [
    "import zipfile\n",
    "with zipfile.ZipFile('home-credit-default-risk (1).zip', 'r') as zip_ref:\n",
    "    zip_ref.extractall('home-credit-default-risk')"
   ]
  },
  {
   "cell_type": "markdown",
   "metadata": {},
   "source": [
    "### For model 1, we are going to only use the data from the application dataset. "
   ]
  },
  {
   "cell_type": "code",
   "execution_count": 1,
   "metadata": {},
   "outputs": [],
   "source": [
    "import pandas as pd\n",
    "import numpy as np\n",
    "application_train = pd.read_csv(\"home-credit-default-risk/application_train.csv\")\n",
    "application_test = pd.read_csv(\"home-credit-default-risk/application_test.csv\")"
   ]
  },
  {
   "cell_type": "code",
   "execution_count": 2,
   "metadata": {},
   "outputs": [],
   "source": [
    "y_train = application_train['TARGET']\n",
    "application_train = application_train.drop(['TARGET'], axis = 1)"
   ]
  },
  {
   "cell_type": "markdown",
   "metadata": {},
   "source": [
    "### Fill in the nans, standardize numeric data and apply onehot encoding to categorical data"
   ]
  },
  {
   "cell_type": "code",
   "execution_count": 3,
   "metadata": {},
   "outputs": [],
   "source": [
    "types = application_train.dtypes"
   ]
  },
  {
   "cell_type": "code",
   "execution_count": 4,
   "metadata": {},
   "outputs": [],
   "source": [
    "cols = application_train.columns"
   ]
  },
  {
   "cell_type": "code",
   "execution_count": 5,
   "metadata": {},
   "outputs": [],
   "source": [
    "cols = cols[1:]"
   ]
  },
  {
   "cell_type": "code",
   "execution_count": 6,
   "metadata": {},
   "outputs": [
    {
     "data": {
      "text/plain": [
       "True"
      ]
     },
     "execution_count": 6,
     "metadata": {},
     "output_type": "execute_result"
    }
   ],
   "source": [
    "types[cols[1]] == 'object'"
   ]
  },
  {
   "cell_type": "code",
   "execution_count": 7,
   "metadata": {},
   "outputs": [],
   "source": [
    "categorical_application = []"
   ]
  },
  {
   "cell_type": "code",
   "execution_count": 8,
   "metadata": {},
   "outputs": [],
   "source": [
    "numerical_application = []"
   ]
  },
  {
   "cell_type": "code",
   "execution_count": 9,
   "metadata": {},
   "outputs": [],
   "source": [
    "uniques = application_train.nunique()"
   ]
  },
  {
   "cell_type": "code",
   "execution_count": 10,
   "metadata": {},
   "outputs": [],
   "source": [
    "for column in cols:\n",
    "    if types[column] == 'object':\n",
    "        categorical_application.append(column)\n",
    "    else:\n",
    "        if uniques[column] < 15:\n",
    "            categorical_application.append(column)\n",
    "        else:\n",
    "            numerical_application.append(column)"
   ]
  },
  {
   "cell_type": "code",
   "execution_count": 11,
   "metadata": {},
   "outputs": [],
   "source": [
    "X =  pd.concat([application_train, application_test], keys = [0,1])"
   ]
  },
  {
   "cell_type": "code",
   "execution_count": 12,
   "metadata": {},
   "outputs": [],
   "source": [
    "missing_per_col = {}\n",
    "cols = X.columns\n",
    "for col in cols:\n",
    "    missing_per_col[col] = X[col].isnull().sum()/len(X)"
   ]
  },
  {
   "cell_type": "code",
   "execution_count": 13,
   "metadata": {},
   "outputs": [],
   "source": [
    "not_miss = X.columns[X.isnull().mean() < 0.5]"
   ]
  },
  {
   "cell_type": "code",
   "execution_count": 14,
   "metadata": {},
   "outputs": [],
   "source": [
    "for col in categorical_application:\n",
    "    X[col] = X[col].fillna(X[col].mode()[0])\n",
    "\n",
    "for col in numerical_application:\n",
    "    X[col] = X[col].fillna(X[col].median())"
   ]
  },
  {
   "cell_type": "code",
   "execution_count": 15,
   "metadata": {},
   "outputs": [],
   "source": [
    "X = X[not_miss]\n",
    "numeric_application = list(set(not_miss) & set(numerical_application))\n",
    "categorical_application = list(set(not_miss) & set(categorical_application))"
   ]
  },
  {
   "cell_type": "code",
   "execution_count": 16,
   "metadata": {},
   "outputs": [],
   "source": [
    "from sklearn import preprocessing\n",
    "scaler = preprocessing.StandardScaler()\n",
    "X[numeric_application] = scaler.fit_transform(X[numeric_application])"
   ]
  },
  {
   "cell_type": "code",
   "execution_count": 17,
   "metadata": {},
   "outputs": [],
   "source": [
    "X = pd.get_dummies(X, columns = categorical_application)"
   ]
  },
  {
   "cell_type": "code",
   "execution_count": 18,
   "metadata": {},
   "outputs": [],
   "source": [
    "train = X.xs(0)\n",
    "test = X.xs(1)"
   ]
  },
  {
   "cell_type": "code",
   "execution_count": 19,
   "metadata": {},
   "outputs": [],
   "source": [
    "train_id_curr = train['SK_ID_CURR']\n",
    "test_id_curr = test['SK_ID_CURR']"
   ]
  },
  {
   "cell_type": "code",
   "execution_count": 20,
   "metadata": {},
   "outputs": [],
   "source": [
    "train = train.drop(['SK_ID_CURR'], axis = 1)\n",
    "test = test.drop(['SK_ID_CURR'], axis = 1)"
   ]
  },
  {
   "cell_type": "code",
   "execution_count": null,
   "metadata": {},
   "outputs": [],
   "source": [
    "from sklearn.linear_model import LogisticRegression"
   ]
  },
  {
   "cell_type": "code",
   "execution_count": 21,
   "metadata": {},
   "outputs": [
    {
     "data": {
      "text/plain": [
       "SGDClassifier(alpha=0.1, average=False, class_weight='balanced',\n",
       "              early_stopping=False, epsilon=0.1, eta0=0.0, fit_intercept=True,\n",
       "              l1_ratio=0.15, learning_rate='optimal', loss='log', max_iter=1000,\n",
       "              n_iter_no_change=5, n_jobs=None, penalty='l1', power_t=0.5,\n",
       "              random_state=28, shuffle=True, tol=0.001, validation_fraction=0.1,\n",
       "              verbose=0, warm_start=False)"
      ]
     },
     "execution_count": 21,
     "metadata": {},
     "output_type": "execute_result"
    }
   ],
   "source": [
    "from sklearn.linear_model import SGDClassifier\n",
    "clf = SGDClassifier(alpha=0.1, penalty='l1',class_weight = 'balanced', loss='log', random_state=28)\n",
    "clf.fit(train, y_train)"
   ]
  },
  {
   "cell_type": "code",
   "execution_count": 22,
   "metadata": {},
   "outputs": [],
   "source": [
    "preds = clf.predict_proba(test)[:,1]"
   ]
  },
  {
   "cell_type": "code",
   "execution_count": 23,
   "metadata": {},
   "outputs": [],
   "source": [
    "from sklearn.metrics import roc_auc_score\n",
    "sub1 = pd.read_csv('sample_submission (1).csv')\n",
    "sub1['TARGET'] = preds\n",
    "sub1.to_csv('submission1.csv', index = None)"
   ]
  },
  {
   "cell_type": "markdown",
   "metadata": {},
   "source": [
    "### The model uses SGDClassifier with log loss and L1 penalty"
   ]
  },
  {
   "cell_type": "code",
   "execution_count": 28,
   "metadata": {},
   "outputs": [
    {
     "name": "stdout",
     "output_type": "stream",
     "text": [
      "0.6715402127187118\n"
     ]
    }
   ],
   "source": [
    "from sklearn.model_selection import cross_val_score\n",
    "print(np.mean(cross_val_score(SGDClassifier(alpha=0.1, penalty='l1',class_weight = 'balanced', loss='log', random_state=28), train, y_train, cv=5)))"
   ]
  },
  {
   "cell_type": "markdown",
   "metadata": {},
   "source": [
    "### For  Model 2 we are going to tune the C parameter using cross validation and gridsearch"
   ]
  },
  {
   "cell_type": "code",
   "execution_count": 29,
   "metadata": {},
   "outputs": [
    {
     "name": "stdout",
     "output_type": "stream",
     "text": [
      "Fitting 5 folds for each of 9 candidates, totalling 45 fits\n"
     ]
    },
    {
     "name": "stderr",
     "output_type": "stream",
     "text": [
      "[Parallel(n_jobs=4)]: Using backend LokyBackend with 4 concurrent workers.\n",
      "[Parallel(n_jobs=4)]: Done   5 tasks      | elapsed:   23.4s\n",
      "[Parallel(n_jobs=4)]: Done  10 tasks      | elapsed:   31.2s\n",
      "[Parallel(n_jobs=4)]: Done  17 tasks      | elapsed:   43.4s\n",
      "[Parallel(n_jobs=4)]: Done  24 tasks      | elapsed:   55.2s\n",
      "[Parallel(n_jobs=4)]: Done  33 tasks      | elapsed:  1.2min\n",
      "[Parallel(n_jobs=4)]: Done  43 out of  45 | elapsed:  1.4min remaining:    4.0s\n",
      "[Parallel(n_jobs=4)]: Done  45 out of  45 | elapsed:  1.5min finished\n"
     ]
    },
    {
     "data": {
      "text/plain": [
       "GridSearchCV(cv=5, error_score=nan,\n",
       "             estimator=SGDClassifier(alpha=0.0001, average=False,\n",
       "                                     class_weight='balanced',\n",
       "                                     early_stopping=False, epsilon=0.1,\n",
       "                                     eta0=0.0, fit_intercept=True,\n",
       "                                     l1_ratio=0.15, learning_rate='optimal',\n",
       "                                     loss='log', max_iter=1000,\n",
       "                                     n_iter_no_change=5, n_jobs=None,\n",
       "                                     penalty='l1', power_t=0.5, random_state=28,\n",
       "                                     shuffle=True, tol=0.001,\n",
       "                                     validation_fraction=0.1, verbose=0,\n",
       "                                     warm_start=False),\n",
       "             iid='deprecated', n_jobs=4,\n",
       "             param_grid={'alpha': array([1.e-04, 1.e-03, 1.e-02, 1.e-01, 1.e+00, 1.e+01, 1.e+02, 1.e+03,\n",
       "       1.e+04])},\n",
       "             pre_dispatch='2*n_jobs', refit=True, return_train_score=False,\n",
       "             scoring='roc_auc', verbose=10)"
      ]
     },
     "execution_count": 29,
     "metadata": {},
     "output_type": "execute_result"
    }
   ],
   "source": [
    "alphas = np.logspace(-4,4,9)\n",
    "params_grid = {'alpha': alphas}\n",
    "from sklearn.model_selection import GridSearchCV\n",
    "clf_gridsearchcv = GridSearchCV(estimator = SGDClassifier(penalty='l1',class_weight = 'balanced', loss='log', random_state=28), param_grid=params_grid, cv = 5, scoring = 'roc_auc', verbose=10, n_jobs = 4)\n",
    "clf_gridsearchcv.fit(train, y_train)"
   ]
  },
  {
   "cell_type": "code",
   "execution_count": 30,
   "metadata": {},
   "outputs": [
    {
     "data": {
      "text/plain": [
       "('Best score: ', 0.7369829872068332)"
      ]
     },
     "execution_count": 30,
     "metadata": {},
     "output_type": "execute_result"
    }
   ],
   "source": [
    "('Best score: ', clf_gridsearchcv.best_score_)"
   ]
  },
  {
   "cell_type": "code",
   "execution_count": 31,
   "metadata": {},
   "outputs": [
    {
     "name": "stdout",
     "output_type": "stream",
     "text": [
      "Best estimator:  SGDClassifier(alpha=0.0001, average=False, class_weight='balanced',\n",
      "              early_stopping=False, epsilon=0.1, eta0=0.0, fit_intercept=True,\n",
      "              l1_ratio=0.15, learning_rate='optimal', loss='log', max_iter=1000,\n",
      "              n_iter_no_change=5, n_jobs=None, penalty='l1', power_t=0.5,\n",
      "              random_state=28, shuffle=True, tol=0.001, validation_fraction=0.1,\n",
      "              verbose=0, warm_start=False)\n"
     ]
    }
   ],
   "source": [
    "print('Best estimator: ', clf_gridsearchcv.best_estimator_)"
   ]
  },
  {
   "cell_type": "code",
   "execution_count": 32,
   "metadata": {},
   "outputs": [],
   "source": [
    "model2 = SGDClassifier(alpha=0.0001, average=False, class_weight='balanced',\n",
    "              early_stopping=False, epsilon=0.1, eta0=0.0, fit_intercept=True,\n",
    "              l1_ratio=0.15, learning_rate='optimal', loss='log', max_iter=1000,\n",
    "              n_iter_no_change=5, n_jobs=None, penalty='l1', power_t=0.5,\n",
    "              random_state=28, shuffle=True, tol=0.001, validation_fraction=0.1,\n",
    "              verbose=0, warm_start=False)\n"
   ]
  },
  {
   "cell_type": "code",
   "execution_count": 33,
   "metadata": {},
   "outputs": [
    {
     "data": {
      "text/plain": [
       "SGDClassifier(alpha=0.0001, average=False, class_weight='balanced',\n",
       "              early_stopping=False, epsilon=0.1, eta0=0.0, fit_intercept=True,\n",
       "              l1_ratio=0.15, learning_rate='optimal', loss='log', max_iter=1000,\n",
       "              n_iter_no_change=5, n_jobs=None, penalty='l1', power_t=0.5,\n",
       "              random_state=28, shuffle=True, tol=0.001, validation_fraction=0.1,\n",
       "              verbose=0, warm_start=False)"
      ]
     },
     "execution_count": 33,
     "metadata": {},
     "output_type": "execute_result"
    }
   ],
   "source": [
    "model2.fit(train, y_train)"
   ]
  },
  {
   "cell_type": "code",
   "execution_count": 34,
   "metadata": {},
   "outputs": [],
   "source": [
    "preds = model2.predict_proba(test)[:,1]"
   ]
  },
  {
   "cell_type": "code",
   "execution_count": 35,
   "metadata": {},
   "outputs": [],
   "source": [
    "from sklearn.metrics import roc_auc_score\n",
    "sub2 = pd.read_csv('sample_submission (1).csv')\n",
    "sub2['TARGET'] = preds\n",
    "sub2.to_csv('submission2.csv', index = None)"
   ]
  },
  {
   "cell_type": "markdown",
   "metadata": {},
   "source": [
    "### For  Model 3 we are going to fit Randomforest to find the most important features"
   ]
  },
  {
   "cell_type": "code",
   "execution_count": 36,
   "metadata": {},
   "outputs": [
    {
     "data": {
      "text/plain": [
       "RandomForestClassifier(bootstrap=True, ccp_alpha=0.0, class_weight=None,\n",
       "                       criterion='gini', max_depth=None, max_features='auto',\n",
       "                       max_leaf_nodes=None, max_samples=None,\n",
       "                       min_impurity_decrease=0.0, min_impurity_split=None,\n",
       "                       min_samples_leaf=1, min_samples_split=2,\n",
       "                       min_weight_fraction_leaf=0.0, n_estimators=100,\n",
       "                       n_jobs=None, oob_score=False, random_state=None,\n",
       "                       verbose=0, warm_start=False)"
      ]
     },
     "execution_count": 36,
     "metadata": {},
     "output_type": "execute_result"
    }
   ],
   "source": [
    "from sklearn.ensemble import RandomForestClassifier\n",
    "importance_gen = RandomForestClassifier()\n",
    "importance_gen.fit(train, y_train)"
   ]
  },
  {
   "cell_type": "code",
   "execution_count": 37,
   "metadata": {},
   "outputs": [],
   "source": [
    "importances = importance_gen.feature_importances_"
   ]
  },
  {
   "cell_type": "code",
   "execution_count": 38,
   "metadata": {},
   "outputs": [
    {
     "data": {
      "text/plain": [
       "array([8.74778916e-03, 2.94149259e-02, 3.23685069e-02, 3.41355756e-02,\n",
       "       2.84814851e-02, 2.82214530e-02, 3.78020664e-02, 3.28533736e-02,\n",
       "       3.68748739e-02, 3.77985343e-02, 1.17890953e-02, 2.58076573e-02,\n",
       "       5.42458700e-02, 5.12701439e-02, 1.48406112e-02, 6.76144309e-03,\n",
       "       1.66754123e-02, 1.47749428e-02, 6.07943894e-03, 1.67612367e-02,\n",
       "       1.45587274e-02, 6.39069032e-03, 1.66795925e-02, 1.72186850e-02,\n",
       "       1.49428677e-02, 1.47845211e-02, 3.34131860e-02, 6.06376438e-03,\n",
       "       1.87844715e-02, 4.16726107e-03, 3.26600196e-03, 2.50100531e-03,\n",
       "       6.54023678e-04, 4.07405121e-04, 6.69588954e-05, 6.17252113e-05,\n",
       "       8.28825906e-06, 0.00000000e+00, 1.00220597e-05, 0.00000000e+00,\n",
       "       1.99690409e-04, 2.20502193e-04, 6.54422424e-05, 6.58716419e-05,\n",
       "       1.13352061e-03, 4.22471015e-03, 2.18803394e-04, 5.25959330e-04,\n",
       "       9.80236362e-04, 2.15324150e-03, 4.85606109e-03, 1.57045820e-03,\n",
       "       1.50424223e-03, 1.67582093e-03, 1.68554253e-03, 2.09759507e-05,\n",
       "       2.30238276e-05, 7.74601051e-04, 7.48900380e-04, 5.21685356e-04,\n",
       "       3.85244335e-03, 2.12193607e-03, 8.61175354e-04, 1.67645317e-03,\n",
       "       2.69445671e-03, 1.18376014e-03, 1.43512800e-03, 1.67760956e-03,\n",
       "       2.50379864e-03, 2.96870572e-03, 2.37566160e-04, 1.70353570e-03,\n",
       "       2.09571314e-04, 5.61626228e-03, 1.45085128e-03, 2.37919051e-03,\n",
       "       1.36610142e-03, 7.66871131e-04, 4.20685201e-04, 3.68040434e-03,\n",
       "       5.14120822e-04, 1.83929888e-03, 7.84323621e-04, 1.54189272e-07,\n",
       "       3.26068753e-08, 2.96837524e-03, 3.00621950e-03, 1.64314304e-03,\n",
       "       1.60164499e-03, 0.00000000e+00, 2.19500689e-07, 4.81626285e-03,\n",
       "       4.81707866e-03, 5.37181835e-04, 5.28258787e-04, 5.13130662e-05,\n",
       "       7.28002115e-07, 0.00000000e+00, 0.00000000e+00, 0.00000000e+00,\n",
       "       1.23254041e-04, 1.23306310e-04, 2.95224852e-04, 1.15836132e-03,\n",
       "       5.37727496e-04, 1.54834298e-03, 2.13104616e-03, 5.31834825e-03,\n",
       "       2.92978879e-04, 2.23202022e-03, 2.04445806e-04, 4.15860165e-04,\n",
       "       2.73959998e-04, 1.93068160e-03, 4.06913402e-04, 1.07509362e-03,\n",
       "       6.74186024e-04, 7.97439624e-05, 1.05289253e-03, 1.48361844e-04,\n",
       "       8.49465338e-05, 2.94393848e-04, 1.43891412e-03, 6.21441171e-04,\n",
       "       3.01882980e-04, 1.03491312e-04, 6.23685159e-04, 3.35638337e-05,\n",
       "       8.96858814e-04, 2.65345345e-04, 1.34900618e-03, 2.11692420e-04,\n",
       "       1.66128255e-03, 5.37941216e-04, 2.41626140e-04, 2.73231142e-03,\n",
       "       5.32038171e-04, 9.33730219e-04, 3.64421353e-04, 5.14466333e-05,\n",
       "       9.76516831e-04, 1.44799010e-03, 1.12941096e-03, 4.70412038e-04,\n",
       "       4.69308231e-03, 5.29798585e-04, 3.55251406e-04, 2.83156810e-04,\n",
       "       5.13209526e-04, 1.25334085e-03, 3.45205030e-05, 3.64038797e-05,\n",
       "       2.28891774e-04, 2.03064592e-03, 8.95216650e-05, 8.28480231e-04,\n",
       "       1.05212289e-03, 1.61880357e-03, 4.05737100e-04, 7.52739923e-04,\n",
       "       3.21365135e-03, 3.14987471e-03, 1.63485798e-03, 1.59122406e-03,\n",
       "       1.58311991e-04, 5.25789585e-05, 4.10206472e-05, 1.73290542e-05,\n",
       "       1.78744202e-05, 0.00000000e+00, 4.23132028e-09, 5.53291992e-05,\n",
       "       5.34943849e-05, 3.06596241e-03, 2.99214193e-03, 3.93988237e-03,\n",
       "       5.72419074e-03, 2.94097812e-03, 4.27120479e-03, 0.00000000e+00,\n",
       "       1.84670056e-03, 7.05657387e-04, 6.54796150e-04, 3.17990441e-04,\n",
       "       2.54217169e-03, 2.36616220e-03, 9.88977393e-04, 5.03107076e-04,\n",
       "       9.72884188e-05, 2.29276413e-05, 4.36191359e-11, 1.43068092e-09,\n",
       "       5.59086600e-08, 2.84429337e-05, 3.11814304e-05, 4.69183729e-04,\n",
       "       4.72179560e-04, 6.45761230e-05, 6.15514980e-05, 9.66867974e-04,\n",
       "       9.39955703e-04, 5.03992695e-04, 5.03032416e-04, 0.00000000e+00,\n",
       "       3.68728506e-03, 2.59603133e-05, 8.35187377e-04, 1.81177825e-03,\n",
       "       1.45708682e-06, 9.30935553e-05, 4.56412953e-03, 5.66011260e-03,\n",
       "       5.71938409e-03, 4.91194672e-03, 5.01646326e-03, 3.82633955e-03,\n",
       "       3.96315979e-03, 0.00000000e+00, 2.44740245e-03, 2.35140033e-03,\n",
       "       1.22350304e-03, 1.18108593e-03, 1.46225947e-03, 1.48534762e-03,\n",
       "       7.70353757e-04, 7.70171909e-04, 0.00000000e+00, 1.50702856e-03,\n",
       "       3.00183784e-03, 2.88301344e-03, 1.37697562e-03, 2.94128909e-03,\n",
       "       2.95990087e-03, 2.27487537e-04, 2.08685117e-04, 6.11833572e-04,\n",
       "       5.96381321e-04, 1.21401890e-04, 2.81222984e-05, 3.81922825e-05,\n",
       "       3.29348066e-07, 6.09749594e-07, 6.81544179e-07, 4.27421747e-07,\n",
       "       2.27279627e-05, 3.50864395e-03, 1.67099286e-03, 1.43517839e-03,\n",
       "       3.89103042e-03, 8.25193876e-05, 9.61042104e-05, 5.07042950e-04,\n",
       "       5.08892497e-04, 7.74684110e-05, 7.05775658e-05, 4.43342299e-03,\n",
       "       4.49404026e-03, 2.56144680e-03, 2.41835482e-03, 3.19322087e-04,\n",
       "       2.99818331e-04, 1.31324776e-04, 1.57462830e-04, 3.08035205e-03,\n",
       "       2.85110819e-03, 1.43253952e-03, 6.08310936e-04, 2.57299855e-04,\n",
       "       6.40040512e-05, 1.20047450e-05, 0.00000000e+00, 0.00000000e+00,\n",
       "       0.00000000e+00, 5.14211000e-03, 4.99882633e-03, 4.13601775e-03,\n",
       "       2.82598295e-03, 5.08883097e-03, 5.35298416e-03, 5.34307579e-03,\n",
       "       8.04847525e-07, 5.59068453e-08])"
      ]
     },
     "execution_count": 38,
     "metadata": {},
     "output_type": "execute_result"
    }
   ],
   "source": [
    "importances"
   ]
  },
  {
   "cell_type": "code",
   "execution_count": 39,
   "metadata": {},
   "outputs": [],
   "source": [
    "feats_ordered = train.columns[np.argsort(importances)[::-1]]"
   ]
  },
  {
   "cell_type": "code",
   "execution_count": 40,
   "metadata": {},
   "outputs": [],
   "source": [
    "# Now, we will take the first 100 most important features"
   ]
  },
  {
   "cell_type": "code",
   "execution_count": 41,
   "metadata": {},
   "outputs": [
    {
     "data": {
      "text/plain": [
       "Index(['EXT_SOURCE_2', 'EXT_SOURCE_3', 'DAYS_BIRTH', 'DAYS_ID_PUBLISH',\n",
       "       'DAYS_REGISTRATION', 'AMT_ANNUITY', 'DAYS_LAST_PHONE_CHANGE',\n",
       "       'DAYS_EMPLOYED', 'AMT_CREDIT', 'AMT_INCOME_TOTAL',\n",
       "       ...\n",
       "       'NAME_FAMILY_STATUS_Unknown', 'REGION_RATING_CLIENT_W_CITY_-1',\n",
       "       'AMT_REQ_CREDIT_BUREAU_QRT_8.0', 'AMT_REQ_CREDIT_BUREAU_WEEK_7.0',\n",
       "       'AMT_REQ_CREDIT_BUREAU_HOUR_4.0', 'FLAG_MOBIL_0', 'FLAG_MOBIL_1',\n",
       "       'NAME_INCOME_TYPE_Businessman', 'CODE_GENDER_XNA',\n",
       "       'AMT_REQ_CREDIT_BUREAU_QRT_261.0'],\n",
       "      dtype='object', length=282)"
      ]
     },
     "execution_count": 41,
     "metadata": {},
     "output_type": "execute_result"
    }
   ],
   "source": [
    "feats_ordered"
   ]
  },
  {
   "cell_type": "code",
   "execution_count": 42,
   "metadata": {},
   "outputs": [
    {
     "name": "stdout",
     "output_type": "stream",
     "text": [
      "Fitting 5 folds for each of 9 candidates, totalling 45 fits\n"
     ]
    },
    {
     "name": "stderr",
     "output_type": "stream",
     "text": [
      "[Parallel(n_jobs=4)]: Using backend LokyBackend with 4 concurrent workers.\n",
      "[Parallel(n_jobs=4)]: Done   5 tasks      | elapsed:   18.6s\n",
      "[Parallel(n_jobs=4)]: Done  10 tasks      | elapsed:   23.4s\n",
      "[Parallel(n_jobs=4)]: Done  17 tasks      | elapsed:   32.5s\n",
      "[Parallel(n_jobs=4)]: Done  24 tasks      | elapsed:   42.0s\n",
      "[Parallel(n_jobs=4)]: Done  33 tasks      | elapsed:   57.9s\n",
      "[Parallel(n_jobs=4)]: Done  43 out of  45 | elapsed:  1.1min remaining:    3.1s\n",
      "[Parallel(n_jobs=4)]: Done  45 out of  45 | elapsed:  1.1min finished\n"
     ]
    },
    {
     "data": {
      "text/plain": [
       "GridSearchCV(cv=5, error_score=nan,\n",
       "             estimator=SGDClassifier(alpha=0.0001, average=False,\n",
       "                                     class_weight='balanced',\n",
       "                                     early_stopping=False, epsilon=0.1,\n",
       "                                     eta0=0.0, fit_intercept=True,\n",
       "                                     l1_ratio=0.15, learning_rate='optimal',\n",
       "                                     loss='log', max_iter=1000,\n",
       "                                     n_iter_no_change=5, n_jobs=None,\n",
       "                                     penalty='l1', power_t=0.5, random_state=28,\n",
       "                                     shuffle=True, tol=0.001,\n",
       "                                     validation_fraction=0.1, verbose=0,\n",
       "                                     warm_start=False),\n",
       "             iid='deprecated', n_jobs=4,\n",
       "             param_grid={'alpha': array([1.e-04, 1.e-03, 1.e-02, 1.e-01, 1.e+00, 1.e+01, 1.e+02, 1.e+03,\n",
       "       1.e+04])},\n",
       "             pre_dispatch='2*n_jobs', refit=True, return_train_score=False,\n",
       "             scoring='roc_auc', verbose=10)"
      ]
     },
     "execution_count": 42,
     "metadata": {},
     "output_type": "execute_result"
    }
   ],
   "source": [
    "train_1 = train[feats_ordered[0:200]]\n",
    "alphas = np.logspace(-4,4,9)\n",
    "params_grid = {'alpha': alphas}\n",
    "from sklearn.model_selection import GridSearchCV\n",
    "clf_gridsearchcv = GridSearchCV(estimator = SGDClassifier(penalty='l1',class_weight = 'balanced', loss='log', random_state=28), param_grid=params_grid, cv = 5, scoring = 'roc_auc', verbose=10, n_jobs = 4)\n",
    "clf_gridsearchcv.fit(train_1, y_train)"
   ]
  },
  {
   "cell_type": "code",
   "execution_count": 43,
   "metadata": {},
   "outputs": [
    {
     "data": {
      "text/plain": [
       "('Best score: ', 0.7366383058967435)"
      ]
     },
     "execution_count": 43,
     "metadata": {},
     "output_type": "execute_result"
    }
   ],
   "source": [
    "('Best score: ', clf_gridsearchcv.best_score_)"
   ]
  },
  {
   "cell_type": "code",
   "execution_count": 44,
   "metadata": {},
   "outputs": [
    {
     "name": "stdout",
     "output_type": "stream",
     "text": [
      "Best estimator:  SGDClassifier(alpha=0.0001, average=False, class_weight='balanced',\n",
      "              early_stopping=False, epsilon=0.1, eta0=0.0, fit_intercept=True,\n",
      "              l1_ratio=0.15, learning_rate='optimal', loss='log', max_iter=1000,\n",
      "              n_iter_no_change=5, n_jobs=None, penalty='l1', power_t=0.5,\n",
      "              random_state=28, shuffle=True, tol=0.001, validation_fraction=0.1,\n",
      "              verbose=0, warm_start=False)\n"
     ]
    }
   ],
   "source": [
    "print('Best estimator: ', clf_gridsearchcv.best_estimator_)"
   ]
  },
  {
   "cell_type": "code",
   "execution_count": 45,
   "metadata": {},
   "outputs": [],
   "source": [
    "test_1 = test[feats_ordered[0:200]]"
   ]
  },
  {
   "cell_type": "code",
   "execution_count": 46,
   "metadata": {},
   "outputs": [],
   "source": [
    "model3 = SGDClassifier(alpha=0.0001, average=False, class_weight='balanced',\n",
    "              early_stopping=False, epsilon=0.1, eta0=0.0, fit_intercept=True,\n",
    "              l1_ratio=0.15, learning_rate='optimal', loss='log', max_iter=1000,\n",
    "              n_iter_no_change=5, n_jobs=None, penalty='l1', power_t=0.5,\n",
    "              random_state=28, shuffle=True, tol=0.001, validation_fraction=0.1,\n",
    "              verbose=0, warm_start=False)\n",
    "model3.fit(train_1, y_train)\n",
    "preds = model3.predict_proba(test_1)[:,1]"
   ]
  },
  {
   "cell_type": "code",
   "execution_count": 47,
   "metadata": {},
   "outputs": [],
   "source": [
    "preds = model3.predict_proba(test_1)[:,1]"
   ]
  },
  {
   "cell_type": "code",
   "execution_count": 48,
   "metadata": {},
   "outputs": [],
   "source": [
    "from sklearn.metrics import roc_auc_score\n",
    "sub3 = pd.read_csv('sample_submission (1).csv')\n",
    "sub3['TARGET'] = preds\n",
    "sub3.to_csv('submission3.csv', index = None)"
   ]
  },
  {
   "cell_type": "markdown",
   "metadata": {},
   "source": [
    "# Model 4"
   ]
  },
  {
   "cell_type": "markdown",
   "metadata": {},
   "source": [
    "# Let's now try to use WOE to encode categorical features"
   ]
  },
  {
   "cell_type": "code",
   "execution_count": 49,
   "metadata": {},
   "outputs": [],
   "source": [
    "X = pd.concat([application_train, application_test], keys = [0,1])"
   ]
  },
  {
   "cell_type": "code",
   "execution_count": 50,
   "metadata": {},
   "outputs": [],
   "source": [
    "for col in categorical_application:\n",
    "    X[col] = X[col].fillna(X[col].mode()[0])\n",
    "\n",
    "for col in numerical_application:\n",
    "    X[col] = X[col].fillna(X[col].median())"
   ]
  },
  {
   "cell_type": "code",
   "execution_count": 51,
   "metadata": {},
   "outputs": [],
   "source": [
    "X = X[not_miss]\n",
    "numeric_application = list(set(not_miss) & set(numerical_application))\n",
    "categorical_application = list(set(not_miss) & set(categorical_application))"
   ]
  },
  {
   "cell_type": "code",
   "execution_count": 52,
   "metadata": {},
   "outputs": [],
   "source": [
    "from sklearn import preprocessing\n",
    "scaler = preprocessing.StandardScaler()\n",
    "X[numeric_application] = scaler.fit_transform(X[numeric_application])"
   ]
  },
  {
   "cell_type": "code",
   "execution_count": 53,
   "metadata": {},
   "outputs": [],
   "source": [
    "train = X.xs(0)\n",
    "test = X.xs(1)"
   ]
  },
  {
   "cell_type": "code",
   "execution_count": 54,
   "metadata": {},
   "outputs": [],
   "source": [
    "train = train.drop(['SK_ID_CURR'], axis = 1)\n",
    "test = test.drop(['SK_ID_CURR'], axis = 1)"
   ]
  },
  {
   "cell_type": "code",
   "execution_count": 55,
   "metadata": {},
   "outputs": [],
   "source": [
    "import category_encoders as ce"
   ]
  },
  {
   "cell_type": "code",
   "execution_count": 56,
   "metadata": {},
   "outputs": [],
   "source": [
    "woe_encoder = ce.WOEEncoder(cols=categorical_application)\n",
    "train = woe_encoder.fit_transform(train, y_train).add_suffix('_woe')"
   ]
  },
  {
   "cell_type": "code",
   "execution_count": 57,
   "metadata": {},
   "outputs": [],
   "source": [
    "test = woe_encoder.transform(test).add_suffix('_woe')"
   ]
  },
  {
   "cell_type": "code",
   "execution_count": 58,
   "metadata": {},
   "outputs": [
    {
     "name": "stdout",
     "output_type": "stream",
     "text": [
      "Fitting 5 folds for each of 9 candidates, totalling 45 fits\n"
     ]
    },
    {
     "name": "stderr",
     "output_type": "stream",
     "text": [
      "[Parallel(n_jobs=4)]: Using backend LokyBackend with 4 concurrent workers.\n",
      "[Parallel(n_jobs=4)]: Done   5 tasks      | elapsed:    5.6s\n",
      "[Parallel(n_jobs=4)]: Done  10 tasks      | elapsed:    8.8s\n",
      "[Parallel(n_jobs=4)]: Done  17 tasks      | elapsed:   13.0s\n",
      "[Parallel(n_jobs=4)]: Done  24 tasks      | elapsed:   19.0s\n",
      "[Parallel(n_jobs=4)]: Done  33 tasks      | elapsed:   28.1s\n",
      "[Parallel(n_jobs=4)]: Done  43 out of  45 | elapsed:   32.4s remaining:    1.5s\n",
      "[Parallel(n_jobs=4)]: Done  45 out of  45 | elapsed:   33.1s finished\n"
     ]
    },
    {
     "data": {
      "text/plain": [
       "GridSearchCV(cv=5, error_score=nan,\n",
       "             estimator=SGDClassifier(alpha=0.0001, average=False,\n",
       "                                     class_weight='balanced',\n",
       "                                     early_stopping=False, epsilon=0.1,\n",
       "                                     eta0=0.0, fit_intercept=True,\n",
       "                                     l1_ratio=0.15, learning_rate='optimal',\n",
       "                                     loss='log', max_iter=1000,\n",
       "                                     n_iter_no_change=5, n_jobs=None,\n",
       "                                     penalty='l1', power_t=0.5, random_state=28,\n",
       "                                     shuffle=True, tol=0.001,\n",
       "                                     validation_fraction=0.1, verbose=0,\n",
       "                                     warm_start=False),\n",
       "             iid='deprecated', n_jobs=4,\n",
       "             param_grid={'alpha': array([1.e-04, 1.e-03, 1.e-02, 1.e-01, 1.e+00, 1.e+01, 1.e+02, 1.e+03,\n",
       "       1.e+04])},\n",
       "             pre_dispatch='2*n_jobs', refit=True, return_train_score=False,\n",
       "             scoring='roc_auc', verbose=10)"
      ]
     },
     "execution_count": 58,
     "metadata": {},
     "output_type": "execute_result"
    }
   ],
   "source": [
    "clf_gridsearchcv = GridSearchCV(estimator = SGDClassifier(penalty='l1',class_weight = 'balanced', loss='log', random_state=28), param_grid=params_grid, cv = 5, scoring = 'roc_auc', verbose=10, n_jobs = 4)\n",
    "clf_gridsearchcv.fit(train, y_train)"
   ]
  },
  {
   "cell_type": "code",
   "execution_count": 59,
   "metadata": {},
   "outputs": [
    {
     "data": {
      "text/plain": [
       "('Best score: ', 0.739694988893162)"
      ]
     },
     "execution_count": 59,
     "metadata": {},
     "output_type": "execute_result"
    }
   ],
   "source": [
    "('Best score: ', clf_gridsearchcv.best_score_)"
   ]
  },
  {
   "cell_type": "code",
   "execution_count": 60,
   "metadata": {},
   "outputs": [
    {
     "name": "stdout",
     "output_type": "stream",
     "text": [
      "Best estimator:  SGDClassifier(alpha=0.0001, average=False, class_weight='balanced',\n",
      "              early_stopping=False, epsilon=0.1, eta0=0.0, fit_intercept=True,\n",
      "              l1_ratio=0.15, learning_rate='optimal', loss='log', max_iter=1000,\n",
      "              n_iter_no_change=5, n_jobs=None, penalty='l1', power_t=0.5,\n",
      "              random_state=28, shuffle=True, tol=0.001, validation_fraction=0.1,\n",
      "              verbose=0, warm_start=False)\n"
     ]
    }
   ],
   "source": [
    "print('Best estimator: ', clf_gridsearchcv.best_estimator_)"
   ]
  },
  {
   "cell_type": "code",
   "execution_count": 61,
   "metadata": {},
   "outputs": [],
   "source": [
    "model4 = SGDClassifier(alpha=0.0001, average=False, class_weight='balanced',\n",
    "              early_stopping=False, epsilon=0.1, eta0=0.0, fit_intercept=True,\n",
    "              l1_ratio=0.15, learning_rate='optimal', loss='log', max_iter=1000,\n",
    "              n_iter_no_change=5, n_jobs=None, penalty='l1', power_t=0.5,\n",
    "              random_state=28, shuffle=True, tol=0.001, validation_fraction=0.1,\n",
    "              verbose=0, warm_start=False)\n",
    "model4.fit(train, y_train)\n",
    "preds = model4.predict_proba(test)[:,1]"
   ]
  },
  {
   "cell_type": "code",
   "execution_count": 62,
   "metadata": {},
   "outputs": [],
   "source": [
    "from sklearn.metrics import roc_auc_score\n",
    "sub4 = pd.read_csv('sample_submission (1).csv')\n",
    "sub4['TARGET'] = preds\n",
    "sub4.to_csv('submission4.csv', index = None)"
   ]
  },
  {
   "cell_type": "markdown",
   "metadata": {},
   "source": [
    "# Graph cross validation vs submission score"
   ]
  },
  {
   "cell_type": "code",
   "execution_count": 63,
   "metadata": {},
   "outputs": [
    {
     "data": {
      "image/png": "[encoded data removed]",
      "text/plain": [
       "<Figure size 432x288 with 1 Axes>"
      ]
     },
     "metadata": {
      "needs_background": "light"
     },
     "output_type": "display_data"
    }
   ],
   "source": [
    "submits = [0.68086, 0.72216, 0.72167, 0.71678]\n",
    "cross_vals = [0.6715402127187118, 0.7369829872068332, 0.7366383058967435, 0.739694988893162]\n",
    "import matplotlib.pyplot as plt\n",
    "plt.scatter(cross_vals, submits)\n",
    "plt.title('Cross val score vs submission score')\n",
    "plt.xlabel('Cross Val scores')\n",
    "plt.ylabel('Submission scores')\n",
    "plt.show()"
   ]
  },
  {
   "cell_type": "markdown",
   "metadata": {},
   "source": [
    "# Лучшие результаты получила модель с one hot энкодингом и подобранным С гиперпараметром. "
   ]
  },
  {
   "cell_type": "code",
   "execution_count": null,
   "metadata": {},
   "outputs": [],
   "source": []
  }
 ],
 "metadata": {
  "kernelspec": {
   "display_name": "Python 3",
   "language": "python",
   "name": "python3"
  },
  "language_info": {
   "codemirror_mode": {
    "name": "ipython",
    "version": 3
   },
   "file_extension": ".py",
   "mimetype": "text/x-python",
   "name": "python",
   "nbconvert_exporter": "python",
   "pygments_lexer": "ipython3",
   "version": "3.7.6"
  }
 },
 "nbformat": 4,
 "nbformat_minor": 4
}
