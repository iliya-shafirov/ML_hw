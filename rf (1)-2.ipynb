{
 "cells": [
  {
   "cell_type": "code",
   "execution_count": 3,
   "metadata": {
    "colab": {
     "base_uri": "https://localhost:8080/"
    },
    "id": "Y2SaJIesgLCX",
    "outputId": "fbb7bf7a-76f1-4103-de8c-8abe2bd68f50"
   },
   "outputs": [
    {
     "name": "stdout",
     "output_type": "stream",
     "text": [
      "Mounted at /content/drive\n"
     ]
    }
   ],
   "source": [
    "from google.colab import drive\n",
    "drive.mount('/content/drive')"
   ]
  },
  {
   "cell_type": "code",
   "execution_count": null,
   "metadata": {
    "id": "_87Bg6XhBr1x"
   },
   "outputs": [],
   "source": []
  },
  {
   "cell_type": "code",
   "execution_count": 4,
   "metadata": {
    "id": "3oK64XSIhZLD"
   },
   "outputs": [],
   "source": [
    "import zipfile\n",
    "with zipfile.ZipFile('/content/drive/My Drive/home-credit-default-risk.zip', 'r') as zip_ref:\n",
    "    zip_ref.extractall('/content/drive/My Drive/my_credit')\n"
   ]
  },
  {
   "cell_type": "code",
   "execution_count": 3,
   "metadata": {
    "id": "mHhMjJk_iSkv"
   },
   "outputs": [],
   "source": [
    "import pandas as pd\n",
    "import numpy as np\n",
    "import sklearn\n",
    "import scipy as sp"
   ]
  },
  {
   "cell_type": "code",
   "execution_count": 6,
   "metadata": {
    "id": "JN-LQeWzifzm"
   },
   "outputs": [],
   "source": [
    "data = pd.read_csv(\"my_credit/application_train.csv\")"
   ]
  },
  {
   "cell_type": "code",
   "execution_count": 7,
   "metadata": {
    "id": "UvgMpiyZms1X"
   },
   "outputs": [],
   "source": [
    "nans = pd.concat([data.isnull().sum()],  axis=1, keys=['num_of_nans'])"
   ]
  },
  {
   "cell_type": "code",
   "execution_count": 8,
   "metadata": {
    "colab": {
     "base_uri": "https://localhost:8080/",
     "height": 419
    },
    "id": "Ow69H8-_SUa4",
    "outputId": "3b86f6c2-a912-45ce-f248-9ee6a6b506e8"
   },
   "outputs": [
    {
     "data": {
      "text/html": [
       "<div>\n",
       "<style scoped>\n",
       "    .dataframe tbody tr th:only-of-type {\n",
       "        vertical-align: middle;\n",
       "    }\n",
       "\n",
       "    .dataframe tbody tr th {\n",
       "        vertical-align: top;\n",
       "    }\n",
       "\n",
       "    .dataframe thead th {\n",
       "        text-align: right;\n",
       "    }\n",
       "</style>\n",
       "<table border=\"1\" class=\"dataframe\">\n",
       "  <thead>\n",
       "    <tr style=\"text-align: right;\">\n",
       "      <th></th>\n",
       "      <th>num_of_nans</th>\n",
       "    </tr>\n",
       "  </thead>\n",
       "  <tbody>\n",
       "    <tr>\n",
       "      <th>SK_ID_CURR</th>\n",
       "      <td>0</td>\n",
       "    </tr>\n",
       "    <tr>\n",
       "      <th>TARGET</th>\n",
       "      <td>0</td>\n",
       "    </tr>\n",
       "    <tr>\n",
       "      <th>NAME_CONTRACT_TYPE</th>\n",
       "      <td>0</td>\n",
       "    </tr>\n",
       "    <tr>\n",
       "      <th>CODE_GENDER</th>\n",
       "      <td>0</td>\n",
       "    </tr>\n",
       "    <tr>\n",
       "      <th>FLAG_OWN_CAR</th>\n",
       "      <td>0</td>\n",
       "    </tr>\n",
       "    <tr>\n",
       "      <th>...</th>\n",
       "      <td>...</td>\n",
       "    </tr>\n",
       "    <tr>\n",
       "      <th>AMT_REQ_CREDIT_BUREAU_DAY</th>\n",
       "      <td>41519</td>\n",
       "    </tr>\n",
       "    <tr>\n",
       "      <th>AMT_REQ_CREDIT_BUREAU_WEEK</th>\n",
       "      <td>41519</td>\n",
       "    </tr>\n",
       "    <tr>\n",
       "      <th>AMT_REQ_CREDIT_BUREAU_MON</th>\n",
       "      <td>41519</td>\n",
       "    </tr>\n",
       "    <tr>\n",
       "      <th>AMT_REQ_CREDIT_BUREAU_QRT</th>\n",
       "      <td>41519</td>\n",
       "    </tr>\n",
       "    <tr>\n",
       "      <th>AMT_REQ_CREDIT_BUREAU_YEAR</th>\n",
       "      <td>41519</td>\n",
       "    </tr>\n",
       "  </tbody>\n",
       "</table>\n",
       "<p>122 rows × 1 columns</p>\n",
       "</div>"
      ],
      "text/plain": [
       "                            num_of_nans\n",
       "SK_ID_CURR                            0\n",
       "TARGET                                0\n",
       "NAME_CONTRACT_TYPE                    0\n",
       "CODE_GENDER                           0\n",
       "FLAG_OWN_CAR                          0\n",
       "...                                 ...\n",
       "AMT_REQ_CREDIT_BUREAU_DAY         41519\n",
       "AMT_REQ_CREDIT_BUREAU_WEEK        41519\n",
       "AMT_REQ_CREDIT_BUREAU_MON         41519\n",
       "AMT_REQ_CREDIT_BUREAU_QRT         41519\n",
       "AMT_REQ_CREDIT_BUREAU_YEAR        41519\n",
       "\n",
       "[122 rows x 1 columns]"
      ]
     },
     "execution_count": 8,
     "metadata": {},
     "output_type": "execute_result"
    }
   ],
   "source": [
    "nans"
   ]
  },
  {
   "cell_type": "code",
   "execution_count": 9,
   "metadata": {
    "id": "uO8aVxLPoVD4"
   },
   "outputs": [],
   "source": [
    "uniques = data.nunique()\n",
    "nan_cols = nans[nans['num_of_nans'] > 0].index"
   ]
  },
  {
   "cell_type": "code",
   "execution_count": 10,
   "metadata": {
    "id": "W8hHW_6QZzX5"
   },
   "outputs": [],
   "source": [
    "types = data.dtypes"
   ]
  },
  {
   "cell_type": "code",
   "execution_count": 11,
   "metadata": {
    "colab": {
     "base_uri": "https://localhost:8080/"
    },
    "id": "oc6_KBhJqnpB",
    "outputId": "3393b076-8247-4f7e-a73b-40e1b4d43f84"
   },
   "outputs": [
    {
     "name": "stdout",
     "output_type": "stream",
     "text": [
      "NAME_TYPE_SUITE\n",
      "OCCUPATION_TYPE\n",
      "FONDKAPREMONT_MODE\n",
      "HOUSETYPE_MODE\n",
      "WALLSMATERIAL_MODE\n",
      "EMERGENCYSTATE_MODE\n"
     ]
    }
   ],
   "source": [
    "for col in nan_cols:\n",
    "    if types[col] == 'object':\n",
    "        data[col].fillna(data[col].mode()[0], inplace = True)\n",
    "        print(col)\n",
    "    else:\n",
    "        if uniques[col] <= 10:\n",
    "            data[col].fillna(data[col].mode()[0], inplace = True)\n",
    "        else:\n",
    "            data[col].fillna(data[col].median(), inplace = True)\n",
    "\n"
   ]
  },
  {
   "cell_type": "code",
   "execution_count": 12,
   "metadata": {
    "id": "eTIYSLdAq9SU"
   },
   "outputs": [],
   "source": [
    "nan_check = pd.concat([data.isnull().sum()],  axis=1, keys=['num_of_nans'])\n",
    "nan_cols_check = nan_check[nan_check['num_of_nans'] > 0].index"
   ]
  },
  {
   "cell_type": "code",
   "execution_count": 13,
   "metadata": {
    "id": "cHTOIST5v6fZ"
   },
   "outputs": [],
   "source": [
    "cat_cols = []\n",
    "numerical_cols = []"
   ]
  },
  {
   "cell_type": "code",
   "execution_count": 14,
   "metadata": {
    "id": "dwR0lFrkUNBD"
   },
   "outputs": [],
   "source": [
    "cols = data.columns"
   ]
  },
  {
   "cell_type": "code",
   "execution_count": 15,
   "metadata": {
    "id": "7x3lQ8X7UKMw"
   },
   "outputs": [],
   "source": [
    "for col in cols:\n",
    "    if types[col] == 'object':\n",
    "        cat_cols.append(col)\n",
    "    else:\n",
    "        if uniques[col] <= 10:\n",
    "            cat_cols.append(col)\n",
    "        else:\n",
    "            numerical_cols.append(col)"
   ]
  },
  {
   "cell_type": "code",
   "execution_count": 16,
   "metadata": {
    "id": "fXbD3m9fUiSz"
   },
   "outputs": [],
   "source": [
    "cat_cols = cat_cols[1:]"
   ]
  },
  {
   "cell_type": "code",
   "execution_count": 17,
   "metadata": {
    "id": "sbbzCzRpUvKM"
   },
   "outputs": [],
   "source": [
    "from sklearn.preprocessing import LabelEncoder, StandardScaler\n",
    "scaler = StandardScaler()\n",
    "data[numerical_cols] = scaler.fit_transform(data[numerical_cols])"
   ]
  },
  {
   "cell_type": "code",
   "execution_count": 18,
   "metadata": {
    "id": "9_3jCUDxSN_n"
   },
   "outputs": [],
   "source": [
    "Y = data['TARGET']"
   ]
  },
  {
   "cell_type": "code",
   "execution_count": 19,
   "metadata": {
    "id": "wKLIsUGoTYKv"
   },
   "outputs": [],
   "source": [
    "X = data.drop(['TARGET', 'SK_ID_CURR'], axis = 1)"
   ]
  },
  {
   "cell_type": "code",
   "execution_count": 20,
   "metadata": {
    "id": "HCUYocZyTaEf"
   },
   "outputs": [],
   "source": [
    "from sklearn.preprocessing import LabelEncoder\n",
    "labelencoder = LabelEncoder()\n",
    "X[cat_cols] = X[cat_cols].apply(LabelEncoder().fit_transform)"
   ]
  },
  {
   "cell_type": "code",
   "execution_count": null,
   "metadata": {
    "colab": {
     "base_uri": "https://localhost:8080/"
    },
    "id": "A3dCIoiaZAwC",
    "outputId": "db7b19f4-1f73-41c7-97ae-0edbfaec0a23"
   },
   "outputs": [
    {
     "name": "stdout",
     "output_type": "stream",
     "text": [
      "[0.32022472 0.04562775 0.03038855 ... 0.12705608 0.03038855 0.21573252]\n",
      "0 0.6969027831978009\n",
      "[0.11348211 0.04689337 0.04249075 ... 0.21043793 0.02361685 0.08522413]\n",
      "1 0.696855459487174\n",
      "[0.21871067 0.12729801 0.07993641 ... 0.07993641 0.04705143 0.12729801]\n",
      "2 0.693756000705973\n",
      "[0.08298497 0.04545568 0.043663   ... 0.043663   0.08298497 0.08298497]\n",
      "3 0.7022604716895985\n",
      "[0.05312804 0.31714527 0.04880691 ... 0.11041026 0.04880691 0.14285714]\n",
      "4 0.6996294606418595\n",
      "[0.6969027831978009, 0.696855459487174, 0.693756000705973, 0.7022604716895985, 0.6996294606418595]\n",
      "[0.35261538 0.04848485 0.03951916 ... 0.1727195  0.03293583 0.23349326]\n",
      "0 0.7172499906743721\n",
      "[0.15094895 0.06332454 0.07611465 ... 0.12828947 0.02494895 0.1278618 ]\n",
      "1 0.7156738115655756\n",
      "[0.29632063 0.0946087  0.08386727 ... 0.05501535 0.06452482 0.18021154]\n",
      "2 0.7105189535963568\n",
      "[0.07450805 0.06079256 0.03011551 ... 0.05835635 0.11135263 0.05674386]\n",
      "3 0.7183342574674793\n",
      "[0.02278606 0.48474576 0.03338279 ... 0.09767814 0.07518797 0.12396122]\n",
      "4 0.7221979667955329\n",
      "[0.7172499906743721, 0.7156738115655756, 0.7105189535963568, 0.7183342574674793, 0.7221979667955329]\n",
      "[0.3640625  0.04132974 0.04067164 ... 0.1431276  0.03150964 0.28815427]\n",
      "0 0.6982794628868702\n",
      "[0.10869565 0.06105263 0.09178164 ... 0.20491803 0.027751   0.13588691]\n",
      "1 0.6961909033268873\n",
      "[0.32167832 0.08602151 0.12180674 ... 0.0561732  0.06382979 0.14892665]\n",
      "2 0.689553486246455\n",
      "[0.05629093 0.0317206  0.02509306 ... 0.07484568 0.13574538 0.05580159]\n",
      "3 0.6970626750230666\n",
      "[0.0176792  0.33057851 0.02310858 ... 0.06451613 0.05903658 0.02027027]\n",
      "4 0.7050836190751941\n",
      "[0.6982794628868702, 0.6961909033268873, 0.689553486246455, 0.6970626750230666, 0.7050836190751941]\n",
      "[0.28272251 0.03797468 0.03503337 ... 0.11889802 0.02092676 0.34162679]\n",
      "0 0.6544875908172694\n",
      "[0.10761155 0.0565371  0.10097965 ... 0.09090909 0.03412882 0.12695548]\n",
      "1 0.6510942666279145\n",
      "[0.42211055 0.12931034 0.14151497 ... 0.04251299 0.06275187 0.15909091]\n",
      "2 0.6378790890258927\n",
      "[0.06135611 0.0265818  0.02239928 ... 0.08020924 0.14473241 0.03511706]\n",
      "3 0.64527941123837\n",
      "[0.01733863 1.         0.03129161 ... 0.03846154 0.04363636 0.        ]\n",
      "4 0.6566513048683029\n",
      "[0.6544875908172694, 0.6510942666279145, 0.6378790890258927, 0.64527941123837, 0.6566513048683029]\n",
      "[0.25       0.04634831 0.03747204 ... 0.17534247 0.02409639 0.31243243]\n",
      "0 0.5936568656707852\n",
      "[0.0106383  0.07747489 0.11188811 ... 0.02777778 0.03344912 0.13163482]\n",
      "1 0.5912963222474995\n",
      "[0.9        0.01204819 0.16266376 ... 0.04601048 0.06832298 0.09693878]\n",
      "2 0.581354047534091\n",
      "[0.05359343 0.02233746 0.03526448 ... 0.00763359 0.10331633 0.04075235]\n",
      "3 0.5823556624303312\n",
      "[0.0118538  1.         0.02403846 ... 0.         0.02191235 0.        ]\n",
      "4 0.5940248268284406\n",
      "[0.5936568656707852, 0.5912963222474995, 0.581354047534091, 0.5823556624303312, 0.5940248268284406]\n"
     ]
    }
   ],
   "source": [
    "results_depths = []\n",
    "from sklearn.tree import DecisionTreeClassifier\n",
    "from sklearn.metrics import roc_auc_score\n",
    "from sklearn.model_selection import KFold\n",
    "max_depths = np.linspace(4, 20, 5, dtype = int,  endpoint=True)\n",
    "for depth in max_depths:\n",
    "    clf = DecisionTreeClassifier(max_depth = depth)\n",
    "    kf = KFold(n_splits=5)\n",
    "    kf.get_n_splits(X)\n",
    "    roc_aucs = []\n",
    "    for i, (train_index, test_index) in enumerate(kf.split(X)):\n",
    "        X_train, X_test = X.loc[train_index], X.loc[test_index]\n",
    "        y_train, y_test = Y.loc[train_index], Y.loc[test_index]\n",
    "        clf.fit(X_train, y_train)\n",
    "        predict = clf.predict_proba(X_test)[:,1]\n",
    "        print(predict)\n",
    "        roc_auc = roc_auc_score(y_test, predict)\n",
    "        print(i, roc_auc)\n",
    "        roc_aucs.append(roc_auc)\n",
    "    print(roc_aucs)\n",
    "    results_depths.append(np.mean(roc_aucs))"
   ]
  },
  {
   "cell_type": "code",
   "execution_count": null,
   "metadata": {
    "colab": {
     "base_uri": "https://localhost:8080/",
     "height": 295
    },
    "id": "4k2oAj_yR6yB",
    "outputId": "9844a4d0-9325-4a54-e3a8-4d3743099210"
   },
   "outputs": [
    {
     "data": {
      "image/png": "[encoded data removed]",
      "text/plain": [
       "<Figure size 432x288 with 1 Axes>"
      ]
     },
     "metadata": {
      "needs_background": "light",
      "tags": []
     },
     "output_type": "display_data"
    }
   ],
   "source": [
    "import matplotlib.pyplot as plt\n",
    "plt.plot(max_depths,results_depths)\n",
    "plt.title('Graph, which shows how the depth of a decision tree affects performance')\n",
    "plt.xlabel('Depth')\n",
    "plt.ylabel('Cross validation roc_auc score')\n",
    "plt.show()"
   ]
  },
  {
   "cell_type": "code",
   "execution_count": null,
   "metadata": {
    "colab": {
     "base_uri": "https://localhost:8080/"
    },
    "id": "3fT_Qt9YR8EB",
    "outputId": "2705b503-6b4a-4b80-da14-4f589c78b50a"
   },
   "outputs": [
    {
     "name": "stdout",
     "output_type": "stream",
     "text": [
      "0 0.7199250076039736\n",
      "1 0.7174683663038726\n",
      "2 0.7125183694574023\n",
      "3 0.7241185530095002\n",
      "4 0.7247967426223458\n",
      "[0.7199250076039736, 0.7174683663038726, 0.7125183694574023, 0.7241185530095002, 0.7247967426223458]\n",
      "0 0.719710353168705\n",
      "1 0.7174091678311263\n",
      "2 0.712284020701955\n",
      "3 0.7238727546328859\n",
      "4 0.7251942873962374\n",
      "[0.719710353168705, 0.7174091678311263, 0.712284020701955, 0.7238727546328859, 0.7251942873962374]\n",
      "0 0.7203363933349021\n",
      "1 0.7169971284141967\n",
      "2 0.7122884000413321\n",
      "3 0.7239313377371284\n",
      "4 0.7248262248725882\n",
      "[0.7203363933349021, 0.7169971284141967, 0.7122884000413321, 0.7239313377371284, 0.7248262248725882]\n",
      "0 0.7201020869320693\n",
      "1 0.7167489665490725\n",
      "2 0.7120387404484994\n",
      "3 0.7235072923879331\n",
      "4 0.724623881345242\n",
      "[0.7201020869320693, 0.7167489665490725, 0.7120387404484994, 0.7235072923879331, 0.724623881345242]\n",
      "0 0.7195123342190288\n",
      "1 0.716599094285664\n",
      "2 0.711745798296135\n",
      "3 0.7234138996042078\n",
      "4 0.7245357564491939\n",
      "[0.7195123342190288, 0.716599094285664, 0.711745798296135, 0.7234138996042078, 0.7245357564491939]\n",
      "0 0.7194507635537242\n",
      "1 0.7161322269517826\n",
      "2 0.7117110491516476\n",
      "3 0.7232909395410368\n",
      "4 0.723940267431295\n",
      "[0.7194507635537242, 0.7161322269517826, 0.7117110491516476, 0.7232909395410368, 0.723940267431295]\n"
     ]
    }
   ],
   "source": [
    "results_samples_split = []\n",
    "from sklearn.tree import DecisionTreeClassifier\n",
    "from sklearn.metrics import roc_auc_score\n",
    "from sklearn.model_selection import KFold\n",
    "min_samples_splits = np.linspace(0.01, 0.02, 6, endpoint=True)\n",
    "for split in min_samples_splits:\n",
    "    clf = DecisionTreeClassifier(max_depth = 8, min_samples_split = split)\n",
    "    kf = KFold(n_splits=5)\n",
    "    kf.get_n_splits(X)\n",
    "    roc_aucs = []\n",
    "    for i, (train_index, test_index) in enumerate(kf.split(X)):\n",
    "        X_train, X_test = X.loc[train_index], X.loc[test_index]\n",
    "        y_train, y_test = Y.loc[train_index], Y.loc[test_index]\n",
    "        clf.fit(X_train, y_train)\n",
    "        predict = clf.predict_proba(X_test)[:,1]\n",
    "        roc_auc = roc_auc_score(y_test, predict)\n",
    "        print(i, roc_auc)\n",
    "        roc_aucs.append(roc_auc)\n",
    "    print(roc_aucs)\n",
    "    results_samples_split.append(np.mean(roc_aucs))"
   ]
  },
  {
   "cell_type": "code",
   "execution_count": null,
   "metadata": {
    "colab": {
     "base_uri": "https://localhost:8080/",
     "height": 296
    },
    "id": "7yS4cYIgaR9w",
    "outputId": "f745b3bb-b869-46c7-d864-a5014a1b2cd3"
   },
   "outputs": [
    {
     "data": {
      "image/png": "[encoded data removed]",
      "text/plain": [
       "<Figure size 432x288 with 1 Axes>"
      ]
     },
     "metadata": {
      "needs_background": "light",
      "tags": []
     },
     "output_type": "display_data"
    }
   ],
   "source": [
    "plt.plot(min_samples_splits,results_samples_split)\n",
    "plt.title('Graph, which shows how the min_samples_splits of the decision tree  affects performance')\n",
    "plt.xlabel('min_samples_splits')\n",
    "plt.ylabel('Cross validation roc_auc score')\n",
    "plt.show()"
   ]
  },
  {
   "cell_type": "code",
   "execution_count": null,
   "metadata": {
    "id": "1Eg8yu95TzSa"
   },
   "outputs": [],
   "source": [
    "min_samples_leafs = np.linspace(2, 7, 5, dtype = int, endpoint=True)"
   ]
  },
  {
   "cell_type": "code",
   "execution_count": null,
   "metadata": {
    "id": "PXiLxQ1cT0Bu"
   },
   "outputs": [],
   "source": [
    "min_samples_leafs = [0, 5, 7, 15, 25, 30, 60]\n"
   ]
  },
  {
   "cell_type": "code",
   "execution_count": null,
   "metadata": {
    "colab": {
     "base_uri": "https://localhost:8080/"
    },
    "id": "1l7vdI79VQjU",
    "outputId": "43ff5b63-6112-48d1-e532-fdb81f8bc3ab"
   },
   "outputs": [
    {
     "data": {
      "text/plain": [
       "array([  0,  11,  22,  33,  44,  55,  66,  77,  88, 100])"
      ]
     },
     "execution_count": 28,
     "metadata": {
      "tags": []
     },
     "output_type": "execute_result"
    }
   ],
   "source": [
    "min_samples_leafs"
   ]
  },
  {
   "cell_type": "code",
   "execution_count": 21,
   "metadata": {
    "colab": {
     "base_uri": "https://localhost:8080/"
    },
    "id": "ov_9K0f0N_zq",
    "outputId": "d47c1e41-069a-45c4-bbb9-e3aa86e308ac"
   },
   "outputs": [
    {
     "name": "stdout",
     "output_type": "stream",
     "text": [
      "0 0.7193913126753935\n",
      "1 0.7173175708062787\n",
      "2 0.7135490662248064\n",
      "3 0.7249721475117552\n",
      "4 0.72571621273006\n",
      "[0.7193913126753935, 0.7173175708062787, 0.7135490662248064, 0.7249721475117552, 0.72571621273006]\n",
      "0 0.7192917311091471\n",
      "1 0.7175774455518982\n",
      "2 0.7149454919289752\n",
      "3 0.72443079988085\n",
      "4 0.725928329428983\n",
      "[0.7192917311091471, 0.7175774455518982, 0.7149454919289752, 0.72443079988085, 0.725928329428983]\n",
      "0 0.7199794029159088\n",
      "1 0.7184617157707407\n",
      "2 0.714690165268783\n",
      "3 0.7235427054447426\n",
      "4 0.7246782404307397\n",
      "[0.7199794029159088, 0.7184617157707407, 0.714690165268783, 0.7235427054447426, 0.7246782404307397]\n",
      "0 0.7205027194965883\n",
      "1 0.7191346977494324\n",
      "2 0.7146749076432979\n",
      "3 0.7234351789499877\n",
      "4 0.7245911353438995\n",
      "[0.7205027194965883, 0.7191346977494324, 0.7146749076432979, 0.7234351789499877, 0.7245911353438995]\n",
      "0 0.7194726698125118\n",
      "1 0.718717226928371\n",
      "2 0.713626844285435\n",
      "3 0.7234082436131839\n",
      "4 0.72393243081231\n",
      "[0.7194726698125118, 0.718717226928371, 0.713626844285435, 0.7234082436131839, 0.72393243081231]\n",
      "0 0.7200339058312435\n",
      "1 0.7182138657148979\n",
      "2 0.7125742898432049\n",
      "3 0.7232571933812335\n",
      "4 0.7226691132251201\n",
      "[0.7200339058312435, 0.7182138657148979, 0.7125742898432049, 0.7232571933812335, 0.7226691132251201]\n"
     ]
    }
   ],
   "source": [
    "results_samples_leaf = []\n",
    "from sklearn.tree import DecisionTreeClassifier\n",
    "from sklearn.metrics import roc_auc_score\n",
    "from sklearn.model_selection import KFold\n",
    "min_samples_leafs = [10, 100, 500, 1000, 1500, 2000]\n",
    "for min_leaf in min_samples_leafs:\n",
    "    clf = DecisionTreeClassifier(max_depth = 8, min_samples_split = 0.012, min_samples_leaf = min_leaf)\n",
    "    kf = KFold(n_splits=5)\n",
    "    kf.get_n_splits(X)\n",
    "    roc_aucs = []\n",
    "    for i, (train_index, test_index) in enumerate(kf.split(X)):\n",
    "        X_train, X_test = X.loc[train_index], X.loc[test_index]\n",
    "        y_train, y_test = Y.loc[train_index], Y.loc[test_index]\n",
    "        clf.fit(X_train, y_train)\n",
    "        predict = clf.predict_proba(X_test)[:,1]\n",
    "        roc_auc = roc_auc_score(y_test, predict)\n",
    "        print(i, roc_auc)\n",
    "        roc_aucs.append(roc_auc)\n",
    "    print(roc_aucs)\n",
    "    results_samples_leaf.append(np.mean(roc_aucs))"
   ]
  },
  {
   "cell_type": "code",
   "execution_count": null,
   "metadata": {
    "colab": {
     "base_uri": "https://localhost:8080/",
     "height": 296
    },
    "id": "H_xIY6Ac3WhM",
    "outputId": "be45e87f-0f7d-41a1-d652-7d3584e5af96"
   },
   "outputs": [
    {
     "data": {
      "image/png": "[encoded data removed]",
      "text/plain": [
       "<Figure size 432x288 with 1 Axes>"
      ]
     },
     "metadata": {
      "needs_background": "light",
      "tags": []
     },
     "output_type": "display_data"
    }
   ],
   "source": [
    "import matplotlib.pyplot as plt\n",
    "plt.plot(min_samples_leafs,results_samples_leaf)\n",
    "plt.title('Graph, which shows how the min_samples_split_leaf of a decision tree affects performance')\n",
    "plt.xlabel('min_samples_split_leaf')\n",
    "plt.ylabel('Cross validation roc_auc score')\n",
    "plt.show()"
   ]
  },
  {
   "cell_type": "markdown",
   "metadata": {},
   "source": [
    "##### The best result is achieved with parameters of depth = 8, min_samples_split = 0.012 and min_samples_split_leaf = 125.\n"
   ]
  },
  {
   "cell_type": "markdown",
   "metadata": {
    "id": "NN7imWGnYVYH"
   },
   "source": [
    "# Gridsearch and RandomSearch decision tree"
   ]
  },
  {
   "cell_type": "code",
   "execution_count": 23,
   "metadata": {
    "id": "MZY966wIYS7Z"
   },
   "outputs": [],
   "source": [
    "tree_param = {'max_depth':[4, 6, 10],\n",
    "              'min_samples_split': np.linspace(0.01, 0.04, 4, endpoint=True),\n",
    "              'min_samples_leaf': [20, 50, 100, 200, 400]\n",
    "              }\n"
   ]
  },
  {
   "cell_type": "code",
   "execution_count": 24,
   "metadata": {
    "id": "rEFh7yA9bBvC"
   },
   "outputs": [],
   "source": [
    "from sklearn.model_selection import StratifiedKFold\n",
    "from xgboost import XGBClassifier\n",
    "from sklearn.model_selection import RandomizedSearchCV, GridSearchCV"
   ]
  },
  {
   "cell_type": "code",
   "execution_count": 25,
   "metadata": {
    "id": "vsz_DvTybGkc"
   },
   "outputs": [],
   "source": [
    "skf = StratifiedKFold(n_splits=5, shuffle = True, random_state = 1001)"
   ]
  },
  {
   "cell_type": "code",
   "execution_count": 26,
   "metadata": {
    "id": "bAodBU-jbzh9"
   },
   "outputs": [],
   "source": [
    "from sklearn.tree import DecisionTreeClassifier\n",
    "grid_tree = DecisionTreeClassifier()"
   ]
  },
  {
   "cell_type": "code",
   "execution_count": 42,
   "metadata": {
    "id": "GcwMqgVubi-b"
   },
   "outputs": [],
   "source": [
    "grid_search_tree = GridSearchCV(grid_tree, param_grid=tree_param,  scoring='roc_auc', n_jobs=-1, cv=skf.split(X,Y), verbose = 10)"
   ]
  },
  {
   "cell_type": "code",
   "execution_count": 43,
   "metadata": {
    "colab": {
     "base_uri": "https://localhost:8080/"
    },
    "id": "tEDbQlN_cCoD",
    "outputId": "11f2f9f2-1483-4252-efb8-8fca8ab7cda5"
   },
   "outputs": [
    {
     "name": "stdout",
     "output_type": "stream",
     "text": [
      "Fitting 5 folds for each of 60 candidates, totalling 300 fits\n"
     ]
    },
    {
     "name": "stderr",
     "output_type": "stream",
     "text": [
      "[Parallel(n_jobs=-1)]: Using backend LokyBackend with 2 concurrent workers.\n",
      "[Parallel(n_jobs=-1)]: Done   1 tasks      | elapsed:    5.9s\n",
      "[Parallel(n_jobs=-1)]: Done   4 tasks      | elapsed:   10.8s\n",
      "[Parallel(n_jobs=-1)]: Done   9 tasks      | elapsed:   24.6s\n",
      "[Parallel(n_jobs=-1)]: Done  14 tasks      | elapsed:   33.9s\n",
      "[Parallel(n_jobs=-1)]: Done  21 tasks      | elapsed:   52.0s\n",
      "[Parallel(n_jobs=-1)]: Done  28 tasks      | elapsed:  1.1min\n",
      "[Parallel(n_jobs=-1)]: Done  37 tasks      | elapsed:  1.5min\n",
      "[Parallel(n_jobs=-1)]: Done  46 tasks      | elapsed:  1.8min\n",
      "[Parallel(n_jobs=-1)]: Done  57 tasks      | elapsed:  2.2min\n",
      "[Parallel(n_jobs=-1)]: Done  68 tasks      | elapsed:  2.6min\n",
      "[Parallel(n_jobs=-1)]: Done  81 tasks      | elapsed:  3.1min\n",
      "[Parallel(n_jobs=-1)]: Done  94 tasks      | elapsed:  3.6min\n",
      "[Parallel(n_jobs=-1)]: Done 109 tasks      | elapsed:  4.4min\n",
      "[Parallel(n_jobs=-1)]: Done 124 tasks      | elapsed:  5.1min\n",
      "[Parallel(n_jobs=-1)]: Done 141 tasks      | elapsed:  6.1min\n",
      "[Parallel(n_jobs=-1)]: Done 158 tasks      | elapsed:  6.9min\n",
      "[Parallel(n_jobs=-1)]: Done 177 tasks      | elapsed:  8.0min\n",
      "[Parallel(n_jobs=-1)]: Done 196 tasks      | elapsed:  8.9min\n",
      "[Parallel(n_jobs=-1)]: Done 217 tasks      | elapsed: 10.5min\n",
      "[Parallel(n_jobs=-1)]: Done 238 tasks      | elapsed: 12.0min\n",
      "[Parallel(n_jobs=-1)]: Done 261 tasks      | elapsed: 13.7min\n",
      "[Parallel(n_jobs=-1)]: Done 284 tasks      | elapsed: 15.4min\n",
      "[Parallel(n_jobs=-1)]: Done 300 out of 300 | elapsed: 16.5min finished\n"
     ]
    },
    {
     "data": {
      "text/plain": [
       "GridSearchCV(cv=<generator object _BaseKFold.split at 0x7fb04af830a0>,\n",
       "             error_score=nan,\n",
       "             estimator=DecisionTreeClassifier(ccp_alpha=0.0, class_weight=None,\n",
       "                                              criterion='gini', max_depth=None,\n",
       "                                              max_features=None,\n",
       "                                              max_leaf_nodes=None,\n",
       "                                              min_impurity_decrease=0.0,\n",
       "                                              min_impurity_split=None,\n",
       "                                              min_samples_leaf=1,\n",
       "                                              min_samples_split=2,\n",
       "                                              min_weight_fraction_leaf=0.0,\n",
       "                                              presort='deprecated',\n",
       "                                              random_state=None,\n",
       "                                              splitter='best'),\n",
       "             iid='deprecated', n_jobs=-1,\n",
       "             param_grid={'max_depth': [4, 6, 10],\n",
       "                         'min_samples_leaf': [20, 50, 100, 200, 400],\n",
       "                         'min_samples_split': array([0.01, 0.02, 0.03, 0.04])},\n",
       "             pre_dispatch='2*n_jobs', refit=True, return_train_score=False,\n",
       "             scoring='roc_auc', verbose=10)"
      ]
     },
     "execution_count": 43,
     "metadata": {
      "tags": []
     },
     "output_type": "execute_result"
    }
   ],
   "source": [
    "grid_search_tree.fit(X, Y)"
   ]
  },
  {
   "cell_type": "code",
   "execution_count": 44,
   "metadata": {
    "colab": {
     "base_uri": "https://localhost:8080/"
    },
    "id": "pLqf0OGGdBTc",
    "outputId": "3f268cda-c2a1-4047-b184-40a18aaf2932"
   },
   "outputs": [
    {
     "name": "stdout",
     "output_type": "stream",
     "text": [
      "DecisionTreeClassifier(ccp_alpha=0.0, class_weight=None, criterion='gini',\n",
      "                       max_depth=10, max_features=None, max_leaf_nodes=None,\n",
      "                       min_impurity_decrease=0.0, min_impurity_split=None,\n",
      "                       min_samples_leaf=400, min_samples_split=0.02,\n",
      "                       min_weight_fraction_leaf=0.0, presort='deprecated',\n",
      "                       random_state=None, splitter='best')\n"
     ]
    }
   ],
   "source": [
    "print(grid_search_tree.best_estimator_)"
   ]
  },
  {
   "cell_type": "code",
   "execution_count": 45,
   "metadata": {
    "colab": {
     "base_uri": "https://localhost:8080/"
    },
    "id": "JsjslcAhnY_3",
    "outputId": "561670df-3a1e-47d8-a9d0-504d2799689b"
   },
   "outputs": [
    {
     "name": "stdout",
     "output_type": "stream",
     "text": [
      "0.7215380240068965\n"
     ]
    }
   ],
   "source": [
    "print(grid_search_tree.best_score_)"
   ]
  },
  {
   "cell_type": "code",
   "execution_count": 27,
   "metadata": {
    "id": "R8e99uOi71Af"
   },
   "outputs": [],
   "source": [
    "params = {\n",
    "        'max_depth':[4, 6 ,8, 10, 12, 15, 20, 30, 50],\n",
    "        'min_samples_split': np.linspace(0.01, 0.04, 24, endpoint=True),\n",
    "        'min_samples_leaf': [20, 50, 100, 150, 200, 400,  1000, 2500]\n",
    "}"
   ]
  },
  {
   "cell_type": "code",
   "execution_count": 28,
   "metadata": {
    "id": "2F2Lrkjg8h8y"
   },
   "outputs": [],
   "source": [
    "random_tree = DecisionTreeClassifier()\n",
    "skf = StratifiedKFold(n_splits=5, shuffle = True, random_state = 1001)\n",
    "random_search_tree = RandomizedSearchCV(random_tree, param_distributions=params, n_iter=50, scoring='roc_auc', n_jobs=3, cv=skf.split(X,Y), verbose=3, random_state=1001 )"
   ]
  },
  {
   "cell_type": "code",
   "execution_count": 29,
   "metadata": {
    "colab": {
     "base_uri": "https://localhost:8080/"
    },
    "id": "vPZP3ghs9bJM",
    "outputId": "5af72284-aa75-4849-b773-7a0248c2151c"
   },
   "outputs": [
    {
     "name": "stdout",
     "output_type": "stream",
     "text": [
      "Fitting 5 folds for each of 50 candidates, totalling 250 fits\n"
     ]
    },
    {
     "name": "stderr",
     "output_type": "stream",
     "text": [
      "[Parallel(n_jobs=3)]: Using backend LokyBackend with 3 concurrent workers.\n",
      "[Parallel(n_jobs=3)]: Done  26 tasks      | elapsed:   51.5s\n",
      "[Parallel(n_jobs=3)]: Done 122 tasks      | elapsed:  4.0min\n",
      "[Parallel(n_jobs=3)]: Done 250 out of 250 | elapsed:  7.9min finished\n"
     ]
    },
    {
     "data": {
      "text/plain": [
       "RandomizedSearchCV(cv=<generator object _BaseKFold.split at 0x7ff2befcb8d0>,\n",
       "                   error_score=nan,\n",
       "                   estimator=DecisionTreeClassifier(ccp_alpha=0.0,\n",
       "                                                    class_weight=None,\n",
       "                                                    criterion='gini',\n",
       "                                                    max_depth=None,\n",
       "                                                    max_features=None,\n",
       "                                                    max_leaf_nodes=None,\n",
       "                                                    min_impurity_decrease=0.0,\n",
       "                                                    min_impurity_split=None,\n",
       "                                                    min_samples_leaf=1,\n",
       "                                                    min_samples_split=2,\n",
       "                                                    min_weight_fraction_leaf=0.0,\n",
       "                                                    presort='...\n",
       "                                        'min_samples_split': array([0.01      , 0.01130435, 0.0126087 , 0.01391304, 0.01521739,\n",
       "       0.01652174, 0.01782609, 0.01913043, 0.02043478, 0.02173913,\n",
       "       0.02304348, 0.02434783, 0.02565217, 0.02695652, 0.02826087,\n",
       "       0.02956522, 0.03086957, 0.03217391, 0.03347826, 0.03478261,\n",
       "       0.03608696, 0.0373913 , 0.03869565, 0.04      ])},\n",
       "                   pre_dispatch='2*n_jobs', random_state=1001, refit=True,\n",
       "                   return_train_score=False, scoring='roc_auc', verbose=3)"
      ]
     },
     "execution_count": 29,
     "metadata": {},
     "output_type": "execute_result"
    }
   ],
   "source": [
    "random_search_tree.fit(X, Y)"
   ]
  },
  {
   "cell_type": "code",
   "execution_count": 30,
   "metadata": {
    "colab": {
     "base_uri": "https://localhost:8080/"
    },
    "id": "dyHUiv_f2-qL",
    "outputId": "06502b6c-5672-4bec-8610-704dabd25680"
   },
   "outputs": [
    {
     "name": "stdout",
     "output_type": "stream",
     "text": [
      "Best parameters\n",
      "DecisionTreeClassifier(ccp_alpha=0.0, class_weight=None, criterion='gini',\n",
      "                       max_depth=12, max_features=None, max_leaf_nodes=None,\n",
      "                       min_impurity_decrease=0.0, min_impurity_split=None,\n",
      "                       min_samples_leaf=1000,\n",
      "                       min_samples_split=0.015217391304347825,\n",
      "                       min_weight_fraction_leaf=0.0, presort='deprecated',\n",
      "                       random_state=None, splitter='best')\n"
     ]
    }
   ],
   "source": [
    "print('Best parameters')\n",
    "print(random_search_tree.best_estimator_)"
   ]
  },
  {
   "cell_type": "code",
   "execution_count": 49,
   "metadata": {
    "colab": {
     "base_uri": "https://localhost:8080/"
    },
    "id": "RPHOJo9Fq92b",
    "outputId": "254fc70e-e636-45dd-df5d-6d18bc711124"
   },
   "outputs": [
    {
     "name": "stdout",
     "output_type": "stream",
     "text": [
      "0.7231125157513759\n"
     ]
    }
   ],
   "source": [
    "print(random_search_tree.best_score_)"
   ]
  },
  {
   "cell_type": "markdown",
   "metadata": {
    "id": "rufvhWZ53tCk"
   },
   "source": [
    "# Random forest parameters"
   ]
  },
  {
   "cell_type": "code",
   "execution_count": 51,
   "metadata": {
    "colab": {
     "base_uri": "https://localhost:8080/"
    },
    "id": "pa2bLYWV4GvS",
    "outputId": "77c36cac-ec76-41c0-dd8a-afa66b5ad82c"
   },
   "outputs": [
    {
     "name": "stdout",
     "output_type": "stream",
     "text": [
      "0 0.7200473311487453\n",
      "1 0.7191285852423447\n",
      "2 0.7145226080903259\n",
      "3 0.7154140240037824\n",
      "4 0.7142662777244535\n",
      "[0.7200473311487453, 0.7191285852423447, 0.7145226080903259, 0.7154140240037824, 0.7142662777244535]\n",
      "0 0.7235503867266185\n",
      "1 0.7245401642267085\n",
      "2 0.7180357162672241\n",
      "3 0.7196480999585315\n",
      "4 0.7165633726511009\n",
      "[0.7235503867266185, 0.7245401642267085, 0.7180357162672241, 0.7196480999585315, 0.7165633726511009]\n",
      "0 0.7254883508559494\n",
      "1 0.7254849167364006\n",
      "2 0.720891755033186\n",
      "3 0.7231182608280582\n",
      "4 0.7204345485148411\n",
      "[0.7254883508559494, 0.7254849167364006, 0.720891755033186, 0.7231182608280582, 0.7204345485148411]\n"
     ]
    }
   ],
   "source": [
    "from sklearn.ensemble import RandomForestClassifier\n",
    "from sklearn.metrics import roc_auc_score\n",
    "from sklearn.model_selection import KFold\n",
    "results_samples_num_trees = []\n",
    "num_trees = [150, 250, 300]\n",
    "for trees in num_trees:\n",
    "    clf = RandomForestClassifier(n_estimators = trees)\n",
    "    kf = KFold(n_splits=5)\n",
    "    kf.get_n_splits(X)\n",
    "    roc_aucs = []\n",
    "    for i, (train_index, test_index) in enumerate(kf.split(X)):\n",
    "        X_train, X_test = X.loc[train_index], X.loc[test_index]\n",
    "        y_train, y_test = Y.loc[train_index], Y.loc[test_index]\n",
    "        clf.fit(X_train, y_train)\n",
    "        predict = clf.predict_proba(X_test)[:,1]\n",
    "        roc_auc = roc_auc_score(y_test, predict)\n",
    "        print(i, roc_auc)\n",
    "        roc_aucs.append(roc_auc)\n",
    "    print(roc_aucs)\n",
    "    results_samples_num_trees.append(np.mean(roc_aucs))\n"
   ]
  },
  {
   "cell_type": "code",
   "execution_count": 52,
   "metadata": {
    "colab": {
     "base_uri": "https://localhost:8080/",
     "height": 296
    },
    "id": "5T4wetmd4ktQ",
    "outputId": "d5d0bfa9-5d2d-4427-932f-246abaea4b60"
   },
   "outputs": [
    {
     "data": {
      "image/png": "[encoded data removed]",
      "text/plain": [
       "<Figure size 432x288 with 1 Axes>"
      ]
     },
     "metadata": {
      "needs_background": "light",
      "tags": []
     },
     "output_type": "display_data"
    }
   ],
   "source": [
    "import matplotlib.pyplot as plt\n",
    "plt.plot(num_trees, results_samples_num_trees)\n",
    "plt.title('Graph, which shows how the number of estimators in a  random forest affects performance')\n",
    "plt.xlabel('num_estimators')\n",
    "plt.ylabel('Cross validation roc_auc score')\n",
    "plt.show()"
   ]
  },
  {
   "cell_type": "code",
   "execution_count": 55,
   "metadata": {
    "colab": {
     "base_uri": "https://localhost:8080/"
    },
    "id": "mxG--2MqAV0j",
    "outputId": "ad298fce-6f09-4964-c8b8-f23bf2d16431"
   },
   "outputs": [
    {
     "name": "stdout",
     "output_type": "stream",
     "text": [
      "0 0.7184909484020179\n",
      "1 0.723166318596927\n",
      "2 0.7175175689375775\n",
      "3 0.7217790908127816\n",
      "4 0.7241876326420994\n",
      "[0.7184909484020179, 0.723166318596927, 0.7175175689375775, 0.7217790908127816, 0.7241876326420994]\n",
      "0 0.73297049586516\n",
      "1 0.7363728892288435\n",
      "2 0.7291855160954078\n",
      "3 0.7341050869524917\n",
      "4 0.7349297224160343\n",
      "[0.73297049586516, 0.7363728892288435, 0.7291855160954078, 0.7341050869524917, 0.7349297224160343]\n",
      "0 0.7390959341696748\n",
      "1 0.7418926869372939\n",
      "2 0.7345354582675527\n",
      "3 0.7385110126478094\n",
      "4 0.7396998980682614\n",
      "[0.7390959341696748, 0.7418926869372939, 0.7345354582675527, 0.7385110126478094, 0.7396998980682614]\n",
      "0 0.7386952980183757\n",
      "1 0.7415331307708755\n",
      "2 0.734362679227967\n",
      "3 0.7383111998595007\n",
      "4 0.7387473347901128\n",
      "[0.7386952980183757, 0.7415331307708755, 0.734362679227967, 0.7383111998595007, 0.7387473347901128]\n",
      "0 0.7350187732064665\n",
      "1 0.7372369249414649\n",
      "2 0.730316698214938\n",
      "3 0.7340834692140864\n",
      "4 0.7325685422447936\n",
      "[0.7350187732064665, 0.7372369249414649, 0.730316698214938, 0.7340834692140864, 0.7325685422447936]\n"
     ]
    }
   ],
   "source": [
    "from sklearn.ensemble import RandomForestClassifier\n",
    "from sklearn.metrics import roc_auc_score\n",
    "from sklearn.model_selection import KFold\n",
    "results_samples_max_depth= []\n",
    "max_depths = np.linspace(4, 20, 5, dtype = int,  endpoint=True)\n",
    "for depth in max_depths:\n",
    "    clf = RandomForestClassifier(n_estimators = 300, max_depth=depth)\n",
    "    kf = KFold(n_splits=5)\n",
    "    kf.get_n_splits(X)\n",
    "    roc_aucs = []\n",
    "    for i, (train_index, test_index) in enumerate(kf.split(X)):\n",
    "        X_train, X_test = X.loc[train_index], X.loc[test_index]\n",
    "        y_train, y_test = Y.loc[train_index], Y.loc[test_index]\n",
    "        clf.fit(X_train, y_train)\n",
    "        predict = clf.predict_proba(X_test)[:,1]\n",
    "        roc_auc = roc_auc_score(y_test, predict)\n",
    "        print(i, roc_auc)\n",
    "        roc_aucs.append(roc_auc)\n",
    "    print(roc_aucs)\n",
    "    results_samples_max_depth.append(np.mean(roc_aucs))\n"
   ]
  },
  {
   "cell_type": "code",
   "execution_count": 56,
   "metadata": {
    "colab": {
     "base_uri": "https://localhost:8080/"
    },
    "id": "m0OMmBqkDc0F",
    "outputId": "ed0ce649-5052-46a1-e744-1aaa6baa38c3"
   },
   "outputs": [
    {
     "name": "stdout",
     "output_type": "stream",
     "text": [
      "[0.7241876326420994, 0.7349297224160343, 0.7396998980682614, 0.7387473347901128, 0.7325685422447936]\n"
     ]
    }
   ],
   "source": [
    "print(results_samples_max_depth)"
   ]
  },
  {
   "cell_type": "code",
   "execution_count": 57,
   "metadata": {
    "colab": {
     "base_uri": "https://localhost:8080/",
     "height": 295
    },
    "id": "0YWN-5_C4xvq",
    "outputId": "07d5ec4c-3069-4b5b-b868-c4439d00e18c"
   },
   "outputs": [
    {
     "data": {
      "image/png": "[encoded data removed]",
      "text/plain": [
       "<Figure size 432x288 with 1 Axes>"
      ]
     },
     "metadata": {
      "needs_background": "light",
      "tags": []
     },
     "output_type": "display_data"
    }
   ],
   "source": [
    "import matplotlib.pyplot as plt\n",
    "plt.plot(max_depths, results_samples_max_depth)\n",
    "plt.title('Graph, which shows how the depth of estimators in a  random forest affects performance')\n",
    "plt.xlabel('depth')\n",
    "plt.ylabel('Cross validation roc_auc score')\n",
    "plt.show()"
   ]
  },
  {
   "cell_type": "code",
   "execution_count": 58,
   "metadata": {
    "id": "bjxrKni8HxhR"
   },
   "outputs": [],
   "source": [
    "leaves = np.linspace(4, 20, 5, dtype = int,  endpoint=True) "
   ]
  },
  {
   "cell_type": "code",
   "execution_count": 59,
   "metadata": {
    "colab": {
     "base_uri": "https://localhost:8080/"
    },
    "id": "lkuIQBMkH2nS",
    "outputId": "ccdaf2be-4246-4910-988a-20e0efd6663b"
   },
   "outputs": [
    {
     "data": {
      "text/plain": [
       "array([ 4,  8, 12, 16, 20])"
      ]
     },
     "execution_count": 59,
     "metadata": {
      "tags": []
     },
     "output_type": "execute_result"
    }
   ],
   "source": [
    "leaves"
   ]
  },
  {
   "cell_type": "code",
   "execution_count": 60,
   "metadata": {
    "colab": {
     "base_uri": "https://localhost:8080/"
    },
    "id": "CQQ_xNfmDcyq",
    "outputId": "7bf757ee-6329-4df1-8635-43c826017939"
   },
   "outputs": [
    {
     "name": "stdout",
     "output_type": "stream",
     "text": [
      "0 0.739612391033624\n",
      "1 0.742418623839526\n",
      "2 0.7351418397961953\n",
      "3 0.7396285784639663\n",
      "4 0.7397717114414986\n",
      "[0.739612391033624, 0.742418623839526, 0.7351418397961953, 0.7396285784639663, 0.7397717114414986]\n",
      "0 0.739797045641058\n",
      "1 0.7426115623647549\n",
      "2 0.7353428069529875\n",
      "3 0.7401221554407063\n",
      "4 0.7410643630087976\n",
      "[0.739797045641058, 0.7426115623647549, 0.7353428069529875, 0.7401221554407063, 0.7410643630087976]\n",
      "0 0.7406774279631108\n",
      "1 0.7436640249487559\n",
      "2 0.7357643126034242\n",
      "3 0.7409949756573058\n",
      "4 0.7412283316942613\n",
      "[0.7406774279631108, 0.7436640249487559, 0.7357643126034242, 0.7409949756573058, 0.7412283316942613]\n",
      "0 0.7416505608289192\n",
      "1 0.7439235060133831\n",
      "2 0.736504990325509\n",
      "3 0.7405670361072632\n",
      "4 0.7412615767511737\n",
      "[0.7416505608289192, 0.7439235060133831, 0.736504990325509, 0.7405670361072632, 0.7412615767511737]\n",
      "0 0.7406615743955558\n",
      "1 0.7440009078771428\n",
      "2 0.7364524737275823\n",
      "3 0.7413945582634305\n",
      "4 0.7418245475974465\n",
      "[0.7406615743955558, 0.7440009078771428, 0.7364524737275823, 0.7413945582634305, 0.7418245475974465]\n"
     ]
    }
   ],
   "source": [
    "from sklearn.ensemble import RandomForestClassifier\n",
    "from sklearn.metrics import roc_auc_score\n",
    "from sklearn.model_selection import KFold\n",
    "results_samples_max_leaf= []\n",
    "leaves = np.linspace(4, 20, 5, dtype = int,  endpoint=True)\n",
    "for l in leaves:\n",
    "    clf = RandomForestClassifier(n_estimators = 300, max_depth=12, min_samples_leaf = l)\n",
    "    kf = KFold(n_splits=5)\n",
    "    kf.get_n_splits(X)\n",
    "    roc_aucs = []\n",
    "    for i, (train_index, test_index) in enumerate(kf.split(X)):\n",
    "        X_train, X_test = X.loc[train_index], X.loc[test_index]\n",
    "        y_train, y_test = Y.loc[train_index], Y.loc[test_index]\n",
    "        clf.fit(X_train, y_train)\n",
    "        predict = clf.predict_proba(X_test)[:,1]\n",
    "        roc_auc = roc_auc_score(y_test, predict)\n",
    "        print(i, roc_auc)\n",
    "        roc_aucs.append(roc_auc)\n",
    "    print(roc_aucs)\n",
    "    results_samples_max_leaf.append(np.mean(roc_aucs))\n"
   ]
  },
  {
   "cell_type": "code",
   "execution_count": 61,
   "metadata": {
    "colab": {
     "base_uri": "https://localhost:8080/",
     "height": 296
    },
    "id": "GArfIuC__G5v",
    "outputId": "72bf6efc-d674-4f70-e07f-4c3b1f428677"
   },
   "outputs": [
    {
     "data": {
      "image/png": "[encoded data removed]",
      "text/plain": [
       "<Figure size 432x288 with 1 Axes>"
      ]
     },
     "metadata": {
      "needs_background": "light",
      "tags": []
     },
     "output_type": "display_data"
    }
   ],
   "source": [
    "import matplotlib.pyplot as plt\n",
    "plt.plot(leaves, results_samples_max_leaf)\n",
    "plt.title('Graph, which shows how the min_samples_leaf of estimators in a random forest affects performance')\n",
    "plt.xlabel('min_samples_leaf')\n",
    "plt.ylabel('Cross validation roc_auc score')\n",
    "plt.show()"
   ]
  },
  {
   "cell_type": "markdown",
   "metadata": {
    "id": "kzYDH1CD8um-"
   },
   "source": [
    "# Random forest gridsearch and randomsearch"
   ]
  },
  {
   "cell_type": "code",
   "execution_count": 24,
   "metadata": {
    "id": "o3SDczwX_hb5"
   },
   "outputs": [],
   "source": [
    "from sklearn.model_selection import GridSearchCV\n",
    "import numpy as np\n",
    "from sklearn.model_selection import StratifiedKFold\n",
    "from sklearn.ensemble import RandomForestClassifier\n",
    "num_trees = [ 350, 400]\n",
    "max_depth = [12, 13]\n",
    "min_samples_leaf = [ 21, 24]\n",
    "grid = {'n_estimators': num_trees,\n",
    "               'max_depth': max_depth,\n",
    "               'min_samples_leaf': min_samples_leaf}\n",
    "skf = StratifiedKFold(n_splits=5, shuffle = True, random_state = 1001)\n",
    "gridsearch_rf = GridSearchCV(RandomForestClassifier(n_jobs = -1), grid, cv = skf.split(X,Y),  verbose=10, scoring = 'roc_auc')"
   ]
  },
  {
   "cell_type": "code",
   "execution_count": 25,
   "metadata": {
    "colab": {
     "base_uri": "https://localhost:8080/"
    },
    "id": "71qB-j2tAMrJ",
    "outputId": "d80dea6e-993d-456e-e2ab-580329912822"
   },
   "outputs": [
    {
     "name": "stdout",
     "output_type": "stream",
     "text": [
      "Fitting 5 folds for each of 8 candidates, totalling 40 fits\n",
      "[CV] max_depth=12, min_samples_leaf=21, n_estimators=350 .............\n"
     ]
    },
    {
     "name": "stderr",
     "output_type": "stream",
     "text": [
      "[Parallel(n_jobs=1)]: Using backend SequentialBackend with 1 concurrent workers.\n"
     ]
    },
    {
     "name": "stdout",
     "output_type": "stream",
     "text": [
      "[CV]  max_depth=12, min_samples_leaf=21, n_estimators=350, score=0.739, total= 3.0min\n",
      "[CV] max_depth=12, min_samples_leaf=21, n_estimators=350 .............\n"
     ]
    },
    {
     "name": "stderr",
     "output_type": "stream",
     "text": [
      "[Parallel(n_jobs=1)]: Done   1 out of   1 | elapsed:  3.0min remaining:    0.0s\n"
     ]
    },
    {
     "name": "stdout",
     "output_type": "stream",
     "text": [
      "[CV]  max_depth=12, min_samples_leaf=21, n_estimators=350, score=0.739, total= 3.0min\n",
      "[CV] max_depth=12, min_samples_leaf=21, n_estimators=350 .............\n"
     ]
    },
    {
     "name": "stderr",
     "output_type": "stream",
     "text": [
      "[Parallel(n_jobs=1)]: Done   2 out of   2 | elapsed:  6.0min remaining:    0.0s\n"
     ]
    },
    {
     "name": "stdout",
     "output_type": "stream",
     "text": [
      "[CV]  max_depth=12, min_samples_leaf=21, n_estimators=350, score=0.742, total= 3.0min\n",
      "[CV] max_depth=12, min_samples_leaf=21, n_estimators=350 .............\n"
     ]
    },
    {
     "name": "stderr",
     "output_type": "stream",
     "text": [
      "[Parallel(n_jobs=1)]: Done   3 out of   3 | elapsed:  9.0min remaining:    0.0s\n"
     ]
    },
    {
     "name": "stdout",
     "output_type": "stream",
     "text": [
      "[CV]  max_depth=12, min_samples_leaf=21, n_estimators=350, score=0.744, total= 3.0min\n",
      "[CV] max_depth=12, min_samples_leaf=21, n_estimators=350 .............\n"
     ]
    },
    {
     "name": "stderr",
     "output_type": "stream",
     "text": [
      "[Parallel(n_jobs=1)]: Done   4 out of   4 | elapsed: 12.0min remaining:    0.0s\n"
     ]
    },
    {
     "name": "stdout",
     "output_type": "stream",
     "text": [
      "[CV]  max_depth=12, min_samples_leaf=21, n_estimators=350, score=0.742, total= 3.0min\n",
      "[CV] max_depth=12, min_samples_leaf=21, n_estimators=400 .............\n"
     ]
    },
    {
     "name": "stderr",
     "output_type": "stream",
     "text": [
      "[Parallel(n_jobs=1)]: Done   5 out of   5 | elapsed: 15.0min remaining:    0.0s\n"
     ]
    },
    {
     "name": "stdout",
     "output_type": "stream",
     "text": [
      "[CV]  max_depth=12, min_samples_leaf=21, n_estimators=400, score=0.739, total= 3.4min\n",
      "[CV] max_depth=12, min_samples_leaf=21, n_estimators=400 .............\n"
     ]
    },
    {
     "name": "stderr",
     "output_type": "stream",
     "text": [
      "[Parallel(n_jobs=1)]: Done   6 out of   6 | elapsed: 18.4min remaining:    0.0s\n"
     ]
    },
    {
     "name": "stdout",
     "output_type": "stream",
     "text": [
      "[CV]  max_depth=12, min_samples_leaf=21, n_estimators=400, score=0.739, total= 3.4min\n",
      "[CV] max_depth=12, min_samples_leaf=21, n_estimators=400 .............\n"
     ]
    },
    {
     "name": "stderr",
     "output_type": "stream",
     "text": [
      "[Parallel(n_jobs=1)]: Done   7 out of   7 | elapsed: 21.8min remaining:    0.0s\n"
     ]
    },
    {
     "name": "stdout",
     "output_type": "stream",
     "text": [
      "[CV]  max_depth=12, min_samples_leaf=21, n_estimators=400, score=0.741, total= 3.4min\n",
      "[CV] max_depth=12, min_samples_leaf=21, n_estimators=400 .............\n"
     ]
    },
    {
     "name": "stderr",
     "output_type": "stream",
     "text": [
      "[Parallel(n_jobs=1)]: Done   8 out of   8 | elapsed: 25.2min remaining:    0.0s\n"
     ]
    },
    {
     "name": "stdout",
     "output_type": "stream",
     "text": [
      "[CV]  max_depth=12, min_samples_leaf=21, n_estimators=400, score=0.744, total= 3.4min\n",
      "[CV] max_depth=12, min_samples_leaf=21, n_estimators=400 .............\n"
     ]
    },
    {
     "name": "stderr",
     "output_type": "stream",
     "text": [
      "[Parallel(n_jobs=1)]: Done   9 out of   9 | elapsed: 28.6min remaining:    0.0s\n"
     ]
    },
    {
     "name": "stdout",
     "output_type": "stream",
     "text": [
      "[CV]  max_depth=12, min_samples_leaf=21, n_estimators=400, score=0.742, total= 3.4min\n",
      "[CV] max_depth=12, min_samples_leaf=24, n_estimators=350 .............\n",
      "[CV]  max_depth=12, min_samples_leaf=24, n_estimators=350, score=0.739, total= 3.0min\n",
      "[CV] max_depth=12, min_samples_leaf=24, n_estimators=350 .............\n",
      "[CV]  max_depth=12, min_samples_leaf=24, n_estimators=350, score=0.739, total= 3.0min\n",
      "[CV] max_depth=12, min_samples_leaf=24, n_estimators=350 .............\n",
      "[CV]  max_depth=12, min_samples_leaf=24, n_estimators=350, score=0.742, total= 3.0min\n",
      "[CV] max_depth=12, min_samples_leaf=24, n_estimators=350 .............\n",
      "[CV]  max_depth=12, min_samples_leaf=24, n_estimators=350, score=0.744, total= 3.0min\n",
      "[CV] max_depth=12, min_samples_leaf=24, n_estimators=350 .............\n",
      "[CV]  max_depth=12, min_samples_leaf=24, n_estimators=350, score=0.742, total= 3.0min\n",
      "[CV] max_depth=12, min_samples_leaf=24, n_estimators=400 .............\n",
      "[CV]  max_depth=12, min_samples_leaf=24, n_estimators=400, score=0.739, total= 3.4min\n",
      "[CV] max_depth=12, min_samples_leaf=24, n_estimators=400 .............\n",
      "[CV]  max_depth=12, min_samples_leaf=24, n_estimators=400, score=0.739, total= 3.4min\n",
      "[CV] max_depth=12, min_samples_leaf=24, n_estimators=400 .............\n",
      "[CV]  max_depth=12, min_samples_leaf=24, n_estimators=400, score=0.742, total= 3.4min\n",
      "[CV] max_depth=12, min_samples_leaf=24, n_estimators=400 .............\n",
      "[CV]  max_depth=12, min_samples_leaf=24, n_estimators=400, score=0.745, total= 3.4min\n",
      "[CV] max_depth=12, min_samples_leaf=24, n_estimators=400 .............\n",
      "[CV]  max_depth=12, min_samples_leaf=24, n_estimators=400, score=0.742, total= 3.4min\n",
      "[CV] max_depth=13, min_samples_leaf=21, n_estimators=350 .............\n",
      "[CV]  max_depth=13, min_samples_leaf=21, n_estimators=350, score=0.739, total= 3.2min\n",
      "[CV] max_depth=13, min_samples_leaf=21, n_estimators=350 .............\n",
      "[CV]  max_depth=13, min_samples_leaf=21, n_estimators=350, score=0.740, total= 3.2min\n",
      "[CV] max_depth=13, min_samples_leaf=21, n_estimators=350 .............\n",
      "[CV]  max_depth=13, min_samples_leaf=21, n_estimators=350, score=0.744, total= 3.2min\n",
      "[CV] max_depth=13, min_samples_leaf=21, n_estimators=350 .............\n",
      "[CV]  max_depth=13, min_samples_leaf=21, n_estimators=350, score=0.745, total= 3.2min\n",
      "[CV] max_depth=13, min_samples_leaf=21, n_estimators=350 .............\n",
      "[CV]  max_depth=13, min_samples_leaf=21, n_estimators=350, score=0.743, total= 3.2min\n",
      "[CV] max_depth=13, min_samples_leaf=21, n_estimators=400 .............\n",
      "[CV]  max_depth=13, min_samples_leaf=21, n_estimators=400, score=0.740, total= 3.7min\n",
      "[CV] max_depth=13, min_samples_leaf=21, n_estimators=400 .............\n",
      "[CV]  max_depth=13, min_samples_leaf=21, n_estimators=400, score=0.740, total= 3.7min\n",
      "[CV] max_depth=13, min_samples_leaf=21, n_estimators=400 .............\n",
      "[CV]  max_depth=13, min_samples_leaf=21, n_estimators=400, score=0.743, total= 3.7min\n",
      "[CV] max_depth=13, min_samples_leaf=21, n_estimators=400 .............\n",
      "[CV]  max_depth=13, min_samples_leaf=21, n_estimators=400, score=0.745, total= 3.7min\n",
      "[CV] max_depth=13, min_samples_leaf=21, n_estimators=400 .............\n",
      "[CV]  max_depth=13, min_samples_leaf=21, n_estimators=400, score=0.743, total= 3.7min\n",
      "[CV] max_depth=13, min_samples_leaf=24, n_estimators=350 .............\n",
      "[CV]  max_depth=13, min_samples_leaf=24, n_estimators=350, score=0.740, total= 3.2min\n",
      "[CV] max_depth=13, min_samples_leaf=24, n_estimators=350 .............\n",
      "[CV]  max_depth=13, min_samples_leaf=24, n_estimators=350, score=0.740, total= 3.2min\n",
      "[CV] max_depth=13, min_samples_leaf=24, n_estimators=350 .............\n",
      "[CV]  max_depth=13, min_samples_leaf=24, n_estimators=350, score=0.744, total= 3.2min\n",
      "[CV] max_depth=13, min_samples_leaf=24, n_estimators=350 .............\n",
      "[CV]  max_depth=13, min_samples_leaf=24, n_estimators=350, score=0.746, total= 3.2min\n",
      "[CV] max_depth=13, min_samples_leaf=24, n_estimators=350 .............\n",
      "[CV]  max_depth=13, min_samples_leaf=24, n_estimators=350, score=0.743, total= 3.2min\n",
      "[CV] max_depth=13, min_samples_leaf=24, n_estimators=400 .............\n",
      "[CV]  max_depth=13, min_samples_leaf=24, n_estimators=400, score=0.740, total= 3.6min\n",
      "[CV] max_depth=13, min_samples_leaf=24, n_estimators=400 .............\n",
      "[CV]  max_depth=13, min_samples_leaf=24, n_estimators=400, score=0.740, total= 3.6min\n",
      "[CV] max_depth=13, min_samples_leaf=24, n_estimators=400 .............\n",
      "[CV]  max_depth=13, min_samples_leaf=24, n_estimators=400, score=0.743, total= 3.7min\n",
      "[CV] max_depth=13, min_samples_leaf=24, n_estimators=400 .............\n",
      "[CV]  max_depth=13, min_samples_leaf=24, n_estimators=400, score=0.746, total= 3.6min\n",
      "[CV] max_depth=13, min_samples_leaf=24, n_estimators=400 .............\n",
      "[CV]  max_depth=13, min_samples_leaf=24, n_estimators=400, score=0.743, total= 3.7min\n"
     ]
    },
    {
     "name": "stderr",
     "output_type": "stream",
     "text": [
      "[Parallel(n_jobs=1)]: Done  40 out of  40 | elapsed: 132.7min finished\n"
     ]
    },
    {
     "data": {
      "text/plain": [
       "GridSearchCV(cv=<generator object _BaseKFold.split at 0x7fe61c37a2b0>,\n",
       "             error_score=nan,\n",
       "             estimator=RandomForestClassifier(bootstrap=True, ccp_alpha=0.0,\n",
       "                                              class_weight=None,\n",
       "                                              criterion='gini', max_depth=None,\n",
       "                                              max_features='auto',\n",
       "                                              max_leaf_nodes=None,\n",
       "                                              max_samples=None,\n",
       "                                              min_impurity_decrease=0.0,\n",
       "                                              min_impurity_split=None,\n",
       "                                              min_samples_leaf=1,\n",
       "                                              min_samples_split=2,\n",
       "                                              min_weight_fraction_leaf=0.0,\n",
       "                                              n_estimators=100, n_jobs=-1,\n",
       "                                              oob_score=False,\n",
       "                                              random_state=None, verbose=0,\n",
       "                                              warm_start=False),\n",
       "             iid='deprecated', n_jobs=None,\n",
       "             param_grid={'max_depth': [12, 13], 'min_samples_leaf': [21, 24],\n",
       "                         'n_estimators': [350, 400]},\n",
       "             pre_dispatch='2*n_jobs', refit=True, return_train_score=False,\n",
       "             scoring='roc_auc', verbose=10)"
      ]
     },
     "execution_count": 25,
     "metadata": {
      "tags": []
     },
     "output_type": "execute_result"
    }
   ],
   "source": [
    "gridsearch_rf.fit(X, Y)"
   ]
  },
  {
   "cell_type": "code",
   "execution_count": 26,
   "metadata": {
    "colab": {
     "base_uri": "https://localhost:8080/"
    },
    "id": "HEkaLY3-xv-a",
    "outputId": "7767296d-80f8-4fe8-c300-28015671e92a"
   },
   "outputs": [
    {
     "name": "stdout",
     "output_type": "stream",
     "text": [
      "RandomForestClassifier(bootstrap=True, ccp_alpha=0.0, class_weight=None,\n",
      "                       criterion='gini', max_depth=13, max_features='auto',\n",
      "                       max_leaf_nodes=None, max_samples=None,\n",
      "                       min_impurity_decrease=0.0, min_impurity_split=None,\n",
      "                       min_samples_leaf=24, min_samples_split=2,\n",
      "                       min_weight_fraction_leaf=0.0, n_estimators=400,\n",
      "                       n_jobs=-1, oob_score=False, random_state=None, verbose=0,\n",
      "                       warm_start=False)\n"
     ]
    }
   ],
   "source": [
    "print(gridsearch_rf.best_estimator_)"
   ]
  },
  {
   "cell_type": "code",
   "execution_count": 27,
   "metadata": {
    "colab": {
     "base_uri": "https://localhost:8080/"
    },
    "id": "y7I3npS-y0fq",
    "outputId": "a9f0425a-71a3-4afa-937a-5dd2a6ac804c"
   },
   "outputs": [
    {
     "name": "stdout",
     "output_type": "stream",
     "text": [
      "0.7425507680768834\n"
     ]
    }
   ],
   "source": [
    "print(gridsearch_rf.best_score_)"
   ]
  },
  {
   "cell_type": "code",
   "execution_count": 30,
   "metadata": {
    "id": "zQXljAPcFxRV"
   },
   "outputs": [],
   "source": [
    "from sklearn.model_selection import RandomizedSearchCV\n",
    "\n",
    "num_trees = [ 350, 400, 450]\n",
    "max_depth = [12, 13, 14, 15, 16]\n",
    "min_samples_leaf = [ 21, 24, 26, 28]\n",
    "grid = {'n_estimators': num_trees,\n",
    "               'max_depth': max_depth,\n",
    "               'min_samples_leaf': min_samples_leaf}\n",
    "skf = StratifiedKFold(n_splits=5, shuffle = True, random_state = 1001)\n",
    "randomsearch_rf = RandomizedSearchCV(RandomForestClassifier(n_jobs = -1), grid, cv = skf.split(X,Y), n_iter=6,   verbose=10, scoring = 'roc_auc')"
   ]
  },
  {
   "cell_type": "code",
   "execution_count": 31,
   "metadata": {
    "colab": {
     "base_uri": "https://localhost:8080/"
    },
    "id": "JXBJnYvjkHPX",
    "outputId": "2a9e1c57-13d2-4e1f-a24b-cf78c2860953"
   },
   "outputs": [
    {
     "name": "stdout",
     "output_type": "stream",
     "text": [
      "Fitting 5 folds for each of 6 candidates, totalling 30 fits\n",
      "[CV] n_estimators=450, min_samples_leaf=28, max_depth=15 .............\n"
     ]
    },
    {
     "name": "stderr",
     "output_type": "stream",
     "text": [
      "[Parallel(n_jobs=1)]: Using backend SequentialBackend with 1 concurrent workers.\n"
     ]
    },
    {
     "name": "stdout",
     "output_type": "stream",
     "text": [
      "[CV]  n_estimators=450, min_samples_leaf=28, max_depth=15, score=0.741, total= 4.6min\n",
      "[CV] n_estimators=450, min_samples_leaf=28, max_depth=15 .............\n"
     ]
    },
    {
     "name": "stderr",
     "output_type": "stream",
     "text": [
      "[Parallel(n_jobs=1)]: Done   1 out of   1 | elapsed:  4.6min remaining:    0.0s\n"
     ]
    },
    {
     "name": "stdout",
     "output_type": "stream",
     "text": [
      "[CV]  n_estimators=450, min_samples_leaf=28, max_depth=15, score=0.742, total= 4.5min\n",
      "[CV] n_estimators=450, min_samples_leaf=28, max_depth=15 .............\n"
     ]
    },
    {
     "name": "stderr",
     "output_type": "stream",
     "text": [
      "[Parallel(n_jobs=1)]: Done   2 out of   2 | elapsed:  9.1min remaining:    0.0s\n"
     ]
    },
    {
     "name": "stdout",
     "output_type": "stream",
     "text": [
      "[CV]  n_estimators=450, min_samples_leaf=28, max_depth=15, score=0.745, total= 4.6min\n",
      "[CV] n_estimators=450, min_samples_leaf=28, max_depth=15 .............\n"
     ]
    },
    {
     "name": "stderr",
     "output_type": "stream",
     "text": [
      "[Parallel(n_jobs=1)]: Done   3 out of   3 | elapsed: 13.7min remaining:    0.0s\n"
     ]
    },
    {
     "name": "stdout",
     "output_type": "stream",
     "text": [
      "[CV]  n_estimators=450, min_samples_leaf=28, max_depth=15, score=0.747, total= 4.6min\n",
      "[CV] n_estimators=450, min_samples_leaf=28, max_depth=15 .............\n"
     ]
    },
    {
     "name": "stderr",
     "output_type": "stream",
     "text": [
      "[Parallel(n_jobs=1)]: Done   4 out of   4 | elapsed: 18.3min remaining:    0.0s\n"
     ]
    },
    {
     "name": "stdout",
     "output_type": "stream",
     "text": [
      "[CV]  n_estimators=450, min_samples_leaf=28, max_depth=15, score=0.744, total= 4.6min\n",
      "[CV] n_estimators=350, min_samples_leaf=21, max_depth=15 .............\n"
     ]
    },
    {
     "name": "stderr",
     "output_type": "stream",
     "text": [
      "[Parallel(n_jobs=1)]: Done   5 out of   5 | elapsed: 22.9min remaining:    0.0s\n"
     ]
    },
    {
     "name": "stdout",
     "output_type": "stream",
     "text": [
      "[CV]  n_estimators=350, min_samples_leaf=21, max_depth=15, score=0.741, total= 3.6min\n",
      "[CV] n_estimators=350, min_samples_leaf=21, max_depth=15 .............\n"
     ]
    },
    {
     "name": "stderr",
     "output_type": "stream",
     "text": [
      "[Parallel(n_jobs=1)]: Done   6 out of   6 | elapsed: 26.5min remaining:    0.0s\n"
     ]
    },
    {
     "name": "stdout",
     "output_type": "stream",
     "text": [
      "[CV]  n_estimators=350, min_samples_leaf=21, max_depth=15, score=0.742, total= 3.6min\n",
      "[CV] n_estimators=350, min_samples_leaf=21, max_depth=15 .............\n"
     ]
    },
    {
     "name": "stderr",
     "output_type": "stream",
     "text": [
      "[Parallel(n_jobs=1)]: Done   7 out of   7 | elapsed: 30.1min remaining:    0.0s\n"
     ]
    },
    {
     "name": "stdout",
     "output_type": "stream",
     "text": [
      "[CV]  n_estimators=350, min_samples_leaf=21, max_depth=15, score=0.744, total= 3.6min\n",
      "[CV] n_estimators=350, min_samples_leaf=21, max_depth=15 .............\n"
     ]
    },
    {
     "name": "stderr",
     "output_type": "stream",
     "text": [
      "[Parallel(n_jobs=1)]: Done   8 out of   8 | elapsed: 33.7min remaining:    0.0s\n"
     ]
    },
    {
     "name": "stdout",
     "output_type": "stream",
     "text": [
      "[CV]  n_estimators=350, min_samples_leaf=21, max_depth=15, score=0.746, total= 3.6min\n",
      "[CV] n_estimators=350, min_samples_leaf=21, max_depth=15 .............\n"
     ]
    },
    {
     "name": "stderr",
     "output_type": "stream",
     "text": [
      "[Parallel(n_jobs=1)]: Done   9 out of   9 | elapsed: 37.3min remaining:    0.0s\n"
     ]
    },
    {
     "name": "stdout",
     "output_type": "stream",
     "text": [
      "[CV]  n_estimators=350, min_samples_leaf=21, max_depth=15, score=0.745, total= 3.6min\n",
      "[CV] n_estimators=450, min_samples_leaf=24, max_depth=14 .............\n",
      "[CV]  n_estimators=450, min_samples_leaf=24, max_depth=14, score=0.740, total= 4.4min\n",
      "[CV] n_estimators=450, min_samples_leaf=24, max_depth=14 .............\n",
      "[CV]  n_estimators=450, min_samples_leaf=24, max_depth=14, score=0.741, total= 4.4min\n",
      "[CV] n_estimators=450, min_samples_leaf=24, max_depth=14 .............\n",
      "[CV]  n_estimators=450, min_samples_leaf=24, max_depth=14, score=0.744, total= 4.4min\n",
      "[CV] n_estimators=450, min_samples_leaf=24, max_depth=14 .............\n",
      "[CV]  n_estimators=450, min_samples_leaf=24, max_depth=14, score=0.746, total= 4.4min\n",
      "[CV] n_estimators=450, min_samples_leaf=24, max_depth=14 .............\n",
      "[CV]  n_estimators=450, min_samples_leaf=24, max_depth=14, score=0.745, total= 4.4min\n",
      "[CV] n_estimators=400, min_samples_leaf=24, max_depth=15 .............\n",
      "[CV]  n_estimators=400, min_samples_leaf=24, max_depth=15, score=0.741, total= 4.2min\n",
      "[CV] n_estimators=400, min_samples_leaf=24, max_depth=15 .............\n",
      "[CV]  n_estimators=400, min_samples_leaf=24, max_depth=15, score=0.742, total= 4.1min\n",
      "[CV] n_estimators=400, min_samples_leaf=24, max_depth=15 .............\n",
      "[CV]  n_estimators=400, min_samples_leaf=24, max_depth=15, score=0.745, total= 4.2min\n",
      "[CV] n_estimators=400, min_samples_leaf=24, max_depth=15 .............\n",
      "[CV]  n_estimators=400, min_samples_leaf=24, max_depth=15, score=0.747, total= 4.1min\n",
      "[CV] n_estimators=400, min_samples_leaf=24, max_depth=15 .............\n",
      "[CV]  n_estimators=400, min_samples_leaf=24, max_depth=15, score=0.745, total= 4.1min\n",
      "[CV] n_estimators=400, min_samples_leaf=26, max_depth=13 .............\n",
      "[CV]  n_estimators=400, min_samples_leaf=26, max_depth=13, score=0.740, total= 3.7min\n",
      "[CV] n_estimators=400, min_samples_leaf=26, max_depth=13 .............\n",
      "[CV]  n_estimators=400, min_samples_leaf=26, max_depth=13, score=0.740, total= 3.6min\n",
      "[CV] n_estimators=400, min_samples_leaf=26, max_depth=13 .............\n",
      "[CV]  n_estimators=400, min_samples_leaf=26, max_depth=13, score=0.744, total= 3.7min\n",
      "[CV] n_estimators=400, min_samples_leaf=26, max_depth=13 .............\n",
      "[CV]  n_estimators=400, min_samples_leaf=26, max_depth=13, score=0.745, total= 3.7min\n",
      "[CV] n_estimators=400, min_samples_leaf=26, max_depth=13 .............\n",
      "[CV]  n_estimators=400, min_samples_leaf=26, max_depth=13, score=0.743, total= 3.7min\n",
      "[CV] n_estimators=400, min_samples_leaf=26, max_depth=14 .............\n",
      "[CV]  n_estimators=400, min_samples_leaf=26, max_depth=14, score=0.740, total= 3.9min\n",
      "[CV] n_estimators=400, min_samples_leaf=26, max_depth=14 .............\n",
      "[CV]  n_estimators=400, min_samples_leaf=26, max_depth=14, score=0.741, total= 3.9min\n",
      "[CV] n_estimators=400, min_samples_leaf=26, max_depth=14 .............\n",
      "[CV]  n_estimators=400, min_samples_leaf=26, max_depth=14, score=0.744, total= 3.9min\n",
      "[CV] n_estimators=400, min_samples_leaf=26, max_depth=14 .............\n",
      "[CV]  n_estimators=400, min_samples_leaf=26, max_depth=14, score=0.747, total= 3.9min\n",
      "[CV] n_estimators=400, min_samples_leaf=26, max_depth=14 .............\n",
      "[CV]  n_estimators=400, min_samples_leaf=26, max_depth=14, score=0.744, total= 4.0min\n"
     ]
    },
    {
     "name": "stderr",
     "output_type": "stream",
     "text": [
      "[Parallel(n_jobs=1)]: Done  30 out of  30 | elapsed: 121.6min finished\n"
     ]
    },
    {
     "data": {
      "text/plain": [
       "RandomizedSearchCV(cv=<generator object _BaseKFold.split at 0x7fe61b179a40>,\n",
       "                   error_score=nan,\n",
       "                   estimator=RandomForestClassifier(bootstrap=True,\n",
       "                                                    ccp_alpha=0.0,\n",
       "                                                    class_weight=None,\n",
       "                                                    criterion='gini',\n",
       "                                                    max_depth=None,\n",
       "                                                    max_features='auto',\n",
       "                                                    max_leaf_nodes=None,\n",
       "                                                    max_samples=None,\n",
       "                                                    min_impurity_decrease=0.0,\n",
       "                                                    min_impurity_split=None,\n",
       "                                                    min_samples_leaf=1,\n",
       "                                                    min_samples_split=2,\n",
       "                                                    min_....0,\n",
       "                                                    n_estimators=100, n_jobs=-1,\n",
       "                                                    oob_score=False,\n",
       "                                                    random_state=None,\n",
       "                                                    verbose=0,\n",
       "                                                    warm_start=False),\n",
       "                   iid='deprecated', n_iter=6, n_jobs=None,\n",
       "                   param_distributions={'max_depth': [12, 13, 14, 15, 16],\n",
       "                                        'min_samples_leaf': [21, 24, 26, 28],\n",
       "                                        'n_estimators': [350, 400, 450]},\n",
       "                   pre_dispatch='2*n_jobs', random_state=None, refit=True,\n",
       "                   return_train_score=False, scoring='roc_auc', verbose=10)"
      ]
     },
     "execution_count": 31,
     "metadata": {
      "tags": []
     },
     "output_type": "execute_result"
    }
   ],
   "source": [
    "randomsearch_rf.fit(X, Y)"
   ]
  },
  {
   "cell_type": "markdown",
   "metadata": {},
   "source": [
    "### Best parameters"
   ]
  },
  {
   "cell_type": "code",
   "execution_count": 32,
   "metadata": {
    "colab": {
     "base_uri": "https://localhost:8080/"
    },
    "id": "RTCmXMhc-5gh",
    "outputId": "759495db-b888-4805-d10d-878806affad4"
   },
   "outputs": [
    {
     "name": "stdout",
     "output_type": "stream",
     "text": [
      "RandomForestClassifier(bootstrap=True, ccp_alpha=0.0, class_weight=None,\n",
      "                       criterion='gini', max_depth=15, max_features='auto',\n",
      "                       max_leaf_nodes=None, max_samples=None,\n",
      "                       min_impurity_decrease=0.0, min_impurity_split=None,\n",
      "                       min_samples_leaf=28, min_samples_split=2,\n",
      "                       min_weight_fraction_leaf=0.0, n_estimators=450,\n",
      "                       n_jobs=-1, oob_score=False, random_state=None, verbose=0,\n",
      "                       warm_start=False)\n"
     ]
    }
   ],
   "source": [
    "print(randomsearch_rf.best_estimator_)"
   ]
  },
  {
   "cell_type": "code",
   "execution_count": 33,
   "metadata": {
    "colab": {
     "base_uri": "https://localhost:8080/"
    },
    "id": "jBKKDfAC--XX",
    "outputId": "06a70dfe-ec0b-4f22-a574-289f5be0811b"
   },
   "outputs": [
    {
     "name": "stdout",
     "output_type": "stream",
     "text": [
      "0.7440381679175845\n"
     ]
    }
   ],
   "source": [
    "print(randomsearch_rf.best_score_)"
   ]
  },
  {
   "cell_type": "code",
   "execution_count": 38,
   "metadata": {
    "id": "I8iQKC2hSkck"
   },
   "outputs": [],
   "source": [
    "importance = randomsearch_rf.best_estimator_.feature_importances_\n",
    "importances={'feature_names':X.columns,'feature_importance':importance}\n",
    "importance_df = pd.DataFrame(importances)"
   ]
  },
  {
   "cell_type": "code",
   "execution_count": 42,
   "metadata": {
    "id": "o80Cg6NJToXp"
   },
   "outputs": [],
   "source": [
    "importance_df.sort_values(by=['feature_importance'], ascending=False,inplace=True)"
   ]
  },
  {
   "cell_type": "code",
   "execution_count": 43,
   "metadata": {
    "colab": {
     "base_uri": "https://localhost:8080/",
     "height": 1000
    },
    "id": "VMhpU_dfSyRv",
    "outputId": "453588d2-9d2a-42d2-d353-2146dcd619b3"
   },
   "outputs": [
    {
     "data": {
      "text/plain": [
       "Text(0, 0.5, 'FEATURE NAMES')"
      ]
     },
     "execution_count": 43,
     "metadata": {
      "tags": []
     },
     "output_type": "execute_result"
    },
    {
     "data": {
      "image/png": "[encoded data removed]",
      "text/plain": [
       "<Figure size 1440x2880 with 1 Axes>"
      ]
     },
     "metadata": {
      "needs_background": "light",
      "tags": []
     },
     "output_type": "display_data"
    }
   ],
   "source": [
    "import seaborn as sns\n",
    "import matplotlib.pyplot as plt\n",
    "plt.figure(figsize=(20,40))\n",
    "sns.barplot(x=importance_df['feature_importance'], y=importance_df['feature_names'])\n",
    "plt.title( 'FEATURE IMPORTANCE')\n",
    "plt.xlabel('FEATURE IMPORTANCE')\n",
    "plt.ylabel('FEATURE NAMES')"
   ]
  },
  {
   "cell_type": "markdown",
   "metadata": {},
   "source": [
    "### Most important features are normalized scores obtained from external sources, age and days employed"
   ]
  },
  {
   "cell_type": "code",
   "execution_count": 49,
   "metadata": {
    "id": "0NJPzyDMTye2"
   },
   "outputs": [],
   "source": [
    "top_5_data = X[['EXT_SOURCE_3', 'EXT_SOURCE_2', 'EXT_SOURCE_1', 'DAYS_BIRTH', 'DAYS_EMPLOYED' ]]"
   ]
  },
  {
   "cell_type": "code",
   "execution_count": 54,
   "metadata": {
    "id": "8Cj9PQslUPOt"
   },
   "outputs": [],
   "source": [
    "clf = RandomForestClassifier(bootstrap=True, ccp_alpha=0.0, class_weight=None,\n",
    "                       criterion='gini', max_depth=15, max_features='auto',\n",
    "                       max_leaf_nodes=None, max_samples=None,\n",
    "                       min_impurity_decrease=0.0, min_impurity_split=None,\n",
    "                       min_samples_leaf=28, min_samples_split=2,\n",
    "                       min_weight_fraction_leaf=0.0, n_estimators=450,\n",
    "                       n_jobs=-1, oob_score=False, random_state=None, \n",
    "                       warm_start=False, verbose = 10)"
   ]
  },
  {
   "cell_type": "code",
   "execution_count": 56,
   "metadata": {
    "colab": {
     "base_uri": "https://localhost:8080/"
    },
    "id": "JJa-CII0UX7e",
    "outputId": "ef8cd9c7-3553-45d4-d0f5-2441c6b6eaff"
   },
   "outputs": [
    {
     "name": "stderr",
     "output_type": "stream",
     "text": [
      "[Parallel(n_jobs=-1)]: Using backend ThreadingBackend with 2 concurrent workers.\n"
     ]
    },
    {
     "name": "stdout",
     "output_type": "stream",
     "text": [
      "building tree 1 of 450\n",
      "building tree 2 of 450\n"
     ]
    },
    {
     "name": "stderr",
     "output_type": "stream",
     "text": [
      "[Parallel(n_jobs=-1)]: Done   1 tasks      | elapsed:    0.8s\n"
     ]
    },
    {
     "name": "stdout",
     "output_type": "stream",
     "text": [
      "building tree 3 of 450\n",
      "building tree 4 of 450\n",
      "building tree 5 of 450\n",
      "building tree 6 of 450\n"
     ]
    },
    {
     "name": "stderr",
     "output_type": "stream",
     "text": [
      "[Parallel(n_jobs=-1)]: Done   4 tasks      | elapsed:    1.6s\n"
     ]
    },
    {
     "name": "stdout",
     "output_type": "stream",
     "text": [
      "building tree 7 of 450\n",
      "building tree 8 of 450\n",
      "building tree 9 of 450\n",
      "building tree 10 of 450\n"
     ]
    },
    {
     "name": "stderr",
     "output_type": "stream",
     "text": [
      "[Parallel(n_jobs=-1)]: Done   9 tasks      | elapsed:    3.8s\n"
     ]
    },
    {
     "name": "stdout",
     "output_type": "stream",
     "text": [
      "building tree 11 of 450\n",
      "building tree 12 of 450\n",
      "building tree 13 of 450\n",
      "building tree 14 of 450\n",
      "building tree 15 of 450\n",
      "building tree 16 of 450\n"
     ]
    },
    {
     "name": "stderr",
     "output_type": "stream",
     "text": [
      "[Parallel(n_jobs=-1)]: Done  14 tasks      | elapsed:    5.5s\n"
     ]
    },
    {
     "name": "stdout",
     "output_type": "stream",
     "text": [
      "building tree 17 of 450\n",
      "building tree 18 of 450\n",
      "building tree 19 of 450\n",
      "building tree 20 of 450\n",
      "building tree 21 of 450\n",
      "building tree 22 of 450\n"
     ]
    },
    {
     "name": "stderr",
     "output_type": "stream",
     "text": [
      "[Parallel(n_jobs=-1)]: Done  21 tasks      | elapsed:    8.5s\n"
     ]
    },
    {
     "name": "stdout",
     "output_type": "stream",
     "text": [
      "building tree 23 of 450\n",
      "building tree 24 of 450\n",
      "building tree 25 of 450\n",
      "building tree 26 of 450\n",
      "building tree 27 of 450\n",
      "building tree 28 of 450\n",
      "building tree 29 of 450\n"
     ]
    },
    {
     "name": "stderr",
     "output_type": "stream",
     "text": [
      "[Parallel(n_jobs=-1)]: Done  28 tasks      | elapsed:   11.0s\n"
     ]
    },
    {
     "name": "stdout",
     "output_type": "stream",
     "text": [
      "building tree 30 of 450\n",
      "building tree 31 of 450\n",
      "building tree 32 of 450\n",
      "building tree 33 of 450\n",
      "building tree 34 of 450\n",
      "building tree 35 of 450\n",
      "building tree 36 of 450\n",
      "building tree 37 of 450\n",
      "building tree 38 of 450\n"
     ]
    },
    {
     "name": "stderr",
     "output_type": "stream",
     "text": [
      "[Parallel(n_jobs=-1)]: Done  37 tasks      | elapsed:   14.6s\n"
     ]
    },
    {
     "name": "stdout",
     "output_type": "stream",
     "text": [
      "building tree 39 of 450\n",
      "building tree 40 of 450\n",
      "building tree 41 of 450\n",
      "building tree 42 of 450\n",
      "building tree 43 of 450\n",
      "building tree 44 of 450\n",
      "building tree 45 of 450\n",
      "building tree 46 of 450\n",
      "building tree 47 of 450\n",
      "building tree 48 of 450\n"
     ]
    },
    {
     "name": "stderr",
     "output_type": "stream",
     "text": [
      "[Parallel(n_jobs=-1)]: Done  46 tasks      | elapsed:   17.8s\n"
     ]
    },
    {
     "name": "stdout",
     "output_type": "stream",
     "text": [
      "building tree 49 of 450\n",
      "building tree 50 of 450\n",
      "building tree 51 of 450\n",
      "building tree 52 of 450\n",
      "building tree 53 of 450\n",
      "building tree 54 of 450\n",
      "building tree 55 of 450\n",
      "building tree 56 of 450\n",
      "building tree 57 of 450\n",
      "building tree 58 of 450\n"
     ]
    },
    {
     "name": "stderr",
     "output_type": "stream",
     "text": [
      "[Parallel(n_jobs=-1)]: Done  57 tasks      | elapsed:   22.3s\n"
     ]
    },
    {
     "name": "stdout",
     "output_type": "stream",
     "text": [
      "building tree 59 of 450\n",
      "building tree 60 of 450\n",
      "building tree 61 of 450\n",
      "building tree 62 of 450\n",
      "building tree 63 of 450\n",
      "building tree 64 of 450\n",
      "building tree 65 of 450\n",
      "building tree 66 of 450\n",
      "building tree 67 of 450\n",
      "building tree 68 of 450\n",
      "building tree 69 of 450\n",
      "building tree 70 of 450\n"
     ]
    },
    {
     "name": "stderr",
     "output_type": "stream",
     "text": [
      "[Parallel(n_jobs=-1)]: Done  68 tasks      | elapsed:   26.2s\n"
     ]
    },
    {
     "name": "stdout",
     "output_type": "stream",
     "text": [
      "building tree 71 of 450\n",
      "building tree 72 of 450\n",
      "building tree 73 of 450\n",
      "building tree 74 of 450\n",
      "building tree 75 of 450\n",
      "building tree 76 of 450\n",
      "building tree 77 of 450\n",
      "building tree 78 of 450\n",
      "building tree 79 of 450\n",
      "building tree 80 of 450\n",
      "building tree 81 of 450\n",
      "building tree 82 of 450\n",
      "building tree 83 of 450\n",
      "building tree 84 of 450\n"
     ]
    },
    {
     "name": "stderr",
     "output_type": "stream",
     "text": [
      "[Parallel(n_jobs=-1)]: Done  81 tasks      | elapsed:   31.4s\n"
     ]
    },
    {
     "name": "stdout",
     "output_type": "stream",
     "text": [
      "building tree 85 of 450\n",
      "building tree 86 of 450\n",
      "building tree 87 of 450\n",
      "building tree 88 of 450\n",
      "building tree 89 of 450\n",
      "building tree 90 of 450\n",
      "building tree 91 of 450\n",
      "building tree 92 of 450\n",
      "building tree 93 of 450\n",
      "building tree 94 of 450\n",
      "building tree 95 of 450\n",
      "building tree 96 of 450\n"
     ]
    },
    {
     "name": "stderr",
     "output_type": "stream",
     "text": [
      "[Parallel(n_jobs=-1)]: Done  94 tasks      | elapsed:   36.1s\n"
     ]
    },
    {
     "name": "stdout",
     "output_type": "stream",
     "text": [
      "building tree 97 of 450\n",
      "building tree 98 of 450\n",
      "building tree 99 of 450\n",
      "building tree 100 of 450\n",
      "building tree 101 of 450\n",
      "building tree 102 of 450\n",
      "building tree 103 of 450\n",
      "building tree 104 of 450\n",
      "building tree 105 of 450\n",
      "building tree 106 of 450\n",
      "building tree 107 of 450\n",
      "building tree 108 of 450\n",
      "building tree 109 of 450\n",
      "building tree 110 of 450\n"
     ]
    },
    {
     "name": "stderr",
     "output_type": "stream",
     "text": [
      "[Parallel(n_jobs=-1)]: Done 109 tasks      | elapsed:   42.1s\n"
     ]
    },
    {
     "name": "stdout",
     "output_type": "stream",
     "text": [
      "building tree 111 of 450\n",
      "building tree 112 of 450\n",
      "building tree 113 of 450\n",
      "building tree 114 of 450\n",
      "building tree 115 of 450\n",
      "building tree 116 of 450\n",
      "building tree 117 of 450\n",
      "building tree 118 of 450\n",
      "building tree 119 of 450\n",
      "building tree 120 of 450\n",
      "building tree 121 of 450\n",
      "building tree 122 of 450\n",
      "building tree 123 of 450\n",
      "building tree 124 of 450\n",
      "building tree 125 of 450\n",
      "building tree 126 of 450\n"
     ]
    },
    {
     "name": "stderr",
     "output_type": "stream",
     "text": [
      "[Parallel(n_jobs=-1)]: Done 124 tasks      | elapsed:   47.6s\n"
     ]
    },
    {
     "name": "stdout",
     "output_type": "stream",
     "text": [
      "building tree 127 of 450\n",
      "building tree 128 of 450\n",
      "building tree 129 of 450\n",
      "building tree 130 of 450\n",
      "building tree 131 of 450\n",
      "building tree 132 of 450\n",
      "building tree 133 of 450\n",
      "building tree 134 of 450\n",
      "building tree 135 of 450\n",
      "building tree 136 of 450\n",
      "building tree 137 of 450\n",
      "building tree 138 of 450\n",
      "building tree 139 of 450\n",
      "building tree 140 of 450\n",
      "building tree 141 of 450\n",
      "building tree 142 of 450\n"
     ]
    },
    {
     "name": "stderr",
     "output_type": "stream",
     "text": [
      "[Parallel(n_jobs=-1)]: Done 141 tasks      | elapsed:   54.4s\n"
     ]
    },
    {
     "name": "stdout",
     "output_type": "stream",
     "text": [
      "building tree 143 of 450\n",
      "building tree 144 of 450\n",
      "building tree 145 of 450\n",
      "building tree 146 of 450\n",
      "building tree 147 of 450\n",
      "building tree 148 of 450\n",
      "building tree 149 of 450\n",
      "building tree 150 of 450\n",
      "building tree 151 of 450\n",
      "building tree 152 of 450\n",
      "building tree 153 of 450\n",
      "building tree 154 of 450\n",
      "building tree 155 of 450\n",
      "building tree 156 of 450\n",
      "building tree 157 of 450\n",
      "building tree 158 of 450\n",
      "building tree 159 of 450\n"
     ]
    },
    {
     "name": "stderr",
     "output_type": "stream",
     "text": [
      "[Parallel(n_jobs=-1)]: Done 158 tasks      | elapsed:  1.0min\n"
     ]
    },
    {
     "name": "stdout",
     "output_type": "stream",
     "text": [
      "building tree 160 of 450\n",
      "building tree 161 of 450\n",
      "building tree 162 of 450\n",
      "building tree 163 of 450\n",
      "building tree 164 of 450\n",
      "building tree 165 of 450\n",
      "building tree 166 of 450\n",
      "building tree 167 of 450\n",
      "building tree 168 of 450\n",
      "building tree 169 of 450\n",
      "building tree 170 of 450\n",
      "building tree 171 of 450\n",
      "building tree 172 of 450\n",
      "building tree 173 of 450\n",
      "building tree 174 of 450\n",
      "building tree 175 of 450\n",
      "building tree 176 of 450\n",
      "building tree 177 of 450\n",
      "building tree 178 of 450\n"
     ]
    },
    {
     "name": "stderr",
     "output_type": "stream",
     "text": [
      "[Parallel(n_jobs=-1)]: Done 177 tasks      | elapsed:  1.1min\n"
     ]
    },
    {
     "name": "stdout",
     "output_type": "stream",
     "text": [
      "building tree 179 of 450\n",
      "building tree 180 of 450\n",
      "building tree 181 of 450\n",
      "building tree 182 of 450\n",
      "building tree 183 of 450\n",
      "building tree 184 of 450\n",
      "building tree 185 of 450\n",
      "building tree 186 of 450\n",
      "building tree 187 of 450\n",
      "building tree 188 of 450\n",
      "building tree 189 of 450\n",
      "building tree 190 of 450\n",
      "building tree 191 of 450\n",
      "building tree 192 of 450\n",
      "building tree 193 of 450\n",
      "building tree 194 of 450\n",
      "building tree 195 of 450\n",
      "building tree 196 of 450\n",
      "building tree 197 of 450\n"
     ]
    },
    {
     "name": "stderr",
     "output_type": "stream",
     "text": [
      "[Parallel(n_jobs=-1)]: Done 196 tasks      | elapsed:  1.3min\n"
     ]
    },
    {
     "name": "stdout",
     "output_type": "stream",
     "text": [
      "building tree 198 of 450\n",
      "building tree 199 of 450\n",
      "building tree 200 of 450\n",
      "building tree 201 of 450\n",
      "building tree 202 of 450\n",
      "building tree 203 of 450\n",
      "building tree 204 of 450\n",
      "building tree 205 of 450\n",
      "building tree 206 of 450\n",
      "building tree 207 of 450\n",
      "building tree 208 of 450\n",
      "building tree 209 of 450\n",
      "building tree 210 of 450\n",
      "building tree 211 of 450\n",
      "building tree 212 of 450\n",
      "building tree 213 of 450\n",
      "building tree 214 of 450\n",
      "building tree 215 of 450\n",
      "building tree 216 of 450\n",
      "building tree 217 of 450\n",
      "building tree 218 of 450\n",
      "building tree 219 of 450\n"
     ]
    },
    {
     "name": "stderr",
     "output_type": "stream",
     "text": [
      "[Parallel(n_jobs=-1)]: Done 217 tasks      | elapsed:  1.4min\n"
     ]
    },
    {
     "name": "stdout",
     "output_type": "stream",
     "text": [
      "building tree 220 of 450\n",
      "building tree 221 of 450\n",
      "building tree 222 of 450\n",
      "building tree 223 of 450\n",
      "building tree 224 of 450\n",
      "building tree 225 of 450\n",
      "building tree 226 of 450\n",
      "building tree 227 of 450\n",
      "building tree 228 of 450\n",
      "building tree 229 of 450\n",
      "building tree 230 of 450\n",
      "building tree 231 of 450\n",
      "building tree 232 of 450\n",
      "building tree 233 of 450\n",
      "building tree 234 of 450\n",
      "building tree 235 of 450\n",
      "building tree 236 of 450\n",
      "building tree 237 of 450\n",
      "building tree 238 of 450\n",
      "building tree 239 of 450\n"
     ]
    },
    {
     "name": "stderr",
     "output_type": "stream",
     "text": [
      "[Parallel(n_jobs=-1)]: Done 238 tasks      | elapsed:  1.5min\n"
     ]
    },
    {
     "name": "stdout",
     "output_type": "stream",
     "text": [
      "building tree 240 of 450\n",
      "building tree 241 of 450\n",
      "building tree 242 of 450\n",
      "building tree 243 of 450\n",
      "building tree 244 of 450\n",
      "building tree 245 of 450\n",
      "building tree 246 of 450\n",
      "building tree 247 of 450\n",
      "building tree 248 of 450\n",
      "building tree 249 of 450\n",
      "building tree 250 of 450\n",
      "building tree 251 of 450\n",
      "building tree 252 of 450\n",
      "building tree 253 of 450\n",
      "building tree 254 of 450\n",
      "building tree 255 of 450\n",
      "building tree 256 of 450\n",
      "building tree 257 of 450\n",
      "building tree 258 of 450\n",
      "building tree 259 of 450\n",
      "building tree 260 of 450\n",
      "building tree 261 of 450\n",
      "building tree 262 of 450\n"
     ]
    },
    {
     "name": "stderr",
     "output_type": "stream",
     "text": [
      "[Parallel(n_jobs=-1)]: Done 261 tasks      | elapsed:  1.7min\n"
     ]
    },
    {
     "name": "stdout",
     "output_type": "stream",
     "text": [
      "building tree 263 of 450\n",
      "building tree 264 of 450\n",
      "building tree 265 of 450\n",
      "building tree 266 of 450\n",
      "building tree 267 of 450\n",
      "building tree 268 of 450\n",
      "building tree 269 of 450\n",
      "building tree 270 of 450\n",
      "building tree 271 of 450\n",
      "building tree 272 of 450\n",
      "building tree 273 of 450\n",
      "building tree 274 of 450\n",
      "building tree 275 of 450\n",
      "building tree 276 of 450\n",
      "building tree 277 of 450\n",
      "building tree 278 of 450\n",
      "building tree 279 of 450\n",
      "building tree 280 of 450\n",
      "building tree 281 of 450\n",
      "building tree 282 of 450\n",
      "building tree 283 of 450\n",
      "building tree 284 of 450\n",
      "building tree 285 of 450\n"
     ]
    },
    {
     "name": "stderr",
     "output_type": "stream",
     "text": [
      "[Parallel(n_jobs=-1)]: Done 284 tasks      | elapsed:  1.8min\n"
     ]
    },
    {
     "name": "stdout",
     "output_type": "stream",
     "text": [
      "building tree 286 of 450\n",
      "building tree 287 of 450\n",
      "building tree 288 of 450\n",
      "building tree 289 of 450\n",
      "building tree 290 of 450\n",
      "building tree 291 of 450\n",
      "building tree 292 of 450\n",
      "building tree 293 of 450\n",
      "building tree 294 of 450\n",
      "building tree 295 of 450\n",
      "building tree 296 of 450\n",
      "building tree 297 of 450\n",
      "building tree 298 of 450\n",
      "building tree 299 of 450\n",
      "building tree 300 of 450\n",
      "building tree 301 of 450\n",
      "building tree 302 of 450\n",
      "building tree 303 of 450\n",
      "building tree 304 of 450\n",
      "building tree 305 of 450\n",
      "building tree 306 of 450\n",
      "building tree 307 of 450\n",
      "building tree 308 of 450\n",
      "building tree 309 of 450\n",
      "building tree 310 of 450\n"
     ]
    },
    {
     "name": "stderr",
     "output_type": "stream",
     "text": [
      "[Parallel(n_jobs=-1)]: Done 309 tasks      | elapsed:  2.0min\n"
     ]
    },
    {
     "name": "stdout",
     "output_type": "stream",
     "text": [
      "building tree 311 of 450\n",
      "building tree 312 of 450\n",
      "building tree 313 of 450\n",
      "building tree 314 of 450\n",
      "building tree 315 of 450\n",
      "building tree 316 of 450\n",
      "building tree 317 of 450\n",
      "building tree 318 of 450\n",
      "building tree 319 of 450\n",
      "building tree 320 of 450\n",
      "building tree 321 of 450\n",
      "building tree 322 of 450\n",
      "building tree 323 of 450\n",
      "building tree 324 of 450\n",
      "building tree 325 of 450\n",
      "building tree 326 of 450\n",
      "building tree 327 of 450\n",
      "building tree 328 of 450\n",
      "building tree 329 of 450\n",
      "building tree 330 of 450\n",
      "building tree 331 of 450\n",
      "building tree 332 of 450\n",
      "building tree 333 of 450\n",
      "building tree 334 of 450\n",
      "building tree 335 of 450\n"
     ]
    },
    {
     "name": "stderr",
     "output_type": "stream",
     "text": [
      "[Parallel(n_jobs=-1)]: Done 334 tasks      | elapsed:  2.1min\n"
     ]
    },
    {
     "name": "stdout",
     "output_type": "stream",
     "text": [
      "building tree 336 of 450\n",
      "building tree 337 of 450\n",
      "building tree 338 of 450\n",
      "building tree 339 of 450\n",
      "building tree 340 of 450\n",
      "building tree 341 of 450\n",
      "building tree 342 of 450\n",
      "building tree 343 of 450\n",
      "building tree 344 of 450\n",
      "building tree 345 of 450\n",
      "building tree 346 of 450\n",
      "building tree 347 of 450\n",
      "building tree 348 of 450\n",
      "building tree 349 of 450\n",
      "building tree 350 of 450\n",
      "building tree 351 of 450\n",
      "building tree 352 of 450\n",
      "building tree 353 of 450\n",
      "building tree 354 of 450\n",
      "building tree 355 of 450\n",
      "building tree 356 of 450\n",
      "building tree 357 of 450\n",
      "building tree 358 of 450\n",
      "building tree 359 of 450\n",
      "building tree 360 of 450\n",
      "building tree 361 of 450\n",
      "building tree 362 of 450\n",
      "building tree 363 of 450\n",
      "building tree 364 of 450\n"
     ]
    },
    {
     "name": "stderr",
     "output_type": "stream",
     "text": [
      "[Parallel(n_jobs=-1)]: Done 361 tasks      | elapsed:  2.3min\n"
     ]
    },
    {
     "name": "stdout",
     "output_type": "stream",
     "text": [
      "building tree 365 of 450\n",
      "building tree 366 of 450\n",
      "building tree 367 of 450\n",
      "building tree 368 of 450\n",
      "building tree 369 of 450\n",
      "building tree 370 of 450\n",
      "building tree 371 of 450\n",
      "building tree 372 of 450\n",
      "building tree 373 of 450\n",
      "building tree 374 of 450\n",
      "building tree 375 of 450\n",
      "building tree 376 of 450\n",
      "building tree 377 of 450\n",
      "building tree 378 of 450\n",
      "building tree 379 of 450\n",
      "building tree 380 of 450\n",
      "building tree 381 of 450\n",
      "building tree 382 of 450\n",
      "building tree 383 of 450\n",
      "building tree 384 of 450\n",
      "building tree 385 of 450\n",
      "building tree 386 of 450\n",
      "building tree 387 of 450\n",
      "building tree 388 of 450\n",
      "building tree 389 of 450\n"
     ]
    },
    {
     "name": "stderr",
     "output_type": "stream",
     "text": [
      "[Parallel(n_jobs=-1)]: Done 388 tasks      | elapsed:  2.5min\n"
     ]
    },
    {
     "name": "stdout",
     "output_type": "stream",
     "text": [
      "building tree 390 of 450\n",
      "building tree 391 of 450\n",
      "building tree 392 of 450\n",
      "building tree 393 of 450\n",
      "building tree 394 of 450\n",
      "building tree 395 of 450\n",
      "building tree 396 of 450\n",
      "building tree 397 of 450\n",
      "building tree 398 of 450\n",
      "building tree 399 of 450\n",
      "building tree 400 of 450\n",
      "building tree 401 of 450\n",
      "building tree 402 of 450\n",
      "building tree 403 of 450\n",
      "building tree 404 of 450\n",
      "building tree 405 of 450\n",
      "building tree 406 of 450\n",
      "building tree 407 of 450\n",
      "building tree 408 of 450\n",
      "building tree 409 of 450\n",
      "building tree 410 of 450\n",
      "building tree 411 of 450\n",
      "building tree 412 of 450\n",
      "building tree 413 of 450\n",
      "building tree 414 of 450\n",
      "building tree 415 of 450\n",
      "building tree 416 of 450\n",
      "building tree 417 of 450\n",
      "building tree 418 of 450\n",
      "building tree 419 of 450\n"
     ]
    },
    {
     "name": "stderr",
     "output_type": "stream",
     "text": [
      "[Parallel(n_jobs=-1)]: Done 417 tasks      | elapsed:  2.7min\n"
     ]
    },
    {
     "name": "stdout",
     "output_type": "stream",
     "text": [
      "building tree 420 of 450\n",
      "building tree 421 of 450\n",
      "building tree 422 of 450\n",
      "building tree 423 of 450\n",
      "building tree 424 of 450\n",
      "building tree 425 of 450\n",
      "building tree 426 of 450\n",
      "building tree 427 of 450\n",
      "building tree 428 of 450\n",
      "building tree 429 of 450\n",
      "building tree 430 of 450\n",
      "building tree 431 of 450\n",
      "building tree 432 of 450\n",
      "building tree 433 of 450\n",
      "building tree 434 of 450\n",
      "building tree 435 of 450\n",
      "building tree 436 of 450\n",
      "building tree 437 of 450\n",
      "building tree 438 of 450\n",
      "building tree 439 of 450\n",
      "building tree 440 of 450\n",
      "building tree 441 of 450\n",
      "building tree 442 of 450\n",
      "building tree 443 of 450\n",
      "building tree 444 of 450\n",
      "building tree 445 of 450\n",
      "building tree 446 of 450\n",
      "building tree 447 of 450\n"
     ]
    },
    {
     "name": "stderr",
     "output_type": "stream",
     "text": [
      "[Parallel(n_jobs=-1)]: Done 446 tasks      | elapsed:  2.9min\n"
     ]
    },
    {
     "name": "stdout",
     "output_type": "stream",
     "text": [
      "building tree 448 of 450\n",
      "building tree 449 of 450\n",
      "building tree 450 of 450\n"
     ]
    },
    {
     "name": "stderr",
     "output_type": "stream",
     "text": [
      "[Parallel(n_jobs=-1)]: Done 450 out of 450 | elapsed:  2.9min finished\n",
      "[Parallel(n_jobs=2)]: Using backend ThreadingBackend with 2 concurrent workers.\n",
      "[Parallel(n_jobs=2)]: Done   1 tasks      | elapsed:    0.0s\n",
      "[Parallel(n_jobs=2)]: Done   4 tasks      | elapsed:    0.0s\n",
      "[Parallel(n_jobs=2)]: Done   9 tasks      | elapsed:    0.1s\n",
      "[Parallel(n_jobs=2)]: Done  14 tasks      | elapsed:    0.1s\n",
      "[Parallel(n_jobs=2)]: Done  21 tasks      | elapsed:    0.2s\n",
      "[Parallel(n_jobs=2)]: Done  28 tasks      | elapsed:    0.2s\n",
      "[Parallel(n_jobs=2)]: Done  37 tasks      | elapsed:    0.3s\n",
      "[Parallel(n_jobs=2)]: Done  46 tasks      | elapsed:    0.4s\n",
      "[Parallel(n_jobs=2)]: Done  57 tasks      | elapsed:    0.4s\n",
      "[Parallel(n_jobs=2)]: Done  68 tasks      | elapsed:    0.5s\n",
      "[Parallel(n_jobs=2)]: Done  81 tasks      | elapsed:    0.6s\n",
      "[Parallel(n_jobs=2)]: Done  94 tasks      | elapsed:    0.7s\n",
      "[Parallel(n_jobs=2)]: Done 109 tasks      | elapsed:    0.8s\n",
      "[Parallel(n_jobs=2)]: Done 124 tasks      | elapsed:    0.9s\n",
      "[Parallel(n_jobs=2)]: Done 141 tasks      | elapsed:    1.0s\n",
      "[Parallel(n_jobs=2)]: Done 158 tasks      | elapsed:    1.2s\n",
      "[Parallel(n_jobs=2)]: Done 177 tasks      | elapsed:    1.3s\n",
      "[Parallel(n_jobs=2)]: Done 196 tasks      | elapsed:    1.5s\n",
      "[Parallel(n_jobs=2)]: Done 217 tasks      | elapsed:    1.6s\n",
      "[Parallel(n_jobs=2)]: Done 238 tasks      | elapsed:    1.8s\n",
      "[Parallel(n_jobs=2)]: Done 261 tasks      | elapsed:    1.9s\n",
      "[Parallel(n_jobs=2)]: Done 284 tasks      | elapsed:    2.1s\n",
      "[Parallel(n_jobs=2)]: Done 309 tasks      | elapsed:    2.3s\n",
      "[Parallel(n_jobs=2)]: Done 334 tasks      | elapsed:    2.5s\n",
      "[Parallel(n_jobs=2)]: Done 361 tasks      | elapsed:    2.7s\n",
      "[Parallel(n_jobs=2)]: Done 388 tasks      | elapsed:    2.9s\n",
      "[Parallel(n_jobs=2)]: Done 417 tasks      | elapsed:    3.1s\n",
      "[Parallel(n_jobs=2)]: Done 446 tasks      | elapsed:    3.3s\n",
      "[Parallel(n_jobs=2)]: Done 450 out of 450 | elapsed:    3.3s finished\n"
     ]
    },
    {
     "name": "stdout",
     "output_type": "stream",
     "text": [
      "0 0.7278340404072285\n"
     ]
    },
    {
     "name": "stderr",
     "output_type": "stream",
     "text": [
      "[Parallel(n_jobs=-1)]: Using backend ThreadingBackend with 2 concurrent workers.\n"
     ]
    },
    {
     "name": "stdout",
     "output_type": "stream",
     "text": [
      "building tree 1 of 450building tree 2 of 450\n",
      "\n"
     ]
    },
    {
     "name": "stderr",
     "output_type": "stream",
     "text": [
      "[Parallel(n_jobs=-1)]: Done   1 tasks      | elapsed:    0.8s\n"
     ]
    },
    {
     "name": "stdout",
     "output_type": "stream",
     "text": [
      "building tree 3 of 450\n",
      "building tree 4 of 450\n",
      "building tree 5 of 450\n",
      "building tree 6 of 450\n"
     ]
    },
    {
     "name": "stderr",
     "output_type": "stream",
     "text": [
      "[Parallel(n_jobs=-1)]: Done   4 tasks      | elapsed:    1.6s\n"
     ]
    },
    {
     "name": "stdout",
     "output_type": "stream",
     "text": [
      "building tree 7 of 450\n",
      "building tree 8 of 450\n",
      "building tree 9 of 450\n",
      "building tree 10 of 450\n"
     ]
    },
    {
     "name": "stderr",
     "output_type": "stream",
     "text": [
      "[Parallel(n_jobs=-1)]: Done   9 tasks      | elapsed:    3.8s\n"
     ]
    },
    {
     "name": "stdout",
     "output_type": "stream",
     "text": [
      "building tree 11 of 450\n",
      "building tree 12 of 450\n",
      "building tree 13 of 450\n",
      "building tree 14 of 450\n",
      "building tree 15 of 450\n",
      "building tree 16 of 450\n"
     ]
    },
    {
     "name": "stderr",
     "output_type": "stream",
     "text": [
      "[Parallel(n_jobs=-1)]: Done  14 tasks      | elapsed:    5.5s\n"
     ]
    },
    {
     "name": "stdout",
     "output_type": "stream",
     "text": [
      "building tree 17 of 450\n",
      "building tree 18 of 450\n",
      "building tree 19 of 450\n",
      "building tree 20 of 450\n",
      "building tree 21 of 450\n",
      "building tree 22 of 450\n"
     ]
    },
    {
     "name": "stderr",
     "output_type": "stream",
     "text": [
      "[Parallel(n_jobs=-1)]: Done  21 tasks      | elapsed:    8.4s\n"
     ]
    },
    {
     "name": "stdout",
     "output_type": "stream",
     "text": [
      "building tree 23 of 450\n",
      "building tree 24 of 450\n",
      "building tree 25 of 450\n",
      "building tree 26 of 450\n",
      "building tree 27 of 450\n",
      "building tree 28 of 450\n",
      "building tree 29 of 450\n"
     ]
    },
    {
     "name": "stderr",
     "output_type": "stream",
     "text": [
      "[Parallel(n_jobs=-1)]: Done  28 tasks      | elapsed:   11.0s\n"
     ]
    },
    {
     "name": "stdout",
     "output_type": "stream",
     "text": [
      "building tree 30 of 450\n",
      "building tree 31 of 450\n",
      "building tree 32 of 450\n",
      "building tree 33 of 450\n",
      "building tree 34 of 450\n",
      "building tree 35 of 450\n",
      "building tree 36 of 450\n",
      "building tree 37 of 450\n",
      "building tree 38 of 450\n"
     ]
    },
    {
     "name": "stderr",
     "output_type": "stream",
     "text": [
      "[Parallel(n_jobs=-1)]: Done  37 tasks      | elapsed:   14.5s\n"
     ]
    },
    {
     "name": "stdout",
     "output_type": "stream",
     "text": [
      "building tree 39 of 450\n",
      "building tree 40 of 450\n",
      "building tree 41 of 450\n",
      "building tree 42 of 450\n",
      "building tree 43 of 450\n",
      "building tree 44 of 450\n",
      "building tree 45 of 450\n",
      "building tree 46 of 450\n",
      "building tree 47 of 450\n"
     ]
    },
    {
     "name": "stderr",
     "output_type": "stream",
     "text": [
      "[Parallel(n_jobs=-1)]: Done  46 tasks      | elapsed:   18.0s\n"
     ]
    },
    {
     "name": "stdout",
     "output_type": "stream",
     "text": [
      "building tree 48 of 450\n",
      "building tree 49 of 450\n",
      "building tree 50 of 450\n",
      "building tree 51 of 450\n",
      "building tree 52 of 450\n",
      "building tree 53 of 450\n",
      "building tree 54 of 450\n",
      "building tree 55 of 450\n",
      "building tree 56 of 450\n",
      "building tree 57 of 450\n",
      "building tree 58 of 450\n"
     ]
    },
    {
     "name": "stderr",
     "output_type": "stream",
     "text": [
      "[Parallel(n_jobs=-1)]: Done  57 tasks      | elapsed:   22.5s\n"
     ]
    },
    {
     "name": "stdout",
     "output_type": "stream",
     "text": [
      "building tree 59 of 450\n",
      "building tree 60 of 450\n",
      "building tree 61 of 450\n",
      "building tree 62 of 450\n",
      "building tree 63 of 450\n",
      "building tree 64 of 450\n",
      "building tree 65 of 450\n",
      "building tree 66 of 450\n",
      "building tree 67 of 450\n",
      "building tree 68 of 450\n",
      "building tree 69 of 450\n"
     ]
    },
    {
     "name": "stderr",
     "output_type": "stream",
     "text": [
      "[Parallel(n_jobs=-1)]: Done  68 tasks      | elapsed:   26.7s\n"
     ]
    },
    {
     "name": "stdout",
     "output_type": "stream",
     "text": [
      "building tree 70 of 450\n",
      "building tree 71 of 450\n",
      "building tree 72 of 450\n",
      "building tree 73 of 450\n",
      "building tree 74 of 450\n",
      "building tree 75 of 450\n",
      "building tree 76 of 450\n",
      "building tree 77 of 450\n",
      "building tree 78 of 450\n",
      "building tree 79 of 450\n",
      "building tree 80 of 450\n",
      "building tree 81 of 450\n",
      "building tree 82 of 450\n",
      "building tree 83 of 450\n"
     ]
    },
    {
     "name": "stderr",
     "output_type": "stream",
     "text": [
      "[Parallel(n_jobs=-1)]: Done  81 tasks      | elapsed:   31.7s\n"
     ]
    },
    {
     "name": "stdout",
     "output_type": "stream",
     "text": [
      "building tree 84 of 450\n",
      "building tree 85 of 450\n",
      "building tree 86 of 450\n",
      "building tree 87 of 450\n",
      "building tree 88 of 450\n",
      "building tree 89 of 450\n",
      "building tree 90 of 450\n",
      "building tree 91 of 450\n",
      "building tree 92 of 450\n",
      "building tree 93 of 450\n",
      "building tree 94 of 450\n",
      "building tree 95 of 450\n"
     ]
    },
    {
     "name": "stderr",
     "output_type": "stream",
     "text": [
      "[Parallel(n_jobs=-1)]: Done  94 tasks      | elapsed:   37.0s\n"
     ]
    },
    {
     "name": "stdout",
     "output_type": "stream",
     "text": [
      "building tree 96 of 450\n",
      "building tree 97 of 450\n",
      "building tree 98 of 450\n",
      "building tree 99 of 450\n",
      "building tree 100 of 450\n",
      "building tree 101 of 450\n",
      "building tree 102 of 450\n",
      "building tree 103 of 450\n",
      "building tree 104 of 450\n",
      "building tree 105 of 450\n",
      "building tree 106 of 450\n",
      "building tree 107 of 450\n",
      "building tree 108 of 450\n",
      "building tree 109 of 450\n",
      "building tree 110 of 450\n"
     ]
    },
    {
     "name": "stderr",
     "output_type": "stream",
     "text": [
      "[Parallel(n_jobs=-1)]: Done 109 tasks      | elapsed:   42.7s\n"
     ]
    },
    {
     "name": "stdout",
     "output_type": "stream",
     "text": [
      "building tree 111 of 450\n",
      "building tree 112 of 450\n",
      "building tree 113 of 450\n",
      "building tree 114 of 450\n",
      "building tree 115 of 450\n",
      "building tree 116 of 450\n",
      "building tree 117 of 450\n",
      "building tree 118 of 450\n",
      "building tree 119 of 450\n",
      "building tree 120 of 450\n",
      "building tree 121 of 450\n",
      "building tree 122 of 450\n",
      "building tree 123 of 450\n",
      "building tree 124 of 450\n",
      "building tree 125 of 450\n"
     ]
    },
    {
     "name": "stderr",
     "output_type": "stream",
     "text": [
      "[Parallel(n_jobs=-1)]: Done 124 tasks      | elapsed:   48.5s\n"
     ]
    },
    {
     "name": "stdout",
     "output_type": "stream",
     "text": [
      "building tree 126 of 450\n",
      "building tree 127 of 450\n",
      "building tree 128 of 450\n",
      "building tree 129 of 450\n",
      "building tree 130 of 450\n",
      "building tree 131 of 450\n",
      "building tree 132 of 450\n",
      "building tree 133 of 450\n",
      "building tree 134 of 450\n",
      "building tree 135 of 450\n",
      "building tree 136 of 450\n",
      "building tree 137 of 450\n",
      "building tree 138 of 450\n",
      "building tree 139 of 450\n",
      "building tree 140 of 450\n",
      "building tree 141 of 450\n",
      "building tree 142 of 450\n"
     ]
    },
    {
     "name": "stderr",
     "output_type": "stream",
     "text": [
      "[Parallel(n_jobs=-1)]: Done 141 tasks      | elapsed:   55.4s\n"
     ]
    },
    {
     "name": "stdout",
     "output_type": "stream",
     "text": [
      "building tree 143 of 450\n",
      "building tree 144 of 450\n",
      "building tree 145 of 450\n",
      "building tree 146 of 450\n",
      "building tree 147 of 450\n",
      "building tree 148 of 450\n",
      "building tree 149 of 450\n",
      "building tree 150 of 450\n",
      "building tree 151 of 450\n",
      "building tree 152 of 450\n",
      "building tree 153 of 450\n",
      "building tree 154 of 450\n",
      "building tree 155 of 450\n",
      "building tree 156 of 450\n",
      "building tree 157 of 450\n",
      "building tree 158 of 450\n",
      "building tree 159 of 450\n",
      "building tree 160 of 450\n"
     ]
    },
    {
     "name": "stderr",
     "output_type": "stream",
     "text": [
      "[Parallel(n_jobs=-1)]: Done 158 tasks      | elapsed:  1.0min\n"
     ]
    },
    {
     "name": "stdout",
     "output_type": "stream",
     "text": [
      "building tree 161 of 450\n",
      "building tree 162 of 450\n",
      "building tree 163 of 450\n",
      "building tree 164 of 450\n",
      "building tree 165 of 450\n",
      "building tree 166 of 450\n",
      "building tree 167 of 450\n",
      "building tree 168 of 450\n",
      "building tree 169 of 450\n",
      "building tree 170 of 450\n",
      "building tree 171 of 450\n",
      "building tree 172 of 450\n",
      "building tree 173 of 450\n",
      "building tree 174 of 450\n",
      "building tree 175 of 450\n",
      "building tree 176 of 450\n",
      "building tree 177 of 450\n",
      "building tree 178 of 450\n"
     ]
    },
    {
     "name": "stderr",
     "output_type": "stream",
     "text": [
      "[Parallel(n_jobs=-1)]: Done 177 tasks      | elapsed:  1.2min\n"
     ]
    },
    {
     "name": "stdout",
     "output_type": "stream",
     "text": [
      "building tree 179 of 450\n",
      "building tree 180 of 450\n",
      "building tree 181 of 450\n",
      "building tree 182 of 450\n",
      "building tree 183 of 450\n",
      "building tree 184 of 450\n",
      "building tree 185 of 450\n",
      "building tree 186 of 450\n",
      "building tree 187 of 450\n",
      "building tree 188 of 450\n",
      "building tree 189 of 450\n",
      "building tree 190 of 450\n",
      "building tree 191 of 450\n",
      "building tree 192 of 450\n",
      "building tree 193 of 450\n",
      "building tree 194 of 450\n",
      "building tree 195 of 450\n",
      "building tree 196 of 450\n",
      "building tree 197 of 450\n"
     ]
    },
    {
     "name": "stderr",
     "output_type": "stream",
     "text": [
      "[Parallel(n_jobs=-1)]: Done 196 tasks      | elapsed:  1.3min\n"
     ]
    },
    {
     "name": "stdout",
     "output_type": "stream",
     "text": [
      "building tree 198 of 450\n",
      "building tree 199 of 450\n",
      "building tree 200 of 450\n",
      "building tree 201 of 450\n",
      "building tree 202 of 450\n",
      "building tree 203 of 450\n",
      "building tree 204 of 450\n",
      "building tree 205 of 450\n",
      "building tree 206 of 450\n",
      "building tree 207 of 450\n",
      "building tree 208 of 450\n",
      "building tree 209 of 450\n",
      "building tree 210 of 450\n",
      "building tree 211 of 450\n",
      "building tree 212 of 450\n",
      "building tree 213 of 450\n",
      "building tree 214 of 450\n",
      "building tree 215 of 450\n",
      "building tree 216 of 450\n",
      "building tree 217 of 450\n",
      "building tree 218 of 450\n"
     ]
    },
    {
     "name": "stderr",
     "output_type": "stream",
     "text": [
      "[Parallel(n_jobs=-1)]: Done 217 tasks      | elapsed:  1.4min\n"
     ]
    },
    {
     "name": "stdout",
     "output_type": "stream",
     "text": [
      "building tree 219 of 450\n",
      "building tree 220 of 450\n",
      "building tree 221 of 450\n",
      "building tree 222 of 450\n",
      "building tree 223 of 450\n",
      "building tree 224 of 450\n",
      "building tree 225 of 450\n",
      "building tree 226 of 450\n",
      "building tree 227 of 450\n",
      "building tree 228 of 450\n",
      "building tree 229 of 450\n",
      "building tree 230 of 450\n",
      "building tree 231 of 450\n",
      "building tree 232 of 450\n",
      "building tree 233 of 450\n",
      "building tree 234 of 450\n",
      "building tree 235 of 450\n",
      "building tree 236 of 450\n",
      "building tree 237 of 450\n",
      "building tree 238 of 450\n"
     ]
    },
    {
     "name": "stderr",
     "output_type": "stream",
     "text": [
      "[Parallel(n_jobs=-1)]: Done 238 tasks      | elapsed:  1.5min\n"
     ]
    },
    {
     "name": "stdout",
     "output_type": "stream",
     "text": [
      "building tree 239 of 450building tree 240 of 450\n",
      "\n",
      "building tree 241 of 450\n",
      "building tree 242 of 450\n",
      "building tree 243 of 450\n",
      "building tree 244 of 450\n",
      "building tree 245 of 450\n",
      "building tree 246 of 450\n",
      "building tree 247 of 450\n",
      "building tree 248 of 450\n",
      "building tree 249 of 450\n",
      "building tree 250 of 450\n",
      "building tree 251 of 450\n",
      "building tree 252 of 450\n",
      "building tree 253 of 450\n",
      "building tree 254 of 450\n",
      "building tree 255 of 450\n",
      "building tree 256 of 450\n",
      "building tree 257 of 450\n",
      "building tree 258 of 450\n",
      "building tree 259 of 450\n",
      "building tree 260 of 450\n",
      "building tree 261 of 450\n",
      "building tree 262 of 450\n"
     ]
    },
    {
     "name": "stderr",
     "output_type": "stream",
     "text": [
      "[Parallel(n_jobs=-1)]: Done 261 tasks      | elapsed:  1.7min\n"
     ]
    },
    {
     "name": "stdout",
     "output_type": "stream",
     "text": [
      "building tree 263 of 450\n",
      "building tree 264 of 450\n",
      "building tree 265 of 450\n",
      "building tree 266 of 450\n",
      "building tree 267 of 450\n",
      "building tree 268 of 450\n",
      "building tree 269 of 450\n",
      "building tree 270 of 450\n",
      "building tree 271 of 450\n",
      "building tree 272 of 450\n",
      "building tree 273 of 450\n",
      "building tree 274 of 450\n",
      "building tree 275 of 450\n",
      "building tree 276 of 450\n",
      "building tree 277 of 450\n",
      "building tree 278 of 450\n",
      "building tree 279 of 450\n",
      "building tree 280 of 450\n",
      "building tree 281 of 450\n",
      "building tree 282 of 450\n",
      "building tree 283 of 450\n",
      "building tree 284 of 450\n",
      "building tree 285 of 450\n",
      "building tree 286 of 450\n"
     ]
    },
    {
     "name": "stderr",
     "output_type": "stream",
     "text": [
      "[Parallel(n_jobs=-1)]: Done 284 tasks      | elapsed:  1.8min\n"
     ]
    },
    {
     "name": "stdout",
     "output_type": "stream",
     "text": [
      "building tree 287 of 450\n",
      "building tree 288 of 450\n",
      "building tree 289 of 450\n",
      "building tree 290 of 450\n",
      "building tree 291 of 450\n",
      "building tree 292 of 450\n",
      "building tree 293 of 450\n",
      "building tree 294 of 450\n",
      "building tree 295 of 450\n",
      "building tree 296 of 450\n",
      "building tree 297 of 450\n",
      "building tree 298 of 450\n",
      "building tree 299 of 450\n",
      "building tree 300 of 450\n",
      "building tree 301 of 450\n",
      "building tree 302 of 450\n",
      "building tree 303 of 450\n",
      "building tree 304 of 450\n",
      "building tree 305 of 450\n",
      "building tree 306 of 450\n",
      "building tree 307 of 450\n",
      "building tree 308 of 450\n",
      "building tree 309 of 450\n",
      "building tree 310 of 450\n"
     ]
    },
    {
     "name": "stderr",
     "output_type": "stream",
     "text": [
      "[Parallel(n_jobs=-1)]: Done 309 tasks      | elapsed:  2.0min\n"
     ]
    },
    {
     "name": "stdout",
     "output_type": "stream",
     "text": [
      "building tree 311 of 450\n",
      "building tree 312 of 450\n",
      "building tree 313 of 450\n",
      "building tree 314 of 450\n",
      "building tree 315 of 450\n",
      "building tree 316 of 450\n",
      "building tree 317 of 450\n",
      "building tree 318 of 450\n",
      "building tree 319 of 450\n",
      "building tree 320 of 450\n",
      "building tree 321 of 450\n",
      "building tree 322 of 450\n",
      "building tree 323 of 450\n",
      "building tree 324 of 450\n",
      "building tree 325 of 450\n",
      "building tree 326 of 450\n",
      "building tree 327 of 450\n",
      "building tree 328 of 450\n",
      "building tree 329 of 450\n",
      "building tree 330 of 450\n",
      "building tree 331 of 450\n",
      "building tree 332 of 450\n",
      "building tree 333 of 450\n",
      "building tree 334 of 450\n",
      "building tree 335 of 450\n",
      "building tree 336 of 450\n"
     ]
    },
    {
     "name": "stderr",
     "output_type": "stream",
     "text": [
      "[Parallel(n_jobs=-1)]: Done 334 tasks      | elapsed:  2.2min\n"
     ]
    },
    {
     "name": "stdout",
     "output_type": "stream",
     "text": [
      "building tree 337 of 450\n",
      "building tree 338 of 450\n",
      "building tree 339 of 450\n",
      "building tree 340 of 450\n",
      "building tree 341 of 450\n",
      "building tree 342 of 450\n",
      "building tree 343 of 450\n",
      "building tree 344 of 450\n",
      "building tree 345 of 450\n",
      "building tree 346 of 450\n",
      "building tree 347 of 450\n",
      "building tree 348 of 450\n",
      "building tree 349 of 450\n",
      "building tree 350 of 450\n",
      "building tree 351 of 450\n",
      "building tree 352 of 450\n",
      "building tree 353 of 450\n",
      "building tree 354 of 450\n",
      "building tree 355 of 450\n",
      "building tree 356 of 450\n",
      "building tree 357 of 450\n",
      "building tree 358 of 450\n",
      "building tree 359 of 450\n",
      "building tree 360 of 450\n",
      "building tree 361 of 450\n",
      "building tree 362 of 450\n"
     ]
    },
    {
     "name": "stderr",
     "output_type": "stream",
     "text": [
      "[Parallel(n_jobs=-1)]: Done 361 tasks      | elapsed:  2.3min\n"
     ]
    },
    {
     "name": "stdout",
     "output_type": "stream",
     "text": [
      "building tree 363 of 450\n",
      "building tree 364 of 450\n",
      "building tree 365 of 450\n",
      "building tree 366 of 450\n",
      "building tree 367 of 450\n",
      "building tree 368 of 450\n",
      "building tree 369 of 450\n",
      "building tree 370 of 450\n",
      "building tree 371 of 450\n",
      "building tree 372 of 450\n",
      "building tree 373 of 450\n",
      "building tree 374 of 450\n",
      "building tree 375 of 450\n",
      "building tree 376 of 450\n",
      "building tree 377 of 450\n",
      "building tree 378 of 450\n",
      "building tree 379 of 450\n",
      "building tree 380 of 450\n",
      "building tree 381 of 450\n",
      "building tree 382 of 450\n",
      "building tree 383 of 450\n",
      "building tree 384 of 450\n",
      "building tree 385 of 450\n",
      "building tree 386 of 450\n",
      "building tree 387 of 450\n",
      "building tree 388 of 450\n",
      "building tree 389 of 450\n"
     ]
    },
    {
     "name": "stderr",
     "output_type": "stream",
     "text": [
      "[Parallel(n_jobs=-1)]: Done 388 tasks      | elapsed:  2.5min\n"
     ]
    },
    {
     "name": "stdout",
     "output_type": "stream",
     "text": [
      "building tree 390 of 450\n",
      "building tree 391 of 450\n",
      "building tree 392 of 450\n",
      "building tree 393 of 450\n",
      "building tree 394 of 450\n",
      "building tree 395 of 450\n",
      "building tree 396 of 450\n",
      "building tree 397 of 450\n",
      "building tree 398 of 450\n",
      "building tree 399 of 450\n",
      "building tree 400 of 450\n",
      "building tree 401 of 450\n",
      "building tree 402 of 450\n",
      "building tree 403 of 450\n",
      "building tree 404 of 450\n",
      "building tree 405 of 450\n",
      "building tree 406 of 450\n",
      "building tree 407 of 450\n",
      "building tree 408 of 450\n",
      "building tree 409 of 450\n",
      "building tree 410 of 450\n",
      "building tree 411 of 450\n",
      "building tree 412 of 450\n",
      "building tree 413 of 450\n",
      "building tree 414 of 450\n",
      "building tree 415 of 450\n",
      "building tree 416 of 450\n",
      "building tree 417 of 450\n",
      "building tree 418 of 450\n",
      "building tree 419 of 450\n"
     ]
    },
    {
     "name": "stderr",
     "output_type": "stream",
     "text": [
      "[Parallel(n_jobs=-1)]: Done 417 tasks      | elapsed:  2.7min\n"
     ]
    },
    {
     "name": "stdout",
     "output_type": "stream",
     "text": [
      "building tree 420 of 450\n",
      "building tree 421 of 450\n",
      "building tree 422 of 450\n",
      "building tree 423 of 450\n",
      "building tree 424 of 450\n",
      "building tree 425 of 450\n",
      "building tree 426 of 450\n",
      "building tree 427 of 450\n",
      "building tree 428 of 450\n",
      "building tree 429 of 450\n",
      "building tree 430 of 450\n",
      "building tree 431 of 450\n",
      "building tree 432 of 450\n",
      "building tree 433 of 450\n",
      "building tree 434 of 450\n",
      "building tree 435 of 450\n",
      "building tree 436 of 450\n",
      "building tree 437 of 450\n",
      "building tree 438 of 450\n",
      "building tree 439 of 450\n",
      "building tree 440 of 450\n",
      "building tree 441 of 450\n",
      "building tree 442 of 450\n",
      "building tree 443 of 450\n",
      "building tree 444 of 450\n",
      "building tree 445 of 450\n",
      "building tree 446 of 450\n",
      "building tree 447 of 450\n"
     ]
    },
    {
     "name": "stderr",
     "output_type": "stream",
     "text": [
      "[Parallel(n_jobs=-1)]: Done 446 tasks      | elapsed:  2.9min\n"
     ]
    },
    {
     "name": "stdout",
     "output_type": "stream",
     "text": [
      "building tree 448 of 450\n",
      "building tree 449 of 450\n",
      "building tree 450 of 450\n"
     ]
    },
    {
     "name": "stderr",
     "output_type": "stream",
     "text": [
      "[Parallel(n_jobs=-1)]: Done 450 out of 450 | elapsed:  2.9min finished\n",
      "[Parallel(n_jobs=2)]: Using backend ThreadingBackend with 2 concurrent workers.\n",
      "[Parallel(n_jobs=2)]: Done   1 tasks      | elapsed:    0.0s\n",
      "[Parallel(n_jobs=2)]: Done   4 tasks      | elapsed:    0.0s\n",
      "[Parallel(n_jobs=2)]: Done   9 tasks      | elapsed:    0.1s\n",
      "[Parallel(n_jobs=2)]: Done  14 tasks      | elapsed:    0.1s\n",
      "[Parallel(n_jobs=2)]: Done  21 tasks      | elapsed:    0.2s\n",
      "[Parallel(n_jobs=2)]: Done  28 tasks      | elapsed:    0.2s\n",
      "[Parallel(n_jobs=2)]: Done  37 tasks      | elapsed:    0.3s\n",
      "[Parallel(n_jobs=2)]: Done  46 tasks      | elapsed:    0.3s\n",
      "[Parallel(n_jobs=2)]: Done  57 tasks      | elapsed:    0.4s\n",
      "[Parallel(n_jobs=2)]: Done  68 tasks      | elapsed:    0.5s\n",
      "[Parallel(n_jobs=2)]: Done  81 tasks      | elapsed:    0.6s\n",
      "[Parallel(n_jobs=2)]: Done  94 tasks      | elapsed:    0.7s\n",
      "[Parallel(n_jobs=2)]: Done 109 tasks      | elapsed:    0.8s\n",
      "[Parallel(n_jobs=2)]: Done 124 tasks      | elapsed:    0.9s\n",
      "[Parallel(n_jobs=2)]: Done 141 tasks      | elapsed:    1.1s\n",
      "[Parallel(n_jobs=2)]: Done 158 tasks      | elapsed:    1.2s\n",
      "[Parallel(n_jobs=2)]: Done 177 tasks      | elapsed:    1.3s\n",
      "[Parallel(n_jobs=2)]: Done 196 tasks      | elapsed:    1.5s\n",
      "[Parallel(n_jobs=2)]: Done 217 tasks      | elapsed:    1.6s\n",
      "[Parallel(n_jobs=2)]: Done 238 tasks      | elapsed:    1.8s\n",
      "[Parallel(n_jobs=2)]: Done 261 tasks      | elapsed:    1.9s\n",
      "[Parallel(n_jobs=2)]: Done 284 tasks      | elapsed:    2.1s\n",
      "[Parallel(n_jobs=2)]: Done 309 tasks      | elapsed:    2.3s\n",
      "[Parallel(n_jobs=2)]: Done 334 tasks      | elapsed:    2.5s\n",
      "[Parallel(n_jobs=2)]: Done 361 tasks      | elapsed:    2.7s\n",
      "[Parallel(n_jobs=2)]: Done 388 tasks      | elapsed:    2.9s\n",
      "[Parallel(n_jobs=2)]: Done 417 tasks      | elapsed:    3.1s\n",
      "[Parallel(n_jobs=2)]: Done 446 tasks      | elapsed:    3.3s\n",
      "[Parallel(n_jobs=2)]: Done 450 out of 450 | elapsed:    3.3s finished\n"
     ]
    },
    {
     "name": "stdout",
     "output_type": "stream",
     "text": [
      "1 0.7306462104170137\n"
     ]
    },
    {
     "name": "stderr",
     "output_type": "stream",
     "text": [
      "[Parallel(n_jobs=-1)]: Using backend ThreadingBackend with 2 concurrent workers.\n"
     ]
    },
    {
     "name": "stdout",
     "output_type": "stream",
     "text": [
      "building tree 1 of 450\n",
      "building tree 2 of 450\n"
     ]
    },
    {
     "name": "stderr",
     "output_type": "stream",
     "text": [
      "[Parallel(n_jobs=-1)]: Done   1 tasks      | elapsed:    0.8s\n"
     ]
    },
    {
     "name": "stdout",
     "output_type": "stream",
     "text": [
      "building tree 3 of 450\n",
      "building tree 4 of 450\n",
      "building tree 5 of 450\n",
      "building tree 6 of 450\n"
     ]
    },
    {
     "name": "stderr",
     "output_type": "stream",
     "text": [
      "[Parallel(n_jobs=-1)]: Done   4 tasks      | elapsed:    1.6s\n"
     ]
    },
    {
     "name": "stdout",
     "output_type": "stream",
     "text": [
      "building tree 7 of 450\n",
      "building tree 8 of 450\n",
      "building tree 9 of 450\n",
      "building tree 10 of 450\n"
     ]
    },
    {
     "name": "stderr",
     "output_type": "stream",
     "text": [
      "[Parallel(n_jobs=-1)]: Done   9 tasks      | elapsed:    3.9s\n"
     ]
    },
    {
     "name": "stdout",
     "output_type": "stream",
     "text": [
      "building tree 11 of 450\n",
      "building tree 12 of 450\n",
      "building tree 13 of 450\n",
      "building tree 14 of 450\n",
      "building tree 15 of 450\n",
      "building tree 16 of 450\n"
     ]
    },
    {
     "name": "stderr",
     "output_type": "stream",
     "text": [
      "[Parallel(n_jobs=-1)]: Done  14 tasks      | elapsed:    5.6s\n"
     ]
    },
    {
     "name": "stdout",
     "output_type": "stream",
     "text": [
      "building tree 17 of 450\n",
      "building tree 18 of 450\n",
      "building tree 19 of 450\n",
      "building tree 20 of 450\n",
      "building tree 21 of 450\n",
      "building tree 22 of 450\n"
     ]
    },
    {
     "name": "stderr",
     "output_type": "stream",
     "text": [
      "[Parallel(n_jobs=-1)]: Done  21 tasks      | elapsed:    8.6s\n"
     ]
    },
    {
     "name": "stdout",
     "output_type": "stream",
     "text": [
      "building tree 23 of 450\n",
      "building tree 24 of 450\n",
      "building tree 25 of 450\n",
      "building tree 26 of 450\n",
      "building tree 27 of 450\n",
      "building tree 28 of 450\n",
      "building tree 29 of 450\n",
      "building tree 30 of 450\n"
     ]
    },
    {
     "name": "stderr",
     "output_type": "stream",
     "text": [
      "[Parallel(n_jobs=-1)]: Done  28 tasks      | elapsed:   11.0s\n"
     ]
    },
    {
     "name": "stdout",
     "output_type": "stream",
     "text": [
      "building tree 31 of 450\n",
      "building tree 32 of 450\n",
      "building tree 33 of 450\n",
      "building tree 34 of 450\n",
      "building tree 35 of 450\n",
      "building tree 36 of 450\n",
      "building tree 37 of 450\n",
      "building tree 38 of 450\n"
     ]
    },
    {
     "name": "stderr",
     "output_type": "stream",
     "text": [
      "[Parallel(n_jobs=-1)]: Done  37 tasks      | elapsed:   14.7s\n"
     ]
    },
    {
     "name": "stdout",
     "output_type": "stream",
     "text": [
      "building tree 39 of 450\n",
      "building tree 40 of 450\n",
      "building tree 41 of 450\n",
      "building tree 42 of 450\n",
      "building tree 43 of 450\n",
      "building tree 44 of 450\n",
      "building tree 45 of 450\n",
      "building tree 46 of 450\n",
      "building tree 47 of 450\n",
      "building tree 48 of 450\n"
     ]
    },
    {
     "name": "stderr",
     "output_type": "stream",
     "text": [
      "[Parallel(n_jobs=-1)]: Done  46 tasks      | elapsed:   17.8s\n"
     ]
    },
    {
     "name": "stdout",
     "output_type": "stream",
     "text": [
      "building tree 49 of 450\n",
      "building tree 50 of 450\n",
      "building tree 51 of 450\n",
      "building tree 52 of 450\n",
      "building tree 53 of 450\n",
      "building tree 54 of 450\n",
      "building tree 55 of 450\n",
      "building tree 56 of 450\n",
      "building tree 57 of 450\n",
      "building tree 58 of 450\n"
     ]
    },
    {
     "name": "stderr",
     "output_type": "stream",
     "text": [
      "[Parallel(n_jobs=-1)]: Done  57 tasks      | elapsed:   22.3s\n"
     ]
    },
    {
     "name": "stdout",
     "output_type": "stream",
     "text": [
      "building tree 59 of 450\n",
      "building tree 60 of 450\n",
      "building tree 61 of 450\n",
      "building tree 62 of 450\n",
      "building tree 63 of 450\n",
      "building tree 64 of 450\n",
      "building tree 65 of 450\n",
      "building tree 66 of 450\n",
      "building tree 67 of 450\n",
      "building tree 68 of 450\n",
      "building tree 69 of 450\n",
      "building tree 70 of 450\n"
     ]
    },
    {
     "name": "stderr",
     "output_type": "stream",
     "text": [
      "[Parallel(n_jobs=-1)]: Done  68 tasks      | elapsed:   26.3s\n"
     ]
    },
    {
     "name": "stdout",
     "output_type": "stream",
     "text": [
      "building tree 71 of 450\n",
      "building tree 72 of 450\n",
      "building tree 73 of 450\n",
      "building tree 74 of 450\n",
      "building tree 75 of 450\n",
      "building tree 76 of 450\n",
      "building tree 77 of 450\n",
      "building tree 78 of 450\n",
      "building tree 79 of 450\n",
      "building tree 80 of 450\n",
      "building tree 81 of 450\n",
      "building tree 82 of 450\n"
     ]
    },
    {
     "name": "stderr",
     "output_type": "stream",
     "text": [
      "[Parallel(n_jobs=-1)]: Done  81 tasks      | elapsed:   31.4s\n"
     ]
    },
    {
     "name": "stdout",
     "output_type": "stream",
     "text": [
      "building tree 83 of 450\n",
      "building tree 84 of 450\n",
      "building tree 85 of 450\n",
      "building tree 86 of 450\n",
      "building tree 87 of 450\n",
      "building tree 88 of 450\n",
      "building tree 89 of 450\n",
      "building tree 90 of 450\n",
      "building tree 91 of 450\n",
      "building tree 92 of 450\n",
      "building tree 93 of 450\n",
      "building tree 94 of 450\n",
      "building tree 95 of 450\n",
      "building tree 96 of 450\n"
     ]
    },
    {
     "name": "stderr",
     "output_type": "stream",
     "text": [
      "[Parallel(n_jobs=-1)]: Done  94 tasks      | elapsed:   36.1s\n"
     ]
    },
    {
     "name": "stdout",
     "output_type": "stream",
     "text": [
      "building tree 97 of 450\n",
      "building tree 98 of 450\n",
      "building tree 99 of 450\n",
      "building tree 100 of 450\n",
      "building tree 101 of 450\n",
      "building tree 102 of 450\n",
      "building tree 103 of 450\n",
      "building tree 104 of 450\n",
      "building tree 105 of 450\n",
      "building tree 106 of 450\n",
      "building tree 107 of 450\n",
      "building tree 108 of 450\n",
      "building tree 109 of 450\n",
      "building tree 110 of 450\n"
     ]
    },
    {
     "name": "stderr",
     "output_type": "stream",
     "text": [
      "[Parallel(n_jobs=-1)]: Done 109 tasks      | elapsed:   42.3s\n"
     ]
    },
    {
     "name": "stdout",
     "output_type": "stream",
     "text": [
      "building tree 111 of 450\n",
      "building tree 112 of 450\n",
      "building tree 113 of 450\n",
      "building tree 114 of 450\n",
      "building tree 115 of 450\n",
      "building tree 116 of 450\n",
      "building tree 117 of 450\n",
      "building tree 118 of 450\n",
      "building tree 119 of 450\n",
      "building tree 120 of 450\n",
      "building tree 121 of 450\n",
      "building tree 122 of 450\n",
      "building tree 123 of 450\n",
      "building tree 124 of 450\n",
      "building tree 125 of 450\n",
      "building tree 126 of 450\n"
     ]
    },
    {
     "name": "stderr",
     "output_type": "stream",
     "text": [
      "[Parallel(n_jobs=-1)]: Done 124 tasks      | elapsed:   47.7s\n"
     ]
    },
    {
     "name": "stdout",
     "output_type": "stream",
     "text": [
      "building tree 127 of 450\n",
      "building tree 128 of 450\n",
      "building tree 129 of 450\n",
      "building tree 130 of 450\n",
      "building tree 131 of 450\n",
      "building tree 132 of 450\n",
      "building tree 133 of 450\n",
      "building tree 134 of 450\n",
      "building tree 135 of 450\n",
      "building tree 136 of 450\n",
      "building tree 137 of 450\n",
      "building tree 138 of 450\n",
      "building tree 139 of 450\n",
      "building tree 140 of 450\n",
      "building tree 141 of 450\n",
      "building tree 142 of 450\n"
     ]
    },
    {
     "name": "stderr",
     "output_type": "stream",
     "text": [
      "[Parallel(n_jobs=-1)]: Done 141 tasks      | elapsed:   54.5s\n"
     ]
    },
    {
     "name": "stdout",
     "output_type": "stream",
     "text": [
      "building tree 143 of 450\n",
      "building tree 144 of 450\n",
      "building tree 145 of 450\n",
      "building tree 146 of 450\n",
      "building tree 147 of 450\n",
      "building tree 148 of 450\n",
      "building tree 149 of 450\n",
      "building tree 150 of 450\n",
      "building tree 151 of 450\n",
      "building tree 152 of 450\n",
      "building tree 153 of 450\n",
      "building tree 154 of 450\n",
      "building tree 155 of 450\n",
      "building tree 156 of 450\n",
      "building tree 157 of 450\n",
      "building tree 158 of 450\n",
      "building tree 159 of 450\n",
      "building tree 160 of 450\n"
     ]
    },
    {
     "name": "stderr",
     "output_type": "stream",
     "text": [
      "[Parallel(n_jobs=-1)]: Done 158 tasks      | elapsed:  1.0min\n"
     ]
    },
    {
     "name": "stdout",
     "output_type": "stream",
     "text": [
      "building tree 161 of 450\n",
      "building tree 162 of 450\n",
      "building tree 163 of 450\n",
      "building tree 164 of 450\n",
      "building tree 165 of 450\n",
      "building tree 166 of 450\n",
      "building tree 167 of 450\n",
      "building tree 168 of 450\n",
      "building tree 169 of 450\n",
      "building tree 170 of 450\n",
      "building tree 171 of 450\n",
      "building tree 172 of 450\n",
      "building tree 173 of 450\n",
      "building tree 174 of 450\n",
      "building tree 175 of 450\n",
      "building tree 176 of 450\n",
      "building tree 177 of 450\n",
      "building tree 178 of 450\n"
     ]
    },
    {
     "name": "stderr",
     "output_type": "stream",
     "text": [
      "[Parallel(n_jobs=-1)]: Done 177 tasks      | elapsed:  1.1min\n"
     ]
    },
    {
     "name": "stdout",
     "output_type": "stream",
     "text": [
      "building tree 179 of 450\n",
      "building tree 180 of 450\n",
      "building tree 181 of 450\n",
      "building tree 182 of 450\n",
      "building tree 183 of 450\n",
      "building tree 184 of 450\n",
      "building tree 185 of 450\n",
      "building tree 186 of 450\n",
      "building tree 187 of 450\n",
      "building tree 188 of 450\n",
      "building tree 189 of 450\n",
      "building tree 190 of 450\n",
      "building tree 191 of 450\n",
      "building tree 192 of 450\n",
      "building tree 193 of 450\n",
      "building tree 194 of 450\n",
      "building tree 195 of 450\n",
      "building tree 196 of 450\n",
      "building tree 197 of 450\n",
      "building tree 198 of 450\n"
     ]
    },
    {
     "name": "stderr",
     "output_type": "stream",
     "text": [
      "[Parallel(n_jobs=-1)]: Done 196 tasks      | elapsed:  1.3min\n"
     ]
    },
    {
     "name": "stdout",
     "output_type": "stream",
     "text": [
      "building tree 199 of 450\n",
      "building tree 200 of 450\n",
      "building tree 201 of 450\n",
      "building tree 202 of 450\n",
      "building tree 203 of 450\n",
      "building tree 204 of 450\n",
      "building tree 205 of 450\n",
      "building tree 206 of 450\n",
      "building tree 207 of 450\n",
      "building tree 208 of 450\n",
      "building tree 209 of 450\n",
      "building tree 210 of 450\n",
      "building tree 211 of 450\n",
      "building tree 212 of 450\n",
      "building tree 213 of 450\n",
      "building tree 214 of 450\n",
      "building tree 215 of 450\n",
      "building tree 216 of 450\n",
      "building tree 217 of 450\n",
      "building tree 218 of 450\n"
     ]
    },
    {
     "name": "stderr",
     "output_type": "stream",
     "text": [
      "[Parallel(n_jobs=-1)]: Done 217 tasks      | elapsed:  1.4min\n"
     ]
    },
    {
     "name": "stdout",
     "output_type": "stream",
     "text": [
      "building tree 219 of 450\n",
      "building tree 220 of 450\n",
      "building tree 221 of 450\n",
      "building tree 222 of 450\n",
      "building tree 223 of 450\n",
      "building tree 224 of 450\n",
      "building tree 225 of 450\n",
      "building tree 226 of 450\n",
      "building tree 227 of 450\n",
      "building tree 228 of 450\n",
      "building tree 229 of 450\n",
      "building tree 230 of 450\n",
      "building tree 231 of 450\n",
      "building tree 232 of 450\n",
      "building tree 233 of 450\n",
      "building tree 234 of 450\n",
      "building tree 235 of 450\n",
      "building tree 236 of 450\n",
      "building tree 237 of 450\n",
      "building tree 238 of 450\n",
      "building tree 239 of 450\n",
      "building tree 240 of 450\n"
     ]
    },
    {
     "name": "stderr",
     "output_type": "stream",
     "text": [
      "[Parallel(n_jobs=-1)]: Done 238 tasks      | elapsed:  1.5min\n"
     ]
    },
    {
     "name": "stdout",
     "output_type": "stream",
     "text": [
      "building tree 241 of 450\n",
      "building tree 242 of 450\n",
      "building tree 243 of 450\n",
      "building tree 244 of 450\n",
      "building tree 245 of 450\n",
      "building tree 246 of 450\n",
      "building tree 247 of 450\n",
      "building tree 248 of 450\n",
      "building tree 249 of 450\n",
      "building tree 250 of 450\n",
      "building tree 251 of 450\n",
      "building tree 252 of 450\n",
      "building tree 253 of 450\n",
      "building tree 254 of 450\n",
      "building tree 255 of 450\n",
      "building tree 256 of 450\n",
      "building tree 257 of 450\n",
      "building tree 258 of 450\n",
      "building tree 259 of 450\n",
      "building tree 260 of 450\n",
      "building tree 261 of 450\n",
      "building tree 262 of 450\n"
     ]
    },
    {
     "name": "stderr",
     "output_type": "stream",
     "text": [
      "[Parallel(n_jobs=-1)]: Done 261 tasks      | elapsed:  1.7min\n"
     ]
    },
    {
     "name": "stdout",
     "output_type": "stream",
     "text": [
      "building tree 263 of 450\n",
      "building tree 264 of 450\n",
      "building tree 265 of 450\n",
      "building tree 266 of 450\n",
      "building tree 267 of 450\n",
      "building tree 268 of 450\n",
      "building tree 269 of 450\n",
      "building tree 270 of 450\n",
      "building tree 271 of 450\n",
      "building tree 272 of 450\n",
      "building tree 273 of 450\n",
      "building tree 274 of 450\n",
      "building tree 275 of 450\n",
      "building tree 276 of 450\n",
      "building tree 277 of 450\n",
      "building tree 278 of 450\n",
      "building tree 279 of 450\n",
      "building tree 280 of 450\n",
      "building tree 281 of 450\n",
      "building tree 282 of 450\n",
      "building tree 283 of 450\n",
      "building tree 284 of 450\n",
      "building tree 285 of 450\n"
     ]
    },
    {
     "name": "stderr",
     "output_type": "stream",
     "text": [
      "[Parallel(n_jobs=-1)]: Done 284 tasks      | elapsed:  1.8min\n"
     ]
    },
    {
     "name": "stdout",
     "output_type": "stream",
     "text": [
      "building tree 286 of 450\n",
      "building tree 287 of 450\n",
      "building tree 288 of 450\n",
      "building tree 289 of 450\n",
      "building tree 290 of 450\n",
      "building tree 291 of 450\n",
      "building tree 292 of 450\n",
      "building tree 293 of 450\n",
      "building tree 294 of 450\n",
      "building tree 295 of 450\n",
      "building tree 296 of 450\n",
      "building tree 297 of 450\n",
      "building tree 298 of 450\n",
      "building tree 299 of 450\n",
      "building tree 300 of 450\n",
      "building tree 301 of 450\n",
      "building tree 302 of 450\n",
      "building tree 303 of 450\n",
      "building tree 304 of 450\n",
      "building tree 305 of 450\n",
      "building tree 306 of 450\n",
      "building tree 307 of 450\n",
      "building tree 308 of 450\n",
      "building tree 309 of 450\n",
      "building tree 310 of 450\n"
     ]
    },
    {
     "name": "stderr",
     "output_type": "stream",
     "text": [
      "[Parallel(n_jobs=-1)]: Done 309 tasks      | elapsed:  2.0min\n"
     ]
    },
    {
     "name": "stdout",
     "output_type": "stream",
     "text": [
      "building tree 311 of 450\n",
      "building tree 312 of 450\n",
      "building tree 313 of 450\n",
      "building tree 314 of 450\n",
      "building tree 315 of 450\n",
      "building tree 316 of 450\n",
      "building tree 317 of 450\n",
      "building tree 318 of 450\n",
      "building tree 319 of 450\n",
      "building tree 320 of 450\n",
      "building tree 321 of 450\n",
      "building tree 322 of 450\n",
      "building tree 323 of 450\n",
      "building tree 324 of 450\n",
      "building tree 325 of 450\n",
      "building tree 326 of 450\n",
      "building tree 327 of 450\n",
      "building tree 328 of 450\n",
      "building tree 329 of 450\n",
      "building tree 330 of 450\n",
      "building tree 331 of 450\n",
      "building tree 332 of 450\n",
      "building tree 333 of 450\n",
      "building tree 334 of 450\n",
      "building tree 335 of 450\n"
     ]
    },
    {
     "name": "stderr",
     "output_type": "stream",
     "text": [
      "[Parallel(n_jobs=-1)]: Done 334 tasks      | elapsed:  2.1min\n"
     ]
    },
    {
     "name": "stdout",
     "output_type": "stream",
     "text": [
      "building tree 336 of 450\n",
      "building tree 337 of 450\n",
      "building tree 338 of 450\n",
      "building tree 339 of 450\n",
      "building tree 340 of 450\n",
      "building tree 341 of 450\n",
      "building tree 342 of 450\n",
      "building tree 343 of 450\n",
      "building tree 344 of 450\n",
      "building tree 345 of 450\n",
      "building tree 346 of 450\n",
      "building tree 347 of 450\n",
      "building tree 348 of 450\n",
      "building tree 349 of 450\n",
      "building tree 350 of 450\n",
      "building tree 351 of 450\n",
      "building tree 352 of 450\n",
      "building tree 353 of 450\n",
      "building tree 354 of 450\n",
      "building tree 355 of 450\n",
      "building tree 356 of 450\n",
      "building tree 357 of 450\n",
      "building tree 358 of 450\n",
      "building tree 359 of 450\n",
      "building tree 360 of 450\n",
      "building tree 361 of 450\n",
      "building tree 362 of 450\n"
     ]
    },
    {
     "name": "stderr",
     "output_type": "stream",
     "text": [
      "[Parallel(n_jobs=-1)]: Done 361 tasks      | elapsed:  2.3min\n"
     ]
    },
    {
     "name": "stdout",
     "output_type": "stream",
     "text": [
      "building tree 363 of 450\n",
      "building tree 364 of 450\n",
      "building tree 365 of 450\n",
      "building tree 366 of 450\n",
      "building tree 367 of 450\n",
      "building tree 368 of 450\n",
      "building tree 369 of 450\n",
      "building tree 370 of 450\n",
      "building tree 371 of 450\n",
      "building tree 372 of 450\n",
      "building tree 373 of 450\n",
      "building tree 374 of 450\n",
      "building tree 375 of 450\n",
      "building tree 376 of 450\n",
      "building tree 377 of 450\n",
      "building tree 378 of 450\n",
      "building tree 379 of 450\n",
      "building tree 380 of 450\n",
      "building tree 381 of 450\n",
      "building tree 382 of 450\n",
      "building tree 383 of 450\n",
      "building tree 384 of 450\n",
      "building tree 385 of 450\n",
      "building tree 386 of 450\n",
      "building tree 387 of 450\n",
      "building tree 388 of 450\n",
      "building tree 389 of 450\n"
     ]
    },
    {
     "name": "stderr",
     "output_type": "stream",
     "text": [
      "[Parallel(n_jobs=-1)]: Done 388 tasks      | elapsed:  2.5min\n"
     ]
    },
    {
     "name": "stdout",
     "output_type": "stream",
     "text": [
      "building tree 390 of 450\n",
      "building tree 391 of 450\n",
      "building tree 392 of 450\n",
      "building tree 393 of 450\n",
      "building tree 394 of 450\n",
      "building tree 395 of 450\n",
      "building tree 396 of 450\n",
      "building tree 397 of 450\n",
      "building tree 398 of 450\n",
      "building tree 399 of 450\n",
      "building tree 400 of 450\n",
      "building tree 401 of 450\n",
      "building tree 402 of 450\n",
      "building tree 403 of 450\n",
      "building tree 404 of 450\n",
      "building tree 405 of 450\n",
      "building tree 406 of 450\n",
      "building tree 407 of 450\n",
      "building tree 408 of 450\n",
      "building tree 409 of 450\n",
      "building tree 410 of 450\n",
      "building tree 411 of 450\n",
      "building tree 412 of 450\n",
      "building tree 413 of 450\n",
      "building tree 414 of 450\n",
      "building tree 415 of 450\n",
      "building tree 416 of 450\n",
      "building tree 417 of 450\n",
      "building tree 418 of 450\n"
     ]
    },
    {
     "name": "stderr",
     "output_type": "stream",
     "text": [
      "[Parallel(n_jobs=-1)]: Done 417 tasks      | elapsed:  2.7min\n"
     ]
    },
    {
     "name": "stdout",
     "output_type": "stream",
     "text": [
      "building tree 419 of 450\n",
      "building tree 420 of 450\n",
      "building tree 421 of 450\n",
      "building tree 422 of 450\n",
      "building tree 423 of 450\n",
      "building tree 424 of 450\n",
      "building tree 425 of 450\n",
      "building tree 426 of 450\n",
      "building tree 427 of 450\n",
      "building tree 428 of 450\n",
      "building tree 429 of 450\n",
      "building tree 430 of 450\n",
      "building tree 431 of 450\n",
      "building tree 432 of 450\n",
      "building tree 433 of 450\n",
      "building tree 434 of 450\n",
      "building tree 435 of 450\n",
      "building tree 436 of 450\n",
      "building tree 437 of 450\n",
      "building tree 438 of 450\n",
      "building tree 439 of 450\n",
      "building tree 440 of 450\n",
      "building tree 441 of 450\n",
      "building tree 442 of 450\n",
      "building tree 443 of 450\n",
      "building tree 444 of 450\n",
      "building tree 445 of 450\n",
      "building tree 446 of 450\n",
      "building tree 447 of 450\n"
     ]
    },
    {
     "name": "stderr",
     "output_type": "stream",
     "text": [
      "[Parallel(n_jobs=-1)]: Done 446 tasks      | elapsed:  2.8min\n"
     ]
    },
    {
     "name": "stdout",
     "output_type": "stream",
     "text": [
      "building tree 448 of 450\n",
      "building tree 449 of 450\n",
      "building tree 450 of 450\n"
     ]
    },
    {
     "name": "stderr",
     "output_type": "stream",
     "text": [
      "[Parallel(n_jobs=-1)]: Done 450 out of 450 | elapsed:  2.9min finished\n",
      "[Parallel(n_jobs=2)]: Using backend ThreadingBackend with 2 concurrent workers.\n",
      "[Parallel(n_jobs=2)]: Done   1 tasks      | elapsed:    0.0s\n",
      "[Parallel(n_jobs=2)]: Done   4 tasks      | elapsed:    0.0s\n",
      "[Parallel(n_jobs=2)]: Done   9 tasks      | elapsed:    0.1s\n",
      "[Parallel(n_jobs=2)]: Done  14 tasks      | elapsed:    0.1s\n",
      "[Parallel(n_jobs=2)]: Done  21 tasks      | elapsed:    0.2s\n",
      "[Parallel(n_jobs=2)]: Done  28 tasks      | elapsed:    0.2s\n",
      "[Parallel(n_jobs=2)]: Done  37 tasks      | elapsed:    0.3s\n",
      "[Parallel(n_jobs=2)]: Done  46 tasks      | elapsed:    0.3s\n",
      "[Parallel(n_jobs=2)]: Done  57 tasks      | elapsed:    0.4s\n",
      "[Parallel(n_jobs=2)]: Done  68 tasks      | elapsed:    0.5s\n",
      "[Parallel(n_jobs=2)]: Done  81 tasks      | elapsed:    0.6s\n",
      "[Parallel(n_jobs=2)]: Done  94 tasks      | elapsed:    0.7s\n",
      "[Parallel(n_jobs=2)]: Done 109 tasks      | elapsed:    0.8s\n",
      "[Parallel(n_jobs=2)]: Done 124 tasks      | elapsed:    0.9s\n",
      "[Parallel(n_jobs=2)]: Done 141 tasks      | elapsed:    1.1s\n",
      "[Parallel(n_jobs=2)]: Done 158 tasks      | elapsed:    1.2s\n",
      "[Parallel(n_jobs=2)]: Done 177 tasks      | elapsed:    1.3s\n",
      "[Parallel(n_jobs=2)]: Done 196 tasks      | elapsed:    1.5s\n",
      "[Parallel(n_jobs=2)]: Done 217 tasks      | elapsed:    1.6s\n",
      "[Parallel(n_jobs=2)]: Done 238 tasks      | elapsed:    1.8s\n",
      "[Parallel(n_jobs=2)]: Done 261 tasks      | elapsed:    1.9s\n",
      "[Parallel(n_jobs=2)]: Done 284 tasks      | elapsed:    2.1s\n",
      "[Parallel(n_jobs=2)]: Done 309 tasks      | elapsed:    2.3s\n",
      "[Parallel(n_jobs=2)]: Done 334 tasks      | elapsed:    2.4s\n",
      "[Parallel(n_jobs=2)]: Done 361 tasks      | elapsed:    2.7s\n",
      "[Parallel(n_jobs=2)]: Done 388 tasks      | elapsed:    2.9s\n",
      "[Parallel(n_jobs=2)]: Done 417 tasks      | elapsed:    3.1s\n",
      "[Parallel(n_jobs=2)]: Done 446 tasks      | elapsed:    3.3s\n",
      "[Parallel(n_jobs=2)]: Done 450 out of 450 | elapsed:    3.3s finished\n"
     ]
    },
    {
     "name": "stdout",
     "output_type": "stream",
     "text": [
      "2 0.7240888749837917\n"
     ]
    },
    {
     "name": "stderr",
     "output_type": "stream",
     "text": [
      "[Parallel(n_jobs=-1)]: Using backend ThreadingBackend with 2 concurrent workers.\n"
     ]
    },
    {
     "name": "stdout",
     "output_type": "stream",
     "text": [
      "building tree 1 of 450\n",
      "building tree 2 of 450\n"
     ]
    },
    {
     "name": "stderr",
     "output_type": "stream",
     "text": [
      "[Parallel(n_jobs=-1)]: Done   1 tasks      | elapsed:    0.7s\n"
     ]
    },
    {
     "name": "stdout",
     "output_type": "stream",
     "text": [
      "building tree 3 of 450\n",
      "building tree 4 of 450\n",
      "building tree 5 of 450\n",
      "building tree 6 of 450\n"
     ]
    },
    {
     "name": "stderr",
     "output_type": "stream",
     "text": [
      "[Parallel(n_jobs=-1)]: Done   4 tasks      | elapsed:    1.7s\n"
     ]
    },
    {
     "name": "stdout",
     "output_type": "stream",
     "text": [
      "building tree 7 of 450\n",
      "building tree 8 of 450\n",
      "building tree 9 of 450\n",
      "building tree 10 of 450\n"
     ]
    },
    {
     "name": "stderr",
     "output_type": "stream",
     "text": [
      "[Parallel(n_jobs=-1)]: Done   9 tasks      | elapsed:    3.8s\n"
     ]
    },
    {
     "name": "stdout",
     "output_type": "stream",
     "text": [
      "building tree 11 of 450\n",
      "building tree 12 of 450\n",
      "building tree 13 of 450\n",
      "building tree 14 of 450\n",
      "building tree 15 of 450\n",
      "building tree 16 of 450\n"
     ]
    },
    {
     "name": "stderr",
     "output_type": "stream",
     "text": [
      "[Parallel(n_jobs=-1)]: Done  14 tasks      | elapsed:    5.4s\n"
     ]
    },
    {
     "name": "stdout",
     "output_type": "stream",
     "text": [
      "building tree 17 of 450\n",
      "building tree 18 of 450\n",
      "building tree 19 of 450\n",
      "building tree 20 of 450\n",
      "building tree 21 of 450\n",
      "building tree 22 of 450\n"
     ]
    },
    {
     "name": "stderr",
     "output_type": "stream",
     "text": [
      "[Parallel(n_jobs=-1)]: Done  21 tasks      | elapsed:    8.4s\n"
     ]
    },
    {
     "name": "stdout",
     "output_type": "stream",
     "text": [
      "building tree 23 of 450\n",
      "building tree 24 of 450\n",
      "building tree 25 of 450\n",
      "building tree 26 of 450\n",
      "building tree 27 of 450\n",
      "building tree 28 of 450\n",
      "building tree 29 of 450\n",
      "building tree 30 of 450\n"
     ]
    },
    {
     "name": "stderr",
     "output_type": "stream",
     "text": [
      "[Parallel(n_jobs=-1)]: Done  28 tasks      | elapsed:   10.8s\n"
     ]
    },
    {
     "name": "stdout",
     "output_type": "stream",
     "text": [
      "building tree 31 of 450\n",
      "building tree 32 of 450\n",
      "building tree 33 of 450\n",
      "building tree 34 of 450\n",
      "building tree 35 of 450\n",
      "building tree 36 of 450\n",
      "building tree 37 of 450\n",
      "building tree 38 of 450\n"
     ]
    },
    {
     "name": "stderr",
     "output_type": "stream",
     "text": [
      "[Parallel(n_jobs=-1)]: Done  37 tasks      | elapsed:   14.5s\n"
     ]
    },
    {
     "name": "stdout",
     "output_type": "stream",
     "text": [
      "building tree 39 of 450\n",
      "building tree 40 of 450\n",
      "building tree 41 of 450\n",
      "building tree 42 of 450\n",
      "building tree 43 of 450\n",
      "building tree 44 of 450\n",
      "building tree 45 of 450\n",
      "building tree 46 of 450\n",
      "building tree 47 of 450\n",
      "building tree 48 of 450\n"
     ]
    },
    {
     "name": "stderr",
     "output_type": "stream",
     "text": [
      "[Parallel(n_jobs=-1)]: Done  46 tasks      | elapsed:   17.8s\n"
     ]
    },
    {
     "name": "stdout",
     "output_type": "stream",
     "text": [
      "building tree 49 of 450\n",
      "building tree 50 of 450\n",
      "building tree 51 of 450\n",
      "building tree 52 of 450\n",
      "building tree 53 of 450\n",
      "building tree 54 of 450\n",
      "building tree 55 of 450\n",
      "building tree 56 of 450\n",
      "building tree 57 of 450\n",
      "building tree 58 of 450\n"
     ]
    },
    {
     "name": "stderr",
     "output_type": "stream",
     "text": [
      "[Parallel(n_jobs=-1)]: Done  57 tasks      | elapsed:   22.2s\n"
     ]
    },
    {
     "name": "stdout",
     "output_type": "stream",
     "text": [
      "building tree 59 of 450\n",
      "building tree 60 of 450\n",
      "building tree 61 of 450\n",
      "building tree 62 of 450\n",
      "building tree 63 of 450\n",
      "building tree 64 of 450\n",
      "building tree 65 of 450\n",
      "building tree 66 of 450\n",
      "building tree 67 of 450\n",
      "building tree 68 of 450\n",
      "building tree 69 of 450\n",
      "building tree 70 of 450\n"
     ]
    },
    {
     "name": "stderr",
     "output_type": "stream",
     "text": [
      "[Parallel(n_jobs=-1)]: Done  68 tasks      | elapsed:   26.2s\n"
     ]
    },
    {
     "name": "stdout",
     "output_type": "stream",
     "text": [
      "building tree 71 of 450\n",
      "building tree 72 of 450\n",
      "building tree 73 of 450\n",
      "building tree 74 of 450\n",
      "building tree 75 of 450\n",
      "building tree 76 of 450\n",
      "building tree 77 of 450\n",
      "building tree 78 of 450\n",
      "building tree 79 of 450\n",
      "building tree 80 of 450\n",
      "building tree 81 of 450\n",
      "building tree 82 of 450\n"
     ]
    },
    {
     "name": "stderr",
     "output_type": "stream",
     "text": [
      "[Parallel(n_jobs=-1)]: Done  81 tasks      | elapsed:   31.3s\n"
     ]
    },
    {
     "name": "stdout",
     "output_type": "stream",
     "text": [
      "building tree 83 of 450\n",
      "building tree 84 of 450\n",
      "building tree 85 of 450\n",
      "building tree 86 of 450\n",
      "building tree 87 of 450\n",
      "building tree 88 of 450\n",
      "building tree 89 of 450\n",
      "building tree 90 of 450\n",
      "building tree 91 of 450\n",
      "building tree 92 of 450\n",
      "building tree 93 of 450\n",
      "building tree 94 of 450\n",
      "building tree 95 of 450\n",
      "building tree 96 of 450\n"
     ]
    },
    {
     "name": "stderr",
     "output_type": "stream",
     "text": [
      "[Parallel(n_jobs=-1)]: Done  94 tasks      | elapsed:   36.0s\n"
     ]
    },
    {
     "name": "stdout",
     "output_type": "stream",
     "text": [
      "building tree 97 of 450\n",
      "building tree 98 of 450\n",
      "building tree 99 of 450\n",
      "building tree 100 of 450\n",
      "building tree 101 of 450\n",
      "building tree 102 of 450\n",
      "building tree 103 of 450\n",
      "building tree 104 of 450\n",
      "building tree 105 of 450\n",
      "building tree 106 of 450\n",
      "building tree 107 of 450\n",
      "building tree 108 of 450\n",
      "building tree 109 of 450\n",
      "building tree 110 of 450\n"
     ]
    },
    {
     "name": "stderr",
     "output_type": "stream",
     "text": [
      "[Parallel(n_jobs=-1)]: Done 109 tasks      | elapsed:   41.9s\n"
     ]
    },
    {
     "name": "stdout",
     "output_type": "stream",
     "text": [
      "building tree 111 of 450\n",
      "building tree 112 of 450\n",
      "building tree 113 of 450\n",
      "building tree 114 of 450\n",
      "building tree 115 of 450\n",
      "building tree 116 of 450\n",
      "building tree 117 of 450\n",
      "building tree 118 of 450\n",
      "building tree 119 of 450\n",
      "building tree 120 of 450\n",
      "building tree 121 of 450\n",
      "building tree 122 of 450\n",
      "building tree 123 of 450\n",
      "building tree 124 of 450\n",
      "building tree 125 of 450\n"
     ]
    },
    {
     "name": "stderr",
     "output_type": "stream",
     "text": [
      "[Parallel(n_jobs=-1)]: Done 124 tasks      | elapsed:   47.7s\n"
     ]
    },
    {
     "name": "stdout",
     "output_type": "stream",
     "text": [
      "building tree 126 of 450\n",
      "building tree 127 of 450\n",
      "building tree 128 of 450\n",
      "building tree 129 of 450\n",
      "building tree 130 of 450\n",
      "building tree 131 of 450\n",
      "building tree 132 of 450\n",
      "building tree 133 of 450\n",
      "building tree 134 of 450\n",
      "building tree 135 of 450\n",
      "building tree 136 of 450\n",
      "building tree 137 of 450\n",
      "building tree 138 of 450\n",
      "building tree 139 of 450\n",
      "building tree 140 of 450\n",
      "building tree 141 of 450\n",
      "building tree 142 of 450\n"
     ]
    },
    {
     "name": "stderr",
     "output_type": "stream",
     "text": [
      "[Parallel(n_jobs=-1)]: Done 141 tasks      | elapsed:   54.2s\n"
     ]
    },
    {
     "name": "stdout",
     "output_type": "stream",
     "text": [
      "building tree 143 of 450\n",
      "building tree 144 of 450\n",
      "building tree 145 of 450\n",
      "building tree 146 of 450\n",
      "building tree 147 of 450\n",
      "building tree 148 of 450\n",
      "building tree 149 of 450\n",
      "building tree 150 of 450\n",
      "building tree 151 of 450\n",
      "building tree 152 of 450\n",
      "building tree 153 of 450\n",
      "building tree 154 of 450\n",
      "building tree 155 of 450\n",
      "building tree 156 of 450\n",
      "building tree 157 of 450\n",
      "building tree 158 of 450\n",
      "building tree 159 of 450\n"
     ]
    },
    {
     "name": "stderr",
     "output_type": "stream",
     "text": [
      "[Parallel(n_jobs=-1)]: Done 158 tasks      | elapsed:  1.0min\n"
     ]
    },
    {
     "name": "stdout",
     "output_type": "stream",
     "text": [
      "building tree 160 of 450\n",
      "building tree 161 of 450\n",
      "building tree 162 of 450\n",
      "building tree 163 of 450\n",
      "building tree 164 of 450\n",
      "building tree 165 of 450\n",
      "building tree 166 of 450\n",
      "building tree 167 of 450\n",
      "building tree 168 of 450\n",
      "building tree 169 of 450\n",
      "building tree 170 of 450\n",
      "building tree 171 of 450\n",
      "building tree 172 of 450\n",
      "building tree 173 of 450\n",
      "building tree 174 of 450\n",
      "building tree 175 of 450\n",
      "building tree 176 of 450\n",
      "building tree 177 of 450\n",
      "building tree 178 of 450\n"
     ]
    },
    {
     "name": "stderr",
     "output_type": "stream",
     "text": [
      "[Parallel(n_jobs=-1)]: Done 177 tasks      | elapsed:  1.1min\n"
     ]
    },
    {
     "name": "stdout",
     "output_type": "stream",
     "text": [
      "building tree 179 of 450\n",
      "building tree 180 of 450\n",
      "building tree 181 of 450\n",
      "building tree 182 of 450\n",
      "building tree 183 of 450\n",
      "building tree 184 of 450\n",
      "building tree 185 of 450\n",
      "building tree 186 of 450\n",
      "building tree 187 of 450\n",
      "building tree 188 of 450\n",
      "building tree 189 of 450\n",
      "building tree 190 of 450\n",
      "building tree 191 of 450\n",
      "building tree 192 of 450\n",
      "building tree 193 of 450\n",
      "building tree 194 of 450\n",
      "building tree 195 of 450\n",
      "building tree 196 of 450\n",
      "building tree 197 of 450\n"
     ]
    },
    {
     "name": "stderr",
     "output_type": "stream",
     "text": [
      "[Parallel(n_jobs=-1)]: Done 196 tasks      | elapsed:  1.3min\n"
     ]
    },
    {
     "name": "stdout",
     "output_type": "stream",
     "text": [
      "building tree 198 of 450\n",
      "building tree 199 of 450\n",
      "building tree 200 of 450\n",
      "building tree 201 of 450\n",
      "building tree 202 of 450\n",
      "building tree 203 of 450\n",
      "building tree 204 of 450\n",
      "building tree 205 of 450\n",
      "building tree 206 of 450\n",
      "building tree 207 of 450\n",
      "building tree 208 of 450\n",
      "building tree 209 of 450\n",
      "building tree 210 of 450\n",
      "building tree 211 of 450\n",
      "building tree 212 of 450\n",
      "building tree 213 of 450\n",
      "building tree 214 of 450\n",
      "building tree 215 of 450\n",
      "building tree 216 of 450\n",
      "building tree 217 of 450\n",
      "building tree 218 of 450\n"
     ]
    },
    {
     "name": "stderr",
     "output_type": "stream",
     "text": [
      "[Parallel(n_jobs=-1)]: Done 217 tasks      | elapsed:  1.4min\n"
     ]
    },
    {
     "name": "stdout",
     "output_type": "stream",
     "text": [
      "building tree 219 of 450\n",
      "building tree 220 of 450\n",
      "building tree 221 of 450\n",
      "building tree 222 of 450\n",
      "building tree 223 of 450\n",
      "building tree 224 of 450\n",
      "building tree 225 of 450\n",
      "building tree 226 of 450\n",
      "building tree 227 of 450\n",
      "building tree 228 of 450\n",
      "building tree 229 of 450\n",
      "building tree 230 of 450\n",
      "building tree 231 of 450\n",
      "building tree 232 of 450\n",
      "building tree 233 of 450\n",
      "building tree 234 of 450\n",
      "building tree 235 of 450\n",
      "building tree 236 of 450\n",
      "building tree 237 of 450\n",
      "building tree 238 of 450\n",
      "building tree 239 of 450\n"
     ]
    },
    {
     "name": "stderr",
     "output_type": "stream",
     "text": [
      "[Parallel(n_jobs=-1)]: Done 238 tasks      | elapsed:  1.5min\n"
     ]
    },
    {
     "name": "stdout",
     "output_type": "stream",
     "text": [
      "building tree 240 of 450\n",
      "building tree 241 of 450\n",
      "building tree 242 of 450\n",
      "building tree 243 of 450\n",
      "building tree 244 of 450\n",
      "building tree 245 of 450\n",
      "building tree 246 of 450\n",
      "building tree 247 of 450\n",
      "building tree 248 of 450\n",
      "building tree 249 of 450\n",
      "building tree 250 of 450\n",
      "building tree 251 of 450\n",
      "building tree 252 of 450\n",
      "building tree 253 of 450\n",
      "building tree 254 of 450\n",
      "building tree 255 of 450\n",
      "building tree 256 of 450\n",
      "building tree 257 of 450\n",
      "building tree 258 of 450\n",
      "building tree 259 of 450\n",
      "building tree 260 of 450\n",
      "building tree 261 of 450\n",
      "building tree 262 of 450\n"
     ]
    },
    {
     "name": "stderr",
     "output_type": "stream",
     "text": [
      "[Parallel(n_jobs=-1)]: Done 261 tasks      | elapsed:  1.7min\n"
     ]
    },
    {
     "name": "stdout",
     "output_type": "stream",
     "text": [
      "building tree 263 of 450\n",
      "building tree 264 of 450\n",
      "building tree 265 of 450\n",
      "building tree 266 of 450\n",
      "building tree 267 of 450\n",
      "building tree 268 of 450\n",
      "building tree 269 of 450\n",
      "building tree 270 of 450\n",
      "building tree 271 of 450\n",
      "building tree 272 of 450\n",
      "building tree 273 of 450\n",
      "building tree 274 of 450\n",
      "building tree 275 of 450\n",
      "building tree 276 of 450\n",
      "building tree 277 of 450\n",
      "building tree 278 of 450\n",
      "building tree 279 of 450\n",
      "building tree 280 of 450\n",
      "building tree 281 of 450\n",
      "building tree 282 of 450\n",
      "building tree 283 of 450\n",
      "building tree 284 of 450\n",
      "building tree 285 of 450\n"
     ]
    },
    {
     "name": "stderr",
     "output_type": "stream",
     "text": [
      "[Parallel(n_jobs=-1)]: Done 284 tasks      | elapsed:  1.8min\n"
     ]
    },
    {
     "name": "stdout",
     "output_type": "stream",
     "text": [
      "building tree 286 of 450\n",
      "building tree 287 of 450\n",
      "building tree 288 of 450\n",
      "building tree 289 of 450\n",
      "building tree 290 of 450\n",
      "building tree 291 of 450\n",
      "building tree 292 of 450\n",
      "building tree 293 of 450\n",
      "building tree 294 of 450\n",
      "building tree 295 of 450\n",
      "building tree 296 of 450\n",
      "building tree 297 of 450\n",
      "building tree 298 of 450\n",
      "building tree 299 of 450\n",
      "building tree 300 of 450\n",
      "building tree 301 of 450\n",
      "building tree 302 of 450\n",
      "building tree 303 of 450\n",
      "building tree 304 of 450\n",
      "building tree 305 of 450\n",
      "building tree 306 of 450\n",
      "building tree 307 of 450\n",
      "building tree 308 of 450\n",
      "building tree 309 of 450\n",
      "building tree 310 of 450\n"
     ]
    },
    {
     "name": "stderr",
     "output_type": "stream",
     "text": [
      "[Parallel(n_jobs=-1)]: Done 309 tasks      | elapsed:  2.0min\n"
     ]
    },
    {
     "name": "stdout",
     "output_type": "stream",
     "text": [
      "building tree 311 of 450\n",
      "building tree 312 of 450\n",
      "building tree 313 of 450\n",
      "building tree 314 of 450\n",
      "building tree 315 of 450\n",
      "building tree 316 of 450\n",
      "building tree 317 of 450\n",
      "building tree 318 of 450\n",
      "building tree 319 of 450\n",
      "building tree 320 of 450\n",
      "building tree 321 of 450\n",
      "building tree 322 of 450\n",
      "building tree 323 of 450\n",
      "building tree 324 of 450\n",
      "building tree 325 of 450\n",
      "building tree 326 of 450\n",
      "building tree 327 of 450\n",
      "building tree 328 of 450\n",
      "building tree 329 of 450\n",
      "building tree 330 of 450\n",
      "building tree 331 of 450\n",
      "building tree 332 of 450\n",
      "building tree 333 of 450\n",
      "building tree 334 of 450\n",
      "building tree 335 of 450\n",
      "building tree 336 of 450\n"
     ]
    },
    {
     "name": "stderr",
     "output_type": "stream",
     "text": [
      "[Parallel(n_jobs=-1)]: Done 334 tasks      | elapsed:  2.1min\n"
     ]
    },
    {
     "name": "stdout",
     "output_type": "stream",
     "text": [
      "building tree 337 of 450\n",
      "building tree 338 of 450\n",
      "building tree 339 of 450\n",
      "building tree 340 of 450\n",
      "building tree 341 of 450\n",
      "building tree 342 of 450\n",
      "building tree 343 of 450\n",
      "building tree 344 of 450\n",
      "building tree 345 of 450\n",
      "building tree 346 of 450\n",
      "building tree 347 of 450\n",
      "building tree 348 of 450\n",
      "building tree 349 of 450\n",
      "building tree 350 of 450\n",
      "building tree 351 of 450\n",
      "building tree 352 of 450\n",
      "building tree 353 of 450\n",
      "building tree 354 of 450\n",
      "building tree 355 of 450\n",
      "building tree 356 of 450\n",
      "building tree 357 of 450\n",
      "building tree 358 of 450\n",
      "building tree 359 of 450\n",
      "building tree 360 of 450\n",
      "building tree 361 of 450\n",
      "building tree 362 of 450\n"
     ]
    },
    {
     "name": "stderr",
     "output_type": "stream",
     "text": [
      "[Parallel(n_jobs=-1)]: Done 361 tasks      | elapsed:  2.3min\n"
     ]
    },
    {
     "name": "stdout",
     "output_type": "stream",
     "text": [
      "building tree 363 of 450\n",
      "building tree 364 of 450\n",
      "building tree 365 of 450\n",
      "building tree 366 of 450\n",
      "building tree 367 of 450\n",
      "building tree 368 of 450\n",
      "building tree 369 of 450\n",
      "building tree 370 of 450\n",
      "building tree 371 of 450\n",
      "building tree 372 of 450\n",
      "building tree 373 of 450\n",
      "building tree 374 of 450\n",
      "building tree 375 of 450\n",
      "building tree 376 of 450\n",
      "building tree 377 of 450\n",
      "building tree 378 of 450\n",
      "building tree 379 of 450\n",
      "building tree 380 of 450\n",
      "building tree 381 of 450\n",
      "building tree 382 of 450\n",
      "building tree 383 of 450\n",
      "building tree 384 of 450\n",
      "building tree 385 of 450\n",
      "building tree 386 of 450\n",
      "building tree 387 of 450\n",
      "building tree 388 of 450\n",
      "building tree 389 of 450\n"
     ]
    },
    {
     "name": "stderr",
     "output_type": "stream",
     "text": [
      "[Parallel(n_jobs=-1)]: Done 388 tasks      | elapsed:  2.5min\n"
     ]
    },
    {
     "name": "stdout",
     "output_type": "stream",
     "text": [
      "building tree 390 of 450\n",
      "building tree 391 of 450\n",
      "building tree 392 of 450\n",
      "building tree 393 of 450\n",
      "building tree 394 of 450\n",
      "building tree 395 of 450\n",
      "building tree 396 of 450\n",
      "building tree 397 of 450\n",
      "building tree 398 of 450\n",
      "building tree 399 of 450\n",
      "building tree 400 of 450\n",
      "building tree 401 of 450\n",
      "building tree 402 of 450\n",
      "building tree 403 of 450\n",
      "building tree 404 of 450\n",
      "building tree 405 of 450\n",
      "building tree 406 of 450\n",
      "building tree 407 of 450\n",
      "building tree 408 of 450\n",
      "building tree 409 of 450\n",
      "building tree 410 of 450\n",
      "building tree 411 of 450\n",
      "building tree 412 of 450\n",
      "building tree 413 of 450\n",
      "building tree 414 of 450\n",
      "building tree 415 of 450\n",
      "building tree 416 of 450\n",
      "building tree 417 of 450\n",
      "building tree 418 of 450\n",
      "building tree 419 of 450\n"
     ]
    },
    {
     "name": "stderr",
     "output_type": "stream",
     "text": [
      "[Parallel(n_jobs=-1)]: Done 417 tasks      | elapsed:  2.7min\n"
     ]
    },
    {
     "name": "stdout",
     "output_type": "stream",
     "text": [
      "building tree 420 of 450\n",
      "building tree 421 of 450\n",
      "building tree 422 of 450\n",
      "building tree 423 of 450\n",
      "building tree 424 of 450\n",
      "building tree 425 of 450\n",
      "building tree 426 of 450\n",
      "building tree 427 of 450\n",
      "building tree 428 of 450\n",
      "building tree 429 of 450\n",
      "building tree 430 of 450\n",
      "building tree 431 of 450\n",
      "building tree 432 of 450\n",
      "building tree 433 of 450\n",
      "building tree 434 of 450\n",
      "building tree 435 of 450\n",
      "building tree 436 of 450\n",
      "building tree 437 of 450\n",
      "building tree 438 of 450\n",
      "building tree 439 of 450\n",
      "building tree 440 of 450\n",
      "building tree 441 of 450\n",
      "building tree 442 of 450\n",
      "building tree 443 of 450\n",
      "building tree 444 of 450\n",
      "building tree 445 of 450\n",
      "building tree 446 of 450\n",
      "building tree 447 of 450\n",
      "building tree 448 of 450\n"
     ]
    },
    {
     "name": "stderr",
     "output_type": "stream",
     "text": [
      "[Parallel(n_jobs=-1)]: Done 446 tasks      | elapsed:  2.9min\n"
     ]
    },
    {
     "name": "stdout",
     "output_type": "stream",
     "text": [
      "building tree 449 of 450\n",
      "building tree 450 of 450\n"
     ]
    },
    {
     "name": "stderr",
     "output_type": "stream",
     "text": [
      "[Parallel(n_jobs=-1)]: Done 450 out of 450 | elapsed:  2.9min finished\n",
      "[Parallel(n_jobs=2)]: Using backend ThreadingBackend with 2 concurrent workers.\n",
      "[Parallel(n_jobs=2)]: Done   1 tasks      | elapsed:    0.0s\n",
      "[Parallel(n_jobs=2)]: Done   4 tasks      | elapsed:    0.0s\n",
      "[Parallel(n_jobs=2)]: Done   9 tasks      | elapsed:    0.1s\n",
      "[Parallel(n_jobs=2)]: Done  14 tasks      | elapsed:    0.1s\n",
      "[Parallel(n_jobs=2)]: Done  21 tasks      | elapsed:    0.2s\n",
      "[Parallel(n_jobs=2)]: Done  28 tasks      | elapsed:    0.2s\n",
      "[Parallel(n_jobs=2)]: Done  37 tasks      | elapsed:    0.3s\n",
      "[Parallel(n_jobs=2)]: Done  46 tasks      | elapsed:    0.3s\n",
      "[Parallel(n_jobs=2)]: Done  57 tasks      | elapsed:    0.4s\n",
      "[Parallel(n_jobs=2)]: Done  68 tasks      | elapsed:    0.5s\n",
      "[Parallel(n_jobs=2)]: Done  81 tasks      | elapsed:    0.6s\n",
      "[Parallel(n_jobs=2)]: Done  94 tasks      | elapsed:    0.7s\n",
      "[Parallel(n_jobs=2)]: Done 109 tasks      | elapsed:    0.8s\n",
      "[Parallel(n_jobs=2)]: Done 124 tasks      | elapsed:    0.9s\n",
      "[Parallel(n_jobs=2)]: Done 141 tasks      | elapsed:    1.0s\n",
      "[Parallel(n_jobs=2)]: Done 158 tasks      | elapsed:    1.2s\n",
      "[Parallel(n_jobs=2)]: Done 177 tasks      | elapsed:    1.3s\n",
      "[Parallel(n_jobs=2)]: Done 196 tasks      | elapsed:    1.4s\n",
      "[Parallel(n_jobs=2)]: Done 217 tasks      | elapsed:    1.6s\n",
      "[Parallel(n_jobs=2)]: Done 238 tasks      | elapsed:    1.8s\n",
      "[Parallel(n_jobs=2)]: Done 261 tasks      | elapsed:    1.9s\n",
      "[Parallel(n_jobs=2)]: Done 284 tasks      | elapsed:    2.1s\n",
      "[Parallel(n_jobs=2)]: Done 309 tasks      | elapsed:    2.3s\n",
      "[Parallel(n_jobs=2)]: Done 334 tasks      | elapsed:    2.5s\n",
      "[Parallel(n_jobs=2)]: Done 361 tasks      | elapsed:    2.7s\n",
      "[Parallel(n_jobs=2)]: Done 388 tasks      | elapsed:    2.9s\n",
      "[Parallel(n_jobs=2)]: Done 417 tasks      | elapsed:    3.1s\n",
      "[Parallel(n_jobs=2)]: Done 446 tasks      | elapsed:    3.3s\n",
      "[Parallel(n_jobs=2)]: Done 450 out of 450 | elapsed:    3.3s finished\n"
     ]
    },
    {
     "name": "stdout",
     "output_type": "stream",
     "text": [
      "3 0.730274188801707\n"
     ]
    },
    {
     "name": "stderr",
     "output_type": "stream",
     "text": [
      "[Parallel(n_jobs=-1)]: Using backend ThreadingBackend with 2 concurrent workers.\n"
     ]
    },
    {
     "name": "stdout",
     "output_type": "stream",
     "text": [
      "building tree 1 of 450\n",
      "building tree 2 of 450\n"
     ]
    },
    {
     "name": "stderr",
     "output_type": "stream",
     "text": [
      "[Parallel(n_jobs=-1)]: Done   1 tasks      | elapsed:    0.7s\n"
     ]
    },
    {
     "name": "stdout",
     "output_type": "stream",
     "text": [
      "building tree 3 of 450\n",
      "building tree 4 of 450\n",
      "building tree 5 of 450\n",
      "building tree 6 of 450\n"
     ]
    },
    {
     "name": "stderr",
     "output_type": "stream",
     "text": [
      "[Parallel(n_jobs=-1)]: Done   4 tasks      | elapsed:    1.5s\n"
     ]
    },
    {
     "name": "stdout",
     "output_type": "stream",
     "text": [
      "building tree 7 of 450\n",
      "building tree 8 of 450\n",
      "building tree 9 of 450\n",
      "building tree 10 of 450\n"
     ]
    },
    {
     "name": "stderr",
     "output_type": "stream",
     "text": [
      "[Parallel(n_jobs=-1)]: Done   9 tasks      | elapsed:    3.8s\n"
     ]
    },
    {
     "name": "stdout",
     "output_type": "stream",
     "text": [
      "building tree 11 of 450\n",
      "building tree 12 of 450\n",
      "building tree 13 of 450\n",
      "building tree 14 of 450\n",
      "building tree 15 of 450\n",
      "building tree 16 of 450\n"
     ]
    },
    {
     "name": "stderr",
     "output_type": "stream",
     "text": [
      "[Parallel(n_jobs=-1)]: Done  14 tasks      | elapsed:    5.4s\n"
     ]
    },
    {
     "name": "stdout",
     "output_type": "stream",
     "text": [
      "building tree 17 of 450\n",
      "building tree 18 of 450\n",
      "building tree 19 of 450\n",
      "building tree 20 of 450\n",
      "building tree 21 of 450\n",
      "building tree 22 of 450\n"
     ]
    },
    {
     "name": "stderr",
     "output_type": "stream",
     "text": [
      "[Parallel(n_jobs=-1)]: Done  21 tasks      | elapsed:    8.3s\n"
     ]
    },
    {
     "name": "stdout",
     "output_type": "stream",
     "text": [
      "building tree 23 of 450\n",
      "building tree 24 of 450\n",
      "building tree 25 of 450\n",
      "building tree 26 of 450\n",
      "building tree 27 of 450\n",
      "building tree 28 of 450\n",
      "building tree 29 of 450\n"
     ]
    },
    {
     "name": "stderr",
     "output_type": "stream",
     "text": [
      "[Parallel(n_jobs=-1)]: Done  28 tasks      | elapsed:   10.8s\n"
     ]
    },
    {
     "name": "stdout",
     "output_type": "stream",
     "text": [
      "building tree 30 of 450\n",
      "building tree 31 of 450\n",
      "building tree 32 of 450\n",
      "building tree 33 of 450\n",
      "building tree 34 of 450\n",
      "building tree 35 of 450\n",
      "building tree 36 of 450\n",
      "building tree 37 of 450\n",
      "building tree 38 of 450\n"
     ]
    },
    {
     "name": "stderr",
     "output_type": "stream",
     "text": [
      "[Parallel(n_jobs=-1)]: Done  37 tasks      | elapsed:   14.4s\n"
     ]
    },
    {
     "name": "stdout",
     "output_type": "stream",
     "text": [
      "building tree 39 of 450\n",
      "building tree 40 of 450\n",
      "building tree 41 of 450\n",
      "building tree 42 of 450\n",
      "building tree 43 of 450\n",
      "building tree 44 of 450\n",
      "building tree 45 of 450\n",
      "building tree 46 of 450\n",
      "building tree 47 of 450\n",
      "building tree 48 of 450\n"
     ]
    },
    {
     "name": "stderr",
     "output_type": "stream",
     "text": [
      "[Parallel(n_jobs=-1)]: Done  46 tasks      | elapsed:   17.5s\n"
     ]
    },
    {
     "name": "stdout",
     "output_type": "stream",
     "text": [
      "building tree 49 of 450\n",
      "building tree 50 of 450\n",
      "building tree 51 of 450\n",
      "building tree 52 of 450\n",
      "building tree 53 of 450\n",
      "building tree 54 of 450\n",
      "building tree 55 of 450\n",
      "building tree 56 of 450\n",
      "building tree 57 of 450\n",
      "building tree 58 of 450\n"
     ]
    },
    {
     "name": "stderr",
     "output_type": "stream",
     "text": [
      "[Parallel(n_jobs=-1)]: Done  57 tasks      | elapsed:   21.9s\n"
     ]
    },
    {
     "name": "stdout",
     "output_type": "stream",
     "text": [
      "building tree 59 of 450\n",
      "building tree 60 of 450\n",
      "building tree 61 of 450\n",
      "building tree 62 of 450\n",
      "building tree 63 of 450\n",
      "building tree 64 of 450\n",
      "building tree 65 of 450\n",
      "building tree 66 of 450\n",
      "building tree 67 of 450\n",
      "building tree 68 of 450\n",
      "building tree 69 of 450\n"
     ]
    },
    {
     "name": "stderr",
     "output_type": "stream",
     "text": [
      "[Parallel(n_jobs=-1)]: Done  68 tasks      | elapsed:   26.3s\n"
     ]
    },
    {
     "name": "stdout",
     "output_type": "stream",
     "text": [
      "building tree 70 of 450\n",
      "building tree 71 of 450\n",
      "building tree 72 of 450\n",
      "building tree 73 of 450\n",
      "building tree 74 of 450\n",
      "building tree 75 of 450\n",
      "building tree 76 of 450\n",
      "building tree 77 of 450\n",
      "building tree 78 of 450\n",
      "building tree 79 of 450\n",
      "building tree 80 of 450\n",
      "building tree 81 of 450\n",
      "building tree 82 of 450\n"
     ]
    },
    {
     "name": "stderr",
     "output_type": "stream",
     "text": [
      "[Parallel(n_jobs=-1)]: Done  81 tasks      | elapsed:   31.1s\n"
     ]
    },
    {
     "name": "stdout",
     "output_type": "stream",
     "text": [
      "building tree 83 of 450\n",
      "building tree 84 of 450\n",
      "building tree 85 of 450\n",
      "building tree 86 of 450\n",
      "building tree 87 of 450\n",
      "building tree 88 of 450\n",
      "building tree 89 of 450\n",
      "building tree 90 of 450\n",
      "building tree 91 of 450\n",
      "building tree 92 of 450\n",
      "building tree 93 of 450\n",
      "building tree 94 of 450\n",
      "building tree 95 of 450\n",
      "building tree 96 of 450\n"
     ]
    },
    {
     "name": "stderr",
     "output_type": "stream",
     "text": [
      "[Parallel(n_jobs=-1)]: Done  94 tasks      | elapsed:   36.1s\n"
     ]
    },
    {
     "name": "stdout",
     "output_type": "stream",
     "text": [
      "building tree 97 of 450\n",
      "building tree 98 of 450\n",
      "building tree 99 of 450\n",
      "building tree 100 of 450\n",
      "building tree 101 of 450\n",
      "building tree 102 of 450\n",
      "building tree 103 of 450\n",
      "building tree 104 of 450\n",
      "building tree 105 of 450\n",
      "building tree 106 of 450\n",
      "building tree 107 of 450\n",
      "building tree 108 of 450\n",
      "building tree 109 of 450\n",
      "building tree 110 of 450\n"
     ]
    },
    {
     "name": "stderr",
     "output_type": "stream",
     "text": [
      "[Parallel(n_jobs=-1)]: Done 109 tasks      | elapsed:   41.9s\n"
     ]
    },
    {
     "name": "stdout",
     "output_type": "stream",
     "text": [
      "building tree 111 of 450\n",
      "building tree 112 of 450\n",
      "building tree 113 of 450\n",
      "building tree 114 of 450\n",
      "building tree 115 of 450\n",
      "building tree 116 of 450\n",
      "building tree 117 of 450\n",
      "building tree 118 of 450\n",
      "building tree 119 of 450\n",
      "building tree 120 of 450\n",
      "building tree 121 of 450\n",
      "building tree 122 of 450\n",
      "building tree 123 of 450\n",
      "building tree 124 of 450\n",
      "building tree 125 of 450\n"
     ]
    },
    {
     "name": "stderr",
     "output_type": "stream",
     "text": [
      "[Parallel(n_jobs=-1)]: Done 124 tasks      | elapsed:   47.8s\n"
     ]
    },
    {
     "name": "stdout",
     "output_type": "stream",
     "text": [
      "building tree 126 of 450\n",
      "building tree 127 of 450\n",
      "building tree 128 of 450\n",
      "building tree 129 of 450\n",
      "building tree 130 of 450\n",
      "building tree 131 of 450\n",
      "building tree 132 of 450\n",
      "building tree 133 of 450\n",
      "building tree 134 of 450\n",
      "building tree 135 of 450\n",
      "building tree 136 of 450\n",
      "building tree 137 of 450\n",
      "building tree 138 of 450\n",
      "building tree 139 of 450\n",
      "building tree 140 of 450\n",
      "building tree 141 of 450\n",
      "building tree 142 of 450\n"
     ]
    },
    {
     "name": "stderr",
     "output_type": "stream",
     "text": [
      "[Parallel(n_jobs=-1)]: Done 141 tasks      | elapsed:   54.0s\n"
     ]
    },
    {
     "name": "stdout",
     "output_type": "stream",
     "text": [
      "building tree 143 of 450\n",
      "building tree 144 of 450\n",
      "building tree 145 of 450\n",
      "building tree 146 of 450\n",
      "building tree 147 of 450\n",
      "building tree 148 of 450\n",
      "building tree 149 of 450\n",
      "building tree 150 of 450\n",
      "building tree 151 of 450\n",
      "building tree 152 of 450\n",
      "building tree 153 of 450\n",
      "building tree 154 of 450\n",
      "building tree 155 of 450\n",
      "building tree 156 of 450\n",
      "building tree 157 of 450\n",
      "building tree 158 of 450\n",
      "building tree 159 of 450\n",
      "building tree 160 of 450\n"
     ]
    },
    {
     "name": "stderr",
     "output_type": "stream",
     "text": [
      "[Parallel(n_jobs=-1)]: Done 158 tasks      | elapsed:  1.0min\n"
     ]
    },
    {
     "name": "stdout",
     "output_type": "stream",
     "text": [
      "building tree 161 of 450\n",
      "building tree 162 of 450\n",
      "building tree 163 of 450\n",
      "building tree 164 of 450\n",
      "building tree 165 of 450\n",
      "building tree 166 of 450\n",
      "building tree 167 of 450\n",
      "building tree 168 of 450\n",
      "building tree 169 of 450\n",
      "building tree 170 of 450\n",
      "building tree 171 of 450\n",
      "building tree 172 of 450\n",
      "building tree 173 of 450\n",
      "building tree 174 of 450\n",
      "building tree 175 of 450\n",
      "building tree 176 of 450\n",
      "building tree 177 of 450\n",
      "building tree 178 of 450\n"
     ]
    },
    {
     "name": "stderr",
     "output_type": "stream",
     "text": [
      "[Parallel(n_jobs=-1)]: Done 177 tasks      | elapsed:  1.1min\n"
     ]
    },
    {
     "name": "stdout",
     "output_type": "stream",
     "text": [
      "building tree 179 of 450\n",
      "building tree 180 of 450\n",
      "building tree 181 of 450\n",
      "building tree 182 of 450\n",
      "building tree 183 of 450\n",
      "building tree 184 of 450\n",
      "building tree 185 of 450\n",
      "building tree 186 of 450\n",
      "building tree 187 of 450\n",
      "building tree 188 of 450\n",
      "building tree 189 of 450\n",
      "building tree 190 of 450\n",
      "building tree 191 of 450\n",
      "building tree 192 of 450\n",
      "building tree 193 of 450\n",
      "building tree 194 of 450\n",
      "building tree 195 of 450\n",
      "building tree 196 of 450\n",
      "building tree 197 of 450\n"
     ]
    },
    {
     "name": "stderr",
     "output_type": "stream",
     "text": [
      "[Parallel(n_jobs=-1)]: Done 196 tasks      | elapsed:  1.2min\n"
     ]
    },
    {
     "name": "stdout",
     "output_type": "stream",
     "text": [
      "building tree 198 of 450\n",
      "building tree 199 of 450\n",
      "building tree 200 of 450\n",
      "building tree 201 of 450\n",
      "building tree 202 of 450\n",
      "building tree 203 of 450\n",
      "building tree 204 of 450\n",
      "building tree 205 of 450\n",
      "building tree 206 of 450\n",
      "building tree 207 of 450\n",
      "building tree 208 of 450\n",
      "building tree 209 of 450\n",
      "building tree 210 of 450\n",
      "building tree 211 of 450\n",
      "building tree 212 of 450\n",
      "building tree 213 of 450\n",
      "building tree 214 of 450\n",
      "building tree 215 of 450\n",
      "building tree 216 of 450\n",
      "building tree 217 of 450\n",
      "building tree 218 of 450\n"
     ]
    },
    {
     "name": "stderr",
     "output_type": "stream",
     "text": [
      "[Parallel(n_jobs=-1)]: Done 217 tasks      | elapsed:  1.4min\n"
     ]
    },
    {
     "name": "stdout",
     "output_type": "stream",
     "text": [
      "building tree 219 of 450\n",
      "building tree 220 of 450\n",
      "building tree 221 of 450\n",
      "building tree 222 of 450\n",
      "building tree 223 of 450\n",
      "building tree 224 of 450\n",
      "building tree 225 of 450\n",
      "building tree 226 of 450\n",
      "building tree 227 of 450\n",
      "building tree 228 of 450\n",
      "building tree 229 of 450\n",
      "building tree 230 of 450\n",
      "building tree 231 of 450\n",
      "building tree 232 of 450\n",
      "building tree 233 of 450\n",
      "building tree 234 of 450\n",
      "building tree 235 of 450\n",
      "building tree 236 of 450\n",
      "building tree 237 of 450\n",
      "building tree 238 of 450\n",
      "building tree 239 of 450\n",
      "building tree 240 of 450\n"
     ]
    },
    {
     "name": "stderr",
     "output_type": "stream",
     "text": [
      "[Parallel(n_jobs=-1)]: Done 238 tasks      | elapsed:  1.5min\n"
     ]
    },
    {
     "name": "stdout",
     "output_type": "stream",
     "text": [
      "building tree 241 of 450\n",
      "building tree 242 of 450\n",
      "building tree 243 of 450\n",
      "building tree 244 of 450\n",
      "building tree 245 of 450\n",
      "building tree 246 of 450\n",
      "building tree 247 of 450\n",
      "building tree 248 of 450\n",
      "building tree 249 of 450\n",
      "building tree 250 of 450\n",
      "building tree 251 of 450\n",
      "building tree 252 of 450\n",
      "building tree 253 of 450\n",
      "building tree 254 of 450\n",
      "building tree 255 of 450\n",
      "building tree 256 of 450\n",
      "building tree 257 of 450\n",
      "building tree 258 of 450\n",
      "building tree 259 of 450\n",
      "building tree 260 of 450\n",
      "building tree 261 of 450\n",
      "building tree 262 of 450\n"
     ]
    },
    {
     "name": "stderr",
     "output_type": "stream",
     "text": [
      "[Parallel(n_jobs=-1)]: Done 261 tasks      | elapsed:  1.7min\n"
     ]
    },
    {
     "name": "stdout",
     "output_type": "stream",
     "text": [
      "building tree 263 of 450\n",
      "building tree 264 of 450\n",
      "building tree 265 of 450\n",
      "building tree 266 of 450\n",
      "building tree 267 of 450\n",
      "building tree 268 of 450\n",
      "building tree 269 of 450\n",
      "building tree 270 of 450\n",
      "building tree 271 of 450\n",
      "building tree 272 of 450\n",
      "building tree 273 of 450\n",
      "building tree 274 of 450\n",
      "building tree 275 of 450\n",
      "building tree 276 of 450\n",
      "building tree 277 of 450\n",
      "building tree 278 of 450\n",
      "building tree 279 of 450\n",
      "building tree 280 of 450\n",
      "building tree 281 of 450\n",
      "building tree 282 of 450\n",
      "building tree 283 of 450\n",
      "building tree 284 of 450\n",
      "building tree 285 of 450\n"
     ]
    },
    {
     "name": "stderr",
     "output_type": "stream",
     "text": [
      "[Parallel(n_jobs=-1)]: Done 284 tasks      | elapsed:  1.8min\n"
     ]
    },
    {
     "name": "stdout",
     "output_type": "stream",
     "text": [
      "building tree 286 of 450\n",
      "building tree 287 of 450\n",
      "building tree 288 of 450\n",
      "building tree 289 of 450\n",
      "building tree 290 of 450\n",
      "building tree 291 of 450\n",
      "building tree 292 of 450\n",
      "building tree 293 of 450\n",
      "building tree 294 of 450\n",
      "building tree 295 of 450\n",
      "building tree 296 of 450\n",
      "building tree 297 of 450\n",
      "building tree 298 of 450\n",
      "building tree 299 of 450\n",
      "building tree 300 of 450\n",
      "building tree 301 of 450\n",
      "building tree 302 of 450\n",
      "building tree 303 of 450\n",
      "building tree 304 of 450\n",
      "building tree 305 of 450\n",
      "building tree 306 of 450\n",
      "building tree 307 of 450\n",
      "building tree 308 of 450\n",
      "building tree 309 of 450\n",
      "building tree 310 of 450\n"
     ]
    },
    {
     "name": "stderr",
     "output_type": "stream",
     "text": [
      "[Parallel(n_jobs=-1)]: Done 309 tasks      | elapsed:  2.0min\n"
     ]
    },
    {
     "name": "stdout",
     "output_type": "stream",
     "text": [
      "building tree 311 of 450\n",
      "building tree 312 of 450\n",
      "building tree 313 of 450\n",
      "building tree 314 of 450\n",
      "building tree 315 of 450\n",
      "building tree 316 of 450\n",
      "building tree 317 of 450\n",
      "building tree 318 of 450\n",
      "building tree 319 of 450\n",
      "building tree 320 of 450\n",
      "building tree 321 of 450\n",
      "building tree 322 of 450\n",
      "building tree 323 of 450\n",
      "building tree 324 of 450\n",
      "building tree 325 of 450\n",
      "building tree 326 of 450\n",
      "building tree 327 of 450\n",
      "building tree 328 of 450\n",
      "building tree 329 of 450\n",
      "building tree 330 of 450\n",
      "building tree 331 of 450\n",
      "building tree 332 of 450\n",
      "building tree 333 of 450\n",
      "building tree 334 of 450\n",
      "building tree 335 of 450\n",
      "building tree 336 of 450\n"
     ]
    },
    {
     "name": "stderr",
     "output_type": "stream",
     "text": [
      "[Parallel(n_jobs=-1)]: Done 334 tasks      | elapsed:  2.1min\n"
     ]
    },
    {
     "name": "stdout",
     "output_type": "stream",
     "text": [
      "building tree 337 of 450\n",
      "building tree 338 of 450\n",
      "building tree 339 of 450\n",
      "building tree 340 of 450\n",
      "building tree 341 of 450\n",
      "building tree 342 of 450\n",
      "building tree 343 of 450\n",
      "building tree 344 of 450\n",
      "building tree 345 of 450\n",
      "building tree 346 of 450\n",
      "building tree 347 of 450\n",
      "building tree 348 of 450\n",
      "building tree 349 of 450\n",
      "building tree 350 of 450\n",
      "building tree 351 of 450\n",
      "building tree 352 of 450\n",
      "building tree 353 of 450\n",
      "building tree 354 of 450\n",
      "building tree 355 of 450\n",
      "building tree 356 of 450\n",
      "building tree 357 of 450\n",
      "building tree 358 of 450\n",
      "building tree 359 of 450\n",
      "building tree 360 of 450\n",
      "building tree 361 of 450\n",
      "building tree 362 of 450\n"
     ]
    },
    {
     "name": "stderr",
     "output_type": "stream",
     "text": [
      "[Parallel(n_jobs=-1)]: Done 361 tasks      | elapsed:  2.3min\n"
     ]
    },
    {
     "name": "stdout",
     "output_type": "stream",
     "text": [
      "building tree 363 of 450\n",
      "building tree 364 of 450\n",
      "building tree 365 of 450\n",
      "building tree 366 of 450\n",
      "building tree 367 of 450\n",
      "building tree 368 of 450\n",
      "building tree 369 of 450\n",
      "building tree 370 of 450\n",
      "building tree 371 of 450\n",
      "building tree 372 of 450\n",
      "building tree 373 of 450\n",
      "building tree 374 of 450\n",
      "building tree 375 of 450\n",
      "building tree 376 of 450\n",
      "building tree 377 of 450\n",
      "building tree 378 of 450\n",
      "building tree 379 of 450\n",
      "building tree 380 of 450\n",
      "building tree 381 of 450\n",
      "building tree 382 of 450\n",
      "building tree 383 of 450\n",
      "building tree 384 of 450\n",
      "building tree 385 of 450\n",
      "building tree 386 of 450\n",
      "building tree 387 of 450\n",
      "building tree 388 of 450\n",
      "building tree 389 of 450\n",
      "building tree 390 of 450\n"
     ]
    },
    {
     "name": "stderr",
     "output_type": "stream",
     "text": [
      "[Parallel(n_jobs=-1)]: Done 388 tasks      | elapsed:  2.5min\n"
     ]
    },
    {
     "name": "stdout",
     "output_type": "stream",
     "text": [
      "building tree 391 of 450\n",
      "building tree 392 of 450\n",
      "building tree 393 of 450\n",
      "building tree 394 of 450\n",
      "building tree 395 of 450\n",
      "building tree 396 of 450\n",
      "building tree 397 of 450\n",
      "building tree 398 of 450\n",
      "building tree 399 of 450\n",
      "building tree 400 of 450\n",
      "building tree 401 of 450\n",
      "building tree 402 of 450\n",
      "building tree 403 of 450\n",
      "building tree 404 of 450\n",
      "building tree 405 of 450\n",
      "building tree 406 of 450\n",
      "building tree 407 of 450\n",
      "building tree 408 of 450\n",
      "building tree 409 of 450\n",
      "building tree 410 of 450\n",
      "building tree 411 of 450\n",
      "building tree 412 of 450\n",
      "building tree 413 of 450building tree 414 of 450\n",
      "\n",
      "building tree 415 of 450\n",
      "building tree 416 of 450\n",
      "building tree 417 of 450\n",
      "building tree 418 of 450\n"
     ]
    },
    {
     "name": "stderr",
     "output_type": "stream",
     "text": [
      "[Parallel(n_jobs=-1)]: Done 417 tasks      | elapsed:  2.7min\n"
     ]
    },
    {
     "name": "stdout",
     "output_type": "stream",
     "text": [
      "building tree 419 of 450\n",
      "building tree 420 of 450\n",
      "building tree 421 of 450\n",
      "building tree 422 of 450\n",
      "building tree 423 of 450\n",
      "building tree 424 of 450\n",
      "building tree 425 of 450\n",
      "building tree 426 of 450\n",
      "building tree 427 of 450\n",
      "building tree 428 of 450\n",
      "building tree 429 of 450\n",
      "building tree 430 of 450\n",
      "building tree 431 of 450\n",
      "building tree 432 of 450\n",
      "building tree 433 of 450\n",
      "building tree 434 of 450\n",
      "building tree 435 of 450\n",
      "building tree 436 of 450\n",
      "building tree 437 of 450\n",
      "building tree 438 of 450\n",
      "building tree 439 of 450\n",
      "building tree 440 of 450\n",
      "building tree 441 of 450\n",
      "building tree 442 of 450\n",
      "building tree 443 of 450\n",
      "building tree 444 of 450\n",
      "building tree 445 of 450\n",
      "building tree 446 of 450\n",
      "building tree 447 of 450\n"
     ]
    },
    {
     "name": "stderr",
     "output_type": "stream",
     "text": [
      "[Parallel(n_jobs=-1)]: Done 446 tasks      | elapsed:  2.8min\n"
     ]
    },
    {
     "name": "stdout",
     "output_type": "stream",
     "text": [
      "building tree 448 of 450\n",
      "building tree 449 of 450\n",
      "building tree 450 of 450\n"
     ]
    },
    {
     "name": "stderr",
     "output_type": "stream",
     "text": [
      "[Parallel(n_jobs=-1)]: Done 450 out of 450 | elapsed:  2.9min finished\n",
      "[Parallel(n_jobs=2)]: Using backend ThreadingBackend with 2 concurrent workers.\n",
      "[Parallel(n_jobs=2)]: Done   1 tasks      | elapsed:    0.0s\n",
      "[Parallel(n_jobs=2)]: Done   4 tasks      | elapsed:    0.0s\n",
      "[Parallel(n_jobs=2)]: Done   9 tasks      | elapsed:    0.1s\n",
      "[Parallel(n_jobs=2)]: Done  14 tasks      | elapsed:    0.1s\n",
      "[Parallel(n_jobs=2)]: Done  21 tasks      | elapsed:    0.2s\n",
      "[Parallel(n_jobs=2)]: Done  28 tasks      | elapsed:    0.2s\n",
      "[Parallel(n_jobs=2)]: Done  37 tasks      | elapsed:    0.3s\n",
      "[Parallel(n_jobs=2)]: Done  46 tasks      | elapsed:    0.3s\n",
      "[Parallel(n_jobs=2)]: Done  57 tasks      | elapsed:    0.4s\n",
      "[Parallel(n_jobs=2)]: Done  68 tasks      | elapsed:    0.5s\n",
      "[Parallel(n_jobs=2)]: Done  81 tasks      | elapsed:    0.6s\n",
      "[Parallel(n_jobs=2)]: Done  94 tasks      | elapsed:    0.7s\n",
      "[Parallel(n_jobs=2)]: Done 109 tasks      | elapsed:    0.8s\n",
      "[Parallel(n_jobs=2)]: Done 124 tasks      | elapsed:    0.9s\n",
      "[Parallel(n_jobs=2)]: Done 141 tasks      | elapsed:    1.0s\n",
      "[Parallel(n_jobs=2)]: Done 158 tasks      | elapsed:    1.2s\n",
      "[Parallel(n_jobs=2)]: Done 177 tasks      | elapsed:    1.3s\n",
      "[Parallel(n_jobs=2)]: Done 196 tasks      | elapsed:    1.4s\n",
      "[Parallel(n_jobs=2)]: Done 217 tasks      | elapsed:    1.6s\n",
      "[Parallel(n_jobs=2)]: Done 238 tasks      | elapsed:    1.7s\n",
      "[Parallel(n_jobs=2)]: Done 261 tasks      | elapsed:    1.9s\n",
      "[Parallel(n_jobs=2)]: Done 284 tasks      | elapsed:    2.1s\n",
      "[Parallel(n_jobs=2)]: Done 309 tasks      | elapsed:    2.3s\n",
      "[Parallel(n_jobs=2)]: Done 334 tasks      | elapsed:    2.5s\n",
      "[Parallel(n_jobs=2)]: Done 361 tasks      | elapsed:    2.6s\n",
      "[Parallel(n_jobs=2)]: Done 388 tasks      | elapsed:    2.8s\n",
      "[Parallel(n_jobs=2)]: Done 417 tasks      | elapsed:    3.1s\n"
     ]
    },
    {
     "name": "stdout",
     "output_type": "stream",
     "text": [
      "4 0.7332594412851576\n",
      "0.7292205511789798\n"
     ]
    },
    {
     "name": "stderr",
     "output_type": "stream",
     "text": [
      "[Parallel(n_jobs=2)]: Done 446 tasks      | elapsed:    3.3s\n",
      "[Parallel(n_jobs=2)]: Done 450 out of 450 | elapsed:    3.3s finished\n"
     ]
    }
   ],
   "source": [
    "kf = KFold(n_splits=5)\n",
    "kf.get_n_splits(X)\n",
    "roc_aucs = []\n",
    "for i, (train_index, test_index) in enumerate(kf.split(X)):\n",
    "    X_train, X_test = top_5_data.loc[train_index], top_5_data.loc[test_index]\n",
    "    y_train, y_test = Y.loc[train_index], Y.loc[test_index]\n",
    "    clf.fit(X_train, y_train)\n",
    "    predict = clf.predict_proba(X_test)[:,1]\n",
    "    roc_auc = roc_auc_score(y_test, predict)\n",
    "    print(i, roc_auc)\n",
    "    roc_aucs.append(roc_auc)\n"
   ]
  },
  {
   "cell_type": "markdown",
   "metadata": {},
   "source": [
    "### The new score  is lower, but the decrease is not enormous. The top 5 features are capable of modelling the dependent variable very well."
   ]
  },
  {
   "cell_type": "code",
   "execution_count": 57,
   "metadata": {
    "colab": {
     "base_uri": "https://localhost:8080/"
    },
    "id": "ghEwAiZxbjSK",
    "outputId": "b49ddace-1396-439b-a6bd-855073d8b00f"
   },
   "outputs": [
    {
     "name": "stdout",
     "output_type": "stream",
     "text": [
      "0.7292205511789798\n"
     ]
    }
   ],
   "source": [
    "print(np.mean(roc_aucs))"
   ]
  },
  {
   "cell_type": "code",
   "execution_count": 60,
   "metadata": {
    "id": "MoUIkWKhU2Ii"
   },
   "outputs": [],
   "source": [
    "no_top_1_data = X.drop(['EXT_SOURCE_3'], axis = 1)"
   ]
  },
  {
   "cell_type": "code",
   "execution_count": 61,
   "metadata": {
    "id": "BshOLRU_XUl4"
   },
   "outputs": [],
   "source": [
    "clf = RandomForestClassifier(bootstrap=True, ccp_alpha=0.0, class_weight=None,\n",
    "                       criterion='gini', max_depth=15, max_features='auto',\n",
    "                       max_leaf_nodes=None, max_samples=None,\n",
    "                       min_impurity_decrease=0.0, min_impurity_split=None,\n",
    "                       min_samples_leaf=28, min_samples_split=2,\n",
    "                       min_weight_fraction_leaf=0.0, n_estimators=450,\n",
    "                       n_jobs=-1, oob_score=False, random_state=None, \n",
    "                       warm_start=False, verbose = 10)"
   ]
  },
  {
   "cell_type": "code",
   "execution_count": 62,
   "metadata": {
    "colab": {
     "base_uri": "https://localhost:8080/"
    },
    "id": "uJuiWIMoXfbS",
    "outputId": "4716a312-2782-4e51-ed72-f4a22bb31495"
   },
   "outputs": [
    {
     "name": "stderr",
     "output_type": "stream",
     "text": [
      "[Parallel(n_jobs=-1)]: Using backend ThreadingBackend with 2 concurrent workers.\n"
     ]
    },
    {
     "name": "stdout",
     "output_type": "stream",
     "text": [
      "building tree 1 of 450\n",
      "building tree 2 of 450\n",
      "building tree 3 of 450\n",
      "building tree 4 of 450\n"
     ]
    },
    {
     "name": "stderr",
     "output_type": "stream",
     "text": [
      "[Parallel(n_jobs=-1)]: Done   1 tasks      | elapsed:    1.1s\n"
     ]
    },
    {
     "name": "stdout",
     "output_type": "stream",
     "text": [
      "building tree 5 of 450\n",
      "building tree 6 of 450\n"
     ]
    },
    {
     "name": "stderr",
     "output_type": "stream",
     "text": [
      "[Parallel(n_jobs=-1)]: Done   4 tasks      | elapsed:    2.3s\n"
     ]
    },
    {
     "name": "stdout",
     "output_type": "stream",
     "text": [
      "building tree 7 of 450\n",
      "building tree 8 of 450\n",
      "building tree 9 of 450\n",
      "building tree 10 of 450\n"
     ]
    },
    {
     "name": "stderr",
     "output_type": "stream",
     "text": [
      "[Parallel(n_jobs=-1)]: Done   9 tasks      | elapsed:    5.6s\n"
     ]
    },
    {
     "name": "stdout",
     "output_type": "stream",
     "text": [
      "building tree 11 of 450\n",
      "building tree 12 of 450\n",
      "building tree 13 of 450\n",
      "building tree 14 of 450\n",
      "building tree 15 of 450\n",
      "building tree 16 of 450\n"
     ]
    },
    {
     "name": "stderr",
     "output_type": "stream",
     "text": [
      "[Parallel(n_jobs=-1)]: Done  14 tasks      | elapsed:    8.0s\n"
     ]
    },
    {
     "name": "stdout",
     "output_type": "stream",
     "text": [
      "building tree 17 of 450\n",
      "building tree 18 of 450\n",
      "building tree 19 of 450\n",
      "building tree 20 of 450\n",
      "building tree 21 of 450\n",
      "building tree 22 of 450\n"
     ]
    },
    {
     "name": "stderr",
     "output_type": "stream",
     "text": [
      "[Parallel(n_jobs=-1)]: Done  21 tasks      | elapsed:   12.6s\n"
     ]
    },
    {
     "name": "stdout",
     "output_type": "stream",
     "text": [
      "building tree 23 of 450\n",
      "building tree 24 of 450\n",
      "building tree 25 of 450\n",
      "building tree 26 of 450\n",
      "building tree 27 of 450\n",
      "building tree 28 of 450\n",
      "building tree 29 of 450\n",
      "building tree 30 of 450\n"
     ]
    },
    {
     "name": "stderr",
     "output_type": "stream",
     "text": [
      "[Parallel(n_jobs=-1)]: Done  28 tasks      | elapsed:   16.1s\n"
     ]
    },
    {
     "name": "stdout",
     "output_type": "stream",
     "text": [
      "building tree 31 of 450\n",
      "building tree 32 of 450\n",
      "building tree 33 of 450\n",
      "building tree 34 of 450\n",
      "building tree 35 of 450\n",
      "building tree 36 of 450\n",
      "building tree 37 of 450\n",
      "building tree 38 of 450\n"
     ]
    },
    {
     "name": "stderr",
     "output_type": "stream",
     "text": [
      "[Parallel(n_jobs=-1)]: Done  37 tasks      | elapsed:   21.8s\n"
     ]
    },
    {
     "name": "stdout",
     "output_type": "stream",
     "text": [
      "building tree 39 of 450\n",
      "building tree 40 of 450\n",
      "building tree 41 of 450\n",
      "building tree 42 of 450\n",
      "building tree 43 of 450\n",
      "building tree 44 of 450\n",
      "building tree 45 of 450\n",
      "building tree 46 of 450\n",
      "building tree 47 of 450\n",
      "building tree 48 of 450\n"
     ]
    },
    {
     "name": "stderr",
     "output_type": "stream",
     "text": [
      "[Parallel(n_jobs=-1)]: Done  46 tasks      | elapsed:   26.5s\n"
     ]
    },
    {
     "name": "stdout",
     "output_type": "stream",
     "text": [
      "building tree 49 of 450\n",
      "building tree 50 of 450\n",
      "building tree 51 of 450\n",
      "building tree 52 of 450\n",
      "building tree 53 of 450\n",
      "building tree 54 of 450\n",
      "building tree 55 of 450\n",
      "building tree 56 of 450\n",
      "building tree 57 of 450\n",
      "building tree 58 of 450\n"
     ]
    },
    {
     "name": "stderr",
     "output_type": "stream",
     "text": [
      "[Parallel(n_jobs=-1)]: Done  57 tasks      | elapsed:   33.2s\n"
     ]
    },
    {
     "name": "stdout",
     "output_type": "stream",
     "text": [
      "building tree 59 of 450\n",
      "building tree 60 of 450\n",
      "building tree 61 of 450\n",
      "building tree 62 of 450\n",
      "building tree 63 of 450\n",
      "building tree 64 of 450\n",
      "building tree 65 of 450\n",
      "building tree 66 of 450\n",
      "building tree 67 of 450\n",
      "building tree 68 of 450\n",
      "building tree 69 of 450\n",
      "building tree 70 of 450\n"
     ]
    },
    {
     "name": "stderr",
     "output_type": "stream",
     "text": [
      "[Parallel(n_jobs=-1)]: Done  68 tasks      | elapsed:   39.1s\n"
     ]
    },
    {
     "name": "stdout",
     "output_type": "stream",
     "text": [
      "building tree 71 of 450\n",
      "building tree 72 of 450\n",
      "building tree 73 of 450\n",
      "building tree 74 of 450\n",
      "building tree 75 of 450\n",
      "building tree 76 of 450\n",
      "building tree 77 of 450\n",
      "building tree 78 of 450\n",
      "building tree 79 of 450\n",
      "building tree 80 of 450\n",
      "building tree 81 of 450\n",
      "building tree 82 of 450\n"
     ]
    },
    {
     "name": "stderr",
     "output_type": "stream",
     "text": [
      "[Parallel(n_jobs=-1)]: Done  81 tasks      | elapsed:   47.0s\n"
     ]
    },
    {
     "name": "stdout",
     "output_type": "stream",
     "text": [
      "building tree 83 of 450\n",
      "building tree 84 of 450\n",
      "building tree 85 of 450\n",
      "building tree 86 of 450\n",
      "building tree 87 of 450\n",
      "building tree 88 of 450\n",
      "building tree 89 of 450\n",
      "building tree 90 of 450\n",
      "building tree 91 of 450\n",
      "building tree 92 of 450\n",
      "building tree 93 of 450\n",
      "building tree 94 of 450\n",
      "building tree 95 of 450\n",
      "building tree 96 of 450\n"
     ]
    },
    {
     "name": "stderr",
     "output_type": "stream",
     "text": [
      "[Parallel(n_jobs=-1)]: Done  94 tasks      | elapsed:   54.0s\n"
     ]
    },
    {
     "name": "stdout",
     "output_type": "stream",
     "text": [
      "building tree 97 of 450\n",
      "building tree 98 of 450\n",
      "building tree 99 of 450\n",
      "building tree 100 of 450\n",
      "building tree 101 of 450\n",
      "building tree 102 of 450\n",
      "building tree 103 of 450\n",
      "building tree 104 of 450\n",
      "building tree 105 of 450\n",
      "building tree 106 of 450\n",
      "building tree 107 of 450\n",
      "building tree 108 of 450\n",
      "building tree 109 of 450\n",
      "building tree 110 of 450\n"
     ]
    },
    {
     "name": "stderr",
     "output_type": "stream",
     "text": [
      "[Parallel(n_jobs=-1)]: Done 109 tasks      | elapsed:  1.0min\n"
     ]
    },
    {
     "name": "stdout",
     "output_type": "stream",
     "text": [
      "building tree 111 of 450\n",
      "building tree 112 of 450\n",
      "building tree 113 of 450\n",
      "building tree 114 of 450\n",
      "building tree 115 of 450\n",
      "building tree 116 of 450\n",
      "building tree 117 of 450\n",
      "building tree 118 of 450\n",
      "building tree 119 of 450\n",
      "building tree 120 of 450\n",
      "building tree 121 of 450\n",
      "building tree 122 of 450\n",
      "building tree 123 of 450\n",
      "building tree 124 of 450\n",
      "building tree 125 of 450\n"
     ]
    },
    {
     "name": "stderr",
     "output_type": "stream",
     "text": [
      "[Parallel(n_jobs=-1)]: Done 124 tasks      | elapsed:  1.2min\n"
     ]
    },
    {
     "name": "stdout",
     "output_type": "stream",
     "text": [
      "building tree 126 of 450\n",
      "building tree 127 of 450\n",
      "building tree 128 of 450\n",
      "building tree 129 of 450\n",
      "building tree 130 of 450\n",
      "building tree 131 of 450\n",
      "building tree 132 of 450\n",
      "building tree 133 of 450\n",
      "building tree 134 of 450\n",
      "building tree 135 of 450\n",
      "building tree 136 of 450\n",
      "building tree 137 of 450\n",
      "building tree 138 of 450\n",
      "building tree 139 of 450\n",
      "building tree 140 of 450\n",
      "building tree 141 of 450\n",
      "building tree 142 of 450\n"
     ]
    },
    {
     "name": "stderr",
     "output_type": "stream",
     "text": [
      "[Parallel(n_jobs=-1)]: Done 141 tasks      | elapsed:  1.4min\n"
     ]
    },
    {
     "name": "stdout",
     "output_type": "stream",
     "text": [
      "building tree 143 of 450\n",
      "building tree 144 of 450\n",
      "building tree 145 of 450\n",
      "building tree 146 of 450\n",
      "building tree 147 of 450\n",
      "building tree 148 of 450\n",
      "building tree 149 of 450\n",
      "building tree 150 of 450\n",
      "building tree 151 of 450\n",
      "building tree 152 of 450\n",
      "building tree 153 of 450\n",
      "building tree 154 of 450\n",
      "building tree 155 of 450\n",
      "building tree 156 of 450\n",
      "building tree 157 of 450\n",
      "building tree 158 of 450\n",
      "building tree 159 of 450\n",
      "building tree 160 of 450\n"
     ]
    },
    {
     "name": "stderr",
     "output_type": "stream",
     "text": [
      "[Parallel(n_jobs=-1)]: Done 158 tasks      | elapsed:  1.5min\n"
     ]
    },
    {
     "name": "stdout",
     "output_type": "stream",
     "text": [
      "building tree 161 of 450\n",
      "building tree 162 of 450\n",
      "building tree 163 of 450\n",
      "building tree 164 of 450\n",
      "building tree 165 of 450\n",
      "building tree 166 of 450\n",
      "building tree 167 of 450\n",
      "building tree 168 of 450\n",
      "building tree 169 of 450\n",
      "building tree 170 of 450\n",
      "building tree 171 of 450\n",
      "building tree 172 of 450\n",
      "building tree 173 of 450\n",
      "building tree 174 of 450\n",
      "building tree 175 of 450\n",
      "building tree 176 of 450\n",
      "building tree 177 of 450\n",
      "building tree 178 of 450\n"
     ]
    },
    {
     "name": "stderr",
     "output_type": "stream",
     "text": [
      "[Parallel(n_jobs=-1)]: Done 177 tasks      | elapsed:  1.7min\n"
     ]
    },
    {
     "name": "stdout",
     "output_type": "stream",
     "text": [
      "building tree 179 of 450\n",
      "building tree 180 of 450\n",
      "building tree 181 of 450\n",
      "building tree 182 of 450\n",
      "building tree 183 of 450\n",
      "building tree 184 of 450\n",
      "building tree 185 of 450\n",
      "building tree 186 of 450\n",
      "building tree 187 of 450\n",
      "building tree 188 of 450\n",
      "building tree 189 of 450\n",
      "building tree 190 of 450\n",
      "building tree 191 of 450\n",
      "building tree 192 of 450\n",
      "building tree 193 of 450\n",
      "building tree 194 of 450\n",
      "building tree 195 of 450\n",
      "building tree 196 of 450\n",
      "building tree 197 of 450\n"
     ]
    },
    {
     "name": "stderr",
     "output_type": "stream",
     "text": [
      "[Parallel(n_jobs=-1)]: Done 196 tasks      | elapsed:  1.9min\n"
     ]
    },
    {
     "name": "stdout",
     "output_type": "stream",
     "text": [
      "building tree 198 of 450\n",
      "building tree 199 of 450\n",
      "building tree 200 of 450\n",
      "building tree 201 of 450\n",
      "building tree 202 of 450\n",
      "building tree 203 of 450\n",
      "building tree 204 of 450\n",
      "building tree 205 of 450\n",
      "building tree 206 of 450\n",
      "building tree 207 of 450\n",
      "building tree 208 of 450\n",
      "building tree 209 of 450\n",
      "building tree 210 of 450\n",
      "building tree 211 of 450\n",
      "building tree 212 of 450\n",
      "building tree 213 of 450\n",
      "building tree 214 of 450\n",
      "building tree 215 of 450\n",
      "building tree 216 of 450\n",
      "building tree 217 of 450\n",
      "building tree 218 of 450\n"
     ]
    },
    {
     "name": "stderr",
     "output_type": "stream",
     "text": [
      "[Parallel(n_jobs=-1)]: Done 217 tasks      | elapsed:  2.1min\n"
     ]
    },
    {
     "name": "stdout",
     "output_type": "stream",
     "text": [
      "building tree 219 of 450\n",
      "building tree 220 of 450\n",
      "building tree 221 of 450\n",
      "building tree 222 of 450\n",
      "building tree 223 of 450\n",
      "building tree 224 of 450\n",
      "building tree 225 of 450\n",
      "building tree 226 of 450\n",
      "building tree 227 of 450\n",
      "building tree 228 of 450\n",
      "building tree 229 of 450\n",
      "building tree 230 of 450\n",
      "building tree 231 of 450\n",
      "building tree 232 of 450\n",
      "building tree 233 of 450\n",
      "building tree 234 of 450\n",
      "building tree 235 of 450\n",
      "building tree 236 of 450\n",
      "building tree 237 of 450\n",
      "building tree 238 of 450\n",
      "building tree 239 of 450\n"
     ]
    },
    {
     "name": "stderr",
     "output_type": "stream",
     "text": [
      "[Parallel(n_jobs=-1)]: Done 238 tasks      | elapsed:  2.3min\n"
     ]
    },
    {
     "name": "stdout",
     "output_type": "stream",
     "text": [
      "building tree 240 of 450\n",
      "building tree 241 of 450\n",
      "building tree 242 of 450\n",
      "building tree 243 of 450\n",
      "building tree 244 of 450\n",
      "building tree 245 of 450\n",
      "building tree 246 of 450\n",
      "building tree 247 of 450\n",
      "building tree 248 of 450\n",
      "building tree 249 of 450\n",
      "building tree 250 of 450\n",
      "building tree 251 of 450\n",
      "building tree 252 of 450\n",
      "building tree 253 of 450\n",
      "building tree 254 of 450\n",
      "building tree 255 of 450\n",
      "building tree 256 of 450\n",
      "building tree 257 of 450\n",
      "building tree 258 of 450\n",
      "building tree 259 of 450\n",
      "building tree 260 of 450\n",
      "building tree 261 of 450\n",
      "building tree 262 of 450\n"
     ]
    },
    {
     "name": "stderr",
     "output_type": "stream",
     "text": [
      "[Parallel(n_jobs=-1)]: Done 261 tasks      | elapsed:  2.5min\n"
     ]
    },
    {
     "name": "stdout",
     "output_type": "stream",
     "text": [
      "building tree 263 of 450\n",
      "building tree 264 of 450\n",
      "building tree 265 of 450\n",
      "building tree 266 of 450\n",
      "building tree 267 of 450\n",
      "building tree 268 of 450\n",
      "building tree 269 of 450\n",
      "building tree 270 of 450\n",
      "building tree 271 of 450\n",
      "building tree 272 of 450\n",
      "building tree 273 of 450\n",
      "building tree 274 of 450\n",
      "building tree 275 of 450\n",
      "building tree 276 of 450\n",
      "building tree 277 of 450\n",
      "building tree 278 of 450\n",
      "building tree 279 of 450\n",
      "building tree 280 of 450\n",
      "building tree 281 of 450\n",
      "building tree 282 of 450\n",
      "building tree 283 of 450\n",
      "building tree 284 of 450\n",
      "building tree 285 of 450\n",
      "building tree 286 of 450\n"
     ]
    },
    {
     "name": "stderr",
     "output_type": "stream",
     "text": [
      "[Parallel(n_jobs=-1)]: Done 284 tasks      | elapsed:  2.7min\n"
     ]
    },
    {
     "name": "stdout",
     "output_type": "stream",
     "text": [
      "building tree 287 of 450\n",
      "building tree 288 of 450\n",
      "building tree 289 of 450\n",
      "building tree 290 of 450\n",
      "building tree 291 of 450\n",
      "building tree 292 of 450\n",
      "building tree 293 of 450\n",
      "building tree 294 of 450\n",
      "building tree 295 of 450\n",
      "building tree 296 of 450\n",
      "building tree 297 of 450\n",
      "building tree 298 of 450\n",
      "building tree 299 of 450\n",
      "building tree 300 of 450\n",
      "building tree 301 of 450\n",
      "building tree 302 of 450\n",
      "building tree 303 of 450\n",
      "building tree 304 of 450\n",
      "building tree 305 of 450\n",
      "building tree 306 of 450\n",
      "building tree 307 of 450\n",
      "building tree 308 of 450\n",
      "building tree 309 of 450\n",
      "building tree 310 of 450\n"
     ]
    },
    {
     "name": "stderr",
     "output_type": "stream",
     "text": [
      "[Parallel(n_jobs=-1)]: Done 309 tasks      | elapsed:  3.0min\n"
     ]
    },
    {
     "name": "stdout",
     "output_type": "stream",
     "text": [
      "building tree 311 of 450\n",
      "building tree 312 of 450\n",
      "building tree 313 of 450\n",
      "building tree 314 of 450\n",
      "building tree 315 of 450\n",
      "building tree 316 of 450\n",
      "building tree 317 of 450\n",
      "building tree 318 of 450\n",
      "building tree 319 of 450\n",
      "building tree 320 of 450\n",
      "building tree 321 of 450\n",
      "building tree 322 of 450\n",
      "building tree 323 of 450\n",
      "building tree 324 of 450\n",
      "building tree 325 of 450\n",
      "building tree 326 of 450\n",
      "building tree 327 of 450\n",
      "building tree 328 of 450\n",
      "building tree 329 of 450\n",
      "building tree 330 of 450\n",
      "building tree 331 of 450\n",
      "building tree 332 of 450\n",
      "building tree 333 of 450\n",
      "building tree 334 of 450\n",
      "building tree 335 of 450\n"
     ]
    },
    {
     "name": "stderr",
     "output_type": "stream",
     "text": [
      "[Parallel(n_jobs=-1)]: Done 334 tasks      | elapsed:  3.2min\n"
     ]
    },
    {
     "name": "stdout",
     "output_type": "stream",
     "text": [
      "building tree 336 of 450\n",
      "building tree 337 of 450\n",
      "building tree 338 of 450\n",
      "building tree 339 of 450\n",
      "building tree 340 of 450\n",
      "building tree 341 of 450\n",
      "building tree 342 of 450\n",
      "building tree 343 of 450\n",
      "building tree 344 of 450\n",
      "building tree 345 of 450\n",
      "building tree 346 of 450\n",
      "building tree 347 of 450\n",
      "building tree 348 of 450\n",
      "building tree 349 of 450\n",
      "building tree 350 of 450\n",
      "building tree 351 of 450\n",
      "building tree 352 of 450\n",
      "building tree 353 of 450\n",
      "building tree 354 of 450\n",
      "building tree 355 of 450\n",
      "building tree 356 of 450\n",
      "building tree 357 of 450\n",
      "building tree 358 of 450\n",
      "building tree 359 of 450\n",
      "building tree 360 of 450\n",
      "building tree 361 of 450\n",
      "building tree 362 of 450\n",
      "building tree 363 of 450\n"
     ]
    },
    {
     "name": "stderr",
     "output_type": "stream",
     "text": [
      "[Parallel(n_jobs=-1)]: Done 361 tasks      | elapsed:  3.5min\n"
     ]
    },
    {
     "name": "stdout",
     "output_type": "stream",
     "text": [
      "building tree 364 of 450\n",
      "building tree 365 of 450\n",
      "building tree 366 of 450\n",
      "building tree 367 of 450\n",
      "building tree 368 of 450\n",
      "building tree 369 of 450\n",
      "building tree 370 of 450\n",
      "building tree 371 of 450\n",
      "building tree 372 of 450\n",
      "building tree 373 of 450\n",
      "building tree 374 of 450\n",
      "building tree 375 of 450\n",
      "building tree 376 of 450\n",
      "building tree 377 of 450\n",
      "building tree 378 of 450\n",
      "building tree 379 of 450\n",
      "building tree 380 of 450\n",
      "building tree 381 of 450\n",
      "building tree 382 of 450\n",
      "building tree 383 of 450\n",
      "building tree 384 of 450\n",
      "building tree 385 of 450\n",
      "building tree 386 of 450\n",
      "building tree 387 of 450\n",
      "building tree 388 of 450\n",
      "building tree 389 of 450\n"
     ]
    },
    {
     "name": "stderr",
     "output_type": "stream",
     "text": [
      "[Parallel(n_jobs=-1)]: Done 388 tasks      | elapsed:  3.7min\n"
     ]
    },
    {
     "name": "stdout",
     "output_type": "stream",
     "text": [
      "building tree 390 of 450\n",
      "building tree 391 of 450\n",
      "building tree 392 of 450\n",
      "building tree 393 of 450\n",
      "building tree 394 of 450\n",
      "building tree 395 of 450\n",
      "building tree 396 of 450\n",
      "building tree 397 of 450\n",
      "building tree 398 of 450\n",
      "building tree 399 of 450\n",
      "building tree 400 of 450\n",
      "building tree 401 of 450\n",
      "building tree 402 of 450\n",
      "building tree 403 of 450\n",
      "building tree 404 of 450\n",
      "building tree 405 of 450\n",
      "building tree 406 of 450\n",
      "building tree 407 of 450\n",
      "building tree 408 of 450\n",
      "building tree 409 of 450\n",
      "building tree 410 of 450\n",
      "building tree 411 of 450\n",
      "building tree 412 of 450\n",
      "building tree 413 of 450\n",
      "building tree 414 of 450\n",
      "building tree 415 of 450\n",
      "building tree 416 of 450\n",
      "building tree 417 of 450\n",
      "building tree 418 of 450\n",
      "building tree 419 of 450\n"
     ]
    },
    {
     "name": "stderr",
     "output_type": "stream",
     "text": [
      "[Parallel(n_jobs=-1)]: Done 417 tasks      | elapsed:  4.0min\n"
     ]
    },
    {
     "name": "stdout",
     "output_type": "stream",
     "text": [
      "building tree 420 of 450\n",
      "building tree 421 of 450\n",
      "building tree 422 of 450building tree 423 of 450\n",
      "\n",
      "building tree 424 of 450\n",
      "building tree 425 of 450\n",
      "building tree 426 of 450\n",
      "building tree 427 of 450\n",
      "building tree 428 of 450\n",
      "building tree 429 of 450\n",
      "building tree 430 of 450\n",
      "building tree 431 of 450\n",
      "building tree 432 of 450\n",
      "building tree 433 of 450\n",
      "building tree 434 of 450\n",
      "building tree 435 of 450\n",
      "building tree 436 of 450\n",
      "building tree 437 of 450\n",
      "building tree 438 of 450\n",
      "building tree 439 of 450\n",
      "building tree 440 of 450\n",
      "building tree 441 of 450\n",
      "building tree 442 of 450\n",
      "building tree 443 of 450\n",
      "building tree 444 of 450\n",
      "building tree 445 of 450\n",
      "building tree 446 of 450\n",
      "building tree 447 of 450\n"
     ]
    },
    {
     "name": "stderr",
     "output_type": "stream",
     "text": [
      "[Parallel(n_jobs=-1)]: Done 446 tasks      | elapsed:  4.3min\n"
     ]
    },
    {
     "name": "stdout",
     "output_type": "stream",
     "text": [
      "building tree 448 of 450\n",
      "building tree 449 of 450\n",
      "building tree 450 of 450\n"
     ]
    },
    {
     "name": "stderr",
     "output_type": "stream",
     "text": [
      "[Parallel(n_jobs=-1)]: Done 450 out of 450 | elapsed:  4.3min finished\n",
      "[Parallel(n_jobs=2)]: Using backend ThreadingBackend with 2 concurrent workers.\n",
      "[Parallel(n_jobs=2)]: Done   1 tasks      | elapsed:    0.0s\n",
      "[Parallel(n_jobs=2)]: Done   4 tasks      | elapsed:    0.0s\n",
      "[Parallel(n_jobs=2)]: Done   9 tasks      | elapsed:    0.1s\n",
      "[Parallel(n_jobs=2)]: Done  14 tasks      | elapsed:    0.2s\n",
      "[Parallel(n_jobs=2)]: Done  21 tasks      | elapsed:    0.3s\n",
      "[Parallel(n_jobs=2)]: Done  28 tasks      | elapsed:    0.3s\n",
      "[Parallel(n_jobs=2)]: Done  37 tasks      | elapsed:    0.4s\n",
      "[Parallel(n_jobs=2)]: Done  46 tasks      | elapsed:    0.5s\n",
      "[Parallel(n_jobs=2)]: Done  57 tasks      | elapsed:    0.7s\n",
      "[Parallel(n_jobs=2)]: Done  68 tasks      | elapsed:    0.8s\n",
      "[Parallel(n_jobs=2)]: Done  81 tasks      | elapsed:    0.9s\n",
      "[Parallel(n_jobs=2)]: Done  94 tasks      | elapsed:    1.0s\n",
      "[Parallel(n_jobs=2)]: Done 109 tasks      | elapsed:    1.2s\n",
      "[Parallel(n_jobs=2)]: Done 124 tasks      | elapsed:    1.4s\n",
      "[Parallel(n_jobs=2)]: Done 141 tasks      | elapsed:    1.6s\n",
      "[Parallel(n_jobs=2)]: Done 158 tasks      | elapsed:    1.8s\n",
      "[Parallel(n_jobs=2)]: Done 177 tasks      | elapsed:    2.0s\n",
      "[Parallel(n_jobs=2)]: Done 196 tasks      | elapsed:    2.2s\n",
      "[Parallel(n_jobs=2)]: Done 217 tasks      | elapsed:    2.4s\n",
      "[Parallel(n_jobs=2)]: Done 238 tasks      | elapsed:    2.7s\n",
      "[Parallel(n_jobs=2)]: Done 261 tasks      | elapsed:    2.9s\n",
      "[Parallel(n_jobs=2)]: Done 284 tasks      | elapsed:    3.2s\n",
      "[Parallel(n_jobs=2)]: Done 309 tasks      | elapsed:    3.5s\n",
      "[Parallel(n_jobs=2)]: Done 334 tasks      | elapsed:    3.8s\n",
      "[Parallel(n_jobs=2)]: Done 361 tasks      | elapsed:    4.1s\n",
      "[Parallel(n_jobs=2)]: Done 388 tasks      | elapsed:    4.4s\n",
      "[Parallel(n_jobs=2)]: Done 417 tasks      | elapsed:    4.7s\n",
      "[Parallel(n_jobs=2)]: Done 446 tasks      | elapsed:    5.0s\n",
      "[Parallel(n_jobs=2)]: Done 450 out of 450 | elapsed:    5.0s finished\n"
     ]
    },
    {
     "name": "stdout",
     "output_type": "stream",
     "text": [
      "0 0.7172162821160281\n"
     ]
    },
    {
     "name": "stderr",
     "output_type": "stream",
     "text": [
      "[Parallel(n_jobs=-1)]: Using backend ThreadingBackend with 2 concurrent workers.\n"
     ]
    },
    {
     "name": "stdout",
     "output_type": "stream",
     "text": [
      "building tree 1 of 450\n",
      "building tree 2 of 450\n"
     ]
    },
    {
     "name": "stderr",
     "output_type": "stream",
     "text": [
      "[Parallel(n_jobs=-1)]: Done   1 tasks      | elapsed:    1.1s\n"
     ]
    },
    {
     "name": "stdout",
     "output_type": "stream",
     "text": [
      "building tree 3 of 450\n",
      "building tree 4 of 450\n",
      "building tree 5 of 450\n",
      "building tree 6 of 450\n"
     ]
    },
    {
     "name": "stderr",
     "output_type": "stream",
     "text": [
      "[Parallel(n_jobs=-1)]: Done   4 tasks      | elapsed:    2.5s\n"
     ]
    },
    {
     "name": "stdout",
     "output_type": "stream",
     "text": [
      "building tree 7 of 450\n",
      "building tree 8 of 450\n",
      "building tree 9 of 450\n",
      "building tree 10 of 450\n"
     ]
    },
    {
     "name": "stderr",
     "output_type": "stream",
     "text": [
      "[Parallel(n_jobs=-1)]: Done   9 tasks      | elapsed:    5.7s\n"
     ]
    },
    {
     "name": "stdout",
     "output_type": "stream",
     "text": [
      "building tree 11 of 450\n",
      "building tree 12 of 450\n",
      "building tree 13 of 450\n",
      "building tree 14 of 450\n",
      "building tree 15 of 450\n",
      "building tree 16 of 450\n"
     ]
    },
    {
     "name": "stderr",
     "output_type": "stream",
     "text": [
      "[Parallel(n_jobs=-1)]: Done  14 tasks      | elapsed:    8.4s\n"
     ]
    },
    {
     "name": "stdout",
     "output_type": "stream",
     "text": [
      "building tree 17 of 450\n",
      "building tree 18 of 450\n",
      "building tree 19 of 450\n",
      "building tree 20 of 450\n",
      "building tree 21 of 450\n",
      "building tree 22 of 450\n"
     ]
    },
    {
     "name": "stderr",
     "output_type": "stream",
     "text": [
      "[Parallel(n_jobs=-1)]: Done  21 tasks      | elapsed:   12.8s\n"
     ]
    },
    {
     "name": "stdout",
     "output_type": "stream",
     "text": [
      "building tree 23 of 450\n",
      "building tree 24 of 450\n",
      "building tree 25 of 450\n",
      "building tree 26 of 450\n",
      "building tree 27 of 450\n",
      "building tree 28 of 450\n",
      "building tree 29 of 450\n"
     ]
    },
    {
     "name": "stderr",
     "output_type": "stream",
     "text": [
      "[Parallel(n_jobs=-1)]: Done  28 tasks      | elapsed:   16.5s\n"
     ]
    },
    {
     "name": "stdout",
     "output_type": "stream",
     "text": [
      "building tree 30 of 450\n",
      "building tree 31 of 450\n",
      "building tree 32 of 450\n",
      "building tree 33 of 450\n",
      "building tree 34 of 450\n",
      "building tree 35 of 450\n",
      "building tree 36 of 450\n",
      "building tree 37 of 450\n",
      "building tree 38 of 450\n"
     ]
    },
    {
     "name": "stderr",
     "output_type": "stream",
     "text": [
      "[Parallel(n_jobs=-1)]: Done  37 tasks      | elapsed:   22.2s\n"
     ]
    },
    {
     "name": "stdout",
     "output_type": "stream",
     "text": [
      "building tree 39 of 450\n",
      "building tree 40 of 450\n",
      "building tree 41 of 450\n",
      "building tree 42 of 450\n",
      "building tree 43 of 450\n",
      "building tree 44 of 450\n",
      "building tree 45 of 450\n",
      "building tree 46 of 450\n",
      "building tree 47 of 450\n",
      "building tree 48 of 450\n"
     ]
    },
    {
     "name": "stderr",
     "output_type": "stream",
     "text": [
      "[Parallel(n_jobs=-1)]: Done  46 tasks      | elapsed:   26.9s\n"
     ]
    },
    {
     "name": "stdout",
     "output_type": "stream",
     "text": [
      "building tree 49 of 450\n",
      "building tree 50 of 450\n",
      "building tree 51 of 450\n",
      "building tree 52 of 450\n",
      "building tree 53 of 450\n",
      "building tree 54 of 450\n",
      "building tree 55 of 450\n",
      "building tree 56 of 450\n",
      "building tree 57 of 450\n",
      "building tree 58 of 450\n"
     ]
    },
    {
     "name": "stderr",
     "output_type": "stream",
     "text": [
      "[Parallel(n_jobs=-1)]: Done  57 tasks      | elapsed:   33.9s\n"
     ]
    },
    {
     "name": "stdout",
     "output_type": "stream",
     "text": [
      "building tree 59 of 450\n",
      "building tree 60 of 450\n",
      "building tree 61 of 450\n",
      "building tree 62 of 450\n",
      "building tree 63 of 450\n",
      "building tree 64 of 450\n",
      "building tree 65 of 450\n",
      "building tree 66 of 450\n",
      "building tree 67 of 450\n",
      "building tree 68 of 450\n",
      "building tree 69 of 450\n"
     ]
    },
    {
     "name": "stderr",
     "output_type": "stream",
     "text": [
      "[Parallel(n_jobs=-1)]: Done  68 tasks      | elapsed:   39.9s\n"
     ]
    },
    {
     "name": "stdout",
     "output_type": "stream",
     "text": [
      "building tree 70 of 450\n",
      "building tree 71 of 450\n",
      "building tree 72 of 450\n",
      "building tree 73 of 450\n",
      "building tree 74 of 450\n",
      "building tree 75 of 450\n",
      "building tree 76 of 450\n",
      "building tree 77 of 450\n",
      "building tree 78 of 450\n",
      "building tree 79 of 450\n",
      "building tree 80 of 450\n",
      "building tree 81 of 450\n",
      "building tree 82 of 450\n"
     ]
    },
    {
     "name": "stderr",
     "output_type": "stream",
     "text": [
      "[Parallel(n_jobs=-1)]: Done  81 tasks      | elapsed:   47.9s\n"
     ]
    },
    {
     "name": "stdout",
     "output_type": "stream",
     "text": [
      "building tree 83 of 450\n",
      "building tree 84 of 450\n",
      "building tree 85 of 450\n",
      "building tree 86 of 450\n",
      "building tree 87 of 450\n",
      "building tree 88 of 450\n",
      "building tree 89 of 450\n",
      "building tree 90 of 450\n",
      "building tree 91 of 450\n",
      "building tree 92 of 450\n",
      "building tree 93 of 450\n",
      "building tree 94 of 450\n",
      "building tree 95 of 450\n"
     ]
    },
    {
     "name": "stderr",
     "output_type": "stream",
     "text": [
      "[Parallel(n_jobs=-1)]: Done  94 tasks      | elapsed:   55.3s\n"
     ]
    },
    {
     "name": "stdout",
     "output_type": "stream",
     "text": [
      "building tree 96 of 450\n",
      "building tree 97 of 450\n",
      "building tree 98 of 450\n",
      "building tree 99 of 450\n",
      "building tree 100 of 450\n",
      "building tree 101 of 450\n",
      "building tree 102 of 450\n",
      "building tree 103 of 450\n",
      "building tree 104 of 450\n",
      "building tree 105 of 450\n",
      "building tree 106 of 450\n",
      "building tree 107 of 450\n",
      "building tree 108 of 450\n",
      "building tree 109 of 450\n",
      "building tree 110 of 450\n"
     ]
    },
    {
     "name": "stderr",
     "output_type": "stream",
     "text": [
      "[Parallel(n_jobs=-1)]: Done 109 tasks      | elapsed:  1.1min\n"
     ]
    },
    {
     "name": "stdout",
     "output_type": "stream",
     "text": [
      "building tree 111 of 450\n",
      "building tree 112 of 450\n",
      "building tree 113 of 450\n",
      "building tree 114 of 450\n",
      "building tree 115 of 450\n",
      "building tree 116 of 450\n",
      "building tree 117 of 450\n",
      "building tree 118 of 450\n",
      "building tree 119 of 450\n",
      "building tree 120 of 450\n",
      "building tree 121 of 450\n",
      "building tree 122 of 450\n",
      "building tree 123 of 450\n",
      "building tree 124 of 450\n",
      "building tree 125 of 450\n"
     ]
    },
    {
     "name": "stderr",
     "output_type": "stream",
     "text": [
      "[Parallel(n_jobs=-1)]: Done 124 tasks      | elapsed:  1.2min\n"
     ]
    },
    {
     "name": "stdout",
     "output_type": "stream",
     "text": [
      "building tree 126 of 450\n",
      "building tree 127 of 450\n",
      "building tree 128 of 450\n",
      "building tree 129 of 450\n",
      "building tree 130 of 450\n",
      "building tree 131 of 450\n",
      "building tree 132 of 450\n",
      "building tree 133 of 450\n",
      "building tree 134 of 450\n",
      "building tree 135 of 450\n",
      "building tree 136 of 450\n",
      "building tree 137 of 450\n",
      "building tree 138 of 450\n",
      "building tree 139 of 450\n",
      "building tree 140 of 450\n",
      "building tree 141 of 450\n",
      "building tree 142 of 450\n"
     ]
    },
    {
     "name": "stderr",
     "output_type": "stream",
     "text": [
      "[Parallel(n_jobs=-1)]: Done 141 tasks      | elapsed:  1.4min\n"
     ]
    },
    {
     "name": "stdout",
     "output_type": "stream",
     "text": [
      "building tree 143 of 450\n",
      "building tree 144 of 450\n",
      "building tree 145 of 450\n",
      "building tree 146 of 450\n",
      "building tree 147 of 450\n",
      "building tree 148 of 450\n",
      "building tree 149 of 450\n",
      "building tree 150 of 450\n",
      "building tree 151 of 450\n",
      "building tree 152 of 450\n",
      "building tree 153 of 450\n",
      "building tree 154 of 450\n",
      "building tree 155 of 450\n",
      "building tree 156 of 450\n",
      "building tree 157 of 450\n",
      "building tree 158 of 450\n",
      "building tree 159 of 450\n"
     ]
    },
    {
     "name": "stderr",
     "output_type": "stream",
     "text": [
      "[Parallel(n_jobs=-1)]: Done 158 tasks      | elapsed:  1.5min\n"
     ]
    },
    {
     "name": "stdout",
     "output_type": "stream",
     "text": [
      "building tree 160 of 450\n",
      "building tree 161 of 450\n",
      "building tree 162 of 450\n",
      "building tree 163 of 450\n",
      "building tree 164 of 450\n",
      "building tree 165 of 450\n",
      "building tree 166 of 450\n",
      "building tree 167 of 450\n",
      "building tree 168 of 450\n",
      "building tree 169 of 450\n",
      "building tree 170 of 450\n",
      "building tree 171 of 450\n",
      "building tree 172 of 450\n",
      "building tree 173 of 450\n",
      "building tree 174 of 450\n",
      "building tree 175 of 450\n",
      "building tree 176 of 450\n",
      "building tree 177 of 450\n",
      "building tree 178 of 450\n"
     ]
    },
    {
     "name": "stderr",
     "output_type": "stream",
     "text": [
      "[Parallel(n_jobs=-1)]: Done 177 tasks      | elapsed:  1.7min\n"
     ]
    },
    {
     "name": "stdout",
     "output_type": "stream",
     "text": [
      "building tree 179 of 450\n",
      "building tree 180 of 450\n",
      "building tree 181 of 450\n",
      "building tree 182 of 450\n",
      "building tree 183 of 450\n",
      "building tree 184 of 450\n",
      "building tree 185 of 450\n",
      "building tree 186 of 450\n",
      "building tree 187 of 450\n",
      "building tree 188 of 450\n",
      "building tree 189 of 450\n",
      "building tree 190 of 450\n",
      "building tree 191 of 450\n",
      "building tree 192 of 450\n",
      "building tree 193 of 450\n",
      "building tree 194 of 450\n",
      "building tree 195 of 450\n",
      "building tree 196 of 450\n",
      "building tree 197 of 450\n"
     ]
    },
    {
     "name": "stderr",
     "output_type": "stream",
     "text": [
      "[Parallel(n_jobs=-1)]: Done 196 tasks      | elapsed:  1.9min\n"
     ]
    },
    {
     "name": "stdout",
     "output_type": "stream",
     "text": [
      "building tree 198 of 450\n",
      "building tree 199 of 450\n",
      "building tree 200 of 450\n",
      "building tree 201 of 450\n",
      "building tree 202 of 450\n",
      "building tree 203 of 450\n",
      "building tree 204 of 450\n",
      "building tree 205 of 450\n",
      "building tree 206 of 450\n",
      "building tree 207 of 450\n",
      "building tree 208 of 450\n",
      "building tree 209 of 450\n",
      "building tree 210 of 450\n",
      "building tree 211 of 450\n",
      "building tree 212 of 450\n",
      "building tree 213 of 450\n",
      "building tree 214 of 450\n",
      "building tree 215 of 450\n",
      "building tree 216 of 450\n",
      "building tree 217 of 450\n",
      "building tree 218 of 450\n"
     ]
    },
    {
     "name": "stderr",
     "output_type": "stream",
     "text": [
      "[Parallel(n_jobs=-1)]: Done 217 tasks      | elapsed:  2.1min\n"
     ]
    },
    {
     "name": "stdout",
     "output_type": "stream",
     "text": [
      "building tree 219 of 450\n",
      "building tree 220 of 450\n",
      "building tree 221 of 450\n",
      "building tree 222 of 450\n",
      "building tree 223 of 450\n",
      "building tree 224 of 450\n",
      "building tree 225 of 450\n",
      "building tree 226 of 450\n",
      "building tree 227 of 450\n",
      "building tree 228 of 450\n",
      "building tree 229 of 450\n",
      "building tree 230 of 450\n",
      "building tree 231 of 450\n",
      "building tree 232 of 450\n",
      "building tree 233 of 450\n",
      "building tree 234 of 450\n",
      "building tree 235 of 450\n",
      "building tree 236 of 450\n",
      "building tree 237 of 450\n",
      "building tree 238 of 450\n",
      "building tree 239 of 450\n",
      "building tree 240 of 450\n"
     ]
    },
    {
     "name": "stderr",
     "output_type": "stream",
     "text": [
      "[Parallel(n_jobs=-1)]: Done 238 tasks      | elapsed:  2.3min\n"
     ]
    },
    {
     "name": "stdout",
     "output_type": "stream",
     "text": [
      "building tree 241 of 450\n",
      "building tree 242 of 450\n",
      "building tree 243 of 450\n",
      "building tree 244 of 450\n",
      "building tree 245 of 450\n",
      "building tree 246 of 450\n",
      "building tree 247 of 450\n",
      "building tree 248 of 450\n",
      "building tree 249 of 450\n",
      "building tree 250 of 450\n",
      "building tree 251 of 450\n",
      "building tree 252 of 450\n",
      "building tree 253 of 450\n",
      "building tree 254 of 450\n",
      "building tree 255 of 450\n",
      "building tree 256 of 450\n",
      "building tree 257 of 450\n",
      "building tree 258 of 450\n",
      "building tree 259 of 450\n",
      "building tree 260 of 450\n",
      "building tree 261 of 450\n",
      "building tree 262 of 450\n"
     ]
    },
    {
     "name": "stderr",
     "output_type": "stream",
     "text": [
      "[Parallel(n_jobs=-1)]: Done 261 tasks      | elapsed:  2.5min\n"
     ]
    },
    {
     "name": "stdout",
     "output_type": "stream",
     "text": [
      "building tree 263 of 450\n",
      "building tree 264 of 450\n",
      "building tree 265 of 450\n",
      "building tree 266 of 450\n",
      "building tree 267 of 450\n",
      "building tree 268 of 450\n",
      "building tree 269 of 450\n",
      "building tree 270 of 450\n",
      "building tree 271 of 450\n",
      "building tree 272 of 450\n",
      "building tree 273 of 450\n",
      "building tree 274 of 450\n",
      "building tree 275 of 450\n",
      "building tree 276 of 450\n",
      "building tree 277 of 450\n",
      "building tree 278 of 450\n",
      "building tree 279 of 450\n",
      "building tree 280 of 450\n",
      "building tree 281 of 450\n",
      "building tree 282 of 450\n",
      "building tree 283 of 450\n",
      "building tree 284 of 450\n",
      "building tree 285 of 450\n"
     ]
    },
    {
     "name": "stderr",
     "output_type": "stream",
     "text": [
      "[Parallel(n_jobs=-1)]: Done 284 tasks      | elapsed:  2.8min\n"
     ]
    },
    {
     "name": "stdout",
     "output_type": "stream",
     "text": [
      "building tree 286 of 450\n",
      "building tree 287 of 450\n",
      "building tree 288 of 450\n",
      "building tree 289 of 450\n",
      "building tree 290 of 450\n",
      "building tree 291 of 450\n",
      "building tree 292 of 450\n",
      "building tree 293 of 450\n",
      "building tree 294 of 450\n",
      "building tree 295 of 450\n",
      "building tree 296 of 450\n",
      "building tree 297 of 450\n",
      "building tree 298 of 450\n",
      "building tree 299 of 450\n",
      "building tree 300 of 450\n",
      "building tree 301 of 450\n",
      "building tree 302 of 450\n",
      "building tree 303 of 450\n",
      "building tree 304 of 450\n",
      "building tree 305 of 450\n",
      "building tree 306 of 450\n",
      "building tree 307 of 450\n",
      "building tree 308 of 450\n",
      "building tree 309 of 450\n",
      "building tree 310 of 450\n"
     ]
    },
    {
     "name": "stderr",
     "output_type": "stream",
     "text": [
      "[Parallel(n_jobs=-1)]: Done 309 tasks      | elapsed:  3.0min\n"
     ]
    },
    {
     "name": "stdout",
     "output_type": "stream",
     "text": [
      "building tree 311 of 450\n",
      "building tree 312 of 450\n",
      "building tree 313 of 450\n",
      "building tree 314 of 450\n",
      "building tree 315 of 450\n",
      "building tree 316 of 450\n",
      "building tree 317 of 450\n",
      "building tree 318 of 450\n",
      "building tree 319 of 450\n",
      "building tree 320 of 450\n",
      "building tree 321 of 450\n",
      "building tree 322 of 450\n",
      "building tree 323 of 450\n",
      "building tree 324 of 450\n",
      "building tree 325 of 450\n",
      "building tree 326 of 450\n",
      "building tree 327 of 450\n",
      "building tree 328 of 450\n",
      "building tree 329 of 450\n",
      "building tree 330 of 450\n",
      "building tree 331 of 450\n",
      "building tree 332 of 450\n",
      "building tree 333 of 450\n",
      "building tree 334 of 450\n",
      "building tree 335 of 450\n",
      "building tree 336 of 450\n"
     ]
    },
    {
     "name": "stderr",
     "output_type": "stream",
     "text": [
      "[Parallel(n_jobs=-1)]: Done 334 tasks      | elapsed:  3.3min\n"
     ]
    },
    {
     "name": "stdout",
     "output_type": "stream",
     "text": [
      "building tree 337 of 450\n",
      "building tree 338 of 450\n",
      "building tree 339 of 450\n",
      "building tree 340 of 450\n",
      "building tree 341 of 450\n",
      "building tree 342 of 450\n",
      "building tree 343 of 450\n",
      "building tree 344 of 450\n",
      "building tree 345 of 450\n",
      "building tree 346 of 450\n",
      "building tree 347 of 450\n",
      "building tree 348 of 450\n",
      "building tree 349 of 450\n",
      "building tree 350 of 450\n",
      "building tree 351 of 450\n",
      "building tree 352 of 450\n",
      "building tree 353 of 450\n",
      "building tree 354 of 450\n",
      "building tree 355 of 450\n",
      "building tree 356 of 450\n",
      "building tree 357 of 450\n",
      "building tree 358 of 450\n",
      "building tree 359 of 450\n",
      "building tree 360 of 450\n",
      "building tree 361 of 450\n",
      "building tree 362 of 450\n"
     ]
    },
    {
     "name": "stderr",
     "output_type": "stream",
     "text": [
      "[Parallel(n_jobs=-1)]: Done 361 tasks      | elapsed:  3.5min\n"
     ]
    },
    {
     "name": "stdout",
     "output_type": "stream",
     "text": [
      "building tree 363 of 450\n",
      "building tree 364 of 450\n",
      "building tree 365 of 450\n",
      "building tree 366 of 450\n",
      "building tree 367 of 450\n",
      "building tree 368 of 450\n",
      "building tree 369 of 450\n",
      "building tree 370 of 450\n",
      "building tree 371 of 450\n",
      "building tree 372 of 450\n",
      "building tree 373 of 450\n",
      "building tree 374 of 450\n",
      "building tree 375 of 450\n",
      "building tree 376 of 450\n",
      "building tree 377 of 450\n",
      "building tree 378 of 450\n",
      "building tree 379 of 450\n",
      "building tree 380 of 450\n",
      "building tree 381 of 450\n",
      "building tree 382 of 450\n",
      "building tree 383 of 450\n",
      "building tree 384 of 450\n",
      "building tree 385 of 450\n",
      "building tree 386 of 450\n",
      "building tree 387 of 450\n",
      "building tree 388 of 450\n",
      "building tree 389 of 450\n"
     ]
    },
    {
     "name": "stderr",
     "output_type": "stream",
     "text": [
      "[Parallel(n_jobs=-1)]: Done 388 tasks      | elapsed:  3.8min\n"
     ]
    },
    {
     "name": "stdout",
     "output_type": "stream",
     "text": [
      "building tree 390 of 450\n",
      "building tree 391 of 450\n",
      "building tree 392 of 450\n",
      "building tree 393 of 450\n",
      "building tree 394 of 450\n",
      "building tree 395 of 450\n",
      "building tree 396 of 450\n",
      "building tree 397 of 450\n",
      "building tree 398 of 450\n",
      "building tree 399 of 450\n",
      "building tree 400 of 450\n",
      "building tree 401 of 450\n",
      "building tree 402 of 450\n",
      "building tree 403 of 450\n",
      "building tree 404 of 450\n",
      "building tree 405 of 450\n",
      "building tree 406 of 450\n",
      "building tree 407 of 450\n",
      "building tree 408 of 450\n",
      "building tree 409 of 450\n",
      "building tree 410 of 450\n",
      "building tree 411 of 450\n",
      "building tree 412 of 450\n",
      "building tree 413 of 450\n",
      "building tree 414 of 450\n",
      "building tree 415 of 450\n",
      "building tree 416 of 450\n",
      "building tree 417 of 450\n",
      "building tree 418 of 450\n"
     ]
    },
    {
     "name": "stderr",
     "output_type": "stream",
     "text": [
      "[Parallel(n_jobs=-1)]: Done 417 tasks      | elapsed:  4.1min\n"
     ]
    },
    {
     "name": "stdout",
     "output_type": "stream",
     "text": [
      "building tree 419 of 450\n",
      "building tree 420 of 450\n",
      "building tree 421 of 450\n",
      "building tree 422 of 450\n",
      "building tree 423 of 450\n",
      "building tree 424 of 450\n",
      "building tree 425 of 450\n",
      "building tree 426 of 450\n",
      "building tree 427 of 450\n",
      "building tree 428 of 450\n",
      "building tree 429 of 450\n",
      "building tree 430 of 450\n",
      "building tree 431 of 450\n",
      "building tree 432 of 450\n",
      "building tree 433 of 450\n",
      "building tree 434 of 450\n",
      "building tree 435 of 450\n",
      "building tree 436 of 450\n",
      "building tree 437 of 450\n",
      "building tree 438 of 450\n",
      "building tree 439 of 450\n",
      "building tree 440 of 450\n",
      "building tree 441 of 450\n",
      "building tree 442 of 450\n",
      "building tree 443 of 450\n",
      "building tree 444 of 450\n",
      "building tree 445 of 450\n",
      "building tree 446 of 450\n",
      "building tree 447 of 450\n",
      "building tree 448 of 450\n"
     ]
    },
    {
     "name": "stderr",
     "output_type": "stream",
     "text": [
      "[Parallel(n_jobs=-1)]: Done 446 tasks      | elapsed:  4.4min\n"
     ]
    },
    {
     "name": "stdout",
     "output_type": "stream",
     "text": [
      "building tree 449 of 450\n",
      "building tree 450 of 450\n"
     ]
    },
    {
     "name": "stderr",
     "output_type": "stream",
     "text": [
      "[Parallel(n_jobs=-1)]: Done 450 out of 450 | elapsed:  4.4min finished\n",
      "[Parallel(n_jobs=2)]: Using backend ThreadingBackend with 2 concurrent workers.\n",
      "[Parallel(n_jobs=2)]: Done   1 tasks      | elapsed:    0.0s\n",
      "[Parallel(n_jobs=2)]: Done   4 tasks      | elapsed:    0.1s\n",
      "[Parallel(n_jobs=2)]: Done   9 tasks      | elapsed:    0.1s\n",
      "[Parallel(n_jobs=2)]: Done  14 tasks      | elapsed:    0.2s\n",
      "[Parallel(n_jobs=2)]: Done  21 tasks      | elapsed:    0.2s\n",
      "[Parallel(n_jobs=2)]: Done  28 tasks      | elapsed:    0.3s\n",
      "[Parallel(n_jobs=2)]: Done  37 tasks      | elapsed:    0.4s\n",
      "[Parallel(n_jobs=2)]: Done  46 tasks      | elapsed:    0.5s\n",
      "[Parallel(n_jobs=2)]: Done  57 tasks      | elapsed:    0.6s\n",
      "[Parallel(n_jobs=2)]: Done  68 tasks      | elapsed:    0.8s\n",
      "[Parallel(n_jobs=2)]: Done  81 tasks      | elapsed:    0.9s\n",
      "[Parallel(n_jobs=2)]: Done  94 tasks      | elapsed:    1.0s\n",
      "[Parallel(n_jobs=2)]: Done 109 tasks      | elapsed:    1.2s\n",
      "[Parallel(n_jobs=2)]: Done 124 tasks      | elapsed:    1.4s\n",
      "[Parallel(n_jobs=2)]: Done 141 tasks      | elapsed:    1.5s\n",
      "[Parallel(n_jobs=2)]: Done 158 tasks      | elapsed:    1.7s\n",
      "[Parallel(n_jobs=2)]: Done 177 tasks      | elapsed:    1.9s\n",
      "[Parallel(n_jobs=2)]: Done 196 tasks      | elapsed:    2.1s\n",
      "[Parallel(n_jobs=2)]: Done 217 tasks      | elapsed:    2.4s\n",
      "[Parallel(n_jobs=2)]: Done 238 tasks      | elapsed:    2.6s\n",
      "[Parallel(n_jobs=2)]: Done 261 tasks      | elapsed:    2.8s\n",
      "[Parallel(n_jobs=2)]: Done 284 tasks      | elapsed:    3.1s\n",
      "[Parallel(n_jobs=2)]: Done 309 tasks      | elapsed:    3.3s\n",
      "[Parallel(n_jobs=2)]: Done 334 tasks      | elapsed:    3.6s\n",
      "[Parallel(n_jobs=2)]: Done 361 tasks      | elapsed:    3.9s\n",
      "[Parallel(n_jobs=2)]: Done 388 tasks      | elapsed:    4.3s\n",
      "[Parallel(n_jobs=2)]: Done 417 tasks      | elapsed:    4.6s\n",
      "[Parallel(n_jobs=2)]: Done 446 tasks      | elapsed:    4.9s\n",
      "[Parallel(n_jobs=2)]: Done 450 out of 450 | elapsed:    4.9s finished\n"
     ]
    },
    {
     "name": "stdout",
     "output_type": "stream",
     "text": [
      "1 0.7183533576905505\n"
     ]
    },
    {
     "name": "stderr",
     "output_type": "stream",
     "text": [
      "[Parallel(n_jobs=-1)]: Using backend ThreadingBackend with 2 concurrent workers.\n"
     ]
    },
    {
     "name": "stdout",
     "output_type": "stream",
     "text": [
      "building tree 1 of 450\n",
      "building tree 2 of 450\n"
     ]
    },
    {
     "name": "stderr",
     "output_type": "stream",
     "text": [
      "[Parallel(n_jobs=-1)]: Done   1 tasks      | elapsed:    1.0s\n"
     ]
    },
    {
     "name": "stdout",
     "output_type": "stream",
     "text": [
      "building tree 3 of 450\n",
      "building tree 4 of 450\n",
      "building tree 5 of 450\n"
     ]
    },
    {
     "name": "stderr",
     "output_type": "stream",
     "text": [
      "[Parallel(n_jobs=-1)]: Done   4 tasks      | elapsed:    2.4s\n"
     ]
    },
    {
     "name": "stdout",
     "output_type": "stream",
     "text": [
      "building tree 6 of 450\n",
      "building tree 7 of 450\n",
      "building tree 8 of 450\n",
      "building tree 9 of 450\n",
      "building tree 10 of 450\n"
     ]
    },
    {
     "name": "stderr",
     "output_type": "stream",
     "text": [
      "[Parallel(n_jobs=-1)]: Done   9 tasks      | elapsed:    5.6s\n"
     ]
    },
    {
     "name": "stdout",
     "output_type": "stream",
     "text": [
      "building tree 11 of 450\n",
      "building tree 12 of 450\n",
      "building tree 13 of 450\n",
      "building tree 14 of 450\n",
      "building tree 15 of 450\n"
     ]
    },
    {
     "name": "stderr",
     "output_type": "stream",
     "text": [
      "[Parallel(n_jobs=-1)]: Done  14 tasks      | elapsed:    8.3s\n"
     ]
    },
    {
     "name": "stdout",
     "output_type": "stream",
     "text": [
      "building tree 16 of 450\n",
      "building tree 17 of 450\n",
      "building tree 18 of 450\n",
      "building tree 19 of 450\n",
      "building tree 20 of 450\n",
      "building tree 21 of 450\n",
      "building tree 22 of 450\n"
     ]
    },
    {
     "name": "stderr",
     "output_type": "stream",
     "text": [
      "[Parallel(n_jobs=-1)]: Done  21 tasks      | elapsed:   12.5s\n"
     ]
    },
    {
     "name": "stdout",
     "output_type": "stream",
     "text": [
      "building tree 23 of 450\n",
      "building tree 24 of 450\n",
      "building tree 25 of 450\n",
      "building tree 26 of 450\n",
      "building tree 27 of 450\n",
      "building tree 28 of 450\n",
      "building tree 29 of 450\n"
     ]
    },
    {
     "name": "stderr",
     "output_type": "stream",
     "text": [
      "[Parallel(n_jobs=-1)]: Done  28 tasks      | elapsed:   16.2s\n"
     ]
    },
    {
     "name": "stdout",
     "output_type": "stream",
     "text": [
      "building tree 30 of 450\n",
      "building tree 31 of 450\n",
      "building tree 32 of 450\n",
      "building tree 33 of 450\n",
      "building tree 34 of 450\n",
      "building tree 35 of 450\n",
      "building tree 36 of 450\n",
      "building tree 37 of 450\n",
      "building tree 38 of 450\n"
     ]
    },
    {
     "name": "stderr",
     "output_type": "stream",
     "text": [
      "[Parallel(n_jobs=-1)]: Done  37 tasks      | elapsed:   21.6s\n"
     ]
    },
    {
     "name": "stdout",
     "output_type": "stream",
     "text": [
      "building tree 39 of 450\n",
      "building tree 40 of 450\n",
      "building tree 41 of 450\n",
      "building tree 42 of 450\n",
      "building tree 43 of 450\n",
      "building tree 44 of 450\n",
      "building tree 45 of 450\n",
      "building tree 46 of 450\n",
      "building tree 47 of 450\n"
     ]
    },
    {
     "name": "stderr",
     "output_type": "stream",
     "text": [
      "[Parallel(n_jobs=-1)]: Done  46 tasks      | elapsed:   26.7s\n"
     ]
    },
    {
     "name": "stdout",
     "output_type": "stream",
     "text": [
      "building tree 48 of 450\n",
      "building tree 49 of 450\n",
      "building tree 50 of 450\n",
      "building tree 51 of 450\n",
      "building tree 52 of 450\n",
      "building tree 53 of 450\n",
      "building tree 54 of 450\n",
      "building tree 55 of 450\n",
      "building tree 56 of 450\n",
      "building tree 57 of 450\n",
      "building tree 58 of 450\n",
      "building tree 59 of 450\n"
     ]
    },
    {
     "name": "stderr",
     "output_type": "stream",
     "text": [
      "[Parallel(n_jobs=-1)]: Done  57 tasks      | elapsed:   33.2s\n"
     ]
    },
    {
     "name": "stdout",
     "output_type": "stream",
     "text": [
      "building tree 60 of 450\n",
      "building tree 61 of 450\n",
      "building tree 62 of 450\n",
      "building tree 63 of 450\n",
      "building tree 64 of 450\n",
      "building tree 65 of 450\n",
      "building tree 66 of 450\n",
      "building tree 67 of 450\n",
      "building tree 68 of 450\n",
      "building tree 69 of 450\n"
     ]
    },
    {
     "name": "stderr",
     "output_type": "stream",
     "text": [
      "[Parallel(n_jobs=-1)]: Done  68 tasks      | elapsed:   39.3s\n"
     ]
    },
    {
     "name": "stdout",
     "output_type": "stream",
     "text": [
      "building tree 70 of 450\n",
      "building tree 71 of 450\n",
      "building tree 72 of 450\n",
      "building tree 73 of 450\n",
      "building tree 74 of 450\n",
      "building tree 75 of 450\n",
      "building tree 76 of 450\n",
      "building tree 77 of 450\n",
      "building tree 78 of 450\n",
      "building tree 79 of 450\n",
      "building tree 80 of 450\n",
      "building tree 81 of 450\n",
      "building tree 82 of 450\n"
     ]
    },
    {
     "name": "stderr",
     "output_type": "stream",
     "text": [
      "[Parallel(n_jobs=-1)]: Done  81 tasks      | elapsed:   46.7s\n"
     ]
    },
    {
     "name": "stdout",
     "output_type": "stream",
     "text": [
      "building tree 83 of 450\n",
      "building tree 84 of 450\n",
      "building tree 85 of 450\n",
      "building tree 86 of 450\n",
      "building tree 87 of 450\n",
      "building tree 88 of 450\n",
      "building tree 89 of 450\n",
      "building tree 90 of 450\n",
      "building tree 91 of 450\n",
      "building tree 92 of 450\n",
      "building tree 93 of 450\n",
      "building tree 94 of 450\n",
      "building tree 95 of 450\n"
     ]
    },
    {
     "name": "stderr",
     "output_type": "stream",
     "text": [
      "[Parallel(n_jobs=-1)]: Done  94 tasks      | elapsed:   54.4s\n"
     ]
    },
    {
     "name": "stdout",
     "output_type": "stream",
     "text": [
      "building tree 96 of 450\n",
      "building tree 97 of 450\n",
      "building tree 98 of 450\n",
      "building tree 99 of 450\n",
      "building tree 100 of 450\n",
      "building tree 101 of 450\n",
      "building tree 102 of 450\n",
      "building tree 103 of 450\n",
      "building tree 104 of 450\n",
      "building tree 105 of 450\n",
      "building tree 106 of 450\n",
      "building tree 107 of 450\n",
      "building tree 108 of 450\n",
      "building tree 109 of 450\n",
      "building tree 110 of 450\n"
     ]
    },
    {
     "name": "stderr",
     "output_type": "stream",
     "text": [
      "[Parallel(n_jobs=-1)]: Done 109 tasks      | elapsed:  1.0min\n"
     ]
    },
    {
     "name": "stdout",
     "output_type": "stream",
     "text": [
      "building tree 111 of 450\n",
      "building tree 112 of 450\n",
      "building tree 113 of 450\n",
      "building tree 114 of 450\n",
      "building tree 115 of 450\n",
      "building tree 116 of 450\n",
      "building tree 117 of 450\n",
      "building tree 118 of 450\n",
      "building tree 119 of 450\n",
      "building tree 120 of 450\n",
      "building tree 121 of 450\n",
      "building tree 122 of 450\n",
      "building tree 123 of 450\n",
      "building tree 124 of 450\n",
      "building tree 125 of 450\n"
     ]
    },
    {
     "name": "stderr",
     "output_type": "stream",
     "text": [
      "[Parallel(n_jobs=-1)]: Done 124 tasks      | elapsed:  1.2min\n"
     ]
    },
    {
     "name": "stdout",
     "output_type": "stream",
     "text": [
      "building tree 126 of 450\n",
      "building tree 127 of 450\n",
      "building tree 128 of 450\n",
      "building tree 129 of 450\n",
      "building tree 130 of 450\n",
      "building tree 131 of 450\n",
      "building tree 132 of 450\n",
      "building tree 133 of 450\n",
      "building tree 134 of 450\n",
      "building tree 135 of 450\n",
      "building tree 136 of 450\n",
      "building tree 137 of 450\n",
      "building tree 138 of 450\n",
      "building tree 139 of 450\n",
      "building tree 140 of 450\n",
      "building tree 141 of 450\n",
      "building tree 142 of 450\n"
     ]
    },
    {
     "name": "stderr",
     "output_type": "stream",
     "text": [
      "[Parallel(n_jobs=-1)]: Done 141 tasks      | elapsed:  1.4min\n"
     ]
    },
    {
     "name": "stdout",
     "output_type": "stream",
     "text": [
      "building tree 143 of 450\n",
      "building tree 144 of 450\n",
      "building tree 145 of 450\n",
      "building tree 146 of 450\n",
      "building tree 147 of 450\n",
      "building tree 148 of 450\n",
      "building tree 149 of 450\n",
      "building tree 150 of 450\n",
      "building tree 151 of 450\n",
      "building tree 152 of 450\n",
      "building tree 153 of 450\n",
      "building tree 154 of 450\n",
      "building tree 155 of 450\n",
      "building tree 156 of 450\n",
      "building tree 157 of 450\n",
      "building tree 158 of 450\n",
      "building tree 159 of 450\n"
     ]
    },
    {
     "name": "stderr",
     "output_type": "stream",
     "text": [
      "[Parallel(n_jobs=-1)]: Done 158 tasks      | elapsed:  1.5min\n"
     ]
    },
    {
     "name": "stdout",
     "output_type": "stream",
     "text": [
      "building tree 160 of 450\n",
      "building tree 161 of 450\n",
      "building tree 162 of 450\n",
      "building tree 163 of 450\n",
      "building tree 164 of 450\n",
      "building tree 165 of 450\n",
      "building tree 166 of 450\n",
      "building tree 167 of 450\n",
      "building tree 168 of 450\n",
      "building tree 169 of 450\n",
      "building tree 170 of 450\n",
      "building tree 171 of 450\n",
      "building tree 172 of 450\n",
      "building tree 173 of 450\n",
      "building tree 174 of 450\n",
      "building tree 175 of 450\n",
      "building tree 176 of 450\n",
      "building tree 177 of 450\n",
      "building tree 178 of 450\n",
      "building tree 179 of 450\n"
     ]
    },
    {
     "name": "stderr",
     "output_type": "stream",
     "text": [
      "[Parallel(n_jobs=-1)]: Done 177 tasks      | elapsed:  1.7min\n"
     ]
    },
    {
     "name": "stdout",
     "output_type": "stream",
     "text": [
      "building tree 180 of 450\n",
      "building tree 181 of 450\n",
      "building tree 182 of 450\n",
      "building tree 183 of 450\n",
      "building tree 184 of 450\n",
      "building tree 185 of 450\n",
      "building tree 186 of 450\n",
      "building tree 187 of 450\n",
      "building tree 188 of 450\n",
      "building tree 189 of 450\n",
      "building tree 190 of 450\n",
      "building tree 191 of 450\n",
      "building tree 192 of 450\n",
      "building tree 193 of 450\n",
      "building tree 194 of 450\n",
      "building tree 195 of 450\n",
      "building tree 196 of 450\n",
      "building tree 197 of 450\n"
     ]
    },
    {
     "name": "stderr",
     "output_type": "stream",
     "text": [
      "[Parallel(n_jobs=-1)]: Done 196 tasks      | elapsed:  1.9min\n"
     ]
    },
    {
     "name": "stdout",
     "output_type": "stream",
     "text": [
      "building tree 198 of 450\n",
      "building tree 199 of 450\n",
      "building tree 200 of 450\n",
      "building tree 201 of 450\n",
      "building tree 202 of 450\n",
      "building tree 203 of 450\n",
      "building tree 204 of 450\n",
      "building tree 205 of 450\n",
      "building tree 206 of 450\n",
      "building tree 207 of 450\n",
      "building tree 208 of 450\n",
      "building tree 209 of 450\n",
      "building tree 210 of 450\n",
      "building tree 211 of 450\n",
      "building tree 212 of 450\n",
      "building tree 213 of 450\n",
      "building tree 214 of 450\n",
      "building tree 215 of 450\n",
      "building tree 216 of 450\n",
      "building tree 217 of 450\n",
      "building tree 218 of 450\n",
      "building tree 219 of 450\n"
     ]
    },
    {
     "name": "stderr",
     "output_type": "stream",
     "text": [
      "[Parallel(n_jobs=-1)]: Done 217 tasks      | elapsed:  2.1min\n"
     ]
    },
    {
     "name": "stdout",
     "output_type": "stream",
     "text": [
      "building tree 220 of 450\n",
      "building tree 221 of 450\n",
      "building tree 222 of 450\n",
      "building tree 223 of 450\n",
      "building tree 224 of 450\n",
      "building tree 225 of 450\n",
      "building tree 226 of 450\n",
      "building tree 227 of 450\n",
      "building tree 228 of 450\n",
      "building tree 229 of 450\n",
      "building tree 230 of 450\n",
      "building tree 231 of 450\n",
      "building tree 232 of 450\n",
      "building tree 233 of 450\n",
      "building tree 234 of 450\n",
      "building tree 235 of 450\n",
      "building tree 236 of 450\n",
      "building tree 237 of 450\n",
      "building tree 238 of 450\n",
      "building tree 239 of 450\n"
     ]
    },
    {
     "name": "stderr",
     "output_type": "stream",
     "text": [
      "[Parallel(n_jobs=-1)]: Done 238 tasks      | elapsed:  2.3min\n"
     ]
    },
    {
     "name": "stdout",
     "output_type": "stream",
     "text": [
      "building tree 240 of 450\n",
      "building tree 241 of 450\n",
      "building tree 242 of 450\n",
      "building tree 243 of 450\n",
      "building tree 244 of 450\n",
      "building tree 245 of 450\n",
      "building tree 246 of 450\n",
      "building tree 247 of 450\n",
      "building tree 248 of 450\n",
      "building tree 249 of 450\n",
      "building tree 250 of 450\n",
      "building tree 251 of 450\n",
      "building tree 252 of 450\n",
      "building tree 253 of 450\n",
      "building tree 254 of 450\n",
      "building tree 255 of 450\n",
      "building tree 256 of 450\n",
      "building tree 257 of 450\n",
      "building tree 258 of 450\n",
      "building tree 259 of 450\n",
      "building tree 260 of 450\n",
      "building tree 261 of 450\n",
      "building tree 262 of 450\n"
     ]
    },
    {
     "name": "stderr",
     "output_type": "stream",
     "text": [
      "[Parallel(n_jobs=-1)]: Done 261 tasks      | elapsed:  2.5min\n"
     ]
    },
    {
     "name": "stdout",
     "output_type": "stream",
     "text": [
      "building tree 263 of 450\n",
      "building tree 264 of 450\n",
      "building tree 265 of 450\n",
      "building tree 266 of 450\n",
      "building tree 267 of 450\n",
      "building tree 268 of 450\n",
      "building tree 269 of 450\n",
      "building tree 270 of 450\n",
      "building tree 271 of 450\n",
      "building tree 272 of 450\n",
      "building tree 273 of 450\n",
      "building tree 274 of 450\n",
      "building tree 275 of 450\n",
      "building tree 276 of 450\n",
      "building tree 277 of 450\n",
      "building tree 278 of 450\n",
      "building tree 279 of 450\n",
      "building tree 280 of 450\n",
      "building tree 281 of 450\n",
      "building tree 282 of 450\n",
      "building tree 283 of 450\n",
      "building tree 284 of 450\n",
      "building tree 285 of 450\n"
     ]
    },
    {
     "name": "stderr",
     "output_type": "stream",
     "text": [
      "[Parallel(n_jobs=-1)]: Done 284 tasks      | elapsed:  2.7min\n"
     ]
    },
    {
     "name": "stdout",
     "output_type": "stream",
     "text": [
      "building tree 286 of 450\n",
      "building tree 287 of 450\n",
      "building tree 288 of 450\n",
      "building tree 289 of 450\n",
      "building tree 290 of 450\n",
      "building tree 291 of 450\n",
      "building tree 292 of 450\n",
      "building tree 293 of 450\n",
      "building tree 294 of 450\n",
      "building tree 295 of 450\n",
      "building tree 296 of 450\n",
      "building tree 297 of 450\n",
      "building tree 298 of 450\n",
      "building tree 299 of 450\n",
      "building tree 300 of 450\n",
      "building tree 301 of 450\n",
      "building tree 302 of 450\n",
      "building tree 303 of 450\n",
      "building tree 304 of 450\n",
      "building tree 305 of 450\n",
      "building tree 306 of 450\n",
      "building tree 307 of 450\n",
      "building tree 308 of 450\n",
      "building tree 309 of 450\n",
      "building tree 310 of 450\n"
     ]
    },
    {
     "name": "stderr",
     "output_type": "stream",
     "text": [
      "[Parallel(n_jobs=-1)]: Done 309 tasks      | elapsed:  3.0min\n"
     ]
    },
    {
     "name": "stdout",
     "output_type": "stream",
     "text": [
      "building tree 311 of 450\n",
      "building tree 312 of 450\n",
      "building tree 313 of 450\n",
      "building tree 314 of 450\n",
      "building tree 315 of 450\n",
      "building tree 316 of 450\n",
      "building tree 317 of 450\n",
      "building tree 318 of 450\n",
      "building tree 319 of 450\n",
      "building tree 320 of 450\n",
      "building tree 321 of 450\n",
      "building tree 322 of 450\n",
      "building tree 323 of 450\n",
      "building tree 324 of 450\n",
      "building tree 325 of 450\n",
      "building tree 326 of 450\n",
      "building tree 327 of 450\n",
      "building tree 328 of 450\n",
      "building tree 329 of 450\n",
      "building tree 330 of 450\n",
      "building tree 331 of 450\n",
      "building tree 332 of 450\n",
      "building tree 333 of 450\n",
      "building tree 334 of 450\n",
      "building tree 335 of 450\n"
     ]
    },
    {
     "name": "stderr",
     "output_type": "stream",
     "text": [
      "[Parallel(n_jobs=-1)]: Done 334 tasks      | elapsed:  3.2min\n"
     ]
    },
    {
     "name": "stdout",
     "output_type": "stream",
     "text": [
      "building tree 336 of 450\n",
      "building tree 337 of 450\n",
      "building tree 338 of 450\n",
      "building tree 339 of 450\n",
      "building tree 340 of 450\n",
      "building tree 341 of 450\n",
      "building tree 342 of 450\n",
      "building tree 343 of 450\n",
      "building tree 344 of 450\n",
      "building tree 345 of 450\n",
      "building tree 346 of 450\n",
      "building tree 347 of 450\n",
      "building tree 348 of 450\n",
      "building tree 349 of 450\n",
      "building tree 350 of 450\n",
      "building tree 351 of 450\n",
      "building tree 352 of 450\n",
      "building tree 353 of 450\n",
      "building tree 354 of 450\n",
      "building tree 355 of 450\n",
      "building tree 356 of 450\n",
      "building tree 357 of 450\n",
      "building tree 358 of 450\n",
      "building tree 359 of 450\n",
      "building tree 360 of 450\n",
      "building tree 361 of 450\n",
      "building tree 362 of 450\n"
     ]
    },
    {
     "name": "stderr",
     "output_type": "stream",
     "text": [
      "[Parallel(n_jobs=-1)]: Done 361 tasks      | elapsed:  3.5min\n"
     ]
    },
    {
     "name": "stdout",
     "output_type": "stream",
     "text": [
      "building tree 363 of 450\n",
      "building tree 364 of 450\n",
      "building tree 365 of 450\n",
      "building tree 366 of 450\n",
      "building tree 367 of 450\n",
      "building tree 368 of 450\n",
      "building tree 369 of 450\n",
      "building tree 370 of 450\n",
      "building tree 371 of 450\n",
      "building tree 372 of 450\n",
      "building tree 373 of 450\n",
      "building tree 374 of 450\n",
      "building tree 375 of 450\n",
      "building tree 376 of 450\n",
      "building tree 377 of 450\n",
      "building tree 378 of 450\n",
      "building tree 379 of 450\n",
      "building tree 380 of 450\n",
      "building tree 381 of 450\n",
      "building tree 382 of 450\n",
      "building tree 383 of 450\n",
      "building tree 384 of 450\n",
      "building tree 385 of 450\n",
      "building tree 386 of 450\n",
      "building tree 387 of 450\n",
      "building tree 388 of 450\n",
      "building tree 389 of 450\n"
     ]
    },
    {
     "name": "stderr",
     "output_type": "stream",
     "text": [
      "[Parallel(n_jobs=-1)]: Done 388 tasks      | elapsed:  3.7min\n"
     ]
    },
    {
     "name": "stdout",
     "output_type": "stream",
     "text": [
      "building tree 390 of 450\n",
      "building tree 391 of 450\n",
      "building tree 392 of 450\n",
      "building tree 393 of 450\n",
      "building tree 394 of 450\n",
      "building tree 395 of 450\n",
      "building tree 396 of 450\n",
      "building tree 397 of 450\n",
      "building tree 398 of 450\n",
      "building tree 399 of 450\n",
      "building tree 400 of 450\n",
      "building tree 401 of 450\n",
      "building tree 402 of 450\n",
      "building tree 403 of 450\n",
      "building tree 404 of 450\n",
      "building tree 405 of 450\n",
      "building tree 406 of 450\n",
      "building tree 407 of 450\n",
      "building tree 408 of 450\n",
      "building tree 409 of 450\n",
      "building tree 410 of 450\n",
      "building tree 411 of 450\n",
      "building tree 412 of 450\n",
      "building tree 413 of 450\n",
      "building tree 414 of 450\n",
      "building tree 415 of 450\n",
      "building tree 416 of 450\n",
      "building tree 417 of 450\n",
      "building tree 418 of 450\n",
      "building tree 419 of 450\n"
     ]
    },
    {
     "name": "stderr",
     "output_type": "stream",
     "text": [
      "[Parallel(n_jobs=-1)]: Done 417 tasks      | elapsed:  4.0min\n"
     ]
    },
    {
     "name": "stdout",
     "output_type": "stream",
     "text": [
      "building tree 420 of 450\n",
      "building tree 421 of 450\n",
      "building tree 422 of 450\n",
      "building tree 423 of 450\n",
      "building tree 424 of 450\n",
      "building tree 425 of 450\n",
      "building tree 426 of 450\n",
      "building tree 427 of 450\n",
      "building tree 428 of 450\n",
      "building tree 429 of 450\n",
      "building tree 430 of 450\n",
      "building tree 431 of 450\n",
      "building tree 432 of 450\n",
      "building tree 433 of 450\n",
      "building tree 434 of 450\n",
      "building tree 435 of 450\n",
      "building tree 436 of 450\n",
      "building tree 437 of 450\n",
      "building tree 438 of 450\n",
      "building tree 439 of 450\n",
      "building tree 440 of 450\n",
      "building tree 441 of 450\n",
      "building tree 442 of 450\n",
      "building tree 443 of 450\n",
      "building tree 444 of 450\n",
      "building tree 445 of 450\n",
      "building tree 446 of 450\n",
      "building tree 447 of 450\n"
     ]
    },
    {
     "name": "stderr",
     "output_type": "stream",
     "text": [
      "[Parallel(n_jobs=-1)]: Done 446 tasks      | elapsed:  4.3min\n"
     ]
    },
    {
     "name": "stdout",
     "output_type": "stream",
     "text": [
      "building tree 448 of 450\n",
      "building tree 449 of 450\n",
      "building tree 450 of 450\n"
     ]
    },
    {
     "name": "stderr",
     "output_type": "stream",
     "text": [
      "[Parallel(n_jobs=-1)]: Done 450 out of 450 | elapsed:  4.3min finished\n",
      "[Parallel(n_jobs=2)]: Using backend ThreadingBackend with 2 concurrent workers.\n",
      "[Parallel(n_jobs=2)]: Done   1 tasks      | elapsed:    0.0s\n",
      "[Parallel(n_jobs=2)]: Done   4 tasks      | elapsed:    0.0s\n",
      "[Parallel(n_jobs=2)]: Done   9 tasks      | elapsed:    0.1s\n",
      "[Parallel(n_jobs=2)]: Done  14 tasks      | elapsed:    0.2s\n",
      "[Parallel(n_jobs=2)]: Done  21 tasks      | elapsed:    0.2s\n",
      "[Parallel(n_jobs=2)]: Done  28 tasks      | elapsed:    0.3s\n",
      "[Parallel(n_jobs=2)]: Done  37 tasks      | elapsed:    0.4s\n",
      "[Parallel(n_jobs=2)]: Done  46 tasks      | elapsed:    0.5s\n",
      "[Parallel(n_jobs=2)]: Done  57 tasks      | elapsed:    0.6s\n",
      "[Parallel(n_jobs=2)]: Done  68 tasks      | elapsed:    0.7s\n",
      "[Parallel(n_jobs=2)]: Done  81 tasks      | elapsed:    0.9s\n",
      "[Parallel(n_jobs=2)]: Done  94 tasks      | elapsed:    1.0s\n",
      "[Parallel(n_jobs=2)]: Done 109 tasks      | elapsed:    1.2s\n",
      "[Parallel(n_jobs=2)]: Done 124 tasks      | elapsed:    1.4s\n",
      "[Parallel(n_jobs=2)]: Done 141 tasks      | elapsed:    1.6s\n",
      "[Parallel(n_jobs=2)]: Done 158 tasks      | elapsed:    1.7s\n",
      "[Parallel(n_jobs=2)]: Done 177 tasks      | elapsed:    1.9s\n",
      "[Parallel(n_jobs=2)]: Done 196 tasks      | elapsed:    2.1s\n",
      "[Parallel(n_jobs=2)]: Done 217 tasks      | elapsed:    2.4s\n",
      "[Parallel(n_jobs=2)]: Done 238 tasks      | elapsed:    2.6s\n",
      "[Parallel(n_jobs=2)]: Done 261 tasks      | elapsed:    2.9s\n",
      "[Parallel(n_jobs=2)]: Done 284 tasks      | elapsed:    3.1s\n",
      "[Parallel(n_jobs=2)]: Done 309 tasks      | elapsed:    3.4s\n",
      "[Parallel(n_jobs=2)]: Done 334 tasks      | elapsed:    3.7s\n",
      "[Parallel(n_jobs=2)]: Done 361 tasks      | elapsed:    4.0s\n",
      "[Parallel(n_jobs=2)]: Done 388 tasks      | elapsed:    4.3s\n",
      "[Parallel(n_jobs=2)]: Done 417 tasks      | elapsed:    4.6s\n",
      "[Parallel(n_jobs=2)]: Done 446 tasks      | elapsed:    4.9s\n",
      "[Parallel(n_jobs=2)]: Done 450 out of 450 | elapsed:    5.0s finished\n"
     ]
    },
    {
     "name": "stdout",
     "output_type": "stream",
     "text": [
      "2 0.7132416309245881\n"
     ]
    },
    {
     "name": "stderr",
     "output_type": "stream",
     "text": [
      "[Parallel(n_jobs=-1)]: Using backend ThreadingBackend with 2 concurrent workers.\n"
     ]
    },
    {
     "name": "stdout",
     "output_type": "stream",
     "text": [
      "building tree 1 of 450\n",
      "building tree 2 of 450\n"
     ]
    },
    {
     "name": "stderr",
     "output_type": "stream",
     "text": [
      "[Parallel(n_jobs=-1)]: Done   1 tasks      | elapsed:    1.1s\n"
     ]
    },
    {
     "name": "stdout",
     "output_type": "stream",
     "text": [
      "building tree 3 of 450\n",
      "building tree 4 of 450\n",
      "building tree 5 of 450\n",
      "building tree 6 of 450\n"
     ]
    },
    {
     "name": "stderr",
     "output_type": "stream",
     "text": [
      "[Parallel(n_jobs=-1)]: Done   4 tasks      | elapsed:    2.3s\n"
     ]
    },
    {
     "name": "stdout",
     "output_type": "stream",
     "text": [
      "building tree 7 of 450\n",
      "building tree 8 of 450\n",
      "building tree 9 of 450\n",
      "building tree 10 of 450\n"
     ]
    },
    {
     "name": "stderr",
     "output_type": "stream",
     "text": [
      "[Parallel(n_jobs=-1)]: Done   9 tasks      | elapsed:    5.6s\n"
     ]
    },
    {
     "name": "stdout",
     "output_type": "stream",
     "text": [
      "building tree 11 of 450\n",
      "building tree 12 of 450\n",
      "building tree 13 of 450\n",
      "building tree 14 of 450\n",
      "building tree 15 of 450\n"
     ]
    },
    {
     "name": "stderr",
     "output_type": "stream",
     "text": [
      "[Parallel(n_jobs=-1)]: Done  14 tasks      | elapsed:    8.1s\n"
     ]
    },
    {
     "name": "stdout",
     "output_type": "stream",
     "text": [
      "building tree 16 of 450\n",
      "building tree 17 of 450\n",
      "building tree 18 of 450\n",
      "building tree 19 of 450\n",
      "building tree 20 of 450\n",
      "building tree 21 of 450\n",
      "building tree 22 of 450\n"
     ]
    },
    {
     "name": "stderr",
     "output_type": "stream",
     "text": [
      "[Parallel(n_jobs=-1)]: Done  21 tasks      | elapsed:   12.4s\n"
     ]
    },
    {
     "name": "stdout",
     "output_type": "stream",
     "text": [
      "building tree 23 of 450\n",
      "building tree 24 of 450\n",
      "building tree 25 of 450\n",
      "building tree 26 of 450\n",
      "building tree 27 of 450\n",
      "building tree 28 of 450\n",
      "building tree 29 of 450\n",
      "building tree 30 of 450\n"
     ]
    },
    {
     "name": "stderr",
     "output_type": "stream",
     "text": [
      "[Parallel(n_jobs=-1)]: Done  28 tasks      | elapsed:   15.9s\n"
     ]
    },
    {
     "name": "stdout",
     "output_type": "stream",
     "text": [
      "building tree 31 of 450\n",
      "building tree 32 of 450\n",
      "building tree 33 of 450\n",
      "building tree 34 of 450\n",
      "building tree 35 of 450\n",
      "building tree 36 of 450\n",
      "building tree 37 of 450\n",
      "building tree 38 of 450\n"
     ]
    },
    {
     "name": "stderr",
     "output_type": "stream",
     "text": [
      "[Parallel(n_jobs=-1)]: Done  37 tasks      | elapsed:   21.5s\n"
     ]
    },
    {
     "name": "stdout",
     "output_type": "stream",
     "text": [
      "building tree 39 of 450\n",
      "building tree 40 of 450\n",
      "building tree 41 of 450\n",
      "building tree 42 of 450\n",
      "building tree 43 of 450\n",
      "building tree 44 of 450\n",
      "building tree 45 of 450\n",
      "building tree 46 of 450\n",
      "building tree 47 of 450\n"
     ]
    },
    {
     "name": "stderr",
     "output_type": "stream",
     "text": [
      "[Parallel(n_jobs=-1)]: Done  46 tasks      | elapsed:   26.3s\n"
     ]
    },
    {
     "name": "stdout",
     "output_type": "stream",
     "text": [
      "building tree 48 of 450\n",
      "building tree 49 of 450\n",
      "building tree 50 of 450\n",
      "building tree 51 of 450\n",
      "building tree 52 of 450\n",
      "building tree 53 of 450\n",
      "building tree 54 of 450\n",
      "building tree 55 of 450\n",
      "building tree 56 of 450\n",
      "building tree 57 of 450\n",
      "building tree 58 of 450\n"
     ]
    },
    {
     "name": "stderr",
     "output_type": "stream",
     "text": [
      "[Parallel(n_jobs=-1)]: Done  57 tasks      | elapsed:   33.2s\n"
     ]
    },
    {
     "name": "stdout",
     "output_type": "stream",
     "text": [
      "building tree 59 of 450\n",
      "building tree 60 of 450\n",
      "building tree 61 of 450\n",
      "building tree 62 of 450\n",
      "building tree 63 of 450\n",
      "building tree 64 of 450\n",
      "building tree 65 of 450\n",
      "building tree 66 of 450\n",
      "building tree 67 of 450\n",
      "building tree 68 of 450\n",
      "building tree 69 of 450\n"
     ]
    },
    {
     "name": "stderr",
     "output_type": "stream",
     "text": [
      "[Parallel(n_jobs=-1)]: Done  68 tasks      | elapsed:   39.2s\n"
     ]
    },
    {
     "name": "stdout",
     "output_type": "stream",
     "text": [
      "building tree 70 of 450\n",
      "building tree 71 of 450\n",
      "building tree 72 of 450\n",
      "building tree 73 of 450\n",
      "building tree 74 of 450\n",
      "building tree 75 of 450\n",
      "building tree 76 of 450\n",
      "building tree 77 of 450\n",
      "building tree 78 of 450\n",
      "building tree 79 of 450\n",
      "building tree 80 of 450\n",
      "building tree 81 of 450\n",
      "building tree 82 of 450\n"
     ]
    },
    {
     "name": "stderr",
     "output_type": "stream",
     "text": [
      "[Parallel(n_jobs=-1)]: Done  81 tasks      | elapsed:   47.0s\n"
     ]
    },
    {
     "name": "stdout",
     "output_type": "stream",
     "text": [
      "building tree 83 of 450\n",
      "building tree 84 of 450\n",
      "building tree 85 of 450\n",
      "building tree 86 of 450\n",
      "building tree 87 of 450\n",
      "building tree 88 of 450\n",
      "building tree 89 of 450\n",
      "building tree 90 of 450\n",
      "building tree 91 of 450\n",
      "building tree 92 of 450\n",
      "building tree 93 of 450\n",
      "building tree 94 of 450\n",
      "building tree 95 of 450\n"
     ]
    },
    {
     "name": "stderr",
     "output_type": "stream",
     "text": [
      "[Parallel(n_jobs=-1)]: Done  94 tasks      | elapsed:   54.1s\n"
     ]
    },
    {
     "name": "stdout",
     "output_type": "stream",
     "text": [
      "building tree 96 of 450\n",
      "building tree 97 of 450\n",
      "building tree 98 of 450\n",
      "building tree 99 of 450\n",
      "building tree 100 of 450\n",
      "building tree 101 of 450\n",
      "building tree 102 of 450\n",
      "building tree 103 of 450\n",
      "building tree 104 of 450\n",
      "building tree 105 of 450\n",
      "building tree 106 of 450\n",
      "building tree 107 of 450\n",
      "building tree 108 of 450\n",
      "building tree 109 of 450\n",
      "building tree 110 of 450\n"
     ]
    },
    {
     "name": "stderr",
     "output_type": "stream",
     "text": [
      "[Parallel(n_jobs=-1)]: Done 109 tasks      | elapsed:  1.1min\n"
     ]
    },
    {
     "name": "stdout",
     "output_type": "stream",
     "text": [
      "building tree 111 of 450\n",
      "building tree 112 of 450\n",
      "building tree 113 of 450\n",
      "building tree 114 of 450\n",
      "building tree 115 of 450\n",
      "building tree 116 of 450\n",
      "building tree 117 of 450\n",
      "building tree 118 of 450\n",
      "building tree 119 of 450\n",
      "building tree 120 of 450\n",
      "building tree 121 of 450\n",
      "building tree 122 of 450\n",
      "building tree 123 of 450\n",
      "building tree 124 of 450\n",
      "building tree 125 of 450\n"
     ]
    },
    {
     "name": "stderr",
     "output_type": "stream",
     "text": [
      "[Parallel(n_jobs=-1)]: Done 124 tasks      | elapsed:  1.2min\n"
     ]
    },
    {
     "name": "stdout",
     "output_type": "stream",
     "text": [
      "building tree 126 of 450\n",
      "building tree 127 of 450\n",
      "building tree 128 of 450\n",
      "building tree 129 of 450\n",
      "building tree 130 of 450\n",
      "building tree 131 of 450\n",
      "building tree 132 of 450\n",
      "building tree 133 of 450\n",
      "building tree 134 of 450\n",
      "building tree 135 of 450\n",
      "building tree 136 of 450\n",
      "building tree 137 of 450\n",
      "building tree 138 of 450\n",
      "building tree 139 of 450\n",
      "building tree 140 of 450\n",
      "building tree 141 of 450\n",
      "building tree 142 of 450\n",
      "building tree 143 of 450\n"
     ]
    },
    {
     "name": "stderr",
     "output_type": "stream",
     "text": [
      "[Parallel(n_jobs=-1)]: Done 141 tasks      | elapsed:  1.4min\n"
     ]
    },
    {
     "name": "stdout",
     "output_type": "stream",
     "text": [
      "building tree 144 of 450\n",
      "building tree 145 of 450\n",
      "building tree 146 of 450\n",
      "building tree 147 of 450\n",
      "building tree 148 of 450\n",
      "building tree 149 of 450\n",
      "building tree 150 of 450\n",
      "building tree 151 of 450\n",
      "building tree 152 of 450\n",
      "building tree 153 of 450\n",
      "building tree 154 of 450\n",
      "building tree 155 of 450\n",
      "building tree 156 of 450\n",
      "building tree 157 of 450\n",
      "building tree 158 of 450\n",
      "building tree 159 of 450\n"
     ]
    },
    {
     "name": "stderr",
     "output_type": "stream",
     "text": [
      "[Parallel(n_jobs=-1)]: Done 158 tasks      | elapsed:  1.5min\n"
     ]
    },
    {
     "name": "stdout",
     "output_type": "stream",
     "text": [
      "building tree 160 of 450\n",
      "building tree 161 of 450\n",
      "building tree 162 of 450\n",
      "building tree 163 of 450\n",
      "building tree 164 of 450\n",
      "building tree 165 of 450\n",
      "building tree 166 of 450\n",
      "building tree 167 of 450\n",
      "building tree 168 of 450\n",
      "building tree 169 of 450\n",
      "building tree 170 of 450\n",
      "building tree 171 of 450\n",
      "building tree 172 of 450\n",
      "building tree 173 of 450\n",
      "building tree 174 of 450\n",
      "building tree 175 of 450\n",
      "building tree 176 of 450\n",
      "building tree 177 of 450\n",
      "building tree 178 of 450\n"
     ]
    },
    {
     "name": "stderr",
     "output_type": "stream",
     "text": [
      "[Parallel(n_jobs=-1)]: Done 177 tasks      | elapsed:  1.7min\n"
     ]
    },
    {
     "name": "stdout",
     "output_type": "stream",
     "text": [
      "building tree 179 of 450\n",
      "building tree 180 of 450\n",
      "building tree 181 of 450\n",
      "building tree 182 of 450\n",
      "building tree 183 of 450\n",
      "building tree 184 of 450\n",
      "building tree 185 of 450\n",
      "building tree 186 of 450\n",
      "building tree 187 of 450\n",
      "building tree 188 of 450\n",
      "building tree 189 of 450\n",
      "building tree 190 of 450\n",
      "building tree 191 of 450\n",
      "building tree 192 of 450\n",
      "building tree 193 of 450\n",
      "building tree 194 of 450\n",
      "building tree 195 of 450\n",
      "building tree 196 of 450\n",
      "building tree 197 of 450\n"
     ]
    },
    {
     "name": "stderr",
     "output_type": "stream",
     "text": [
      "[Parallel(n_jobs=-1)]: Done 196 tasks      | elapsed:  1.9min\n"
     ]
    },
    {
     "name": "stdout",
     "output_type": "stream",
     "text": [
      "building tree 198 of 450\n",
      "building tree 199 of 450\n",
      "building tree 200 of 450\n",
      "building tree 201 of 450\n",
      "building tree 202 of 450\n",
      "building tree 203 of 450\n",
      "building tree 204 of 450\n",
      "building tree 205 of 450\n",
      "building tree 206 of 450\n",
      "building tree 207 of 450\n",
      "building tree 208 of 450\n",
      "building tree 209 of 450\n",
      "building tree 210 of 450\n",
      "building tree 211 of 450\n",
      "building tree 212 of 450\n",
      "building tree 213 of 450\n",
      "building tree 214 of 450\n",
      "building tree 215 of 450\n",
      "building tree 216 of 450\n",
      "building tree 217 of 450\n",
      "building tree 218 of 450\n",
      "building tree 219 of 450\n"
     ]
    },
    {
     "name": "stderr",
     "output_type": "stream",
     "text": [
      "[Parallel(n_jobs=-1)]: Done 217 tasks      | elapsed:  2.1min\n"
     ]
    },
    {
     "name": "stdout",
     "output_type": "stream",
     "text": [
      "building tree 220 of 450\n",
      "building tree 221 of 450\n",
      "building tree 222 of 450\n",
      "building tree 223 of 450\n",
      "building tree 224 of 450\n",
      "building tree 225 of 450\n",
      "building tree 226 of 450\n",
      "building tree 227 of 450\n",
      "building tree 228 of 450\n",
      "building tree 229 of 450\n",
      "building tree 230 of 450\n",
      "building tree 231 of 450\n",
      "building tree 232 of 450\n",
      "building tree 233 of 450\n",
      "building tree 234 of 450\n",
      "building tree 235 of 450\n",
      "building tree 236 of 450\n",
      "building tree 237 of 450\n",
      "building tree 238 of 450\n",
      "building tree 239 of 450\n"
     ]
    },
    {
     "name": "stderr",
     "output_type": "stream",
     "text": [
      "[Parallel(n_jobs=-1)]: Done 238 tasks      | elapsed:  2.3min\n"
     ]
    },
    {
     "name": "stdout",
     "output_type": "stream",
     "text": [
      "building tree 240 of 450\n",
      "building tree 241 of 450\n",
      "building tree 242 of 450\n",
      "building tree 243 of 450\n",
      "building tree 244 of 450\n",
      "building tree 245 of 450\n",
      "building tree 246 of 450\n",
      "building tree 247 of 450\n",
      "building tree 248 of 450\n",
      "building tree 249 of 450\n",
      "building tree 250 of 450\n",
      "building tree 251 of 450\n",
      "building tree 252 of 450\n",
      "building tree 253 of 450\n",
      "building tree 254 of 450\n",
      "building tree 255 of 450\n",
      "building tree 256 of 450\n",
      "building tree 257 of 450\n",
      "building tree 258 of 450\n",
      "building tree 259 of 450\n",
      "building tree 260 of 450\n",
      "building tree 261 of 450\n",
      "building tree 262 of 450\n"
     ]
    },
    {
     "name": "stderr",
     "output_type": "stream",
     "text": [
      "[Parallel(n_jobs=-1)]: Done 261 tasks      | elapsed:  2.5min\n"
     ]
    },
    {
     "name": "stdout",
     "output_type": "stream",
     "text": [
      "building tree 263 of 450\n",
      "building tree 264 of 450\n",
      "building tree 265 of 450\n",
      "building tree 266 of 450\n",
      "building tree 267 of 450\n",
      "building tree 268 of 450\n",
      "building tree 269 of 450\n",
      "building tree 270 of 450\n",
      "building tree 271 of 450\n",
      "building tree 272 of 450\n",
      "building tree 273 of 450\n",
      "building tree 274 of 450\n",
      "building tree 275 of 450\n",
      "building tree 276 of 450\n",
      "building tree 277 of 450\n",
      "building tree 278 of 450\n",
      "building tree 279 of 450\n",
      "building tree 280 of 450\n",
      "building tree 281 of 450\n",
      "building tree 282 of 450\n",
      "building tree 283 of 450\n",
      "building tree 284 of 450\n",
      "building tree 285 of 450\n"
     ]
    },
    {
     "name": "stderr",
     "output_type": "stream",
     "text": [
      "[Parallel(n_jobs=-1)]: Done 284 tasks      | elapsed:  2.7min\n"
     ]
    },
    {
     "name": "stdout",
     "output_type": "stream",
     "text": [
      "building tree 286 of 450\n",
      "building tree 287 of 450\n",
      "building tree 288 of 450\n",
      "building tree 289 of 450\n",
      "building tree 290 of 450\n",
      "building tree 291 of 450\n",
      "building tree 292 of 450\n",
      "building tree 293 of 450\n",
      "building tree 294 of 450\n",
      "building tree 295 of 450\n",
      "building tree 296 of 450\n",
      "building tree 297 of 450\n",
      "building tree 298 of 450\n",
      "building tree 299 of 450\n",
      "building tree 300 of 450\n",
      "building tree 301 of 450\n",
      "building tree 302 of 450\n",
      "building tree 303 of 450\n",
      "building tree 304 of 450\n",
      "building tree 305 of 450\n",
      "building tree 306 of 450\n",
      "building tree 307 of 450\n",
      "building tree 308 of 450\n",
      "building tree 309 of 450\n",
      "building tree 310 of 450\n"
     ]
    },
    {
     "name": "stderr",
     "output_type": "stream",
     "text": [
      "[Parallel(n_jobs=-1)]: Done 309 tasks      | elapsed:  2.9min\n"
     ]
    },
    {
     "name": "stdout",
     "output_type": "stream",
     "text": [
      "building tree 311 of 450\n",
      "building tree 312 of 450\n",
      "building tree 313 of 450\n",
      "building tree 314 of 450\n",
      "building tree 315 of 450\n",
      "building tree 316 of 450\n",
      "building tree 317 of 450\n",
      "building tree 318 of 450\n",
      "building tree 319 of 450\n",
      "building tree 320 of 450\n",
      "building tree 321 of 450\n",
      "building tree 322 of 450\n",
      "building tree 323 of 450\n",
      "building tree 324 of 450\n",
      "building tree 325 of 450\n",
      "building tree 326 of 450\n",
      "building tree 327 of 450\n",
      "building tree 328 of 450\n",
      "building tree 329 of 450\n",
      "building tree 330 of 450\n",
      "building tree 331 of 450\n",
      "building tree 332 of 450\n",
      "building tree 333 of 450\n",
      "building tree 334 of 450\n",
      "building tree 335 of 450\n"
     ]
    },
    {
     "name": "stderr",
     "output_type": "stream",
     "text": [
      "[Parallel(n_jobs=-1)]: Done 334 tasks      | elapsed:  3.2min\n"
     ]
    },
    {
     "name": "stdout",
     "output_type": "stream",
     "text": [
      "building tree 336 of 450\n",
      "building tree 337 of 450\n",
      "building tree 338 of 450\n",
      "building tree 339 of 450\n",
      "building tree 340 of 450\n",
      "building tree 341 of 450\n",
      "building tree 342 of 450\n",
      "building tree 343 of 450\n",
      "building tree 344 of 450\n",
      "building tree 345 of 450\n",
      "building tree 346 of 450\n",
      "building tree 347 of 450\n",
      "building tree 348 of 450\n",
      "building tree 349 of 450\n",
      "building tree 350 of 450\n",
      "building tree 351 of 450\n",
      "building tree 352 of 450\n",
      "building tree 353 of 450\n",
      "building tree 354 of 450\n",
      "building tree 355 of 450\n",
      "building tree 356 of 450\n",
      "building tree 357 of 450\n",
      "building tree 358 of 450\n",
      "building tree 359 of 450\n",
      "building tree 360 of 450\n",
      "building tree 361 of 450\n",
      "building tree 362 of 450\n"
     ]
    },
    {
     "name": "stderr",
     "output_type": "stream",
     "text": [
      "[Parallel(n_jobs=-1)]: Done 361 tasks      | elapsed:  3.4min\n"
     ]
    },
    {
     "name": "stdout",
     "output_type": "stream",
     "text": [
      "building tree 363 of 450\n",
      "building tree 364 of 450\n",
      "building tree 365 of 450\n",
      "building tree 366 of 450\n",
      "building tree 367 of 450\n",
      "building tree 368 of 450\n",
      "building tree 369 of 450\n",
      "building tree 370 of 450\n",
      "building tree 371 of 450\n",
      "building tree 372 of 450\n",
      "building tree 373 of 450\n",
      "building tree 374 of 450\n",
      "building tree 375 of 450\n",
      "building tree 376 of 450\n",
      "building tree 377 of 450\n",
      "building tree 378 of 450\n",
      "building tree 379 of 450\n",
      "building tree 380 of 450\n",
      "building tree 381 of 450\n",
      "building tree 382 of 450\n",
      "building tree 383 of 450\n",
      "building tree 384 of 450\n",
      "building tree 385 of 450\n",
      "building tree 386 of 450\n",
      "building tree 387 of 450\n",
      "building tree 388 of 450\n",
      "building tree 389 of 450\n"
     ]
    },
    {
     "name": "stderr",
     "output_type": "stream",
     "text": [
      "[Parallel(n_jobs=-1)]: Done 388 tasks      | elapsed:  3.7min\n"
     ]
    },
    {
     "name": "stdout",
     "output_type": "stream",
     "text": [
      "building tree 390 of 450\n",
      "building tree 391 of 450\n",
      "building tree 392 of 450\n",
      "building tree 393 of 450\n",
      "building tree 394 of 450\n",
      "building tree 395 of 450\n",
      "building tree 396 of 450\n",
      "building tree 397 of 450\n",
      "building tree 398 of 450\n",
      "building tree 399 of 450\n",
      "building tree 400 of 450\n",
      "building tree 401 of 450\n",
      "building tree 402 of 450\n",
      "building tree 403 of 450\n",
      "building tree 404 of 450\n",
      "building tree 405 of 450\n",
      "building tree 406 of 450\n",
      "building tree 407 of 450\n",
      "building tree 408 of 450\n",
      "building tree 409 of 450\n",
      "building tree 410 of 450\n",
      "building tree 411 of 450\n",
      "building tree 412 of 450\n",
      "building tree 413 of 450\n",
      "building tree 414 of 450\n",
      "building tree 415 of 450\n",
      "building tree 416 of 450\n",
      "building tree 417 of 450\n",
      "building tree 418 of 450\n"
     ]
    },
    {
     "name": "stderr",
     "output_type": "stream",
     "text": [
      "[Parallel(n_jobs=-1)]: Done 417 tasks      | elapsed:  4.0min\n"
     ]
    },
    {
     "name": "stdout",
     "output_type": "stream",
     "text": [
      "building tree 419 of 450\n",
      "building tree 420 of 450\n",
      "building tree 421 of 450\n",
      "building tree 422 of 450\n",
      "building tree 423 of 450\n",
      "building tree 424 of 450\n",
      "building tree 425 of 450\n",
      "building tree 426 of 450\n",
      "building tree 427 of 450\n",
      "building tree 428 of 450\n",
      "building tree 429 of 450\n",
      "building tree 430 of 450\n",
      "building tree 431 of 450\n",
      "building tree 432 of 450\n",
      "building tree 433 of 450\n",
      "building tree 434 of 450\n",
      "building tree 435 of 450\n",
      "building tree 436 of 450\n",
      "building tree 437 of 450\n",
      "building tree 438 of 450\n",
      "building tree 439 of 450\n",
      "building tree 440 of 450\n",
      "building tree 441 of 450\n",
      "building tree 442 of 450\n",
      "building tree 443 of 450\n",
      "building tree 444 of 450\n",
      "building tree 445 of 450\n",
      "building tree 446 of 450\n",
      "building tree 447 of 450\n"
     ]
    },
    {
     "name": "stderr",
     "output_type": "stream",
     "text": [
      "[Parallel(n_jobs=-1)]: Done 446 tasks      | elapsed:  4.3min\n"
     ]
    },
    {
     "name": "stdout",
     "output_type": "stream",
     "text": [
      "building tree 448 of 450\n",
      "building tree 449 of 450\n",
      "building tree 450 of 450\n"
     ]
    },
    {
     "name": "stderr",
     "output_type": "stream",
     "text": [
      "[Parallel(n_jobs=-1)]: Done 450 out of 450 | elapsed:  4.3min finished\n",
      "[Parallel(n_jobs=2)]: Using backend ThreadingBackend with 2 concurrent workers.\n",
      "[Parallel(n_jobs=2)]: Done   1 tasks      | elapsed:    0.0s\n",
      "[Parallel(n_jobs=2)]: Done   4 tasks      | elapsed:    0.0s\n",
      "[Parallel(n_jobs=2)]: Done   9 tasks      | elapsed:    0.1s\n",
      "[Parallel(n_jobs=2)]: Done  14 tasks      | elapsed:    0.2s\n",
      "[Parallel(n_jobs=2)]: Done  21 tasks      | elapsed:    0.2s\n",
      "[Parallel(n_jobs=2)]: Done  28 tasks      | elapsed:    0.3s\n",
      "[Parallel(n_jobs=2)]: Done  37 tasks      | elapsed:    0.4s\n",
      "[Parallel(n_jobs=2)]: Done  46 tasks      | elapsed:    0.5s\n",
      "[Parallel(n_jobs=2)]: Done  57 tasks      | elapsed:    0.6s\n",
      "[Parallel(n_jobs=2)]: Done  68 tasks      | elapsed:    0.8s\n",
      "[Parallel(n_jobs=2)]: Done  81 tasks      | elapsed:    0.9s\n",
      "[Parallel(n_jobs=2)]: Done  94 tasks      | elapsed:    1.1s\n",
      "[Parallel(n_jobs=2)]: Done 109 tasks      | elapsed:    1.2s\n",
      "[Parallel(n_jobs=2)]: Done 124 tasks      | elapsed:    1.4s\n",
      "[Parallel(n_jobs=2)]: Done 141 tasks      | elapsed:    1.6s\n",
      "[Parallel(n_jobs=2)]: Done 158 tasks      | elapsed:    1.8s\n",
      "[Parallel(n_jobs=2)]: Done 177 tasks      | elapsed:    2.0s\n",
      "[Parallel(n_jobs=2)]: Done 196 tasks      | elapsed:    2.2s\n",
      "[Parallel(n_jobs=2)]: Done 217 tasks      | elapsed:    2.4s\n",
      "[Parallel(n_jobs=2)]: Done 238 tasks      | elapsed:    2.7s\n",
      "[Parallel(n_jobs=2)]: Done 261 tasks      | elapsed:    2.9s\n",
      "[Parallel(n_jobs=2)]: Done 284 tasks      | elapsed:    3.2s\n",
      "[Parallel(n_jobs=2)]: Done 309 tasks      | elapsed:    3.5s\n",
      "[Parallel(n_jobs=2)]: Done 334 tasks      | elapsed:    3.7s\n",
      "[Parallel(n_jobs=2)]: Done 361 tasks      | elapsed:    4.1s\n",
      "[Parallel(n_jobs=2)]: Done 388 tasks      | elapsed:    4.3s\n",
      "[Parallel(n_jobs=2)]: Done 417 tasks      | elapsed:    4.7s\n",
      "[Parallel(n_jobs=2)]: Done 446 tasks      | elapsed:    5.0s\n",
      "[Parallel(n_jobs=2)]: Done 450 out of 450 | elapsed:    5.0s finished\n"
     ]
    },
    {
     "name": "stdout",
     "output_type": "stream",
     "text": [
      "3 0.7130447259620426\n"
     ]
    },
    {
     "name": "stderr",
     "output_type": "stream",
     "text": [
      "[Parallel(n_jobs=-1)]: Using backend ThreadingBackend with 2 concurrent workers.\n"
     ]
    },
    {
     "name": "stdout",
     "output_type": "stream",
     "text": [
      "building tree 1 of 450\n",
      "building tree 2 of 450\n"
     ]
    },
    {
     "name": "stderr",
     "output_type": "stream",
     "text": [
      "[Parallel(n_jobs=-1)]: Done   1 tasks      | elapsed:    1.0s\n"
     ]
    },
    {
     "name": "stdout",
     "output_type": "stream",
     "text": [
      "building tree 3 of 450\n",
      "building tree 4 of 450\n",
      "building tree 5 of 450\n",
      "building tree 6 of 450\n"
     ]
    },
    {
     "name": "stderr",
     "output_type": "stream",
     "text": [
      "[Parallel(n_jobs=-1)]: Done   4 tasks      | elapsed:    2.3s\n"
     ]
    },
    {
     "name": "stdout",
     "output_type": "stream",
     "text": [
      "building tree 7 of 450\n",
      "building tree 8 of 450\n",
      "building tree 9 of 450\n",
      "building tree 10 of 450\n"
     ]
    },
    {
     "name": "stderr",
     "output_type": "stream",
     "text": [
      "[Parallel(n_jobs=-1)]: Done   9 tasks      | elapsed:    5.6s\n"
     ]
    },
    {
     "name": "stdout",
     "output_type": "stream",
     "text": [
      "building tree 11 of 450\n",
      "building tree 12 of 450\n",
      "building tree 13 of 450\n",
      "building tree 14 of 450\n",
      "building tree 15 of 450\n",
      "building tree 16 of 450\n"
     ]
    },
    {
     "name": "stderr",
     "output_type": "stream",
     "text": [
      "[Parallel(n_jobs=-1)]: Done  14 tasks      | elapsed:    8.1s\n"
     ]
    },
    {
     "name": "stdout",
     "output_type": "stream",
     "text": [
      "building tree 17 of 450\n",
      "building tree 18 of 450\n",
      "building tree 19 of 450\n",
      "building tree 20 of 450\n",
      "building tree 21 of 450\n",
      "building tree 22 of 450\n"
     ]
    },
    {
     "name": "stderr",
     "output_type": "stream",
     "text": [
      "[Parallel(n_jobs=-1)]: Done  21 tasks      | elapsed:   12.3s\n"
     ]
    },
    {
     "name": "stdout",
     "output_type": "stream",
     "text": [
      "building tree 23 of 450\n",
      "building tree 24 of 450\n",
      "building tree 25 of 450\n",
      "building tree 26 of 450\n",
      "building tree 27 of 450\n",
      "building tree 28 of 450\n",
      "building tree 29 of 450\n",
      "building tree 30 of 450\n"
     ]
    },
    {
     "name": "stderr",
     "output_type": "stream",
     "text": [
      "[Parallel(n_jobs=-1)]: Done  28 tasks      | elapsed:   15.9s\n"
     ]
    },
    {
     "name": "stdout",
     "output_type": "stream",
     "text": [
      "building tree 31 of 450\n",
      "building tree 32 of 450\n",
      "building tree 33 of 450\n",
      "building tree 34 of 450\n",
      "building tree 35 of 450\n",
      "building tree 36 of 450\n",
      "building tree 37 of 450\n",
      "building tree 38 of 450\n"
     ]
    },
    {
     "name": "stderr",
     "output_type": "stream",
     "text": [
      "[Parallel(n_jobs=-1)]: Done  37 tasks      | elapsed:   21.4s\n"
     ]
    },
    {
     "name": "stdout",
     "output_type": "stream",
     "text": [
      "building tree 39 of 450\n",
      "building tree 40 of 450\n",
      "building tree 41 of 450\n",
      "building tree 42 of 450\n",
      "building tree 43 of 450\n",
      "building tree 44 of 450\n",
      "building tree 45 of 450\n",
      "building tree 46 of 450\n",
      "building tree 47 of 450\n",
      "building tree 48 of 450\n"
     ]
    },
    {
     "name": "stderr",
     "output_type": "stream",
     "text": [
      "[Parallel(n_jobs=-1)]: Done  46 tasks      | elapsed:   26.3s\n"
     ]
    },
    {
     "name": "stdout",
     "output_type": "stream",
     "text": [
      "building tree 49 of 450\n",
      "building tree 50 of 450\n",
      "building tree 51 of 450\n",
      "building tree 52 of 450\n",
      "building tree 53 of 450\n",
      "building tree 54 of 450\n",
      "building tree 55 of 450\n",
      "building tree 56 of 450\n",
      "building tree 57 of 450\n",
      "building tree 58 of 450\n"
     ]
    },
    {
     "name": "stderr",
     "output_type": "stream",
     "text": [
      "[Parallel(n_jobs=-1)]: Done  57 tasks      | elapsed:   32.8s\n"
     ]
    },
    {
     "name": "stdout",
     "output_type": "stream",
     "text": [
      "building tree 59 of 450\n",
      "building tree 60 of 450\n",
      "building tree 61 of 450\n",
      "building tree 62 of 450\n",
      "building tree 63 of 450\n",
      "building tree 64 of 450\n",
      "building tree 65 of 450\n",
      "building tree 66 of 450\n",
      "building tree 67 of 450\n",
      "building tree 68 of 450\n",
      "building tree 69 of 450\n"
     ]
    },
    {
     "name": "stderr",
     "output_type": "stream",
     "text": [
      "[Parallel(n_jobs=-1)]: Done  68 tasks      | elapsed:   39.3s\n"
     ]
    },
    {
     "name": "stdout",
     "output_type": "stream",
     "text": [
      "building tree 70 of 450\n",
      "building tree 71 of 450\n",
      "building tree 72 of 450\n",
      "building tree 73 of 450\n",
      "building tree 74 of 450\n",
      "building tree 75 of 450\n",
      "building tree 76 of 450\n",
      "building tree 77 of 450\n",
      "building tree 78 of 450\n",
      "building tree 79 of 450\n",
      "building tree 80 of 450\n",
      "building tree 81 of 450\n",
      "building tree 82 of 450\n"
     ]
    },
    {
     "name": "stderr",
     "output_type": "stream",
     "text": [
      "[Parallel(n_jobs=-1)]: Done  81 tasks      | elapsed:   46.9s\n"
     ]
    },
    {
     "name": "stdout",
     "output_type": "stream",
     "text": [
      "building tree 83 of 450\n",
      "building tree 84 of 450\n",
      "building tree 85 of 450\n",
      "building tree 86 of 450\n",
      "building tree 87 of 450\n",
      "building tree 88 of 450\n",
      "building tree 89 of 450\n",
      "building tree 90 of 450\n",
      "building tree 91 of 450\n",
      "building tree 92 of 450\n",
      "building tree 93 of 450\n",
      "building tree 94 of 450\n",
      "building tree 95 of 450\n"
     ]
    },
    {
     "name": "stderr",
     "output_type": "stream",
     "text": [
      "[Parallel(n_jobs=-1)]: Done  94 tasks      | elapsed:   54.6s\n"
     ]
    },
    {
     "name": "stdout",
     "output_type": "stream",
     "text": [
      "building tree 96 of 450\n",
      "building tree 97 of 450\n",
      "building tree 98 of 450\n",
      "building tree 99 of 450\n",
      "building tree 100 of 450\n",
      "building tree 101 of 450\n",
      "building tree 102 of 450\n",
      "building tree 103 of 450\n",
      "building tree 104 of 450\n",
      "building tree 105 of 450\n",
      "building tree 106 of 450\n",
      "building tree 107 of 450\n",
      "building tree 108 of 450\n",
      "building tree 109 of 450\n",
      "building tree 110 of 450\n",
      "building tree 111 of 450\n"
     ]
    },
    {
     "name": "stderr",
     "output_type": "stream",
     "text": [
      "[Parallel(n_jobs=-1)]: Done 109 tasks      | elapsed:  1.1min\n"
     ]
    },
    {
     "name": "stdout",
     "output_type": "stream",
     "text": [
      "building tree 112 of 450\n",
      "building tree 113 of 450\n",
      "building tree 114 of 450\n",
      "building tree 115 of 450\n",
      "building tree 116 of 450\n",
      "building tree 117 of 450\n",
      "building tree 118 of 450\n",
      "building tree 119 of 450\n",
      "building tree 120 of 450\n",
      "building tree 121 of 450\n",
      "building tree 122 of 450\n",
      "building tree 123 of 450\n",
      "building tree 124 of 450\n",
      "building tree 125 of 450\n"
     ]
    },
    {
     "name": "stderr",
     "output_type": "stream",
     "text": [
      "[Parallel(n_jobs=-1)]: Done 124 tasks      | elapsed:  1.2min\n"
     ]
    },
    {
     "name": "stdout",
     "output_type": "stream",
     "text": [
      "building tree 126 of 450\n",
      "building tree 127 of 450\n",
      "building tree 128 of 450\n",
      "building tree 129 of 450\n",
      "building tree 130 of 450\n",
      "building tree 131 of 450\n",
      "building tree 132 of 450\n",
      "building tree 133 of 450\n",
      "building tree 134 of 450\n",
      "building tree 135 of 450\n",
      "building tree 136 of 450\n",
      "building tree 137 of 450\n",
      "building tree 138 of 450\n",
      "building tree 139 of 450\n",
      "building tree 140 of 450\n",
      "building tree 141 of 450\n",
      "building tree 142 of 450\n"
     ]
    },
    {
     "name": "stderr",
     "output_type": "stream",
     "text": [
      "[Parallel(n_jobs=-1)]: Done 141 tasks      | elapsed:  1.4min\n"
     ]
    },
    {
     "name": "stdout",
     "output_type": "stream",
     "text": [
      "building tree 143 of 450\n",
      "building tree 144 of 450\n",
      "building tree 145 of 450\n",
      "building tree 146 of 450\n",
      "building tree 147 of 450\n",
      "building tree 148 of 450\n",
      "building tree 149 of 450\n",
      "building tree 150 of 450\n",
      "building tree 151 of 450\n",
      "building tree 152 of 450\n",
      "building tree 153 of 450\n",
      "building tree 154 of 450\n",
      "building tree 155 of 450\n",
      "building tree 156 of 450\n",
      "building tree 157 of 450\n",
      "building tree 158 of 450\n",
      "building tree 159 of 450\n"
     ]
    },
    {
     "name": "stderr",
     "output_type": "stream",
     "text": [
      "[Parallel(n_jobs=-1)]: Done 158 tasks      | elapsed:  1.5min\n"
     ]
    },
    {
     "name": "stdout",
     "output_type": "stream",
     "text": [
      "building tree 160 of 450\n",
      "building tree 161 of 450\n",
      "building tree 162 of 450\n",
      "building tree 163 of 450\n",
      "building tree 164 of 450\n",
      "building tree 165 of 450\n",
      "building tree 166 of 450\n",
      "building tree 167 of 450\n",
      "building tree 168 of 450\n",
      "building tree 169 of 450\n",
      "building tree 170 of 450\n",
      "building tree 171 of 450\n",
      "building tree 172 of 450\n",
      "building tree 173 of 450\n",
      "building tree 174 of 450\n",
      "building tree 175 of 450\n",
      "building tree 176 of 450\n",
      "building tree 177 of 450\n",
      "building tree 178 of 450\n"
     ]
    },
    {
     "name": "stderr",
     "output_type": "stream",
     "text": [
      "[Parallel(n_jobs=-1)]: Done 177 tasks      | elapsed:  1.7min\n"
     ]
    },
    {
     "name": "stdout",
     "output_type": "stream",
     "text": [
      "building tree 179 of 450\n",
      "building tree 180 of 450\n",
      "building tree 181 of 450\n",
      "building tree 182 of 450\n",
      "building tree 183 of 450\n",
      "building tree 184 of 450\n",
      "building tree 185 of 450\n",
      "building tree 186 of 450\n",
      "building tree 187 of 450\n",
      "building tree 188 of 450\n",
      "building tree 189 of 450\n",
      "building tree 190 of 450\n",
      "building tree 191 of 450\n",
      "building tree 192 of 450\n",
      "building tree 193 of 450\n",
      "building tree 194 of 450\n",
      "building tree 195 of 450\n",
      "building tree 196 of 450\n",
      "building tree 197 of 450\n"
     ]
    },
    {
     "name": "stderr",
     "output_type": "stream",
     "text": [
      "[Parallel(n_jobs=-1)]: Done 196 tasks      | elapsed:  1.9min\n"
     ]
    },
    {
     "name": "stdout",
     "output_type": "stream",
     "text": [
      "building tree 198 of 450\n",
      "building tree 199 of 450\n",
      "building tree 200 of 450\n",
      "building tree 201 of 450\n",
      "building tree 202 of 450\n",
      "building tree 203 of 450\n",
      "building tree 204 of 450\n",
      "building tree 205 of 450\n",
      "building tree 206 of 450\n",
      "building tree 207 of 450\n",
      "building tree 208 of 450\n",
      "building tree 209 of 450\n",
      "building tree 210 of 450\n",
      "building tree 211 of 450\n",
      "building tree 212 of 450\n",
      "building tree 213 of 450\n",
      "building tree 214 of 450\n",
      "building tree 215 of 450\n",
      "building tree 216 of 450\n",
      "building tree 217 of 450\n",
      "building tree 218 of 450\n",
      "building tree 219 of 450\n"
     ]
    },
    {
     "name": "stderr",
     "output_type": "stream",
     "text": [
      "[Parallel(n_jobs=-1)]: Done 217 tasks      | elapsed:  2.1min\n"
     ]
    },
    {
     "name": "stdout",
     "output_type": "stream",
     "text": [
      "building tree 220 of 450\n",
      "building tree 221 of 450\n",
      "building tree 222 of 450\n",
      "building tree 223 of 450\n",
      "building tree 224 of 450\n",
      "building tree 225 of 450\n",
      "building tree 226 of 450\n",
      "building tree 227 of 450\n",
      "building tree 228 of 450\n",
      "building tree 229 of 450\n",
      "building tree 230 of 450\n",
      "building tree 231 of 450\n",
      "building tree 232 of 450\n",
      "building tree 233 of 450\n",
      "building tree 234 of 450\n",
      "building tree 235 of 450\n",
      "building tree 236 of 450\n",
      "building tree 237 of 450\n",
      "building tree 238 of 450\n",
      "building tree 239 of 450\n"
     ]
    },
    {
     "name": "stderr",
     "output_type": "stream",
     "text": [
      "[Parallel(n_jobs=-1)]: Done 238 tasks      | elapsed:  2.3min\n"
     ]
    },
    {
     "name": "stdout",
     "output_type": "stream",
     "text": [
      "building tree 240 of 450\n",
      "building tree 241 of 450\n",
      "building tree 242 of 450\n",
      "building tree 243 of 450\n",
      "building tree 244 of 450\n",
      "building tree 245 of 450\n",
      "building tree 246 of 450\n",
      "building tree 247 of 450\n",
      "building tree 248 of 450\n",
      "building tree 249 of 450\n",
      "building tree 250 of 450\n",
      "building tree 251 of 450\n",
      "building tree 252 of 450\n",
      "building tree 253 of 450\n",
      "building tree 254 of 450\n",
      "building tree 255 of 450\n",
      "building tree 256 of 450\n",
      "building tree 257 of 450\n",
      "building tree 258 of 450\n",
      "building tree 259 of 450\n",
      "building tree 260 of 450\n",
      "building tree 261 of 450\n",
      "building tree 262 of 450\n"
     ]
    },
    {
     "name": "stderr",
     "output_type": "stream",
     "text": [
      "[Parallel(n_jobs=-1)]: Done 261 tasks      | elapsed:  2.5min\n"
     ]
    },
    {
     "name": "stdout",
     "output_type": "stream",
     "text": [
      "building tree 263 of 450\n",
      "building tree 264 of 450\n",
      "building tree 265 of 450\n",
      "building tree 266 of 450\n",
      "building tree 267 of 450\n",
      "building tree 268 of 450\n",
      "building tree 269 of 450\n",
      "building tree 270 of 450\n",
      "building tree 271 of 450\n",
      "building tree 272 of 450\n",
      "building tree 273 of 450\n",
      "building tree 274 of 450\n",
      "building tree 275 of 450\n",
      "building tree 276 of 450\n",
      "building tree 277 of 450\n",
      "building tree 278 of 450\n",
      "building tree 279 of 450\n",
      "building tree 280 of 450\n",
      "building tree 281 of 450\n",
      "building tree 282 of 450\n",
      "building tree 283 of 450\n",
      "building tree 284 of 450\n",
      "building tree 285 of 450\n"
     ]
    },
    {
     "name": "stderr",
     "output_type": "stream",
     "text": [
      "[Parallel(n_jobs=-1)]: Done 284 tasks      | elapsed:  2.7min\n"
     ]
    },
    {
     "name": "stdout",
     "output_type": "stream",
     "text": [
      "building tree 286 of 450\n",
      "building tree 287 of 450\n",
      "building tree 288 of 450\n",
      "building tree 289 of 450\n",
      "building tree 290 of 450\n",
      "building tree 291 of 450\n",
      "building tree 292 of 450\n",
      "building tree 293 of 450\n",
      "building tree 294 of 450\n",
      "building tree 295 of 450\n",
      "building tree 296 of 450\n",
      "building tree 297 of 450\n",
      "building tree 298 of 450\n",
      "building tree 299 of 450\n",
      "building tree 300 of 450\n",
      "building tree 301 of 450\n",
      "building tree 302 of 450\n",
      "building tree 303 of 450\n",
      "building tree 304 of 450\n",
      "building tree 305 of 450\n",
      "building tree 306 of 450\n",
      "building tree 307 of 450\n",
      "building tree 308 of 450\n",
      "building tree 309 of 450\n",
      "building tree 310 of 450\n"
     ]
    },
    {
     "name": "stderr",
     "output_type": "stream",
     "text": [
      "[Parallel(n_jobs=-1)]: Done 309 tasks      | elapsed:  2.9min\n"
     ]
    },
    {
     "name": "stdout",
     "output_type": "stream",
     "text": [
      "building tree 311 of 450\n",
      "building tree 312 of 450\n",
      "building tree 313 of 450\n",
      "building tree 314 of 450\n",
      "building tree 315 of 450\n",
      "building tree 316 of 450\n",
      "building tree 317 of 450\n",
      "building tree 318 of 450\n",
      "building tree 319 of 450\n",
      "building tree 320 of 450\n",
      "building tree 321 of 450\n",
      "building tree 322 of 450\n",
      "building tree 323 of 450\n",
      "building tree 324 of 450\n",
      "building tree 325 of 450\n",
      "building tree 326 of 450\n",
      "building tree 327 of 450\n",
      "building tree 328 of 450\n",
      "building tree 329 of 450\n",
      "building tree 330 of 450\n",
      "building tree 331 of 450\n",
      "building tree 332 of 450\n",
      "building tree 333 of 450\n",
      "building tree 334 of 450\n",
      "building tree 335 of 450\n"
     ]
    },
    {
     "name": "stderr",
     "output_type": "stream",
     "text": [
      "[Parallel(n_jobs=-1)]: Done 334 tasks      | elapsed:  3.2min\n"
     ]
    },
    {
     "name": "stdout",
     "output_type": "stream",
     "text": [
      "building tree 336 of 450\n",
      "building tree 337 of 450\n",
      "building tree 338 of 450\n",
      "building tree 339 of 450\n",
      "building tree 340 of 450\n",
      "building tree 341 of 450\n",
      "building tree 342 of 450\n",
      "building tree 343 of 450\n",
      "building tree 344 of 450\n",
      "building tree 345 of 450\n",
      "building tree 346 of 450\n",
      "building tree 347 of 450\n",
      "building tree 348 of 450\n",
      "building tree 349 of 450\n",
      "building tree 350 of 450\n",
      "building tree 351 of 450\n",
      "building tree 352 of 450\n",
      "building tree 353 of 450\n",
      "building tree 354 of 450\n",
      "building tree 355 of 450\n",
      "building tree 356 of 450\n",
      "building tree 357 of 450\n",
      "building tree 358 of 450\n",
      "building tree 359 of 450\n",
      "building tree 360 of 450\n",
      "building tree 361 of 450\n",
      "building tree 362 of 450\n",
      "building tree 363 of 450\n"
     ]
    },
    {
     "name": "stderr",
     "output_type": "stream",
     "text": [
      "[Parallel(n_jobs=-1)]: Done 361 tasks      | elapsed:  3.4min\n"
     ]
    },
    {
     "name": "stdout",
     "output_type": "stream",
     "text": [
      "building tree 364 of 450\n",
      "building tree 365 of 450\n",
      "building tree 366 of 450\n",
      "building tree 367 of 450\n",
      "building tree 368 of 450\n",
      "building tree 369 of 450\n",
      "building tree 370 of 450\n",
      "building tree 371 of 450\n",
      "building tree 372 of 450\n",
      "building tree 373 of 450\n",
      "building tree 374 of 450\n",
      "building tree 375 of 450\n",
      "building tree 376 of 450\n",
      "building tree 377 of 450\n",
      "building tree 378 of 450\n",
      "building tree 379 of 450\n",
      "building tree 380 of 450\n",
      "building tree 381 of 450\n",
      "building tree 382 of 450\n",
      "building tree 383 of 450\n",
      "building tree 384 of 450\n",
      "building tree 385 of 450\n",
      "building tree 386 of 450\n",
      "building tree 387 of 450\n",
      "building tree 388 of 450\n",
      "building tree 389 of 450\n"
     ]
    },
    {
     "name": "stderr",
     "output_type": "stream",
     "text": [
      "[Parallel(n_jobs=-1)]: Done 388 tasks      | elapsed:  3.7min\n"
     ]
    },
    {
     "name": "stdout",
     "output_type": "stream",
     "text": [
      "building tree 390 of 450\n",
      "building tree 391 of 450\n",
      "building tree 392 of 450\n",
      "building tree 393 of 450\n",
      "building tree 394 of 450\n",
      "building tree 395 of 450\n",
      "building tree 396 of 450\n",
      "building tree 397 of 450\n",
      "building tree 398 of 450\n",
      "building tree 399 of 450\n",
      "building tree 400 of 450\n",
      "building tree 401 of 450\n",
      "building tree 402 of 450\n",
      "building tree 403 of 450\n",
      "building tree 404 of 450\n",
      "building tree 405 of 450\n",
      "building tree 406 of 450\n",
      "building tree 407 of 450\n",
      "building tree 408 of 450\n",
      "building tree 409 of 450\n",
      "building tree 410 of 450\n",
      "building tree 411 of 450\n",
      "building tree 412 of 450\n",
      "building tree 413 of 450\n",
      "building tree 414 of 450\n",
      "building tree 415 of 450\n",
      "building tree 416 of 450\n",
      "building tree 417 of 450\n",
      "building tree 418 of 450\n"
     ]
    },
    {
     "name": "stderr",
     "output_type": "stream",
     "text": [
      "[Parallel(n_jobs=-1)]: Done 417 tasks      | elapsed:  4.0min\n"
     ]
    },
    {
     "name": "stdout",
     "output_type": "stream",
     "text": [
      "building tree 419 of 450\n",
      "building tree 420 of 450\n",
      "building tree 421 of 450\n",
      "building tree 422 of 450\n",
      "building tree 423 of 450\n",
      "building tree 424 of 450\n",
      "building tree 425 of 450\n",
      "building tree 426 of 450\n",
      "building tree 427 of 450\n",
      "building tree 428 of 450\n",
      "building tree 429 of 450\n",
      "building tree 430 of 450\n",
      "building tree 431 of 450\n",
      "building tree 432 of 450\n",
      "building tree 433 of 450\n",
      "building tree 434 of 450\n",
      "building tree 435 of 450\n",
      "building tree 436 of 450\n",
      "building tree 437 of 450\n",
      "building tree 438 of 450\n",
      "building tree 439 of 450\n",
      "building tree 440 of 450\n",
      "building tree 441 of 450\n",
      "building tree 442 of 450\n",
      "building tree 443 of 450\n",
      "building tree 444 of 450\n",
      "building tree 445 of 450\n",
      "building tree 446 of 450\n",
      "building tree 447 of 450\n"
     ]
    },
    {
     "name": "stderr",
     "output_type": "stream",
     "text": [
      "[Parallel(n_jobs=-1)]: Done 446 tasks      | elapsed:  4.2min\n"
     ]
    },
    {
     "name": "stdout",
     "output_type": "stream",
     "text": [
      "building tree 448 of 450\n",
      "building tree 449 of 450\n",
      "building tree 450 of 450\n"
     ]
    },
    {
     "name": "stderr",
     "output_type": "stream",
     "text": [
      "[Parallel(n_jobs=-1)]: Done 450 out of 450 | elapsed:  4.3min finished\n",
      "[Parallel(n_jobs=2)]: Using backend ThreadingBackend with 2 concurrent workers.\n",
      "[Parallel(n_jobs=2)]: Done   1 tasks      | elapsed:    0.0s\n",
      "[Parallel(n_jobs=2)]: Done   4 tasks      | elapsed:    0.0s\n",
      "[Parallel(n_jobs=2)]: Done   9 tasks      | elapsed:    0.1s\n",
      "[Parallel(n_jobs=2)]: Done  14 tasks      | elapsed:    0.1s\n",
      "[Parallel(n_jobs=2)]: Done  21 tasks      | elapsed:    0.2s\n",
      "[Parallel(n_jobs=2)]: Done  28 tasks      | elapsed:    0.3s\n",
      "[Parallel(n_jobs=2)]: Done  37 tasks      | elapsed:    0.4s\n",
      "[Parallel(n_jobs=2)]: Done  46 tasks      | elapsed:    0.5s\n",
      "[Parallel(n_jobs=2)]: Done  57 tasks      | elapsed:    0.6s\n",
      "[Parallel(n_jobs=2)]: Done  68 tasks      | elapsed:    0.7s\n",
      "[Parallel(n_jobs=2)]: Done  81 tasks      | elapsed:    0.9s\n",
      "[Parallel(n_jobs=2)]: Done  94 tasks      | elapsed:    1.0s\n",
      "[Parallel(n_jobs=2)]: Done 109 tasks      | elapsed:    1.2s\n",
      "[Parallel(n_jobs=2)]: Done 124 tasks      | elapsed:    1.3s\n",
      "[Parallel(n_jobs=2)]: Done 141 tasks      | elapsed:    1.5s\n",
      "[Parallel(n_jobs=2)]: Done 158 tasks      | elapsed:    1.7s\n",
      "[Parallel(n_jobs=2)]: Done 177 tasks      | elapsed:    1.9s\n",
      "[Parallel(n_jobs=2)]: Done 196 tasks      | elapsed:    2.1s\n",
      "[Parallel(n_jobs=2)]: Done 217 tasks      | elapsed:    2.3s\n",
      "[Parallel(n_jobs=2)]: Done 238 tasks      | elapsed:    2.6s\n",
      "[Parallel(n_jobs=2)]: Done 261 tasks      | elapsed:    2.8s\n",
      "[Parallel(n_jobs=2)]: Done 284 tasks      | elapsed:    3.0s\n",
      "[Parallel(n_jobs=2)]: Done 309 tasks      | elapsed:    3.3s\n",
      "[Parallel(n_jobs=2)]: Done 334 tasks      | elapsed:    3.5s\n",
      "[Parallel(n_jobs=2)]: Done 361 tasks      | elapsed:    3.8s\n",
      "[Parallel(n_jobs=2)]: Done 388 tasks      | elapsed:    4.1s\n",
      "[Parallel(n_jobs=2)]: Done 417 tasks      | elapsed:    4.4s\n"
     ]
    },
    {
     "name": "stdout",
     "output_type": "stream",
     "text": [
      "4 0.7145161761847268\n",
      "0.7152744345755873\n"
     ]
    },
    {
     "name": "stderr",
     "output_type": "stream",
     "text": [
      "[Parallel(n_jobs=2)]: Done 446 tasks      | elapsed:    4.7s\n",
      "[Parallel(n_jobs=2)]: Done 450 out of 450 | elapsed:    4.7s finished\n"
     ]
    }
   ],
   "source": [
    "kf = KFold(n_splits=5)\n",
    "kf.get_n_splits(X)\n",
    "roc_aucs = []\n",
    "for i, (train_index, test_index) in enumerate(kf.split(X)):\n",
    "    X_train, X_test = no_top_1_data.loc[train_index], no_top_1_data.loc[test_index]\n",
    "    y_train, y_test = Y.loc[train_index], Y.loc[test_index]\n",
    "    clf.fit(X_train, y_train)\n",
    "    predict = clf.predict_proba(X_test)[:,1]\n",
    "    roc_auc = roc_auc_score(y_test, predict)\n",
    "    print(i, roc_auc)\n",
    "    roc_aucs.append(roc_auc)\n",
    "print(np.mean(roc_aucs))"
   ]
  },
  {
   "cell_type": "markdown",
   "metadata": {},
   "source": [
    "### After deleting the most important feature, the drop is more significant. Probably, the weight of the external score is larger than that of the other features."
   ]
  },
  {
   "cell_type": "code",
   "execution_count": 63,
   "metadata": {
    "colab": {
     "base_uri": "https://localhost:8080/"
    },
    "id": "BhvBIxNmhEdA",
    "outputId": "aa045996-8b30-46b1-8498-0c11e9763b3d"
   },
   "outputs": [
    {
     "name": "stdout",
     "output_type": "stream",
     "text": [
      "0.7152744345755873\n"
     ]
    }
   ],
   "source": [
    "print(np.mean(roc_aucs))"
   ]
  }
 ],
 "metadata": {
  "accelerator": "GPU",
  "colab": {
   "collapsed_sections": [],
   "name": "rf.ipynb",
   "provenance": []
  },
  "kernelspec": {
   "display_name": "Python 3",
   "language": "python",
   "name": "python3"
  },
  "language_info": {
   "codemirror_mode": {
    "name": "ipython",
    "version": 3
   },
   "file_extension": ".py",
   "mimetype": "text/x-python",
   "name": "python",
   "nbconvert_exporter": "python",
   "pygments_lexer": "ipython3",
   "version": "3.7.6"
  }
 },
 "nbformat": 4,
 "nbformat_minor": 1
}
